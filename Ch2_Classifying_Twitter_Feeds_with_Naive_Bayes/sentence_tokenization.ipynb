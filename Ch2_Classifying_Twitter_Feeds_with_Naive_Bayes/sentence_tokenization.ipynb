{
 "cells": [
  {
   "cell_type": "markdown",
   "id": "c6fd5a95-fa40-4f6e-bd28-affdaf4812e3",
   "metadata": {},
   "source": [
    "# Sentence Tokenization\n",
    "\n",
    "Notebook 1 of 2 in the Data Cleaning Phase (See the `pos_tagging` notebook for the second.)  All of the final functions created during this process can be found in the accompanying file `datacleaning.py`.\n",
    "\n",
    "This notebook is simply housing the general work in putting together the process for Sentence Tokenization.\n",
    "\n",
    "Note: This notebook is in its raw state exactly as it was created because the python input() method was used during the initial building to save time with input.  "
   ]
  },
  {
   "cell_type": "markdown",
   "id": "9a9ee933-29e3-46a2-8b92-a0983670a564",
   "metadata": {},
   "source": [
    "# Contents\n",
    "\n",
    "1. [Create a filter function](#Create-a-filter-function)\n",
    "2. [`printFile` function](#printFile-function)\n",
    "3. [`cleanFile` function](#cleanFile-function)\n",
    "4. [Science Data](#Science-Data)  "
   ]
  },
  {
   "cell_type": "markdown",
   "id": "91231e8a-797c-455e-97c4-e2b35b355e4c",
   "metadata": {},
   "source": [
    "## Create a filter function"
   ]
  },
  {
   "cell_type": "markdown",
   "id": "35f66208-79d7-436a-a2af-86ae652a452f",
   "metadata": {},
   "source": [
    "Randomly select files from the set of Politics text files and create filters to remove junk.  Note, this is only approximate, and is likely not catching everything.  But, it is removing a considerable amount of the junk."
   ]
  },
  {
   "cell_type": "code",
   "execution_count": 1,
   "id": "f857e1c2-4248-4466-9ec2-431e17010c1a",
   "metadata": {},
   "outputs": [
    {
     "name": "stdout",
     "output_type": "stream",
     "text": [
      "/Users/blakewallace/Repositories/AWS\n"
     ]
    }
   ],
   "source": [
    "!pwd"
   ]
  },
  {
   "cell_type": "code",
   "execution_count": 2,
   "id": "6c76fa0a-4816-47df-a9f7-86a79602259f",
   "metadata": {},
   "outputs": [
    {
     "name": "stdout",
     "output_type": "stream",
     "text": [
      "32\n"
     ]
    }
   ],
   "source": [
    "fhand = open('./data/kaggle/Text_Classification_on_Documents/Politics/124146.txt')\n",
    "count = 0\n",
    "for line in fhand:\n",
    "    count += 1\n",
    "\n",
    "print(count)"
   ]
  },
  {
   "cell_type": "code",
   "execution_count": 3,
   "id": "9495066d-5a42-4241-ac68-3afdfa9dd2b7",
   "metadata": {},
   "outputs": [
    {
     "name": "stdout",
     "output_type": "stream",
     "text": [
      "1040\n"
     ]
    }
   ],
   "source": [
    "fhand = open('./data/kaggle/Text_Classification_on_Documents/Politics/124146.txt')\n",
    "inp = fhand.read()\n",
    "print(len(inp))"
   ]
  },
  {
   "cell_type": "code",
   "execution_count": 4,
   "id": "158f9773-e284-410e-ad2a-736cea4ea9a0",
   "metadata": {},
   "outputs": [
    {
     "name": "stdout",
     "output_type": "stream",
     "text": [
      "Nntp-Posting-Host: acvax1\n",
      "Nntp-Posting-User: cvads008\n",
      "\n",
      "visser@convex.com (Lance Visser) writes:\n",
      "> +>I can't find my source.\n",
      "> +>But.  If you state that you will retract your claim, I'll go dig one up\n",
      "> +>at the library.  Fair enough?\n",
      "> \n",
      "> \tARE YOU SERIOUS?  I'm not talking about retracting anything until\n",
      "> you have produced SOMETHING.\n",
      "> \n",
      "> \tIf you were not just talking off the top of your head, I would\n",
      "> assume that you have SOME memory of what your source is.\n",
      "> \n",
      "> \tPUT UP NOW without conditions!\n",
      "\n",
      "\n",
      "Yes, very serious.  I claim that I can substantiate my statement that\n",
      "Rudman says he doesn't believe Perot was investigating him.  You claim\n",
      "Perot was investigating him.  If you will state that you were in error\n",
      "on this point, provided I produce the source, I'll go dig it up.\n",
      "\n",
      "Now give me one reason why I should go to the trouble if you won't\n",
      "agree to this?  It is simple enough you know.  But I don't have time\n",
      "to waste if you'll just blow it off with more of the tripe you usually\n",
      "post.\n",
      "\n",
      "\n",
      "\n",
      "---\n",
      "Michael Pye\n",
      "email: mpye@csupomona.edu\n",
      "\n"
     ]
    }
   ],
   "source": [
    "print(inp)"
   ]
  },
  {
   "cell_type": "code",
   "execution_count": 18,
   "id": "efb1425f-6d84-4879-a564-6754e846fecd",
   "metadata": {},
   "outputs": [
    {
     "name": "stdout",
     "output_type": "stream",
     "text": [
      "\n",
      " I can't find my source.\n",
      " But.  If you state that you will retract your claim, I'll go dig one up\n",
      " at the library.  Fair enough?\n",
      "\n",
      " \tARE YOU SERIOUS?  I'm not talking about retracting anything until\n",
      " you have produced SOMETHING.\n",
      "\n",
      " \tIf you were not just talking off the top of your head, I would\n",
      " assume that you have SOME memory of what your source is.\n",
      "\n",
      " \tPUT UP NOW without conditions!\n",
      "\n",
      "\n",
      "Yes, very serious.  I claim that I can substantiate my statement that\n",
      "Rudman says he doesn't believe Perot was investigating him.  You claim\n",
      "Perot was investigating him.  If you will state that you were in error\n",
      "on this point, provided I produce the source, I'll go dig it up.\n",
      "\n",
      "Now give me one reason why I should go to the trouble if you won't\n",
      "agree to this?  It is simple enough you know.  But I don't have time\n",
      "to waste if you'll just blow it off with more of the tripe you usually\n",
      "post.\n",
      "\n",
      "\n",
      "\n",
      "\n",
      "Michael Pye\n"
     ]
    }
   ],
   "source": [
    "fhand = open('./data/kaggle/Text_Classification_on_Documents/Politics/124146.txt')\n",
    "for line in fhand:\n",
    "    if line.find('@') != -1: continue \n",
    "    elif line.find('Host') != -1: continue \n",
    "    elif line.find('User') != -1: continue\n",
    "    else: print(line.rstrip().replace('>', '').replace('+', '').replace('-', ''))"
   ]
  },
  {
   "cell_type": "code",
   "execution_count": 19,
   "id": "640b5e9c-ec6e-4a00-80e1-174f4c28946b",
   "metadata": {},
   "outputs": [
    {
     "name": "stdout",
     "output_type": "stream",
     "text": [
      "\n",
      "\n",
      "\n",
      "  Norway (where you appear to be posting from) is just such a\n",
      "  place, although it has always escaped my understanding just\n",
      "  what the appeal, to allegedly rational people, of such a\n",
      "  scheme might be.  What gives King Olav V (or whoever it is\n",
      "  now  my atlas is from 1987) the right to any special legal\n",
      "  status or title based on a mere accident of birth?\n",
      "\n",
      "To begin with, it's quite inexpensive compared to here, what with our\n",
      "having six former presidents still alive, drawing pensions, expense\n",
      "accounts, and secret service protection.\n",
      "\n",
      "  Maybe so, but they were, after all, President.  In the corporate\n",
      "  world it's SOP for retiring senior executives to be given nice\n",
      "  pensions, etc.  The point is that they performed a service and\n",
      "  this is part of the compensation package.   The only \"service\"\n",
      "  royals have to perform for their free ride is being born.\n",
      "\n",
      "We might be better off had some of our former presidents done nothing.\n",
      "\n",
      "\n",
      "peter\n",
      "\n",
      "\n",
      "\n",
      "PS   . . . which is not to say that some of our presidents have\n",
      "      not provided a service for the country too dissimilar from what\n",
      "      occurs when a bull \"services\" a cow (for those of you familiar\n",
      "      with cattle breeding).\n",
      "\n"
     ]
    }
   ],
   "source": [
    "fhand = open('./data/kaggle/Text_Classification_on_Documents/Politics/176845.txt')\n",
    "for line in fhand:\n",
    "    if line.find('@') != -1: continue \n",
    "    elif line.find('Host') != -1: continue \n",
    "    elif line.find('User') != -1: continue\n",
    "    else: print(line.rstrip().replace('>', '').replace('+', '').replace('-', ''))"
   ]
  },
  {
   "cell_type": "code",
   "execution_count": 64,
   "id": "b2eb6688-442c-495c-9cb5-df74dfe1314c",
   "metadata": {},
   "outputs": [
    {
     "name": "stdin",
     "output_type": "stream",
     "text": [
      "Enter the text file name:  176846.txt\n"
     ]
    },
    {
     "name": "stdout",
     "output_type": "stream",
     "text": [
      "NewsSoftware: VAX/VMS VNEWS 1.41\n",
      "\n",
      "\tAgain, the main point.\n",
      "\n",
      "\tNo human being not yet born can be bound to any contract.\n",
      "\n",
      "Wrong.  It's possible to inherit a debt.\n",
      "\n",
      "\tFurther, no third party can be bound to any contract that\n",
      "they are not a party to.\n",
      "\n",
      "See above.\n",
      "\n",
      "\tThe Constitution *for* the United States is just such a contract.\n",
      "No third party can be bound to it. Further, no human who is not specifically\n",
      "mentioned in Article 6 and has not taken an oath or made an affirmation\n",
      "to uphold said Const can be bound to uphold or obey it.\n",
      "\n",
      "The Constitution is not a contract.  It is a statute.  Please,\n",
      "Mr. Teel, or anyone, show me one case where the U.S.\n",
      "Constitution, or any state constitution, is considered a\n",
      "contract.\n",
      "\n",
      "\tThe Const is designed to limit the powers of government, not to\n",
      "bind THE PEOPLE.\n",
      "\n",
      "It is also designed to delineate the powers of the U.S.\n",
      "government.\n",
      "\n",
      "\tThis argument will be presented in great detail in the next post.\n",
      "\n",
      "I can't wait.\n",
      "\n",
      "\t\t\t\t\t\tDaniel Reitman\n",
      "\n",
      "HOW NOT TO WRITE A DEED\n",
      "\n",
      "One case involved the construction of a conveyance to grantees \"jointly, as\n",
      "tenants in common, with equal rights and interest in said land, and to the\n",
      "survivor thereof, in fee simple. . . . To Have and to Hold the same unto the\n",
      "said parties hereto, equally, jointly, as tenants in common, with equal rights\n",
      "and interest for the period or term of their lives, and to the survivor thereof\n",
      "at the death of the other.\"\n",
      "\n",
      "The court held that the survivorship provision indicated an intent to create a\n",
      "joint tenancy.  Germain v. Delaine, 294 Ala. 443, 318 So.2d 681 (1975).\n"
     ]
    }
   ],
   "source": [
    "tname = input('Enter the text file name: ')\n",
    "try:\n",
    "    fname = './data/kaggle/Text_Classification_on_Documents/Politics/' + tname\n",
    "    # fhand = open('./data/kaggle/Text_Classification_on_Documents/Politics/176846.txt')\n",
    "    fhand = open(fname)\n",
    "    for line in fhand:\n",
    "        if line.find('@') != -1: continue \n",
    "        elif line.find('Host') != -1: continue \n",
    "        elif line.find('User') != -1: continue\n",
    "        # elif line.find('VAX') != -1: continue\n",
    "        else: print(line.rstrip().replace('>', '').replace('+', '').replace('-', ''))\n",
    "except:\n",
    "    print('Please enter a file name from the Politics section.')"
   ]
  },
  {
   "cell_type": "code",
   "execution_count": 65,
   "id": "fc3d5a69-9e35-40fd-9098-1605c4da9cd8",
   "metadata": {},
   "outputs": [
    {
     "name": "stdin",
     "output_type": "stream",
     "text": [
      "Enter the text file name:  176846.txt\n"
     ]
    },
    {
     "name": "stdout",
     "output_type": "stream",
     "text": [
      "\n",
      "\tAgain, the main point.\n",
      "\n",
      "\tNo human being not yet born can be bound to any contract.\n",
      "\n",
      "Wrong.  It's possible to inherit a debt.\n",
      "\n",
      "\tFurther, no third party can be bound to any contract that\n",
      "they are not a party to.\n",
      "\n",
      "See above.\n",
      "\n",
      "\tThe Constitution *for* the United States is just such a contract.\n",
      "No third party can be bound to it. Further, no human who is not specifically\n",
      "mentioned in Article 6 and has not taken an oath or made an affirmation\n",
      "to uphold said Const can be bound to uphold or obey it.\n",
      "\n",
      "The Constitution is not a contract.  It is a statute.  Please,\n",
      "Mr. Teel, or anyone, show me one case where the U.S.\n",
      "Constitution, or any state constitution, is considered a\n",
      "contract.\n",
      "\n",
      "\tThe Const is designed to limit the powers of government, not to\n",
      "bind THE PEOPLE.\n",
      "\n",
      "It is also designed to delineate the powers of the U.S.\n",
      "government.\n",
      "\n",
      "\tThis argument will be presented in great detail in the next post.\n",
      "\n",
      "I can't wait.\n",
      "\n",
      "\t\t\t\t\t\tDaniel Reitman\n",
      "\n",
      "HOW NOT TO WRITE A DEED\n",
      "\n",
      "One case involved the construction of a conveyance to grantees \"jointly, as\n",
      "tenants in common, with equal rights and interest in said land, and to the\n",
      "survivor thereof, in fee simple. . . . To Have and to Hold the same unto the\n",
      "said parties hereto, equally, jointly, as tenants in common, with equal rights\n",
      "and interest for the period or term of their lives, and to the survivor thereof\n",
      "at the death of the other.\"\n",
      "\n",
      "The court held that the survivorship provision indicated an intent to create a\n",
      "joint tenancy.  Germain v. Delaine, 294 Ala. 443, 318 So.2d 681 (1975).\n"
     ]
    }
   ],
   "source": [
    "tname = input('Enter the text file name: ')\n",
    "try:\n",
    "    fname = './data/kaggle/Text_Classification_on_Documents/Politics/' + tname\n",
    "    # fhand = open('./data/kaggle/Text_Classification_on_Documents/Politics/176846.txt')\n",
    "    fhand = open(fname)\n",
    "    for line in fhand:\n",
    "        if line.find('@') != -1: continue \n",
    "        elif line.find('Host') != -1: continue \n",
    "        elif line.find('User') != -1: continue\n",
    "        elif line.find('VAX') != -1: continue\n",
    "        else: print(line.rstrip().replace('>', '').replace('+', '').replace('-', ''))\n",
    "except:\n",
    "    print('Please enter a file name from the Politics section.')"
   ]
  },
  {
   "cell_type": "code",
   "execution_count": 66,
   "id": "dace2016-c640-4a24-9392-bc50eb815703",
   "metadata": {},
   "outputs": [
    {
     "name": "stdin",
     "output_type": "stream",
     "text": [
      "Enter the text file name:  178443.txt\n"
     ]
    },
    {
     "name": "stdout",
     "output_type": "stream",
     "text": [
      "\n",
      "   I am glad that you recognize that people should not engage in denial\n",
      "and repression, and should acknowledge such. The United States, with\n",
      "its people, have recognized that repression has taken place, with the\n",
      "loss and outright abrogation of civil liberties and constitutional\n",
      "protections of citizens. This recognition has taken the form of the\n",
      "civil rights law (let's just discuss the federal level for now), such\n",
      "as 18 USC 241 et. seq., 42 USC 1981 et. seq, et. al.\n",
      "   With this recognition of repression, at times manifested in the\n",
      "form of collective guilt, I want people to recognize denial.\n",
      "Though it can be said that white people numerically commit more\n",
      "crimes in the United States, because white people are a majority,\n",
      "it can also be said that black people commit a disproportionate\n",
      "amount of crime in the United States, in their relation to their\n",
      "numbers in population.\n",
      "   My views are out of experiences when I was a police officer\n",
      "in a large metropolitan area, and of a citizen. Unless people\n",
      "account for their behavior, and for the behavior of their immediate\n",
      "community, nothing will improve.\n",
      "\n",
      "Regards,\n",
      "\n",
      "Neal\n",
      "\n",
      "\n",
      "\n",
      "\n",
      "\n",
      "\n"
     ]
    }
   ],
   "source": [
    "tname = input('Enter the text file name: ')\n",
    "try:\n",
    "    fname = './data/kaggle/Text_Classification_on_Documents/Politics/' + tname\n",
    "    # fhand = open('./data/kaggle/Text_Classification_on_Documents/Politics/176845.txt')\n",
    "    fhand = open(fname)\n",
    "    for line in fhand:\n",
    "        if line.find('@') != -1: continue \n",
    "        elif line.find('Host') != -1: continue \n",
    "        elif line.find('User') != -1: continue\n",
    "        elif line.find('VAX') != -1: continue\n",
    "        else: print(line.rstrip().replace('>', '').replace('+', '').replace('-', ''))\n",
    "except:\n",
    "    print('Please enter a file name from the Politics section.')"
   ]
  },
  {
   "cell_type": "code",
   "execution_count": 69,
   "id": "b684b534-cc22-4e13-927f-cda1999c9dbc",
   "metadata": {},
   "outputs": [],
   "source": [
    "def printFile():\n",
    "    tname = input('Enter the text file name: ')\n",
    "    try:\n",
    "        fname = './data/kaggle/Text_Classification_on_Documents/Politics/' + tname\n",
    "        # fhand = open('./data/kaggle/Text_Classification_on_Documents/Politics/176845.txt')\n",
    "        fhand = open(fname)\n",
    "        for line in fhand:\n",
    "            if line.find('@') != -1: continue \n",
    "            elif line.find('Host') != -1: continue \n",
    "            elif line.find('User') != -1: continue\n",
    "            elif line.find('VAX') != -1: continue\n",
    "            else: print(line.rstrip().replace('>', '').replace('+', '').replace('-', ''))\n",
    "    except:\n",
    "        print('Please enter a file name from the Politics section.')"
   ]
  },
  {
   "cell_type": "code",
   "execution_count": 70,
   "id": "90f9e69e-b336-4ce5-92d7-05b9353edf0c",
   "metadata": {},
   "outputs": [
    {
     "name": "stdin",
     "output_type": "stream",
     "text": [
      "Enter the text file name:  176846.txt\n"
     ]
    },
    {
     "name": "stdout",
     "output_type": "stream",
     "text": [
      "\n",
      "\tAgain, the main point.\n",
      "\n",
      "\tNo human being not yet born can be bound to any contract.\n",
      "\n",
      "Wrong.  It's possible to inherit a debt.\n",
      "\n",
      "\tFurther, no third party can be bound to any contract that\n",
      "they are not a party to.\n",
      "\n",
      "See above.\n",
      "\n",
      "\tThe Constitution *for* the United States is just such a contract.\n",
      "No third party can be bound to it. Further, no human who is not specifically\n",
      "mentioned in Article 6 and has not taken an oath or made an affirmation\n",
      "to uphold said Const can be bound to uphold or obey it.\n",
      "\n",
      "The Constitution is not a contract.  It is a statute.  Please,\n",
      "Mr. Teel, or anyone, show me one case where the U.S.\n",
      "Constitution, or any state constitution, is considered a\n",
      "contract.\n",
      "\n",
      "\tThe Const is designed to limit the powers of government, not to\n",
      "bind THE PEOPLE.\n",
      "\n",
      "It is also designed to delineate the powers of the U.S.\n",
      "government.\n",
      "\n",
      "\tThis argument will be presented in great detail in the next post.\n",
      "\n",
      "I can't wait.\n",
      "\n",
      "\t\t\t\t\t\tDaniel Reitman\n",
      "\n",
      "HOW NOT TO WRITE A DEED\n",
      "\n",
      "One case involved the construction of a conveyance to grantees \"jointly, as\n",
      "tenants in common, with equal rights and interest in said land, and to the\n",
      "survivor thereof, in fee simple. . . . To Have and to Hold the same unto the\n",
      "said parties hereto, equally, jointly, as tenants in common, with equal rights\n",
      "and interest for the period or term of their lives, and to the survivor thereof\n",
      "at the death of the other.\"\n",
      "\n",
      "The court held that the survivorship provision indicated an intent to create a\n",
      "joint tenancy.  Germain v. Delaine, 294 Ala. 443, 318 So.2d 681 (1975).\n"
     ]
    }
   ],
   "source": [
    "printFile()"
   ]
  },
  {
   "cell_type": "code",
   "execution_count": 71,
   "id": "b34ecd46-206b-4956-bcb2-4817b85022a7",
   "metadata": {},
   "outputs": [
    {
     "name": "stdin",
     "output_type": "stream",
     "text": [
      "Enter the text file name:  178444.txt\n"
     ]
    },
    {
     "name": "stdout",
     "output_type": "stream",
     "text": [
      "\n",
      "Kriz) wrote:\n",
      " The most recent reason given by the Clinton Administration for\n",
      " calling for federally funded abortions is that many private\n",
      " health insurance programs offer coverage for abortion.\n",
      "\n",
      " The following are two form letters regarding this.  Please send\n",
      " them around to friends as well as other BBSs\n",
      "\n",
      "\"Just sign it and send it, sonny, don't read the fine print. Just\n",
      "sign it, sonny! :).\n",
      "\n",
      "Cheers,\n",
      "Kent\n",
      "\n",
      "\n",
      "\n",
      "Well you know that you're getting somewhere, when you start getting\n",
      "responses like this.\n",
      "\n",
      "Kent, let me explain it to you.\n",
      "\n",
      "If you are paying for a phone, and you don't want callwaiting, YOU DON'T\n",
      "NEED TO PAY FOR CALlWAITING.\n",
      "\n",
      "This whole Clinton induced abortion debate SHOULD begin to make NARAL\n",
      "nervous, because it has exposed a real scam.\n",
      "\n",
      "If one is paying for a PRIVATE health insurance plan and DOES NOT WANT\n",
      "\"abortion coverage\" there is NO reason for that person to be COMPLELLED\n",
      "to pay for it.  (Just as one should not be compelled to pay for lipposuction\n",
      "coverage if ONE doesn't WANT that kind of coverage).\n",
      "\n",
      "There are \"basic services\" and there are \"optional services\", Dennis. Call\n",
      "waiting is an optional service, but having the number \"3\" work on one's phone\n",
      "is a basic service. Just because some nutcase doesn't happen to use the \"3\"\n",
      "on his phone, since none of the numbers he calls has a \"3\" in it, doesn't mean\n",
      "that he has the right to demand that the phone company \"unbundle\" the charges\n",
      "for the use of each phone digit; an unbundling that would be horrendously\n",
      "inefficient because of all the billing & bookkeeping overhead. Similarly,\n",
      "abortion can be seen as a \"basic service\".\n",
      "\n",
      "Furthermore, public funding of abortion SAVES money, as well as being, in the\n",
      "views of a substantial portion of the population, probably a clear majority,\n",
      "an ethical thing to do. If you don't like saving money on your taxes in that\n",
      "way, why don't you take the taxes you save and invest in private charities\n",
      "with programs that help reduce the NEED for abortion. If every prolifer did\n",
      "the same, it would create a massive economic negative feedback loop which\n",
      "would all but ELIMINATE the need for public funding of abortion. Then you\n",
      "would get your wish. And, you know what? No prochoicer I know would stop\n",
      "you carrying out that plan. They might even HELP you with it...\n",
      "\n",
      "\t\t\t\t\t\t\t\t Kevin\n"
     ]
    }
   ],
   "source": [
    "printFile()"
   ]
  },
  {
   "cell_type": "code",
   "execution_count": 72,
   "id": "fb2162a3-cb5c-43e9-80e0-95c2fb730380",
   "metadata": {},
   "outputs": [
    {
     "name": "stdin",
     "output_type": "stream",
     "text": [
      "Enter the text file name:  176951.txt\n"
     ]
    },
    {
     "name": "stdout",
     "output_type": "stream",
     "text": [
      "Disclaimer: This posting represents the poster's views, not necessarily those of IBM.\n",
      "Organization: The Village Waterbed\n",
      "\n",
      "(Larry Margolis) writes:\n",
      "\n",
      "I would suggest that legal precedent defines a human being (i.e., a person\n",
      "whose rights are protected by the Constitution and the law) as someone with\n",
      "a functioning brain.\n",
      "\n",
      "No, if you want to use legal precedent, you should take a look at the\n",
      "Model Penal Code, on which many states base their criminal code:\n",
      "\n",
      "My apologies if I was unclear; I was not trying to start a statutory\n",
      "debate, since there are many (in some cases conflicting) statutes on\n",
      "the books.  I was merely suggesting a paradigm that might make sense\n",
      "for a prochoicer IMHO.\n",
      "\n",
      "And I was pointing out that legal precedent defines a human being as\n",
      "referring only to the born, so your suggestion was incorrect.\n",
      "\n",
      "If at some point an unborn child is a human being, the parents clearly\n",
      "have the same responsibilities toward her as any other parents have toward\n",
      "their children.\n",
      "\n",
      "And no parent can be forced to supply bodily resources toward their children,\n",
      "even if necessary to save the child's life.\n",
      "\n",
      "There is a confusion here between action and inaction: a parent does not have\n",
      "to run out in front of a bus to save their child's life either, but a parent\n",
      "IS required to feed his children.\n",
      "\n",
      "There is a confusion here about what \"bodily resources\" constitutes.  Blood\n",
      "transfusions and organ donations involve bodily resources; your examples\n",
      "do not.\n",
      "\n"
     ]
    }
   ],
   "source": [
    "printFile()"
   ]
  },
  {
   "cell_type": "code",
   "execution_count": 73,
   "id": "809e9273-1cce-4414-9998-58780f3081fe",
   "metadata": {},
   "outputs": [
    {
     "name": "stdin",
     "output_type": "stream",
     "text": [
      "Enter the text file name:  178380.txt\n"
     ]
    },
    {
     "name": "stdout",
     "output_type": "stream",
     "text": [
      "\n",
      "Theodore A. Kaldis writes:\n",
      "# Ah, I know women who wear miniskirts without wearing underwear, and\n",
      "# they are not prostitutes.\n",
      "#No, I suppose they must be sluts.\n",
      "\n",
      "Nope. They both are very nice women, whom I'm good friends with.\n",
      "\n",
      "Or do you think its ok to rape anyone when you don't like the way they\n",
      "dress?\n",
      "\n",
      "# Gee, Both Clayton and Kaldis engaging in ad hominem arguments.\n",
      "#Where?\n",
      "\n",
      "Calling someone names, as you did. Are you ignorant of what an ad\n",
      "hominem argument is?\n",
      "\n",
      "#You provided absolutely no evidence, chump.\n",
      "\n",
      "I provided a quote from the judge. What else do you want?\n",
      "\n",
      "\n",
      "Greg Hennessy, University of Virginia\n",
      " USPS Mail:     Astronomy Department, Charlottesville, VA 229032475 USA\n",
      " UUCP:\t\t...!uunet!virginia!gsh7w\n"
     ]
    }
   ],
   "source": [
    "printFile()"
   ]
  },
  {
   "cell_type": "code",
   "execution_count": 74,
   "id": "96d6b7b8-516b-40a1-845f-5e254158334d",
   "metadata": {},
   "outputs": [],
   "source": [
    "def printFile():\n",
    "    tname = input('Enter the text file name: ')\n",
    "    try:\n",
    "        fname = './data/kaggle/Text_Classification_on_Documents/Politics/' + tname\n",
    "        # fhand = open('./data/kaggle/Text_Classification_on_Documents/Politics/176845.txt')\n",
    "        fhand = open(fname)\n",
    "        for line in fhand:\n",
    "            if line.find('@') != -1: continue \n",
    "            elif line.find('Host') != -1: continue \n",
    "            elif line.find('User') != -1: continue\n",
    "            elif line.find('VAX') != -1: continue\n",
    "            elif line.find('USPS Mail:') != -1: continue \n",
    "            elif line.find('UUCP:') != -1: continue\n",
    "            else: print(line.rstrip().replace('>', '').replace('+', '').replace('-', '').replace('#', ''))\n",
    "    except:\n",
    "        print('Please enter a file name from the Politics section.')"
   ]
  },
  {
   "cell_type": "code",
   "execution_count": 75,
   "id": "0f06c80f-ad73-44ba-b950-56067f894da9",
   "metadata": {},
   "outputs": [
    {
     "name": "stdin",
     "output_type": "stream",
     "text": [
      "Enter the text file name:  178380.txt\n"
     ]
    },
    {
     "name": "stdout",
     "output_type": "stream",
     "text": [
      "\n",
      "Theodore A. Kaldis writes:\n",
      " Ah, I know women who wear miniskirts without wearing underwear, and\n",
      " they are not prostitutes.\n",
      "No, I suppose they must be sluts.\n",
      "\n",
      "Nope. They both are very nice women, whom I'm good friends with.\n",
      "\n",
      "Or do you think its ok to rape anyone when you don't like the way they\n",
      "dress?\n",
      "\n",
      " Gee, Both Clayton and Kaldis engaging in ad hominem arguments.\n",
      "Where?\n",
      "\n",
      "Calling someone names, as you did. Are you ignorant of what an ad\n",
      "hominem argument is?\n",
      "\n",
      "You provided absolutely no evidence, chump.\n",
      "\n",
      "I provided a quote from the judge. What else do you want?\n",
      "\n",
      "\n",
      "Greg Hennessy, University of Virginia\n"
     ]
    }
   ],
   "source": [
    "printFile()"
   ]
  },
  {
   "cell_type": "code",
   "execution_count": 76,
   "id": "e5581832-9660-4156-9ec0-aacba42f9478",
   "metadata": {},
   "outputs": [
    {
     "name": "stdin",
     "output_type": "stream",
     "text": [
      "Enter the text file name:  178628.txt\n"
     ]
    },
    {
     "name": "stdout",
     "output_type": "stream",
     "text": [
      "\n",
      "\n",
      " So, what can we deduce from these figures?  Are there a lot\n",
      " less male homosexuals than there used to be or are men\n",
      " (perhaps women too) not as honest as they used to be about\n",
      " there sexuality?  Presumably, the people that were polled in\n",
      "\n",
      "You mean, in the 1940s, men and women were much more open about\n",
      "their homosexuality than today?  Want to try that one again?\n",
      "\n",
      "\n",
      "That probably is not true.  But today it may not be much better for\n",
      "the gay population in general.\n",
      "\n",
      "\n",
      "You mean, ignore study after study, so that we can continue to\n",
      "accept a study (Kinsey's) that is obviously wrong?\n",
      "\n",
      "\n",
      "Where are all of these studies?  You have cited a few, and my research\n",
      "shows that there are not that many.  Do Not Confuse a survey as a\n",
      "study, there is a big difference.  Asking people outside of a polling\n",
      "booth and adding up numbers is NOT a study.\n",
      "\n",
      " as easily of been gay I suppose.  One of the big debates about\n",
      " homosexuality is whether or not it's a type of behavior that is\n",
      " learned or if one is just born that way.  IMHO, the more likely\n",
      " explanation is that it's some combination of the two.\n",
      "\n",
      "Based on what, besides your own warm fuzzy feelings?\n",
      "\n",
      "But this is what you base most of your conclusion upon. Warm\n",
      "fuzzy feelings.\n",
      "\n",
      "Maybe he has stated an educated opinion based upon the studies\n",
      "that involve genetics and psychological influence.  There are a\n",
      "lot of those types of studies, aren't there?  Try reading some.\n",
      "\n",
      " Here's something to ponder upon:  have any of you gaybashers out\n",
      " there ever considered that homosexuals probably deem their sexual\n",
      " orientation as being a state of affairs that is just as much an\n",
      " intrinsic and \"natural\" part of their life as heterosexuals do\n",
      " about their own sexuality?  In other words, someone who is *truly*\n",
      "\n",
      "Alcoholics share that feeling, until they hit bottom.\n",
      "\n",
      "This is a crap statement and comparison.  Many people use this sad\n",
      "and stupid argument.  There is not relationship between alcoholics\n",
      "and people's sexual orientation except that some may find what it\n",
      "really is when they are drunk (repressed inhibition released).\n",
      "\n",
      "Unless, of course, the problem is that homosexuality is a form\n",
      "of mental disorder, caused by childhood sexual abuse, as a number of\n",
      "recent works suggest.\n",
      "\n",
      "Nonsense this simply is not true.  I suppose it is a waste of time\n",
      "to try and tell you to understand what a study presents.  Most of\n",
      "what you cite does not extrapolate anything, you do.\n",
      "\n",
      "\n",
      "If homosexuals would stop using the government to impose their\n",
      "morality on others (antidiscrimination laws) and leave our children\n",
      "\n",
      "If people in general would stop using irrational position to oppress\n",
      "other's and leave our private lives to ourselves, I would have no\n",
      "support for laws and rules to protect people form this.  But we need\n",
      "only look at post such as yours to see that they lack rational\n",
      "thought and intelligent outlooks.\n",
      "\n",
      "alone, I wouldn't care in the least what they did in private.  But\n",
      "until they get over the liberal notion that the proper role of\n",
      "government is to tell peaceful people how to live, I have no choice\n",
      "but to continue to point out that homosexuality is not an \"alternative\n",
      "lifestyle,\" but a sickness.\n",
      "\n",
      "\n",
      "Remember that peaceful people are not necessarily doing the right\n",
      "thing.  Peaceful, tolerant, enlightened, educated, rational thinking\n",
      "people that is what we need.\n"
     ]
    }
   ],
   "source": [
    "printFile()"
   ]
  },
  {
   "cell_type": "code",
   "execution_count": 77,
   "id": "c9bcb388-2f1b-4bd4-abb5-a4b74f26c511",
   "metadata": {},
   "outputs": [
    {
     "name": "stdin",
     "output_type": "stream",
     "text": [
      "Enter the text file name:  54397.txt\n"
     ]
    },
    {
     "name": "stdout",
     "output_type": "stream",
     "text": [
      "Distribution: world\n",
      "\n",
      " \n",
      "  Two of the nine who escaped the compound said the fire was deliberately set\n",
      "  by cult members.\n",
      "\n",
      " Correction: The *FBI* *says* that two of the nine who escaped said the fire\n",
      " was deliberately set by cult members.  Since the press was kept miles away,\n",
      " we have absolutely no independent verification of any of the government's\n",
      " claims in this matter.\n",
      "\n",
      "Moreover, the BATF has admitted having agents in the compound, and as\n",
      "far as I have been able to ascertain, those agents were still in the\n",
      "compound when the first shots were fired.  For all we know, these two\n",
      "people may BE the agents, who would certainly be unlikely to stay around\n",
      "and \"cook\" with the faithful...\n",
      "\n",
      "Assuming the two people in question were even in the compound at all.\n",
      "\n",
      "Maybe I sound paranoid, but I watched Janet Reno last night harping on\n",
      "how much David Koresh was a big, bad child abuser, and I kept wondering\n",
      "why she  much less BATF  wanted us to infer that she had any\n",
      "jurisdiction over such accusations in the first place.\n",
      "\n",
      "I'm POSITIVE that the \"sealed warrant\" is not for child abuse.  What was\n",
      "it for?  Peobably weapons violations.  Janet Reno didn't say WORD ONE\n",
      "last night about weapons violations.  Why?  Because she knows that such\n",
      "a case is no longer believable?\n",
      "\n",
      "\n",
      "\n"
     ]
    }
   ],
   "source": [
    "printFile()"
   ]
  },
  {
   "cell_type": "code",
   "execution_count": 78,
   "id": "1f350e6d-b786-4de0-a6ad-5089290e9b67",
   "metadata": {},
   "outputs": [
    {
     "name": "stdin",
     "output_type": "stream",
     "text": [
      "Enter the text file name:  54868.txt\n"
     ]
    },
    {
     "name": "stdout",
     "output_type": "stream",
     "text": [
      "\n",
      "\n",
      "\t[...deleted...]\n",
      "\n",
      " Hear, hear! I'd also like to see the autopsy reports confirm news reports\n",
      " that multiple victims were found shot (in the head), and in positions\n",
      " inconsistent with fire victims. It is simply too early to draw conclusions\n",
      " either way about this nasty incident, but I tend to believe the government\n",
      " side.                                     ^^^^^^^^^^^^^^^^^^^^^^^^^^^^^^^^\n",
      " ^^^^\n",
      " \n",
      "\n",
      "At least you're consistent.  I'm sure the highly propagandized Germans\n",
      "tended to believe their government's version too in the thirties and\n",
      "forties as those \"different\" highly demonized Jewish \"cultists\" met\n",
      "their fate.  Always trust your government.\n",
      "\n",
      " The Old Frog's Almanac  A Salute to That Old Frog Hisse'f, Ryugen Fisher\n",
      "      (604) 2453205 (v32) (604) 2454366 (2400x4) SCO XENIX 2.3.2 GT\n",
      "   Ladysmith, British Columbia, CANADA. Serving Central Vancouver Island\n",
      " with public access UseNet and Internet Mail  home to the Holocaust Almanac\n",
      "\n",
      "\n",
      " *   *   *   *   *   *   *   *   *   *   *   *   *   *   *   *   *   *   *   *\n",
      " Joe Gaut                    |   In the superstate, it really does not\n",
      "     Remember the Alamo      |   Truth is what the government chooses to\n",
      "       Remember Waco         |   tell you.  Justice is what it wants to happen.\n",
      "                                        Jim Garrison, New Orleans, La.\n"
     ]
    }
   ],
   "source": [
    "printFile()"
   ]
  },
  {
   "cell_type": "code",
   "execution_count": 81,
   "id": "169e0fe8-20fd-4a00-80ba-cb878af60983",
   "metadata": {},
   "outputs": [],
   "source": [
    "def printFile():\n",
    "    tname = input('Enter the text file name: ')\n",
    "    try:\n",
    "        fname = './data/kaggle/Text_Classification_on_Documents/Politics/' + tname\n",
    "        # fhand = open('./data/kaggle/Text_Classification_on_Documents/Politics/176845.txt')\n",
    "        fhand = open(fname)\n",
    "        for line in fhand:\n",
    "            if line.find('@') != -1: continue \n",
    "            elif line.find('Host') != -1: continue \n",
    "            elif line.find('User') != -1: continue\n",
    "            elif line.find('VAX') != -1: continue\n",
    "            elif line.find('USPS Mail:') != -1: continue \n",
    "            elif line.find('UUCP:') != -1: continue\n",
    "            elif line.find('[...deleted...]') != -1: continue\n",
    "            else: print(line.rstrip().replace(\n",
    "                '>', '').replace(\n",
    "                '+', '').replace(\n",
    "                '-', '').replace(\n",
    "                '#', '').replace(\n",
    "                '*', '').replace(\n",
    "                '^', '').replace(\n",
    "                '|', '')\n",
    "                )\n",
    "    except:\n",
    "        print('Please enter a file name from the Politics section.')"
   ]
  },
  {
   "cell_type": "code",
   "execution_count": 82,
   "id": "eb3fb5b4-3df3-4795-a400-cbf02a625c3d",
   "metadata": {},
   "outputs": [
    {
     "name": "stdin",
     "output_type": "stream",
     "text": [
      "Enter the text file name:  54868.txt\n"
     ]
    },
    {
     "name": "stdout",
     "output_type": "stream",
     "text": [
      "\n",
      "\n",
      "\n",
      " Hear, hear! I'd also like to see the autopsy reports confirm news reports\n",
      " that multiple victims were found shot (in the head), and in positions\n",
      " inconsistent with fire victims. It is simply too early to draw conclusions\n",
      " either way about this nasty incident, but I tend to believe the government\n",
      " side.                                     \n",
      " \n",
      " \n",
      "\n",
      "At least you're consistent.  I'm sure the highly propagandized Germans\n",
      "tended to believe their government's version too in the thirties and\n",
      "forties as those \"different\" highly demonized Jewish \"cultists\" met\n",
      "their fate.  Always trust your government.\n",
      "\n",
      " The Old Frog's Almanac  A Salute to That Old Frog Hisse'f, Ryugen Fisher\n",
      "      (604) 2453205 (v32) (604) 2454366 (2400x4) SCO XENIX 2.3.2 GT\n",
      "   Ladysmith, British Columbia, CANADA. Serving Central Vancouver Island\n",
      " with public access UseNet and Internet Mail  home to the Holocaust Almanac\n",
      "\n",
      "\n",
      "                                                          \n",
      " Joe Gaut                       In the superstate, it really does not\n",
      "     Remember the Alamo         Truth is what the government chooses to\n",
      "       Remember Waco            tell you.  Justice is what it wants to happen.\n",
      "                                        Jim Garrison, New Orleans, La.\n"
     ]
    }
   ],
   "source": [
    "printFile()"
   ]
  },
  {
   "cell_type": "code",
   "execution_count": 83,
   "id": "e929a1ba-67a5-4541-b104-f048365e20fe",
   "metadata": {},
   "outputs": [
    {
     "name": "stdin",
     "output_type": "stream",
     "text": [
      "Enter the text file name:  76100.txt\n"
     ]
    },
    {
     "name": "stdout",
     "output_type": "stream",
     "text": [
      "\n",
      "\n",
      "\n",
      " As for israelis, Menahim Begal Begin and Yitzhak Shakh Shamir were leaders\n",
      "                                               \n",
      "Cute, real cute.  Now can you please stop being childish and get on\n",
      "with the issues?\n",
      "\n",
      " of many of these gangs that massacred Palestineans and became the\n",
      " HEROS of israel and its Prime ministers. Oh sorry I forgot Ben Gurion,\n",
      " too. I hope he is enjoying his coffin . Now, if israelis donot support\n",
      " (which i doubt) the oppression and killing from 1930'snow,\n",
      "\n",
      "You probably mean the mass murders of Jews in the West Bank between 19361939.\n",
      "\n",
      "\n",
      "\n",
      " Hasan\n",
      "\n",
      "Shai Guday\n",
      "\n",
      "\n",
      "Naftaly\n",
      "\n",
      "\n",
      "\n",
      "Naftaly Stramer \t\t\t  Intergraph Electronics\n",
      "Voice: (303)5812370  FAX: (303)5819972  Boulder, CO 80301\n",
      "\"Quality is everybody's job, and it's everybody's job to watch all that they can.\"\n"
     ]
    }
   ],
   "source": [
    "printFile()"
   ]
  },
  {
   "cell_type": "code",
   "execution_count": 85,
   "id": "8ad8824e-f62e-405c-8d72-404017e959e1",
   "metadata": {},
   "outputs": [],
   "source": [
    "def printFile():\n",
    "    tname = input('Enter the text file name: ')\n",
    "    try:\n",
    "        fname = './data/kaggle/Text_Classification_on_Documents/Politics/' + tname\n",
    "        # fhand = open('./data/kaggle/Text_Classification_on_Documents/Politics/176845.txt')\n",
    "        fhand = open(fname)\n",
    "        for line in fhand:\n",
    "            if line.find('@') != -1: continue \n",
    "            elif line.find('Host') != -1: continue \n",
    "            elif line.find('User') != -1: continue\n",
    "            elif line.find('VAX') != -1: continue\n",
    "            elif line.find('USPS Mail:') != -1: continue \n",
    "            elif line.find('UUCP:') != -1: continue\n",
    "            elif line.find('[...deleted...]') != -1: continue\n",
    "            elif line.find('FAX:') != -1: continue\n",
    "            else: print(line.rstrip().replace(\n",
    "                '>', '').replace(\n",
    "                '+', '').replace(\n",
    "                '-', '').replace(\n",
    "                '#', '').replace(\n",
    "                '*', '').replace(\n",
    "                '^', '').replace(\n",
    "                '|', '')\n",
    "                )\n",
    "    except:\n",
    "        print('Please enter a file name from the Politics section.')"
   ]
  },
  {
   "cell_type": "code",
   "execution_count": 86,
   "id": "5a92ca3e-d0d2-4899-b518-a6846971c973",
   "metadata": {},
   "outputs": [
    {
     "name": "stdin",
     "output_type": "stream",
     "text": [
      "Enter the text file name:  76100.txt\n"
     ]
    },
    {
     "name": "stdout",
     "output_type": "stream",
     "text": [
      "\n",
      "\n",
      "\n",
      " As for israelis, Menahim Begal Begin and Yitzhak Shakh Shamir were leaders\n",
      "                                               \n",
      "Cute, real cute.  Now can you please stop being childish and get on\n",
      "with the issues?\n",
      "\n",
      " of many of these gangs that massacred Palestineans and became the\n",
      " HEROS of israel and its Prime ministers. Oh sorry I forgot Ben Gurion,\n",
      " too. I hope he is enjoying his coffin . Now, if israelis donot support\n",
      " (which i doubt) the oppression and killing from 1930'snow,\n",
      "\n",
      "You probably mean the mass murders of Jews in the West Bank between 19361939.\n",
      "\n",
      "\n",
      "\n",
      " Hasan\n",
      "\n",
      "Shai Guday\n",
      "\n",
      "\n",
      "Naftaly\n",
      "\n",
      "\n",
      "\n",
      "Naftaly Stramer \t\t\t  Intergraph Electronics\n",
      "\"Quality is everybody's job, and it's everybody's job to watch all that they can.\"\n"
     ]
    }
   ],
   "source": [
    "printFile()"
   ]
  },
  {
   "cell_type": "code",
   "execution_count": 87,
   "id": "170c8483-f550-4573-bb62-844ab83d9151",
   "metadata": {},
   "outputs": [
    {
     "name": "stdin",
     "output_type": "stream",
     "text": [
      "Enter the text file name:  77817.txt\n"
     ]
    },
    {
     "name": "stdout",
     "output_type": "stream",
     "text": [
      "\n",
      "Serdar, I have been told that you are not real, your account is fake (which I\n",
      "confirmed by trying to Email you) and advised not to waste my time writing to\n",
      "\"you\".  But, I get pleasure from watching you make a fool of yourself.\n",
      "\n",
      "writes:\n",
      "\n",
      " really overstepped the bounds of decency. By slandering tens of\n",
      " generations of harmonious peaceloving Armenians, you and your kind\n",
      "\n",
      " You mean 'tens of generations of barbarians'.\n",
      "\n",
      "\n",
      "  \"...that more people have to die...\"\n",
      "\n",
      "\n",
      "   \"Yes, I stated this and stand by it.\"\n",
      "\n",
      "\n",
      "So you stand by the statement that all Armenians are barbarians.  OK, I see.\n",
      "Lets not even act as if there is a chance they are human.  See Serdar, when you\n",
      "judge people because of their race this is called racism.  I tend to frown on\n",
      "this sort of thing.  Obviously you don't.  When you label an entire race the\n",
      "way you do, it is easy to stop thinking of them as human beings, and this can\n",
      "make GENOCIDE possible.  But I guess (and this is where Serdar will fill the\n",
      "page with quotes taken out of context) you know that, huh?\n",
      "\n",
      "    \tDecember 17, 1980  Sydney\n",
      " \tTwo Nazi Armenians massacre Sarik Ariyak and his bodyguard, Engin\n",
      "         Sever. JCAG and SDPA claim responsibility.\n",
      "\n",
      "Don't you find it weak that all of Serdars enemies are\n",
      "Fascist/NAZI/barbarian/_________fill in the blank with any catch all bad term.\n",
      "\n",
      " It is public knowledge that ...\n",
      " Hagopian, began his notorious career as a member of the terrorist\n",
      " group which perpetrated the massacre of the Israeli athletes at the\n",
      " Munich Olympics in 1972.\n",
      "\n",
      "Public knowlege?  I was not aware of that.  NOW I see, the ARMENIANS decide to\n",
      "kill the Israeli athletes in 1972 as PRACTICE.  I was confused, but thanks for\n",
      "clearing that up.\n",
      " And the 'Armenian Foundation' stole from the\n",
      " children of Turkiye to fund the criminal activities of the ASALA/SDPA/ARF\n",
      " terrorists in their coldblooded murder of defenceless Turkish and\n",
      " Kurdish people.\n",
      "\n",
      "Wow, you are on a roll with the accusations today Serdar, so how did the\n",
      "Armenians steal from the Turkish children?  Was it their lunch money?  This is\n",
      "very cute how you inserted children in this fill in the blank accusation sheet\n",
      "you fill out every day.  It really touches my heart.  Oh and thank you for\n",
      "letting me know that Kurds and Armenians hate each other.  I was not aware of\n",
      "this.  The only time I have ever talked about Kurds it was about the WONDERFUL\n",
      "treatment they were recieving in Turkey.  They must have a high incedence of\n",
      "insanity because there sure are a lot of them fighting against the\n",
      "nonoppresive Turkish government that has let their culture flower over the\n",
      "past 70 years.\n",
      "\n",
      " THE ARMENIAN FOUNDATION PROVIDED 30 BILLION TL TO ASALA\n",
      "\n",
      "     01/09/92, MILLIYET The Armenian Foundation based in\n",
      " Istanbul is found to have provided 30 billion Turkish Lira ($6\n",
      " million) to the Armenian terrorist organization ASALA which have\n",
      " murdered several Turkish diplomats abroad...\n",
      "\n",
      "Thanks for the unbiased TURKISH MEDIA SOURCE.  I am sure the Milliyet is rated\n",
      "number one for accuracy and truth.\n",
      "\n",
      " The deadliest of terrorist assassins,\n",
      " Carlos, proclaimed on Spanish television that his organization had\n",
      " entered into a working relationship with Armenian terrorists and they\n",
      " are using drug trafficking to raise money 'to continue' to slaughter\n",
      " innocent people.\n",
      "\n",
      "Innocent?  Is that what terrorists call their victims?  I have never heard of\n",
      "terrorists calling their victims innocent.  \"Yes, folks in other news the IRA\n",
      "public relations department reported that it had killed 20 innocent victims in\n",
      "a car bombing...  \"  Nope Serdar, I don't think so.\n",
      "\n",
      " As for the Armenian genocide of 2.5 million Muslim people between\n",
      " 1914 and 1920:\n",
      "\n",
      "Oops you almost forgot to fill in the \"Say something about Turks being killed\n",
      "by Armenians here\" section of your note.\n",
      "\n",
      " Serdar Argic\n",
      "\n",
      "Yeah sure you are really Serdar Argic, and I am really BOB HOPE!!!!  So you may\n",
      "have ALREADY won 10 MILLION DOLLARS!!!  Unfortunately for you the Armenian\n",
      "Foundation in Istambul is SURE to steal it from you on the subway and then give\n",
      "it to terrorists to kill innocent Kurds and innocent Israeli athletes.  Ahhh,\n",
      "when are you going to take me to this fantasy world of yours??\n"
     ]
    }
   ],
   "source": [
    "printFile()"
   ]
  },
  {
   "cell_type": "code",
   "execution_count": 88,
   "id": "4ea0e675-327c-451b-a963-7f211b097e8b",
   "metadata": {},
   "outputs": [],
   "source": [
    "def printFile():\n",
    "    tname = input('Enter the text file name: ')\n",
    "    try:\n",
    "        fname = './data/kaggle/Text_Classification_on_Documents/Politics/' + tname\n",
    "        # fhand = open('./data/kaggle/Text_Classification_on_Documents/Politics/176845.txt')\n",
    "        fhand = open(fname)\n",
    "        for line in fhand:\n",
    "            if line.find('@') != -1: continue \n",
    "            elif line.find('Host') != -1: continue \n",
    "            elif line.find('User') != -1: continue\n",
    "            elif line.find('VAX') != -1: continue\n",
    "            elif line.find('USPS Mail:') != -1: continue \n",
    "            elif line.find('UUCP:') != -1: continue\n",
    "            else: print(line.rstrip().replace(\n",
    "                '>', '').replace(\n",
    "                '+', '').replace(\n",
    "                '-', '').replace(\n",
    "                '#', '').replace(\n",
    "                '*', '').replace(\n",
    "                '^', '').replace(\n",
    "                '|', '').replace(\n",
    "                '/', ' ').replace(\n",
    "                '_', ' ')\n",
    "                )\n",
    "    except:\n",
    "        print('Please enter a file name from the Politics section.')"
   ]
  },
  {
   "cell_type": "code",
   "execution_count": 89,
   "id": "e3e6a96c-444b-41a4-850f-f70345a8cd1d",
   "metadata": {},
   "outputs": [
    {
     "name": "stdin",
     "output_type": "stream",
     "text": [
      "Enter the text file name:  77817.txt\n"
     ]
    },
    {
     "name": "stdout",
     "output_type": "stream",
     "text": [
      "\n",
      "Serdar, I have been told that you are not real, your account is fake (which I\n",
      "confirmed by trying to Email you) and advised not to waste my time writing to\n",
      "\"you\".  But, I get pleasure from watching you make a fool of yourself.\n",
      "\n",
      "writes:\n",
      "\n",
      " really overstepped the bounds of decency. By slandering tens of\n",
      " generations of harmonious peaceloving Armenians, you and your kind\n",
      "\n",
      " You mean 'tens of generations of barbarians'.\n",
      "\n",
      "\n",
      "  \"...that more people have to die...\"\n",
      "\n",
      "\n",
      "   \"Yes, I stated this and stand by it.\"\n",
      "\n",
      "\n",
      "So you stand by the statement that all Armenians are barbarians.  OK, I see.\n",
      "Lets not even act as if there is a chance they are human.  See Serdar, when you\n",
      "judge people because of their race this is called racism.  I tend to frown on\n",
      "this sort of thing.  Obviously you don't.  When you label an entire race the\n",
      "way you do, it is easy to stop thinking of them as human beings, and this can\n",
      "make GENOCIDE possible.  But I guess (and this is where Serdar will fill the\n",
      "page with quotes taken out of context) you know that, huh?\n",
      "\n",
      "    \tDecember 17, 1980  Sydney\n",
      " \tTwo Nazi Armenians massacre Sarik Ariyak and his bodyguard, Engin\n",
      "         Sever. JCAG and SDPA claim responsibility.\n",
      "\n",
      "Don't you find it weak that all of Serdars enemies are\n",
      "Fascist NAZI barbarian          fill in the blank with any catch all bad term.\n",
      "\n",
      " It is public knowledge that ...\n",
      " Hagopian, began his notorious career as a member of the terrorist\n",
      " group which perpetrated the massacre of the Israeli athletes at the\n",
      " Munich Olympics in 1972.\n",
      "\n",
      "Public knowlege?  I was not aware of that.  NOW I see, the ARMENIANS decide to\n",
      "kill the Israeli athletes in 1972 as PRACTICE.  I was confused, but thanks for\n",
      "clearing that up.\n",
      " And the 'Armenian Foundation' stole from the\n",
      " children of Turkiye to fund the criminal activities of the ASALA SDPA ARF\n",
      " terrorists in their coldblooded murder of defenceless Turkish and\n",
      " Kurdish people.\n",
      "\n",
      "Wow, you are on a roll with the accusations today Serdar, so how did the\n",
      "Armenians steal from the Turkish children?  Was it their lunch money?  This is\n",
      "very cute how you inserted children in this fill in the blank accusation sheet\n",
      "you fill out every day.  It really touches my heart.  Oh and thank you for\n",
      "letting me know that Kurds and Armenians hate each other.  I was not aware of\n",
      "this.  The only time I have ever talked about Kurds it was about the WONDERFUL\n",
      "treatment they were recieving in Turkey.  They must have a high incedence of\n",
      "insanity because there sure are a lot of them fighting against the\n",
      "nonoppresive Turkish government that has let their culture flower over the\n",
      "past 70 years.\n",
      "\n",
      " THE ARMENIAN FOUNDATION PROVIDED 30 BILLION TL TO ASALA\n",
      "\n",
      "     01 09 92, MILLIYET The Armenian Foundation based in\n",
      " Istanbul is found to have provided 30 billion Turkish Lira ($6\n",
      " million) to the Armenian terrorist organization ASALA which have\n",
      " murdered several Turkish diplomats abroad...\n",
      "\n",
      "Thanks for the unbiased TURKISH MEDIA SOURCE.  I am sure the Milliyet is rated\n",
      "number one for accuracy and truth.\n",
      "\n",
      " The deadliest of terrorist assassins,\n",
      " Carlos, proclaimed on Spanish television that his organization had\n",
      " entered into a working relationship with Armenian terrorists and they\n",
      " are using drug trafficking to raise money 'to continue' to slaughter\n",
      " innocent people.\n",
      "\n",
      "Innocent?  Is that what terrorists call their victims?  I have never heard of\n",
      "terrorists calling their victims innocent.  \"Yes, folks in other news the IRA\n",
      "public relations department reported that it had killed 20 innocent victims in\n",
      "a car bombing...  \"  Nope Serdar, I don't think so.\n",
      "\n",
      " As for the Armenian genocide of 2.5 million Muslim people between\n",
      " 1914 and 1920:\n",
      "\n",
      "Oops you almost forgot to fill in the \"Say something about Turks being killed\n",
      "by Armenians here\" section of your note.\n",
      "\n",
      " Serdar Argic\n",
      "\n",
      "Yeah sure you are really Serdar Argic, and I am really BOB HOPE!!!!  So you may\n",
      "have ALREADY won 10 MILLION DOLLARS!!!  Unfortunately for you the Armenian\n",
      "Foundation in Istambul is SURE to steal it from you on the subway and then give\n",
      "it to terrorists to kill innocent Kurds and innocent Israeli athletes.  Ahhh,\n",
      "when are you going to take me to this fantasy world of yours??\n"
     ]
    }
   ],
   "source": [
    "printFile()"
   ]
  },
  {
   "cell_type": "code",
   "execution_count": 90,
   "id": "308e36e1-3838-4f77-9ded-bcc78e19ff13",
   "metadata": {},
   "outputs": [
    {
     "name": "stdin",
     "output_type": "stream",
     "text": [
      "Enter the text file name:  77850.txt\n"
     ]
    },
    {
     "name": "stdout",
     "output_type": "stream",
     "text": [
      "\n",
      "(Raffi R Kojian) says:\n",
      "\n",
      "[IC] There are some Armenians here, in the USA.\n",
      "[IC] In fact, there are some areas where Armenians are majority.\n",
      "[IC] Suppose, a large group of people of one of such area decides,\n",
      "[IC] that the US \"government is not representing their interests, and vote for\n",
      "[IC] seperation\" from the USA.\n",
      "\n",
      "The Armenians you refer to have chosen to come to the United States lawfully\n",
      "and peacefully. However, if Armenians invade the United States and force\n",
      "Americans to either flee or become Armenians, it will not succeed. Similarly,\n",
      "the Armenians of Karabakh are being forced by Azerbaijan to either become\n",
      "Azeris or leave, and it also will not succeed, as has been demonstrated.\n",
      "\n",
      "Karabakh, irrespective of its geographic position situated technically within\n",
      "the Stalinprepared borders of Azerbaijan, has been long oppressed and\n",
      "eventually was invaded in 1991 by Azeri OMON and Soviet forces, resulting in\n",
      "the northern third of this Armenian area being depopulated of Armenians. The\n",
      "Armenians have been fighting back ever since.\n",
      "\n",
      "Clearly, you feel it rather ridiculous for Armenians, of let's say Glendale,\n",
      "California, to engage in an independence movement for a free and independent\n",
      "Glendale. Similarly, the Azerbaijanis are engaging in a losing attempt at\n",
      "claiming sovereignty over the land and people of Karabakh, who have lived\n",
      "continuously in Karabakh a thousand years before the first Central Asian\n",
      "invaders ever stepped foot in the Caucasus.\n",
      "\n",
      "[IC] Should they get it?\n",
      "[IC] And should the UN enforce their will?\n",
      "[IC] And is it a simple, beautiful concept, indeed?\n",
      "\n",
      "Your analogy has broken down because you have switched positions of the victim\n",
      "and invader. A better analogy would be the direct parallel between Armenians\n",
      "of Karabakh and Native Americans. Now, if you wish, we can discuss the tenets\n",
      "of might versus right and the policies of settler nations!\n",
      "\n",
      "\n",
      "\n",
      "S.D.P.A. Center for Regional Studies   Anatolia and has forgotten the\n",
      "P.O. Box 382761                        punishment inflicted on it.\"  4 14 93\n",
      "Cambridge, MA 02238                      Late Turkish President Turgut Ozal\n"
     ]
    }
   ],
   "source": [
    "printFile()"
   ]
  },
  {
   "cell_type": "code",
   "execution_count": 91,
   "id": "eaf81cc6-ff34-4ac2-a1ff-6e4b16dab8f7",
   "metadata": {},
   "outputs": [],
   "source": [
    "def printFile():\n",
    "    tname = input('Enter the text file name: ')\n",
    "    try:\n",
    "        fname = './data/kaggle/Text_Classification_on_Documents/Politics/' + tname\n",
    "        # fhand = open('./data/kaggle/Text_Classification_on_Documents/Politics/176845.txt')\n",
    "        fhand = open(fname)\n",
    "        for line in fhand:\n",
    "            if line.find('@') != -1: continue \n",
    "            elif line.find('Host') != -1: continue \n",
    "            elif line.find('User') != -1: continue\n",
    "            elif line.find('VAX') != -1: continue\n",
    "            elif line.find('USPS Mail:') != -1: continue \n",
    "            elif line.find('UUCP:') != -1: continue\n",
    "            elif line.find('P.O. Box') != -1: continue\n",
    "            else: print(line.rstrip().replace(\n",
    "                '>', '').replace(\n",
    "                '+', '').replace(\n",
    "                '-', '').replace(\n",
    "                '#', '').replace(\n",
    "                '*', '').replace(\n",
    "                '^', '').replace(\n",
    "                '|', '').replace(\n",
    "                '/', ' ').replace(\n",
    "                '_', ' ').replace(\n",
    "                '[IC]', '')\n",
    "                )\n",
    "    except:\n",
    "        print('Please enter a file name from the Politics section.')"
   ]
  },
  {
   "cell_type": "code",
   "execution_count": 92,
   "id": "1ae7e062-a536-4c14-876d-19947ee6ff9f",
   "metadata": {},
   "outputs": [
    {
     "name": "stdin",
     "output_type": "stream",
     "text": [
      "Enter the text file name:  77850.txt\n"
     ]
    },
    {
     "name": "stdout",
     "output_type": "stream",
     "text": [
      "\n",
      "(Raffi R Kojian) says:\n",
      "\n",
      " There are some Armenians here, in the USA.\n",
      " In fact, there are some areas where Armenians are majority.\n",
      " Suppose, a large group of people of one of such area decides,\n",
      " that the US \"government is not representing their interests, and vote for\n",
      " seperation\" from the USA.\n",
      "\n",
      "The Armenians you refer to have chosen to come to the United States lawfully\n",
      "and peacefully. However, if Armenians invade the United States and force\n",
      "Americans to either flee or become Armenians, it will not succeed. Similarly,\n",
      "the Armenians of Karabakh are being forced by Azerbaijan to either become\n",
      "Azeris or leave, and it also will not succeed, as has been demonstrated.\n",
      "\n",
      "Karabakh, irrespective of its geographic position situated technically within\n",
      "the Stalinprepared borders of Azerbaijan, has been long oppressed and\n",
      "eventually was invaded in 1991 by Azeri OMON and Soviet forces, resulting in\n",
      "the northern third of this Armenian area being depopulated of Armenians. The\n",
      "Armenians have been fighting back ever since.\n",
      "\n",
      "Clearly, you feel it rather ridiculous for Armenians, of let's say Glendale,\n",
      "California, to engage in an independence movement for a free and independent\n",
      "Glendale. Similarly, the Azerbaijanis are engaging in a losing attempt at\n",
      "claiming sovereignty over the land and people of Karabakh, who have lived\n",
      "continuously in Karabakh a thousand years before the first Central Asian\n",
      "invaders ever stepped foot in the Caucasus.\n",
      "\n",
      " Should they get it?\n",
      " And should the UN enforce their will?\n",
      " And is it a simple, beautiful concept, indeed?\n",
      "\n",
      "Your analogy has broken down because you have switched positions of the victim\n",
      "and invader. A better analogy would be the direct parallel between Armenians\n",
      "of Karabakh and Native Americans. Now, if you wish, we can discuss the tenets\n",
      "of might versus right and the policies of settler nations!\n",
      "\n",
      "\n",
      "\n",
      "S.D.P.A. Center for Regional Studies   Anatolia and has forgotten the\n",
      "Cambridge, MA 02238                      Late Turkish President Turgut Ozal\n"
     ]
    }
   ],
   "source": [
    "printFile()"
   ]
  },
  {
   "cell_type": "markdown",
   "id": "22663553-13cc-40fc-b441-b185609d703c",
   "metadata": {},
   "source": [
    "## `printFile` function"
   ]
  },
  {
   "cell_type": "markdown",
   "id": "1dacb54e-8e4c-4502-9258-d9616c5a085d",
   "metadata": {},
   "source": [
    "This function only removes junk from the Politics files.  We will likely create a second function for the Science files in a similar fassion.  But, first we will do more to parse the Politics data."
   ]
  },
  {
   "cell_type": "markdown",
   "id": "cf6cb776-2b07-4556-bdbc-ae9be8303316",
   "metadata": {},
   "source": [
    "```python\n",
    "def printFile():\n",
    "    tname = input('Enter the text file name: ')\n",
    "    try:\n",
    "        fname = './data/kaggle/Text_Classification_on_Documents/Politics/' + tname\n",
    "        # fhand = open('./data/kaggle/Text_Classification_on_Documents/Politics/176845.txt')\n",
    "        fhand = open(fname)\n",
    "        for line in fhand:\n",
    "            if line.find('@') != -1: continue \n",
    "            elif line.find('Host') != -1: continue \n",
    "            elif line.find('User') != -1: continue\n",
    "            elif line.find('VAX') != -1: continue\n",
    "            elif line.find('USPS Mail:') != -1: continue \n",
    "            elif line.find('UUCP:') != -1: continue\n",
    "            elif line.find('P.O. Box') != -1: continue\n",
    "            else: print(line.rstrip().replace(\n",
    "                '>', '').replace(\n",
    "                '+', '').replace(\n",
    "                '-', '').replace(\n",
    "                '#', '').replace(\n",
    "                '*', '').replace(\n",
    "                '^', '').replace(\n",
    "                '|', '').replace(\n",
    "                '/', ' ').replace(\n",
    "                '_', ' ').replace(\n",
    "                '[IC]', '')\n",
    "                )\n",
    "    except:\n",
    "        print('Please enter a file name from the Politics section.')\n",
    "\n",
    "```"
   ]
  },
  {
   "cell_type": "markdown",
   "id": "16f3eca1-8e3d-4987-a3de-3365a7e8354b",
   "metadata": {},
   "source": [
    "## `cleanFile` function"
   ]
  },
  {
   "cell_type": "code",
   "execution_count": 118,
   "id": "01768858-0180-465b-90c6-cb869fabcfaa",
   "metadata": {},
   "outputs": [],
   "source": [
    "def cleanFile(fname: str) -> str:\n",
    "    # tname = input('Enter the text file name: ')\n",
    "    clean_file_text = ''\n",
    "    fhand = open(fname)\n",
    "    for line in fhand:\n",
    "        new_line = ''\n",
    "        if line.find('@') != -1: continue \n",
    "        elif line.find('Host') != -1: continue \n",
    "        elif line.find('User') != -1: continue\n",
    "        elif line.find('VAX') != -1: continue\n",
    "        elif line.find('USPS Mail:') != -1: continue \n",
    "        elif line.find('UUCP:') != -1: continue\n",
    "        elif line.find('P.O. Box') != -1: continue\n",
    "        else: \n",
    "            new_line = line.replace('[IC]', '').replace('/n', ' ').replace('e.g.', ' ')\n",
    "            # '>', '').replace(\n",
    "            # '+', '').replace(\n",
    "            # '-', '').replace(\n",
    "            # '#', '').replace(\n",
    "            # '*', '').replace(\n",
    "            # '^', '').replace(\n",
    "            # '|', '').replace(\n",
    "            # '/', ' ').replace(\n",
    "            # '_', ' ').replace(\n",
    "            \n",
    "\n",
    "        clean_line = str()\n",
    "        for char in new_line:\n",
    "            if char in ['.', '!', '?', ',', \"'\"]:\n",
    "                clean_line += char\n",
    "            elif char.isalpha():\n",
    "                clean_line += char\n",
    "            else:\n",
    "                clean_line += ' '\n",
    "        clean_file_text += clean_line\n",
    "        \n",
    "    return clean_file_text\n"
   ]
  },
  {
   "cell_type": "code",
   "execution_count": 120,
   "id": "6dceaf10-5c75-4787-b218-879287d62f67",
   "metadata": {},
   "outputs": [
    {
     "data": {
      "text/plain": [
       "\"I can't find my source.     But.  If you state that you will retract your claim, I'll go dig one up     at the library.  Fair enough?       ARE YOU SERIOUS?  I'm not talking about retracting anything until   you have produced SOMETHING.       If you were not just talking off the top of your head, I would   assume that you have SOME memory of what your source is.       PUT UP NOW without conditions!   Yes, very serious.  I claim that I can substantiate my statement that Rudman says he doesn't believe Perot was investigating him.  You claim Perot was investigating him.  If you will state that you were in error on this point, provided I produce the source, I'll go dig it up.  Now give me one reason why I should go to the trouble if you won't agree to this?  It is simple enough you know.  But I don't have time to waste if you'll just blow it off with more of the tripe you usually post.        Michael Pye\""
      ]
     },
     "execution_count": 120,
     "metadata": {},
     "output_type": "execute_result"
    }
   ],
   "source": [
    "cleanFile('./data/kaggle/Text_Classification_on_Documents/Politics/124146.txt').strip()"
   ]
  },
  {
   "cell_type": "code",
   "execution_count": 121,
   "id": "41080b41-8e08-41d4-9319-e7c9d652631d",
   "metadata": {},
   "outputs": [
    {
     "data": {
      "text/plain": [
       "\"Norway  where you appear to be posting from  is just such a       place, although it has always escaped my understanding just      what the appeal, to allegedly rational people, of such a      scheme might be.  What gives King Olav V  or whoever it is      now   my atlas is from       the right to any special legal      status or title based on a mere accident of birth?       To begin with, it's quite inexpensive compared to here, what with our   having six former presidents still alive, drawing pensions, expense   accounts, and secret service protection.     Maybe so, but they were, after all, President.  In the corporate     world it's SOP for retiring senior executives to be given nice    pensions, etc.  The point is that they performed a service and    this is part of the compensation package.   The only  service      royals have to perform for their free ride is being born.  We might be better off had some of our former presidents done nothing.       peter     PS    . . . which is not to say that some of our presidents have         not provided a service for the country too dissimilar from what        occurs when a bull  services  a cow  for those of you familiar        with cattle breeding .\""
      ]
     },
     "execution_count": 121,
     "metadata": {},
     "output_type": "execute_result"
    }
   ],
   "source": [
    "cleanFile('./data/kaggle/Text_Classification_on_Documents/Politics/176845.txt').strip()"
   ]
  },
  {
   "cell_type": "code",
   "execution_count": 122,
   "id": "eb14e134-9b0d-451c-8ee0-da174223ff07",
   "metadata": {},
   "outputs": [
    {
     "data": {
      "text/plain": [
       "\"Again, the main point.    No human being not yet born can be bound to any contract.  Wrong.  It's possible to inherit a debt.    Further, no third party can be bound to any contract that  they are not a party to.  See above.    The Constitution  for  the United States is just such a contract.  No third party can be bound to it. Further, no human who is not specifically  mentioned in Article   and has not taken an oath or made an affirmation  to uphold said Const can be bound to uphold or obey it.  The Constitution is not a contract.  It is a statute.  Please,  Mr. Teel, or anyone, show me one case where the U.S.  Constitution, or any state constitution, is considered a  contract.    The Const is designed to limit the powers of government, not to  bind THE PEOPLE.  It is also designed to delineate the powers of the U.S.  government.    This argument will be presented in great detail in the next post.  I can't wait.        Daniel Reitman  HOW NOT TO WRITE A DEED  One case involved the construction of a conveyance to grantees  jointly, as  tenants in common, with equal rights and interest in said land, and to the  survivor thereof, in fee simple. . . . To Have and to Hold the same unto the  said parties hereto, equally, jointly, as tenants in common, with equal rights  and interest for the period or term of their lives, and to the survivor thereof  at the death of the other.   The court held that the survivorship provision indicated an intent to create a  joint tenancy.  Germain v. Delaine,     Ala.    ,     So. d           .\""
      ]
     },
     "execution_count": 122,
     "metadata": {},
     "output_type": "execute_result"
    }
   ],
   "source": [
    "cleanFile('./data/kaggle/Text_Classification_on_Documents/Politics/176846.txt').strip()"
   ]
  },
  {
   "cell_type": "code",
   "execution_count": 123,
   "id": "881f9023-2488-45f2-84e6-f63e5c11564d",
   "metadata": {},
   "outputs": [
    {
     "data": {
      "text/plain": [
       "\"I am glad that you recognize that people should not engage in denial and repression, and should acknowledge such. The United States, with its people, have recognized that repression has taken place, with the loss and outright abrogation of civil liberties and constitutional protections of citizens. This recognition has taken the form of the civil rights law  let's just discuss the federal level for now , such as    USC     et. seq.,    USC      et. seq, et. al.    With this recognition of repression, at times manifested in the form of collective guilt, I want people to recognize denial.  Though it can be said that white people numerically commit more crimes in the United States, because white people are a majority, it can also be said that black people commit a disproportionate amount of crime in the United States, in their relation to their numbers in population.    My views are out of experiences when I was a police officer in a large metropolitan area, and of a citizen. Unless people account for their behavior, and for the behavior of their immediate community, nothing will improve.  Regards,   Neal\""
      ]
     },
     "execution_count": 123,
     "metadata": {},
     "output_type": "execute_result"
    }
   ],
   "source": [
    "cleanFile('./data/kaggle/Text_Classification_on_Documents/Politics/178443.txt').strip()"
   ]
  },
  {
   "cell_type": "code",
   "execution_count": 124,
   "id": "b96f4c49-cc27-4dbd-b6f6-4eda482d8188",
   "metadata": {},
   "outputs": [
    {
     "data": {
      "text/plain": [
       "\"Kriz  wrote      The most recent reason given by the Clinton Administration for     calling for federally funded abortions is that many private     health insurance programs offer coverage for abortion.         The following are two form letters regarding this.  Please send     them around to friends as well as other BBSs       Just sign it and send it, sonny, don't read the fine print. Just   sign it, sonny!    .      Cheers,   Kent            Well you know that you're getting somewhere, when you start getting  responses like this.    Kent, let me explain it to you.    If you are paying for a phone, and you don't want call waiting, YOU DON'T  NEED TO PAY FOR CALl WAITING.    This whole Clinton induced abortion debate SHOULD begin to make NARAL  nervous, because it has exposed a real scam.    If one is paying for a PRIVATE health insurance plan and DOES NOT WANT   abortion coverage  there is NO reason for that person to be COMPLELLED  to pay for it.   Just as one should not be compelled to pay for lipposuction  coverage if ONE doesn't WANT that kind of coverage .  There are  basic services  and there are  optional services , Dennis. Call  waiting is an optional service, but having the number     work on one's phone is a basic service. Just because some nutcase doesn't happen to use the     on his phone, since none of the numbers he calls has a     in it, doesn't mean  that he has the right to demand that the phone company  unbundle  the charges for the use of each phone digit  an unbundling that would be horrendously inefficient because of all the billing   bookkeeping overhead. Similarly,  abortion can be seen as a  basic service .  Furthermore, public funding of abortion SAVES money, as well as being, in the  views of a substantial portion of the population, probably a clear majority,  an ethical thing to do. If you don't like saving money on your taxes in that  way, why don't you take the taxes you save and invest in private charities  with programs that help reduce the NEED for abortion. If every pro lifer did  the same, it would create a massive economic negative feedback loop which  would all but ELIMINATE the need for public funding of abortion. Then you  would get your wish. And, you know what? No pro choicer I know would stop you carrying out that plan. They might even HELP you with it...            Kevin\""
      ]
     },
     "execution_count": 124,
     "metadata": {},
     "output_type": "execute_result"
    }
   ],
   "source": [
    "cleanFile('./data/kaggle/Text_Classification_on_Documents/Politics/178444.txt').strip()"
   ]
  },
  {
   "cell_type": "code",
   "execution_count": 125,
   "id": "8512afe8-f493-4dbb-8fff-7da1d7800268",
   "metadata": {},
   "outputs": [
    {
     "data": {
      "text/plain": [
       "\"What relevance are ALL homicides in this debate?  What do you think gun  control advocates are saying  that if we get rid of all handguns we will  live in a homicide free world?  They sure make it sound like that.     The issue is guns, not baseball bats.  Even a simpleton knows that  he stands a better chance of surviving an attack with a baseball bat...  certainly of outrunning a bat wielding assailant.    Even a simpleton knows a baseball bat is considered a deadly weapon.  If one cannot run away    old, infirm, even middle aged if the assailant is younger , a handgun is the most effective means of defense. You won't even have to fire a shot     of the time.   As for knives, see my earlier post.  I'd much rather face a knife  than a gun, thanks.  Fortunately, the best defense against a knife isn't  another knife.  Anyone trained in unarmed self defense won't have  much of a problem disarming a knife assailant untrained in knife  assault  which probably means   .   of knife assailants .  Any real streetfighter  and there are LOTS of them , with or without a knife, will kick the living sh   out of most people  trained in unarmed self defense .  For the majority of people, a gun is the most effective form of self defense.  Al  standard disclaimer\""
      ]
     },
     "execution_count": 125,
     "metadata": {},
     "output_type": "execute_result"
    }
   ],
   "source": [
    "cleanFile('./data/kaggle/Text_Classification_on_Documents/Politics/53363.txt').strip()"
   ]
  },
  {
   "cell_type": "code",
   "execution_count": 131,
   "id": "22b3fab5-884d-4ea4-b0d9-8af5a5ec3956",
   "metadata": {},
   "outputs": [
    {
     "name": "stdout",
     "output_type": "stream",
     "text": [
      "16\n",
      "What relevance are ALL homicides in this debate?\n",
      "\n",
      "What do you think gun  control advocates are saying  that if we get rid of all handguns we will  live in a homicide free world?\n",
      "\n",
      "They sure make it sound like that.\n",
      "\n",
      "The issue is guns, not baseball bats.\n",
      "\n",
      "Even a simpleton knows that  he stands a better chance of surviving an attack with a baseball bat...  certainly of outrunning a bat wielding assailant.\n",
      "\n",
      "Even a simpleton knows a baseball bat is considered a deadly weapon.\n",
      "\n",
      "If one cannot run away    old, infirm, even middle aged if the assailant is younger , a handgun is the most effective means of defense.\n",
      "\n",
      "You won't even have to fire a shot     of the time.\n",
      "\n",
      "As for knives, see my earlier post.\n",
      "\n",
      "I'd much rather face a knife  than a gun, thanks.\n",
      "\n",
      "Fortunately, the best defense against a knife isn't  another knife.\n",
      "\n",
      "Anyone trained in unarmed self defense won't have  much of a problem disarming a knife assailant untrained in knife  assault  which probably means   .\n",
      "\n",
      "of knife assailants .\n",
      "\n",
      "Any real streetfighter  and there are LOTS of them , with or without a knife, will kick the living sh   out of most people  trained in unarmed self defense .\n",
      "\n",
      "For the majority of people, a gun is the most effective form of self defense.\n",
      "\n",
      "Al  standard disclaimer\n",
      "\n",
      "['What relevance are ALL homicides in this debate?', 'What do you think gun  control advocates are saying  that if we get rid of all handguns we will  live in a homicide free world?', 'They sure make it sound like that.', 'The issue is guns, not baseball bats.', 'Even a simpleton knows that  he stands a better chance of surviving an attack with a baseball bat...  certainly of outrunning a bat wielding assailant.', 'Even a simpleton knows a baseball bat is considered a deadly weapon.', 'If one cannot run away    old, infirm, even middle aged if the assailant is younger , a handgun is the most effective means of defense.', \"You won't even have to fire a shot     of the time.\", 'As for knives, see my earlier post.', \"I'd much rather face a knife  than a gun, thanks.\", \"Fortunately, the best defense against a knife isn't  another knife.\", \"Anyone trained in unarmed self defense won't have  much of a problem disarming a knife assailant untrained in knife  assault  which probably means   .\", 'of knife assailants .', 'Any real streetfighter  and there are LOTS of them , with or without a knife, will kick the living sh   out of most people  trained in unarmed self defense .', 'For the majority of people, a gun is the most effective form of self defense.', 'Al  standard disclaimer']\n"
     ]
    }
   ],
   "source": [
    "from nltk.tokenize import sent_tokenize\n",
    "\n",
    "sentences = sent_tokenize(cleanFile('./data/kaggle/Text_Classification_on_Documents/Politics/53363.txt').strip())\n",
    "\n",
    "print(len(sentences))\n",
    "for sent in sentences:\n",
    "    print(sent.strip())\n",
    "    print()\n",
    "print(sentences)"
   ]
  },
  {
   "cell_type": "code",
   "execution_count": 132,
   "id": "ebc0d54c-4f0a-4042-acbf-ac1f37266409",
   "metadata": {},
   "outputs": [
    {
     "name": "stdout",
     "output_type": "stream",
     "text": [
      "16\n",
      "I can't find my source.\n",
      "\n",
      "But.\n",
      "\n",
      "If you state that you will retract your claim, I'll go dig one up     at the library.\n",
      "\n",
      "Fair enough?\n",
      "\n",
      "ARE YOU SERIOUS?\n",
      "\n",
      "I'm not talking about retracting anything until   you have produced SOMETHING.\n",
      "\n",
      "If you were not just talking off the top of your head, I would   assume that you have SOME memory of what your source is.\n",
      "\n",
      "PUT UP NOW without conditions!\n",
      "\n",
      "Yes, very serious.\n",
      "\n",
      "I claim that I can substantiate my statement that Rudman says he doesn't believe Perot was investigating him.\n",
      "\n",
      "You claim Perot was investigating him.\n",
      "\n",
      "If you will state that you were in error on this point, provided I produce the source, I'll go dig it up.\n",
      "\n",
      "Now give me one reason why I should go to the trouble if you won't agree to this?\n",
      "\n",
      "It is simple enough you know.\n",
      "\n",
      "But I don't have time to waste if you'll just blow it off with more of the tripe you usually post.\n",
      "\n",
      "Michael Pye\n",
      "\n",
      "[\"I can't find my source.\", 'But.', \"If you state that you will retract your claim, I'll go dig one up     at the library.\", 'Fair enough?', 'ARE YOU SERIOUS?', \"I'm not talking about retracting anything until   you have produced SOMETHING.\", 'If you were not just talking off the top of your head, I would   assume that you have SOME memory of what your source is.', 'PUT UP NOW without conditions!', 'Yes, very serious.', \"I claim that I can substantiate my statement that Rudman says he doesn't believe Perot was investigating him.\", 'You claim Perot was investigating him.', \"If you will state that you were in error on this point, provided I produce the source, I'll go dig it up.\", \"Now give me one reason why I should go to the trouble if you won't agree to this?\", 'It is simple enough you know.', \"But I don't have time to waste if you'll just blow it off with more of the tripe you usually post.\", 'Michael Pye']\n"
     ]
    }
   ],
   "source": [
    "from nltk.tokenize import sent_tokenize\n",
    "\n",
    "sentences = sent_tokenize(cleanFile('./data/kaggle/Text_Classification_on_Documents/Politics/124146.txt').strip())\n",
    "\n",
    "print(len(sentences))\n",
    "for sent in sentences:\n",
    "    print(sent)\n",
    "    print()\n",
    "print(sentences)"
   ]
  },
  {
   "cell_type": "code",
   "execution_count": 135,
   "id": "855d0703-99b7-4702-a3b9-7d178040852e",
   "metadata": {},
   "outputs": [
    {
     "name": "stderr",
     "output_type": "stream",
     "text": [
      "[nltk_data] Downloading package averaged_perceptron_tagger_eng to\n",
      "[nltk_data]     /Users/blakewallace/nltk_data...\n",
      "[nltk_data]   Unzipping taggers/averaged_perceptron_tagger_eng.zip.\n"
     ]
    },
    {
     "data": {
      "text/plain": [
       "True"
      ]
     },
     "execution_count": 135,
     "metadata": {},
     "output_type": "execute_result"
    }
   ],
   "source": [
    "import nltk\n",
    "nltk.download('averaged_perceptron_tagger_eng')"
   ]
  },
  {
   "cell_type": "code",
   "execution_count": 136,
   "id": "d91b445d-4847-4b8d-8ea8-4c28254225bd",
   "metadata": {},
   "outputs": [
    {
     "name": "stdout",
     "output_type": "stream",
     "text": [
      "I ca n't find my source . But . If you state that you will retract your claim , I 'll go dig one up at the library . enough ? ? I 'm not talking about retracting anything until you have produced . If you were not just talking off the top of your head , I would assume that you have memory of what your source is . PUT UP without conditions ! Yes , very serious . I claim that I can substantiate my statement that says he does n't believe was investigating him . You claim was investigating him . If you will state that you were in error on this point , provided I produce the source , I 'll go dig it up . Now give me one reason why I should go to the trouble if you wo n't agree to this ? It is simple enough you know . But I do n't have time to waste if you 'll just blow it off with more of the tripe you usually post . \n"
     ]
    }
   ],
   "source": [
    "import nltk\n",
    "\n",
    "# text = \"John went to the store, and Mary called him.\"\n",
    "# sentences = nltk.sent_tokenize(text)\n",
    "\n",
    "new_text = \"\"\n",
    "for sentence in sentences:\n",
    "    words = nltk.word_tokenize(sentence)\n",
    "    tagged_words = nltk.pos_tag(words)\n",
    "    for word, tag in tagged_words:\n",
    "        if tag != \"NNP\": # NNP is the tag for proper nouns\n",
    "            new_text += word + \" \"\n",
    "print(new_text) # Output: went to the store , and called him ."
   ]
  },
  {
   "cell_type": "code",
   "execution_count": 139,
   "id": "525ebef8-c522-4e81-8571-b93ca9959a0d",
   "metadata": {},
   "outputs": [],
   "source": [
    "def cleanFile(fname: str) -> str:\n",
    "    # tname = input('Enter the text file name: ')\n",
    "    clean_file_text = ''\n",
    "    fhand = open(fname)\n",
    "    for line in fhand:\n",
    "        new_line = ''\n",
    "        if line.find('@') != -1: continue \n",
    "        elif line.find('Host') != -1: continue \n",
    "        elif line.find('User') != -1: continue\n",
    "        elif line.find('VAX') != -1: continue\n",
    "        elif line.find('USPS Mail:') != -1: continue \n",
    "        elif line.find('UUCP:') != -1: continue\n",
    "        elif line.find('P.O. Box') != -1: continue\n",
    "        else: \n",
    "            new_line = line.replace('[IC]', '').replace('/n', ' ').replace('e.g.', ' ')\n",
    "            # '>', '').replace(\n",
    "            # '+', '').replace(\n",
    "            # '-', '').replace(\n",
    "            # '#', '').replace(\n",
    "            # '*', '').replace(\n",
    "            # '^', '').replace(\n",
    "            # '|', '').replace(\n",
    "            # '/', ' ').replace(\n",
    "            # '_', ' ').replace(\n",
    "            \n",
    "\n",
    "        clean_line = str()\n",
    "        for char in new_line:\n",
    "            if char in ['.', '!', '?', ',']:\n",
    "                clean_line += char\n",
    "            elif char == \"'\":\n",
    "                clean_line += ''\n",
    "            elif char.isalpha():\n",
    "                clean_line += char\n",
    "            else:\n",
    "                clean_line += ' '\n",
    "        clean_file_text += clean_line\n",
    "        \n",
    "    return clean_file_text\n"
   ]
  },
  {
   "cell_type": "code",
   "execution_count": 140,
   "id": "86950d6c-1f0a-464a-8290-18bff54bf94c",
   "metadata": {},
   "outputs": [
    {
     "name": "stdout",
     "output_type": "stream",
     "text": [
      "16\n",
      "I cant find my source.\n",
      "\n",
      "But.\n",
      "\n",
      "If you state that you will retract your claim, Ill go dig one up     at the library.\n",
      "\n",
      "Fair enough?\n",
      "\n",
      "ARE YOU SERIOUS?\n",
      "\n",
      "Im not talking about retracting anything until   you have produced SOMETHING.\n",
      "\n",
      "If you were not just talking off the top of your head, I would   assume that you have SOME memory of what your source is.\n",
      "\n",
      "PUT UP NOW without conditions!\n",
      "\n",
      "Yes, very serious.\n",
      "\n",
      "I claim that I can substantiate my statement that Rudman says he doesnt believe Perot was investigating him.\n",
      "\n",
      "You claim Perot was investigating him.\n",
      "\n",
      "If you will state that you were in error on this point, provided I produce the source, Ill go dig it up.\n",
      "\n",
      "Now give me one reason why I should go to the trouble if you wont agree to this?\n",
      "\n",
      "It is simple enough you know.\n",
      "\n",
      "But I dont have time to waste if youll just blow it off with more of the tripe you usually post.\n",
      "\n",
      "Michael Pye\n",
      "\n",
      "['I cant find my source.', 'But.', 'If you state that you will retract your claim, Ill go dig one up     at the library.', 'Fair enough?', 'ARE YOU SERIOUS?', 'Im not talking about retracting anything until   you have produced SOMETHING.', 'If you were not just talking off the top of your head, I would   assume that you have SOME memory of what your source is.', 'PUT UP NOW without conditions!', 'Yes, very serious.', 'I claim that I can substantiate my statement that Rudman says he doesnt believe Perot was investigating him.', 'You claim Perot was investigating him.', 'If you will state that you were in error on this point, provided I produce the source, Ill go dig it up.', 'Now give me one reason why I should go to the trouble if you wont agree to this?', 'It is simple enough you know.', 'But I dont have time to waste if youll just blow it off with more of the tripe you usually post.', 'Michael Pye']\n"
     ]
    }
   ],
   "source": [
    "from nltk.tokenize import sent_tokenize\n",
    "\n",
    "sentences = sent_tokenize(cleanFile('./data/kaggle/Text_Classification_on_Documents/Politics/124146.txt').strip())\n",
    "\n",
    "print(len(sentences))\n",
    "for sent in sentences:\n",
    "    print(sent)\n",
    "    print()\n",
    "print(sentences)"
   ]
  },
  {
   "cell_type": "code",
   "execution_count": 160,
   "id": "dab0b304-5935-458d-b284-7f2fe691831e",
   "metadata": {},
   "outputs": [],
   "source": [
    "def sentTokenizer(cleanFile: str) -> list[str]:\n",
    "    from nltk.tokenize import sent_tokenize\n",
    "\n",
    "    sentences = sent_tokenize(cleanFile.strip())\n",
    "    return sentences"
   ]
  },
  {
   "cell_type": "code",
   "execution_count": 161,
   "id": "2772ddae-cc78-4bca-addc-58258cc4c3c3",
   "metadata": {},
   "outputs": [
    {
     "data": {
      "text/plain": [
       "['I cant find my source.',\n",
       " 'But.',\n",
       " 'If you state that you will retract your claim, Ill go dig one up     at the library.',\n",
       " 'Fair enough?',\n",
       " 'ARE YOU SERIOUS?',\n",
       " 'Im not talking about retracting anything until   you have produced SOMETHING.',\n",
       " 'If you were not just talking off the top of your head, I would   assume that you have SOME memory of what your source is.',\n",
       " 'PUT UP NOW without conditions!',\n",
       " 'Yes, very serious.',\n",
       " 'I claim that I can substantiate my statement that Rudman says he doesnt believe Perot was investigating him.',\n",
       " 'You claim Perot was investigating him.',\n",
       " 'If you will state that you were in error on this point, provided I produce the source, Ill go dig it up.',\n",
       " 'Now give me one reason why I should go to the trouble if you wont agree to this?',\n",
       " 'It is simple enough you know.',\n",
       " 'But I dont have time to waste if youll just blow it off with more of the tripe you usually post.',\n",
       " 'Michael Pye']"
      ]
     },
     "execution_count": 161,
     "metadata": {},
     "output_type": "execute_result"
    }
   ],
   "source": [
    "sentTokenizer(cleanFile('./data/kaggle/Text_Classification_on_Documents/Politics/124146.txt'))"
   ]
  },
  {
   "cell_type": "code",
   "execution_count": 141,
   "id": "7860d083-64a4-4b65-9444-b3106a25e7f9",
   "metadata": {},
   "outputs": [
    {
     "name": "stdout",
     "output_type": "stream",
     "text": [
      "I cant find my source . But . If you state that you will retract your claim , go dig one up at the library . enough ? ? not talking about retracting anything until you have produced . If you were not just talking off the top of your head , I would assume that you have memory of what your source is . PUT UP without conditions ! Yes , very serious . I claim that I can substantiate my statement that says he doesnt believe was investigating him . You claim was investigating him . If you will state that you were in error on this point , provided I produce the source , go dig it up . Now give me one reason why I should go to the trouble if you wont agree to this ? It is simple enough you know . But I dont have time to waste if youll just blow it off with more of the tripe you usually post . \n"
     ]
    }
   ],
   "source": [
    "import nltk\n",
    "\n",
    "# text = \"John went to the store, and Mary called him.\"\n",
    "# sentences = nltk.sent_tokenize(text)\n",
    "\n",
    "new_text = \"\"\n",
    "for sentence in sentences:\n",
    "    words = nltk.word_tokenize(sentence)\n",
    "    tagged_words = nltk.pos_tag(words)\n",
    "    for word, tag in tagged_words:\n",
    "        if tag != \"NNP\": # NNP is the tag for proper nouns\n",
    "            new_text += word + \" \"\n",
    "print(new_text) # Output: went to the store , and called him ."
   ]
  },
  {
   "cell_type": "markdown",
   "id": "dd68254e-eac8-4c41-b766-dcb1c769f74a",
   "metadata": {},
   "source": [
    "## Science Data\n",
    "\n",
    "Applying the function to cases of the `Science` Data."
   ]
  },
  {
   "cell_type": "markdown",
   "id": "42175721-a774-4d3a-80b8-e311bb98e61e",
   "metadata": {},
   "source": [
    "**document `14147.txt`**"
   ]
  },
  {
   "cell_type": "code",
   "execution_count": 163,
   "id": "60a2a075-d7c8-4265-bb44-569ec7f8be81",
   "metadata": {},
   "outputs": [],
   "source": [
    "fname = './data/kaggle/Text_Classification_on_Documents/Science/14147.txt'"
   ]
  },
  {
   "cell_type": "code",
   "execution_count": 169,
   "id": "c7308476-1d55-42c2-92d1-c1ec2776e169",
   "metadata": {
    "scrolled": true
   },
   "outputs": [],
   "source": [
    "# # raw document\n",
    "# fhand = open(fname)\n",
    "# for line in fhand:\n",
    "#     print(line.strip())"
   ]
  },
  {
   "cell_type": "code",
   "execution_count": 170,
   "id": "c438e5d1-a6e5-494c-9cb1-98045979e0b8",
   "metadata": {
    "scrolled": true
   },
   "outputs": [],
   "source": [
    "# cleanFile(fname)"
   ]
  },
  {
   "cell_type": "code",
   "execution_count": 167,
   "id": "eb15dd9b-8ec0-4c82-863b-b30d2c45de40",
   "metadata": {
    "scrolled": true
   },
   "outputs": [],
   "source": [
    "# sentTokenizer(cleanFile(fname))"
   ]
  },
  {
   "cell_type": "code",
   "execution_count": 171,
   "id": "84bafbc4-c311-4f19-a6f7-494ebed71ce6",
   "metadata": {},
   "outputs": [],
   "source": [
    "def cleanFile(fname: str) -> str:\n",
    "    # tname = input('Enter the text file name: ')\n",
    "    clean_file_text = ''\n",
    "    fhand = open(fname)\n",
    "    for line in fhand:\n",
    "        new_line = ''\n",
    "        if line.find('@') != -1: continue \n",
    "        elif line.find('Host') != -1: continue \n",
    "        elif line.find('User') != -1: continue\n",
    "        elif line.find('VAX') != -1: continue\n",
    "        elif line.find('USPS Mail:') != -1: continue \n",
    "        elif line.find('UUCP:') != -1: continue\n",
    "        elif line.find('P.O. Box') != -1: continue\n",
    "        # Added from Science documents\n",
    "        elif line.find('Archive-name') != -1: continue\n",
    "        elif line.find('Last-update') != -1: continue\n",
    "        else: \n",
    "            new_line = line.replace('[IC]', '').replace('/n', ' ').replace('e.g.', ' ')\n",
    "            # '>', '').replace(\n",
    "            # '+', '').replace(\n",
    "            # '-', '').replace(\n",
    "            # '#', '').replace(\n",
    "            # '*', '').replace(\n",
    "            # '^', '').replace(\n",
    "            # '|', '').replace(\n",
    "            # '/', ' ').replace(\n",
    "            # '_', ' ').replace(\n",
    "            \n",
    "\n",
    "        clean_line = str()\n",
    "        for char in new_line:\n",
    "            if char in ['.', '!', '?', ',']:\n",
    "                clean_line += char\n",
    "            elif char == \"'\":\n",
    "                clean_line += ''\n",
    "            elif char.isalpha():\n",
    "                clean_line += char\n",
    "            else:\n",
    "                clean_line += ' '\n",
    "        clean_file_text += clean_line\n",
    "        \n",
    "    return clean_file_text\n"
   ]
  },
  {
   "cell_type": "code",
   "execution_count": 172,
   "id": "20ab3a85-5282-43e0-8f48-ab8167128d53",
   "metadata": {
    "scrolled": true
   },
   "outputs": [
    {
     "data": {
      "text/plain": [
       "'  ABOUT THIS POSTING                    This is a  still rather rough  listing of likely questions and information about RIPEM, a program for public key mail encryption.  It  this FAQ, not RIPEM  was written and will be maintained by Marc variety of newsgroups on a monthly basis  follow up discussion specific to RIPEM is redirected to the group alt.security.ripem.  This month, I have reformatted this posting in an attempt to comply with the standards for HyperText FAQ formatting to allow easy manipulation of this document over the World Wide Web.  Let me know what you think.  DISCLAIMER            Nothing in this FAQ should be considered legal advice, or anything other than one persons opinion.  If you want real legal advice, talk to a real lawyer.  QUESTIONS AND ANSWERS                            What is RIPEM?   RIPEM is a program which performs Privacy Enhanced Mail  PEM  using  the cryptographic techniques of RSA and DES.  It allows your  electronic mail to have the properties of authentication  i.e. who  sent it can be confirmed  and privacy  i.e. nobody can read it except  the intended recipient.    Most of the code is in the public domain, except for the RSA routines,  which are a library called RSAREF licensed from RSA Data Security Inc.      How can I get RIPEM?   RIPEM contains the library of cryptographic routines RSAREF, which is  considered munitions and thus is export restricted from distribution  to people who are not citizens or permanent residents of the U.S. or  Canada.  Therefore, the following request is quoted from the README  file     Please do not export the cryptographic code in this distribution   outside of the USA or Canada.  This is a personal request from me,   the author of RIPEM, and a condition of your use of RIPEM.   Note that RSAREF is not in the public domain, and a license for it is  included with the distribution.  You should read it before using  RIPEM.   The best way to get it is to ask a friend for a copy, since this will  reduce the load on those sites that do carry it  not to mention the  humans that run them.   Naturally this requires that you trust the  friend.   RIPEM is available via anonymous FTP to citizens and permanent residents  in the U.S. from rsa.com  cd to rsaref  and read the README file for  info.  Last I looked, this site contains only the source tree, and  does not contain compiled binaries or the nice Mac version.   RIPEM, as well as some other crypt stuff, has its  home site  on  rpub.cl.msu.edu, which is open to non anonymous FTP for users in the  U.S. and Canada who are citizens or permanent residents.  To find out  how to obtain access, ftp there, cd to pub crypt , and read the file  GETTING ACCESS.  For convenience, binaries for many architectures are  available here in addition to the full source tree.      Will RIPEM run on my machine?   Probably.  It has already been ported to MS DOS and most flavors of  Unix  SunOS, NeXT, Linux, AIX, ULTRIX, Solaris, etc.   Ports to  Macintosh include a standard UNIX style port and a rather nice  Mac like port written by Raymond Lau, author of StuffIt.  More ports  are expected, and help of users is invited.      Will RIPEM work with my mailer?   Probably.  How easy and clean the effective interface is will depend  on the sophistication and modularity of the mailer, though.  The users  guide, included with the distribution, discusses ways to use RIPEM  with many popular mailers, including Berkeley, mush, Elm, and MH.  Code is also included in elisp to allow easy use of RIPEM inside GNU  Emacs.   If you make a new interface for RIPEM or create an improvement on one  in the distribution which you believe is convenient to use, secure,  and may be useful to others, feel free to post it to alt.security.ripem.      What is RSA?   RSA is a crypto system which is asymmetric, or public key.  This means  that there are two different, related keys  one to encrypt and one to  decrypt.  Because one cannot  reasonably  be derived from the other,  you may publish your encryption, or public key widely and keep your  decryption, or private key to yourself.  Anyone can use your public  key to encrypt a message, but only you hold the private key needed to  decrypt it.   Note that the  message  sent with RSA is normally just  the DES key to the real message.  See  What is DES?     Note that the above only provides for privacy.  For authentication,  the fingerprint of the message  See  What is a fingerprint, like  MD ?   is encrypted with the senders private key.  The recipient can  use the senders public key to decrypt it and confirm that the message  must have come from the sender.   RSA was named for the three men  Rivest, Shamir and Adleman  who  invented it.  To find out more about RSA, ftp to rsa.com and look in  pub faq  or look in sci.crypt.      What is DES?   DES is the Data Encryption Standard, a widely used symmetric, or  secret key, crypto system.  Unlike RSA, DES uses the same key to  encrypt and decrypt messages.  However, DES is much faster than RSA.   RIPEM uses both DES and RSA  it generates a random key and encrypts  your mail with DES using that key.  It then encrypts that key with the  recipients public RSA key and includes the result in the letter,  allowing the recipient to recover the DES key.   DES is sometimes considered weak because it is somewhat old and uses a  key length considered too short by modern standards.  However, it  should be reasonably safe against an opponent smaller than a large  corporation or government agency.  It is not unlikely that future  RIPEMs will strengthen the symmetric cipher, possibly by using  multiple encryption with DES.      What is PEM, and how does RIPEM relate?   PEM is Privacy Enhanced Mail, a system for allowing easy transfer of  encrypted electronic mail.  It is described in RFCs            these  documents have been approved and obsolete the old RFCs          .   RIPEM is not really a complete implementation of PEM, because PEM  specifies certificates for authenticating keys, which RIPEM does not  handle at this time.  Their addition is planned.      Whats this about distributing and authenticating keys?   For a remote user to be able to send secure mail to you, she must know  your public key.  For you to be able to confirm that the message  received came from her, you must know her public key.  It is important  that this information be accurate  if a  bad guy  convinces her that  his key is in fact yours, she will send messages which he can read.   RIPEM allows for three methods of key management  a central server,  the distributed finger servers, and a flat file.  All three are  described in the RIPEM users guide which is part of the distribution.  None of them provide perfect security.      Why do all RIPEM public keys look very similar?   RIPEM public keys begin with a PKCS identifier describing various  characteristics about the key, so the first bunch of characters in  your key may be the same as those of lots of other peoples keys.  This does not mean your keys are similar, but only that they are the  same class of key, were generated with the same program, are of the  same length, etc.       What is a fingerprint, like MD ?   MD  is a message digest algorithm produced by RSA Data Security Inc.  It provides a     bit fingerprint, or cryptographically secure hash,  of the plaintext.  It is cryptographically secure because it is not  possible  in a reasonable amount of computation  to produce a  different plaintext which produces the same fingerprint.  Thus,  instead of signing the entire message with the senders private key,  only the MD  of the message needs to be signed for authentication.   MD  is sometimes used for other purposes  for example, it is often  used to map an input of arbitrary length to     bits of data, as a  passphrase interpreter or cookie generator.   MD  is described in its entirety  including an implementation in C  in  RFC     .       What is PGP?   PGP is another cryptographic mail program called Pretty Good Privacy.  PGP has been around longer than RIPEM, and works somewhat differently.  PGP is not compatible with RIPEM in any way, though PGP does also use RSA.   Some major differences between PGP and RIPEM      PGP has more key management features, particularly for users without    a direct network connection.     RIPEM conforms to the PEM RFCs and thus has a greater probability of    working with other PEM software.  PGP makes no attempt to be compatible    with anything other than PGP  in fact, PGP  .  is not compatible with    PGP  . .      RIPEM uses RSAREF, a library of RSA routines from RSA Data Security    Inc.  RSAREF comes with a license which allows noncommercial use.    PGP uses its own implementation of RSA which is not licensed  thus,    PKP, the firm holding the U.S. patents on the RSA algorithm, claims    that it is a infringement of that patent to make, use or sell PGP in    the U.S. or Canada.  In acknowledgement of this, PGPs original    author, Phil Zimmermann, says in the documentation       In fact, if you live in the USA, and you are not a Federal agency,      you shouldnt actually run PGP on your computer, because Public     Key Partners wants to forbid you from running my software.  PGP is     contraband.       Both PGP and RIPEM are export restricted, and cannot be sent outside    the U.S. and Canada.  However, PGP already exists on many ftp sites    in Europe and other places.   Whether you use PGP or RIPEM or whatever, the documentation to PGP is  recommended reading to anyone interested in such issues.   Note that the above facts, both regarding patent and export  restrictions, are somewhat controversial  many people think it  shouldnt be that way, and some people interpret various documents  differently.  Unfortunately, discussions of it on the net inevitably  seem to produce more heat than light, and probably belong in  misc.legal.computing.   See    DISCLAIMER         What about RPEM?   RPEM stands for Rabin Privacy Enhanced Mail.  It was similar to RIPEM,  but used a public key cipher invented by Rabin  which is not RSA  in  an attempt to avoid the patent on RSA.  It was written by Mark  Riordan, the same author as RIPEM.   Its distribution was halted when, contrary to the beliefs of many   including Rabin , Public Key Partners  PKP  claimed that their patent  was broad enough to cover any public key cipher whose strength rested  in the difficulty of factoring products of large primes, not just RSA.  This claim is not universally accepted by any means, but was not  challenged for pragmatic reasons.   RPEM is not really used anymore.  It is not compatible with RIPEM or PGP.       What is MIME?   MIME stands for Multipurpose Internet Mail Extensions, and is  described in RFC     .  You can find out about it in the newsgroup  comp.mail.mime.  How PEM should interact with MIME is not yet entirely  clear  some people use the stopgap solution of having a MIME type  application x ripem in order to send RIPEM messages as MIME ones.  I  hope some standards will emerge.  Draft Internet documents exist on  the matter.       I have this simple way to defeat the security of RIPEM...   You may wish to check the companion post  ripem attacks  which  discusses some of the more obvious attacks on RIPEMs security and  what procedures will minimize the risk.  RIPEMs main  weak area  is  probably key distribution. '"
      ]
     },
     "execution_count": 172,
     "metadata": {},
     "output_type": "execute_result"
    }
   ],
   "source": [
    "cleanFile(fname)"
   ]
  },
  {
   "cell_type": "code",
   "execution_count": 173,
   "id": "7efba220-0794-4abe-8efa-67b0358cf4b8",
   "metadata": {},
   "outputs": [
    {
     "data": {
      "text/plain": [
       "['ABOUT THIS POSTING                    This is a  still rather rough  listing of likely questions and information about RIPEM, a program for public key mail encryption.',\n",
       " 'It  this FAQ, not RIPEM  was written and will be maintained by Marc variety of newsgroups on a monthly basis  follow up discussion specific to RIPEM is redirected to the group alt.security.ripem.',\n",
       " 'This month, I have reformatted this posting in an attempt to comply with the standards for HyperText FAQ formatting to allow easy manipulation of this document over the World Wide Web.',\n",
       " 'Let me know what you think.',\n",
       " 'DISCLAIMER            Nothing in this FAQ should be considered legal advice, or anything other than one persons opinion.',\n",
       " 'If you want real legal advice, talk to a real lawyer.',\n",
       " 'QUESTIONS AND ANSWERS                            What is RIPEM?',\n",
       " 'RIPEM is a program which performs Privacy Enhanced Mail  PEM  using  the cryptographic techniques of RSA and DES.',\n",
       " 'It allows your  electronic mail to have the properties of authentication  i.e.',\n",
       " 'who  sent it can be confirmed  and privacy  i.e.',\n",
       " 'nobody can read it except  the intended recipient.',\n",
       " 'Most of the code is in the public domain, except for the RSA routines,  which are a library called RSAREF licensed from RSA Data Security Inc.      How can I get RIPEM?',\n",
       " 'RIPEM contains the library of cryptographic routines RSAREF, which is  considered munitions and thus is export restricted from distribution  to people who are not citizens or permanent residents of the U.S. or  Canada.',\n",
       " 'Therefore, the following request is quoted from the README  file     Please do not export the cryptographic code in this distribution   outside of the USA or Canada.',\n",
       " 'This is a personal request from me,   the author of RIPEM, and a condition of your use of RIPEM.',\n",
       " 'Note that RSAREF is not in the public domain, and a license for it is  included with the distribution.',\n",
       " 'You should read it before using  RIPEM.',\n",
       " 'The best way to get it is to ask a friend for a copy, since this will  reduce the load on those sites that do carry it  not to mention the  humans that run them.',\n",
       " 'Naturally this requires that you trust the  friend.',\n",
       " 'RIPEM is available via anonymous FTP to citizens and permanent residents  in the U.S. from rsa.com  cd to rsaref  and read the README file for  info.',\n",
       " 'Last I looked, this site contains only the source tree, and  does not contain compiled binaries or the nice Mac version.',\n",
       " 'RIPEM, as well as some other crypt stuff, has its  home site  on  rpub.cl.msu.edu, which is open to non anonymous FTP for users in the  U.S. and Canada who are citizens or permanent residents.',\n",
       " 'To find out  how to obtain access, ftp there, cd to pub crypt , and read the file  GETTING ACCESS.',\n",
       " 'For convenience, binaries for many architectures are  available here in addition to the full source tree.',\n",
       " 'Will RIPEM run on my machine?',\n",
       " 'Probably.',\n",
       " 'It has already been ported to MS DOS and most flavors of  Unix  SunOS, NeXT, Linux, AIX, ULTRIX, Solaris, etc.',\n",
       " 'Ports to  Macintosh include a standard UNIX style port and a rather nice  Mac like port written by Raymond Lau, author of StuffIt.',\n",
       " 'More ports  are expected, and help of users is invited.',\n",
       " 'Will RIPEM work with my mailer?',\n",
       " 'Probably.',\n",
       " 'How easy and clean the effective interface is will depend  on the sophistication and modularity of the mailer, though.',\n",
       " 'The users  guide, included with the distribution, discusses ways to use RIPEM  with many popular mailers, including Berkeley, mush, Elm, and MH.',\n",
       " 'Code is also included in elisp to allow easy use of RIPEM inside GNU  Emacs.',\n",
       " 'If you make a new interface for RIPEM or create an improvement on one  in the distribution which you believe is convenient to use, secure,  and may be useful to others, feel free to post it to alt.security.ripem.',\n",
       " 'What is RSA?',\n",
       " 'RSA is a crypto system which is asymmetric, or public key.',\n",
       " 'This means  that there are two different, related keys  one to encrypt and one to  decrypt.',\n",
       " 'Because one cannot  reasonably  be derived from the other,  you may publish your encryption, or public key widely and keep your  decryption, or private key to yourself.',\n",
       " 'Anyone can use your public  key to encrypt a message, but only you hold the private key needed to  decrypt it.',\n",
       " 'Note that the  message  sent with RSA is normally just  the DES key to the real message.',\n",
       " 'See  What is DES?',\n",
       " 'Note that the above only provides for privacy.',\n",
       " 'For authentication,  the fingerprint of the message  See  What is a fingerprint, like  MD ?',\n",
       " 'is encrypted with the senders private key.',\n",
       " 'The recipient can  use the senders public key to decrypt it and confirm that the message  must have come from the sender.',\n",
       " 'RSA was named for the three men  Rivest, Shamir and Adleman  who  invented it.',\n",
       " 'To find out more about RSA, ftp to rsa.com and look in  pub faq  or look in sci.crypt.',\n",
       " 'What is DES?',\n",
       " 'DES is the Data Encryption Standard, a widely used symmetric, or  secret key, crypto system.',\n",
       " 'Unlike RSA, DES uses the same key to  encrypt and decrypt messages.',\n",
       " 'However, DES is much faster than RSA.',\n",
       " 'RIPEM uses both DES and RSA  it generates a random key and encrypts  your mail with DES using that key.',\n",
       " 'It then encrypts that key with the  recipients public RSA key and includes the result in the letter,  allowing the recipient to recover the DES key.',\n",
       " 'DES is sometimes considered weak because it is somewhat old and uses a  key length considered too short by modern standards.',\n",
       " 'However, it  should be reasonably safe against an opponent smaller than a large  corporation or government agency.',\n",
       " 'It is not unlikely that future  RIPEMs will strengthen the symmetric cipher, possibly by using  multiple encryption with DES.',\n",
       " 'What is PEM, and how does RIPEM relate?',\n",
       " 'PEM is Privacy Enhanced Mail, a system for allowing easy transfer of  encrypted electronic mail.',\n",
       " 'It is described in RFCs            these  documents have been approved and obsolete the old RFCs          .',\n",
       " 'RIPEM is not really a complete implementation of PEM, because PEM  specifies certificates for authenticating keys, which RIPEM does not  handle at this time.',\n",
       " 'Their addition is planned.',\n",
       " 'Whats this about distributing and authenticating keys?',\n",
       " 'For a remote user to be able to send secure mail to you, she must know  your public key.',\n",
       " 'For you to be able to confirm that the message  received came from her, you must know her public key.',\n",
       " 'It is important  that this information be accurate  if a  bad guy  convinces her that  his key is in fact yours, she will send messages which he can read.',\n",
       " 'RIPEM allows for three methods of key management  a central server,  the distributed finger servers, and a flat file.',\n",
       " 'All three are  described in the RIPEM users guide which is part of the distribution.',\n",
       " 'None of them provide perfect security.',\n",
       " 'Why do all RIPEM public keys look very similar?',\n",
       " 'RIPEM public keys begin with a PKCS identifier describing various  characteristics about the key, so the first bunch of characters in  your key may be the same as those of lots of other peoples keys.',\n",
       " 'This does not mean your keys are similar, but only that they are the  same class of key, were generated with the same program, are of the  same length, etc.',\n",
       " 'What is a fingerprint, like MD ?',\n",
       " 'MD  is a message digest algorithm produced by RSA Data Security Inc.',\n",
       " 'It provides a     bit fingerprint, or cryptographically secure hash,  of the plaintext.',\n",
       " 'It is cryptographically secure because it is not  possible  in a reasonable amount of computation  to produce a  different plaintext which produces the same fingerprint.',\n",
       " 'Thus,  instead of signing the entire message with the senders private key,  only the MD  of the message needs to be signed for authentication.',\n",
       " 'MD  is sometimes used for other purposes  for example, it is often  used to map an input of arbitrary length to     bits of data, as a  passphrase interpreter or cookie generator.',\n",
       " 'MD  is described in its entirety  including an implementation in C  in  RFC     .',\n",
       " 'What is PGP?',\n",
       " 'PGP is another cryptographic mail program called Pretty Good Privacy.',\n",
       " 'PGP has been around longer than RIPEM, and works somewhat differently.',\n",
       " 'PGP is not compatible with RIPEM in any way, though PGP does also use RSA.',\n",
       " 'Some major differences between PGP and RIPEM      PGP has more key management features, particularly for users without    a direct network connection.',\n",
       " 'RIPEM conforms to the PEM RFCs and thus has a greater probability of    working with other PEM software.',\n",
       " 'PGP makes no attempt to be compatible    with anything other than PGP  in fact, PGP  .',\n",
       " 'is not compatible with    PGP  .',\n",
       " '.',\n",
       " 'RIPEM uses RSAREF, a library of RSA routines from RSA Data Security    Inc.  RSAREF comes with a license which allows noncommercial use.',\n",
       " 'PGP uses its own implementation of RSA which is not licensed  thus,    PKP, the firm holding the U.S. patents on the RSA algorithm, claims    that it is a infringement of that patent to make, use or sell PGP in    the U.S. or Canada.',\n",
       " 'In acknowledgement of this, PGPs original    author, Phil Zimmermann, says in the documentation       In fact, if you live in the USA, and you are not a Federal agency,      you shouldnt actually run PGP on your computer, because Public     Key Partners wants to forbid you from running my software.',\n",
       " 'PGP is     contraband.',\n",
       " 'Both PGP and RIPEM are export restricted, and cannot be sent outside    the U.S. and Canada.',\n",
       " 'However, PGP already exists on many ftp sites    in Europe and other places.',\n",
       " 'Whether you use PGP or RIPEM or whatever, the documentation to PGP is  recommended reading to anyone interested in such issues.',\n",
       " 'Note that the above facts, both regarding patent and export  restrictions, are somewhat controversial  many people think it  shouldnt be that way, and some people interpret various documents  differently.',\n",
       " 'Unfortunately, discussions of it on the net inevitably  seem to produce more heat than light, and probably belong in  misc.legal.computing.',\n",
       " 'See    DISCLAIMER         What about RPEM?',\n",
       " 'RPEM stands for Rabin Privacy Enhanced Mail.',\n",
       " 'It was similar to RIPEM,  but used a public key cipher invented by Rabin  which is not RSA  in  an attempt to avoid the patent on RSA.',\n",
       " 'It was written by Mark  Riordan, the same author as RIPEM.',\n",
       " 'Its distribution was halted when, contrary to the beliefs of many   including Rabin , Public Key Partners  PKP  claimed that their patent  was broad enough to cover any public key cipher whose strength rested  in the difficulty of factoring products of large primes, not just RSA.',\n",
       " 'This claim is not universally accepted by any means, but was not  challenged for pragmatic reasons.',\n",
       " 'RPEM is not really used anymore.',\n",
       " 'It is not compatible with RIPEM or PGP.',\n",
       " 'What is MIME?',\n",
       " 'MIME stands for Multipurpose Internet Mail Extensions, and is  described in RFC     .',\n",
       " 'You can find out about it in the newsgroup  comp.mail.mime.',\n",
       " 'How PEM should interact with MIME is not yet entirely  clear  some people use the stopgap solution of having a MIME type  application x ripem in order to send RIPEM messages as MIME ones.',\n",
       " 'I  hope some standards will emerge.',\n",
       " 'Draft Internet documents exist on  the matter.',\n",
       " 'I have this simple way to defeat the security of RIPEM...   You may wish to check the companion post  ripem attacks  which  discusses some of the more obvious attacks on RIPEMs security and  what procedures will minimize the risk.',\n",
       " 'RIPEMs main  weak area  is  probably key distribution.']"
      ]
     },
     "execution_count": 173,
     "metadata": {},
     "output_type": "execute_result"
    }
   ],
   "source": [
    "sentTokenizer(cleanFile(fname))"
   ]
  },
  {
   "cell_type": "markdown",
   "id": "9c835bc9-ad3e-441f-afdd-3a801951c55e",
   "metadata": {},
   "source": [
    "**document `15591.txt`**"
   ]
  },
  {
   "cell_type": "code",
   "execution_count": 174,
   "id": "331ad98a-1c8a-4677-ac72-280d93f9ab6e",
   "metadata": {},
   "outputs": [],
   "source": [
    "fname = './data/kaggle/Text_Classification_on_Documents/Science/15591.txt'"
   ]
  },
  {
   "cell_type": "code",
   "execution_count": 175,
   "id": "3709a272-b851-4f22-8074-109c8bce9f9c",
   "metadata": {},
   "outputs": [
    {
     "name": "stdout",
     "output_type": "stream",
     "text": [
      "\n",
      "gtoal@gtoal.com (Graham Toal) writes:\n",
      ">\n",
      ">In the UK, it's impossible to get approval to attach any crypto device\n",
      ">to the phone network.  (Anything that plugs in to our BT phone sockets\n",
      ">must be approved - for some reason crypto devices just never are...)\n",
      ">\n",
      "\n",
      "Whats the difference between a V.32bis modem and a V.32bis modem?\n",
      "\n",
      "I'm not being entirely silly here: what I'm pointing out is that the\n",
      "modems that they have already approved for data transmission will work\n",
      "just fine to transmit scrambled vocoded voice.\n",
      "\n",
      "Absolutely.  I just meant that no secure *dedicated* crypto device has\n",
      "ever been given approval.  Guerrilla underground devices should be well\n",
      "possible with today's high-speed modems (not that I can think of many v32bis\n",
      "modems that are approved either mind you - just the overpriced Couriers)\n",
      "\n",
      "Can someone tell me if hardware compression is or is not needed to run\n",
      "digital speech down 14.4K?  I think it is; I've heard it's not.  Lets\n",
      "say 8 bit samples.  Would *raw* data at the corresponding sampling rate\n",
      "be usable?  If not, how fancy does the compression need to be?\n",
      "\n",
      "G\n"
     ]
    }
   ],
   "source": [
    "# raw document\n",
    "fhand = open(fname)\n",
    "for line in fhand:\n",
    "    print(line.strip())"
   ]
  },
  {
   "cell_type": "code",
   "execution_count": 177,
   "id": "937b2c45-10ec-47c5-98e4-00786ce96f0f",
   "metadata": {},
   "outputs": [
    {
     "data": {
      "text/plain": [
       "['In the UK, its impossible to get approval to attach any crypto device   to the phone network.',\n",
       " 'Anything that plugs in to our BT phone sockets   must be approved   for some reason crypto devices just never are...       Whats the difference between a V.  bis modem and a V.  bis modem?',\n",
       " 'Im not being entirely silly here  what Im pointing out is that the  modems that they have already approved for data transmission will work  just fine to transmit scrambled vocoded voice.',\n",
       " 'Absolutely.',\n",
       " 'I just meant that no secure  dedicated  crypto device has ever been given approval.',\n",
       " 'Guerrilla underground devices should be well possible with todays high speed modems  not that I can think of many v  bis modems that are approved either mind you   just the overpriced Couriers   Can someone tell me if hardware compression is or is not needed to run digital speech down   .',\n",
       " 'K?',\n",
       " 'I think it is  Ive heard its not.',\n",
       " 'Lets say   bit samples.',\n",
       " 'Would  raw  data at the corresponding sampling rate be usable?',\n",
       " 'If not, how fancy does the compression need to be?',\n",
       " 'G']"
      ]
     },
     "execution_count": 177,
     "metadata": {},
     "output_type": "execute_result"
    }
   ],
   "source": [
    "sentTokenizer(cleanFile(fname))"
   ]
  },
  {
   "cell_type": "markdown",
   "id": "44e21979-f608-4f0f-bd0e-59086233a39d",
   "metadata": {},
   "source": [
    "**document `54205.txt`**"
   ]
  },
  {
   "cell_type": "code",
   "execution_count": 178,
   "id": "17b0af62-a373-4fe6-82a9-0f28dab4bfec",
   "metadata": {},
   "outputs": [],
   "source": [
    "fname = './data/kaggle/Text_Classification_on_Documents/Science/54205.txt'"
   ]
  },
  {
   "cell_type": "code",
   "execution_count": 179,
   "id": "6aa7494c-6e78-4cb8-8f8f-4afd64ae10cb",
   "metadata": {},
   "outputs": [
    {
     "name": "stdout",
     "output_type": "stream",
     "text": [
      "\n",
      "Having vainly looked for devices capable of dealing to the NEC 77P20\n",
      "DSP chip which dont require taking out a mortgage, i decided to roll\n",
      "my own. Not a difficult task for an 8751, given that all the timing\n",
      "relationships are set out in the databook. One thing bothers me, that\n",
      "is the accursed 50ms 21 volt Vpp pulse. Sure, a little buck step-up\n",
      "converter can achieve this (in what is otherwise an all 5 volt widget)\n",
      "but i know latterday eproms dont need nearly this pulse length.\n",
      "Q : has anyone come up with a more efficient programming algorithm\n",
      "which is failsafe ?\n",
      "cheers\n",
      "Mike.\n"
     ]
    }
   ],
   "source": [
    "# raw document\n",
    "fhand = open(fname)\n",
    "for line in fhand:\n",
    "    print(line.strip())"
   ]
  },
  {
   "cell_type": "code",
   "execution_count": 180,
   "id": "8b053024-4f1a-4e5b-8abd-cefb87f2320a",
   "metadata": {},
   "outputs": [
    {
     "data": {
      "text/plain": [
       "' Having vainly looked for devices capable of dealing to the NEC   P   DSP chip which dont require taking out a mortgage, i decided to roll my own. Not a difficult task for an     , given that all the timing relationships are set out in the databook. One thing bothers me, that is the accursed   ms    volt Vpp pulse. Sure, a little buck step up converter can achieve this  in what is otherwise an all   volt widget  but i know latterday eproms dont need nearly this pulse length. Q   has anyone come up with a more efficient programming algorithm which is failsafe ? cheers Mike. '"
      ]
     },
     "execution_count": 180,
     "metadata": {},
     "output_type": "execute_result"
    }
   ],
   "source": [
    "cleanFile(fname)"
   ]
  },
  {
   "cell_type": "code",
   "execution_count": 181,
   "id": "a084ba60-a5cb-43ca-8f47-6801e8e7cee0",
   "metadata": {},
   "outputs": [
    {
     "data": {
      "text/plain": [
       "['Having vainly looked for devices capable of dealing to the NEC   P   DSP chip which dont require taking out a mortgage, i decided to roll my own.',\n",
       " 'Not a difficult task for an     , given that all the timing relationships are set out in the databook.',\n",
       " 'One thing bothers me, that is the accursed   ms    volt Vpp pulse.',\n",
       " 'Sure, a little buck step up converter can achieve this  in what is otherwise an all   volt widget  but i know latterday eproms dont need nearly this pulse length.',\n",
       " 'Q   has anyone come up with a more efficient programming algorithm which is failsafe ?',\n",
       " 'cheers Mike.']"
      ]
     },
     "execution_count": 181,
     "metadata": {},
     "output_type": "execute_result"
    }
   ],
   "source": [
    "sentTokenizer(cleanFile(fname))"
   ]
  },
  {
   "cell_type": "markdown",
   "id": "627c6717-02d2-4d7b-bc19-c20dbd115944",
   "metadata": {},
   "source": [
    "**document `58810.txt`**"
   ]
  },
  {
   "cell_type": "code",
   "execution_count": 182,
   "id": "e1e736db-a228-4b97-98c7-20b530a36600",
   "metadata": {},
   "outputs": [],
   "source": [
    "fname = './data/kaggle/Text_Classification_on_Documents/Science/58810.txt'"
   ]
  },
  {
   "cell_type": "code",
   "execution_count": 183,
   "id": "de700714-8728-4d0a-a8bb-09090d721dab",
   "metadata": {},
   "outputs": [
    {
     "name": "stdout",
     "output_type": "stream",
     "text": [
      "Distribution: world\n",
      "Message-ID: <1qlgdrINN79b@gap.caltech.edu>\n",
      "References: <13APR199308003715@delphi.gsfc.nasa.gov>  <1993Apr15.190711.22190@walter.bellcore.com>,<1993Apr15.173902.66278@cc.usu.edu>\n",
      "Reply-To: carl@SOL1.GPS.CALTECH.EDU\n",
      "NNTP-Posting-Host: sol1.gps.caltech.edu\n",
      "\n",
      "In article <1993Apr15.173902.66278@cc.usu.edu>, slyx0@cc.usu.edu writes:\n",
      "=Surprise surprise, different people react differently to different things. One\n",
      "=slightly off the subject case in point. My brother got stung by a bee. I know\n",
      "=he is allergic to bee stings, but that his reaction is severe localized\n",
      "=swelling, not anaphylactic shock. I could not convince the doctors of that,\n",
      "=however, because that's not written in their little rule book.\n",
      "\n",
      "Of course, bee venom isn't a single chemical.  Could be your brother is\n",
      "reacting to a different component than the one that causes anaphylactic shock\n",
      "in other people.\n",
      "\n",
      "Similarly, Chinese food isn't just MSG.  There are a lot of other ingredients\n",
      "in it.  Why, when someone eats something with lots of ingredients they don't\n",
      "normally consume, one of which happens to be MSG, do they immediately conclude\n",
      "that any negative reaction is to the MSG?\n",
      "\n",
      "=I would not be surprised in the least to find out the SOME people have bad\n",
      "=reactions to MSG, including headaches, stomachaches and even vomiting.\n",
      "\n",
      "I'd be surprised if some of these reactions weren't due to other ingredients.\n",
      "--------------------------------------------------------------------------------\n",
      "Carl J Lydick | INTERnet: CARL@SOL1.GPS.CALTECH.EDU | NSI/HEPnet: SOL1::CARL\n",
      "\n",
      "Disclaimer:  Hey, I understand VAXen and VMS.  That's what I get paid for.  My\n",
      "understanding of astronomy is purely at the amateur level (or below).  So\n",
      "unless what I'm saying is directly related to VAX/VMS, don't hold me or my\n",
      "organization responsible for it.  If it IS related to VAX/VMS, you can try to\n",
      "hold me responsible for it, but my organization had nothing to do with it.\n"
     ]
    }
   ],
   "source": [
    "# raw document\n",
    "fhand = open(fname)\n",
    "for line in fhand:\n",
    "    print(line.strip())"
   ]
  },
  {
   "cell_type": "code",
   "execution_count": 184,
   "id": "d09ea153-4042-43ab-a69c-e57a755315ff",
   "metadata": {},
   "outputs": [
    {
     "data": {
      "text/plain": [
       "'Distribution  world   Surprise surprise, different people react differently to different things. One  slightly off the subject case in point. My brother got stung by a bee. I know  he is allergic to bee stings, but that his reaction is severe localized  swelling, not anaphylactic shock. I could not convince the doctors of that,  however, because thats not written in their little rule book.  Of course, bee venom isnt a single chemical.  Could be your brother is reacting to a different component than the one that causes anaphylactic shock in other people.  Similarly, Chinese food isnt just MSG.  There are a lot of other ingredients in it.  Why, when someone eats something with lots of ingredients they dont normally consume, one of which happens to be MSG, do they immediately conclude that any negative reaction is to the MSG?   I would not be surprised in the least to find out the SOME people have bad  reactions to MSG, including headaches, stomachaches and even vomiting.  Id be surprised if some of these reactions werent due to other ingredients.                                                                                   understanding of astronomy is purely at the amateur level  or below .  So hold me responsible for it, but my organization had nothing to do with it. '"
      ]
     },
     "execution_count": 184,
     "metadata": {},
     "output_type": "execute_result"
    }
   ],
   "source": [
    "cleanFile(fname)"
   ]
  },
  {
   "cell_type": "code",
   "execution_count": 185,
   "id": "3fc1a9d1-75e2-4c6e-9bc4-2209aeaf0885",
   "metadata": {},
   "outputs": [],
   "source": [
    "def cleanFile(fname: str) -> str:\n",
    "    # tname = input('Enter the text file name: ')\n",
    "    clean_file_text = ''\n",
    "    fhand = open(fname)\n",
    "    for line in fhand:\n",
    "        new_line = ''\n",
    "        if line.find('@') != -1: continue \n",
    "        elif line.find('Host') != -1: continue \n",
    "        elif line.find('User') != -1: continue\n",
    "        elif line.find('VAX') != -1: continue\n",
    "        elif line.find('USPS Mail:') != -1: continue \n",
    "        elif line.find('UUCP:') != -1: continue\n",
    "        elif line.find('P.O. Box') != -1: continue\n",
    "        # Added from Science documents\n",
    "        elif line.find('Archive-name') != -1: continue\n",
    "        elif line.find('Last-update') != -1: continue\n",
    "        elif line.find('Distribution:') != -1: continue\n",
    "        else: \n",
    "            new_line = line.replace('[IC]', '').replace('/n', ' ').replace('e.g.', ' ')\n",
    "            # '>', '').replace(\n",
    "            # '+', '').replace(\n",
    "            # '-', '').replace(\n",
    "            # '#', '').replace(\n",
    "            # '*', '').replace(\n",
    "            # '^', '').replace(\n",
    "            # '|', '').replace(\n",
    "            # '/', ' ').replace(\n",
    "            # '_', ' ').replace(\n",
    "            \n",
    "\n",
    "        clean_line = str()\n",
    "        for char in new_line:\n",
    "            if char in ['.', '!', '?', ',']:\n",
    "                clean_line += char\n",
    "            elif char == \"'\":\n",
    "                clean_line += ''\n",
    "            elif char.isalpha():\n",
    "                clean_line += char\n",
    "            else:\n",
    "                clean_line += ' '\n",
    "        clean_file_text += clean_line\n",
    "        \n",
    "    return clean_file_text\n"
   ]
  },
  {
   "cell_type": "code",
   "execution_count": 186,
   "id": "27732975-d911-452a-a906-f0157108ef24",
   "metadata": {},
   "outputs": [
    {
     "data": {
      "text/plain": [
       "'  Surprise surprise, different people react differently to different things. One  slightly off the subject case in point. My brother got stung by a bee. I know  he is allergic to bee stings, but that his reaction is severe localized  swelling, not anaphylactic shock. I could not convince the doctors of that,  however, because thats not written in their little rule book.  Of course, bee venom isnt a single chemical.  Could be your brother is reacting to a different component than the one that causes anaphylactic shock in other people.  Similarly, Chinese food isnt just MSG.  There are a lot of other ingredients in it.  Why, when someone eats something with lots of ingredients they dont normally consume, one of which happens to be MSG, do they immediately conclude that any negative reaction is to the MSG?   I would not be surprised in the least to find out the SOME people have bad  reactions to MSG, including headaches, stomachaches and even vomiting.  Id be surprised if some of these reactions werent due to other ingredients.                                                                                   understanding of astronomy is purely at the amateur level  or below .  So hold me responsible for it, but my organization had nothing to do with it. '"
      ]
     },
     "execution_count": 186,
     "metadata": {},
     "output_type": "execute_result"
    }
   ],
   "source": [
    "cleanFile(fname)"
   ]
  },
  {
   "cell_type": "code",
   "execution_count": 187,
   "id": "6602ce7e-be9d-43ff-9234-87902c660cf2",
   "metadata": {},
   "outputs": [
    {
     "data": {
      "text/plain": [
       "['Surprise surprise, different people react differently to different things.',\n",
       " 'One  slightly off the subject case in point.',\n",
       " 'My brother got stung by a bee.',\n",
       " 'I know  he is allergic to bee stings, but that his reaction is severe localized  swelling, not anaphylactic shock.',\n",
       " 'I could not convince the doctors of that,  however, because thats not written in their little rule book.',\n",
       " 'Of course, bee venom isnt a single chemical.',\n",
       " 'Could be your brother is reacting to a different component than the one that causes anaphylactic shock in other people.',\n",
       " 'Similarly, Chinese food isnt just MSG.',\n",
       " 'There are a lot of other ingredients in it.',\n",
       " 'Why, when someone eats something with lots of ingredients they dont normally consume, one of which happens to be MSG, do they immediately conclude that any negative reaction is to the MSG?',\n",
       " 'I would not be surprised in the least to find out the SOME people have bad  reactions to MSG, including headaches, stomachaches and even vomiting.',\n",
       " 'Id be surprised if some of these reactions werent due to other ingredients.',\n",
       " 'understanding of astronomy is purely at the amateur level  or below .',\n",
       " 'So hold me responsible for it, but my organization had nothing to do with it.']"
      ]
     },
     "execution_count": 187,
     "metadata": {},
     "output_type": "execute_result"
    }
   ],
   "source": [
    "sentTokenizer(cleanFile(fname))"
   ]
  },
  {
   "cell_type": "markdown",
   "id": "43a11303-830f-44ac-9115-6fedaf2eaffd",
   "metadata": {},
   "source": [
    "**document `62448.txt`**"
   ]
  },
  {
   "cell_type": "code",
   "execution_count": 188,
   "id": "d0127b96-e2dc-4a09-ab90-ed13b5b120f6",
   "metadata": {},
   "outputs": [],
   "source": [
    "fname = './data/kaggle/Text_Classification_on_Documents/Science/62448.txt'"
   ]
  },
  {
   "cell_type": "code",
   "execution_count": 189,
   "id": "39b8b570-f49e-407b-a6d6-2bc96e533f8d",
   "metadata": {},
   "outputs": [
    {
     "name": "stdout",
     "output_type": "stream",
     "text": [
      "\n",
      "stange@meena.cc.uregina.ca writes:\n",
      "\n",
      ">Phil, your point is well taken.  It is still a sad idea.\n",
      "\n",
      "I'm worried by the concern about it though, for a number of reasons\n",
      "that have nothing to do with Space Advertising (which for a number of\n",
      "reasons is probably doomed to fail on financial grounds).\n",
      "\n",
      "(And I've been reading and (and writing) this thread since way\n",
      "back when it was only on sci.space).\n",
      "\n",
      "For starters, I don't think the piece of light-pollution apparatus\n",
      "would be as bright as the full moon. _That_ seems to me to be a bit\n",
      "of propaganda on the part of opponents, or wishful thinking on the\n",
      "part of proponents.\n",
      "\n",
      "Second, this charge of ruining the night sky permanently has been\n",
      "levelled against other projects, that either 1) don't increace light\n",
      "pollution significantly, or 2) increace light pollution only over the\n",
      "target area.\n",
      "\n",
      "You may or may not recognize #1 as being Solar Power Sattelites.\n",
      "I think it was Josh Hopkins who actually did the math, showing that\n",
      "SPS's weren't that bright after all, ending some two months of frenzied\n",
      "opposition on the part of dark-sky activists and various other types.\n",
      "\n",
      "#2 is mainly projects like the orbiting mirror the CIS tested\n",
      "recently.  While slightly more worrisome, I'd like to point out that\n",
      "any significant scattering of light outside the target area for one of\n",
      "these mirrors would be wasted as far as the project would be\n",
      "concerned, and something any project like that would work against\n",
      "anyway. And given some of the likely targets, I don't think there's\n",
      "going to be much of an outcry from the inhabitants. There is too much\n",
      "dark sky in the northern CIS during the winter, and I doubt you'll find\n",
      "many activists in Murmansk demanding the \"natural\" sky back. If anything,\n",
      "he'll probably be inside, stripped buck naked in front of the UV lamp,\n",
      "making sure he'll get enough vitamin D for the \"day.\"\n",
      "\n",
      "The mirror experiments aren't something they're doing for crass\n",
      "advertising. They think that if they can build one, it'll be one of\n",
      "those things people in the affected areas will think they couldn't\n",
      "have lived without before. And I doubt anyone's going to really be\n",
      "able to convince them to stop.\n",
      "\n",
      "\n",
      "--\n",
      "Phil Fraering         |\"Number one good faith! You convert,\n",
      "pgf@srl02.cacs.usl.edu|you not tortured by demons!\" - anon. Mahen missionary\n",
      "\n",
      "\n"
     ]
    }
   ],
   "source": [
    "# raw document\n",
    "fhand = open(fname)\n",
    "for line in fhand:\n",
    "    print(line.strip())"
   ]
  },
  {
   "cell_type": "code",
   "execution_count": 190,
   "id": "e393e7d2-9040-4547-93d8-f5d65a05f8e4",
   "metadata": {},
   "outputs": [
    {
     "data": {
      "text/plain": [
       "'   Phil, your point is well taken.  It is still a sad idea.  Im worried by the concern about it though, for a number of reasons that have nothing to do with Space Advertising  which for a number of reasons is probably doomed to fail on financial grounds .   And Ive been reading and  and writing  this thread since way back when it was only on sci.space .  For starters, I dont think the piece of light pollution apparatus would be as bright as the full moon.  That  seems to me to be a bit of propaganda on the part of opponents, or wishful thinking on the part of proponents.  Second, this charge of ruining the night sky permanently has been levelled against other projects, that either    dont increace light pollution significantly, or    increace light pollution only over the target area.  You may or may not recognize    as being Solar Power Sattelites. I think it was Josh Hopkins who actually did the math, showing that SPSs werent that bright after all, ending some two months of frenzied opposition on the part of dark sky activists and various other types.     is mainly projects like the orbiting mirror the CIS tested recently.  While slightly more worrisome, Id like to point out that any significant scattering of light outside the target area for one of these mirrors would be wasted as far as the project would be concerned, and something any project like that would work against anyway. And given some of the likely targets, I dont think theres going to be much of an outcry from the inhabitants. There is too much dark sky in the northern CIS during the winter, and I doubt youll find many activists in Murmansk demanding the  natural  sky back. If anything, hell probably be inside, stripped buck naked in front of the UV lamp, making sure hell get enough vitamin D for the  day.   The mirror experiments arent something theyre doing for crass advertising. They think that if they can build one, itll be one of those things people in the affected areas will think they couldnt have lived without before. And I doubt anyones going to really be able to convince them to stop.      Phil Fraering           Number one good faith! You convert,   '"
      ]
     },
     "execution_count": 190,
     "metadata": {},
     "output_type": "execute_result"
    }
   ],
   "source": [
    "cleanFile(fname)"
   ]
  },
  {
   "cell_type": "code",
   "execution_count": 191,
   "id": "0971a3f5-bbbf-4970-9996-084d8e0161b7",
   "metadata": {},
   "outputs": [
    {
     "data": {
      "text/plain": [
       "['Phil, your point is well taken.',\n",
       " 'It is still a sad idea.',\n",
       " 'Im worried by the concern about it though, for a number of reasons that have nothing to do with Space Advertising  which for a number of reasons is probably doomed to fail on financial grounds .',\n",
       " 'And Ive been reading and  and writing  this thread since way back when it was only on sci.space .',\n",
       " 'For starters, I dont think the piece of light pollution apparatus would be as bright as the full moon.',\n",
       " 'That  seems to me to be a bit of propaganda on the part of opponents, or wishful thinking on the part of proponents.',\n",
       " 'Second, this charge of ruining the night sky permanently has been levelled against other projects, that either    dont increace light pollution significantly, or    increace light pollution only over the target area.',\n",
       " 'You may or may not recognize    as being Solar Power Sattelites.',\n",
       " 'I think it was Josh Hopkins who actually did the math, showing that SPSs werent that bright after all, ending some two months of frenzied opposition on the part of dark sky activists and various other types.',\n",
       " 'is mainly projects like the orbiting mirror the CIS tested recently.',\n",
       " 'While slightly more worrisome, Id like to point out that any significant scattering of light outside the target area for one of these mirrors would be wasted as far as the project would be concerned, and something any project like that would work against anyway.',\n",
       " 'And given some of the likely targets, I dont think theres going to be much of an outcry from the inhabitants.',\n",
       " 'There is too much dark sky in the northern CIS during the winter, and I doubt youll find many activists in Murmansk demanding the  natural  sky back.',\n",
       " 'If anything, hell probably be inside, stripped buck naked in front of the UV lamp, making sure hell get enough vitamin D for the  day.',\n",
       " 'The mirror experiments arent something theyre doing for crass advertising.',\n",
       " 'They think that if they can build one, itll be one of those things people in the affected areas will think they couldnt have lived without before.',\n",
       " 'And I doubt anyones going to really be able to convince them to stop.',\n",
       " 'Phil Fraering           Number one good faith!',\n",
       " 'You convert,']"
      ]
     },
     "execution_count": 191,
     "metadata": {},
     "output_type": "execute_result"
    }
   ],
   "source": [
    "sentTokenizer(cleanFile(fname))"
   ]
  },
  {
   "cell_type": "markdown",
   "id": "6d5b8d2d-ed49-4505-b5f6-47819ccaada2",
   "metadata": {},
   "source": [
    "**document `61211.txt`**"
   ]
  },
  {
   "cell_type": "code",
   "execution_count": 192,
   "id": "6c985482-7d60-48ab-a6d5-bd3afca95ed9",
   "metadata": {},
   "outputs": [],
   "source": [
    "fname = './data/kaggle/Text_Classification_on_Documents/Science/61211.txt'"
   ]
  },
  {
   "cell_type": "code",
   "execution_count": 193,
   "id": "52ea0654-a0d0-406a-9a16-9aabe853b4a8",
   "metadata": {},
   "outputs": [
    {
     "name": "stdout",
     "output_type": "stream",
     "text": [
      "Nntp-Posting-Host: acad3.alaska.edu\n",
      "\n",
      "That is an idea.. The most efficient moon habitat..\n",
      "\n",
      "also the idea of how to get the people off the moon once the prize was won..\n",
      "\n",
      "Also the idea of how to rescue someone who is \"dying\" on the moon.\n",
      "\n",
      "Maybe have a area where they can all \"see\" each other, and can help each other\n",
      "if something happens..\n",
      "\n",
      "I liek the idea of one prize for the first moon landing and return, by a\n",
      "non-governmental body..\n",
      "\n",
      "Also the idea of then having a moon habitat race..\n",
      "\n",
      "I know we need to do somthing to get people involved..\n",
      "\n",
      "Eccentric millionaire/billionaire would be nice.. We see how old Ross feels\n",
      "about it.. After all it would be a great promotional thing and a way to show he\n",
      "does care about commericalization and the people.. Will try to broach the\n",
      "subject to him..\n",
      "\n",
      "Moonbase on the cheap is a good idea.. NASA and friends seem to take to much\n",
      "time and give us to expensive stuff that of late does not work (hubble and\n",
      "such). Basically what is the difference between a $1mil peice of junk and a\n",
      "multi $1mil piece of junk.. I know junk..\n",
      "\n",
      "==\n",
      "Michael Adams, nsmca@acad3.alaska.edu -- I'm not high, just jacked\n"
     ]
    }
   ],
   "source": [
    "# raw document\n",
    "fhand = open(fname)\n",
    "for line in fhand:\n",
    "    print(line.strip())"
   ]
  },
  {
   "cell_type": "code",
   "execution_count": 194,
   "id": "6cf94e1e-68ea-4d52-bdc8-ac1140df5f3d",
   "metadata": {},
   "outputs": [
    {
     "data": {
      "text/plain": [
       "' That is an idea.. The most efficient moon habitat..   also the idea of how to get the people off the moon once the prize was won..  Also the idea of how to rescue someone who is  dying  on the moon.  Maybe have a area where they can all  see  each other, and can help each other if something happens..   I liek the idea of one prize for the first moon landing and return, by a non governmental body..  Also the idea of then having a moon habitat race..   I know we need to do somthing to get people involved..  Eccentric millionaire billionaire would be nice.. We see how old Ross feels about it.. After all it would be a great promotional thing and a way to show he does care about commericalization and the people.. Will try to broach the subject to him..   Moonbase on the cheap is a good idea.. NASA and friends seem to take to much time and give us to expensive stuff that of late does not work  hubble and such . Basically what is the difference between a   mil peice of junk and a multi   mil piece of junk.. I know junk..     '"
      ]
     },
     "execution_count": 194,
     "metadata": {},
     "output_type": "execute_result"
    }
   ],
   "source": [
    "cleanFile(fname)"
   ]
  },
  {
   "cell_type": "code",
   "execution_count": 195,
   "id": "6297dd18-3598-4ec8-80f8-a7f2644c5503",
   "metadata": {},
   "outputs": [
    {
     "data": {
      "text/plain": [
       "['That is an idea..',\n",
       " 'The most efficient moon habitat..   also the idea of how to get the people off the moon once the prize was won..  Also the idea of how to rescue someone who is  dying  on the moon.',\n",
       " 'Maybe have a area where they can all  see  each other, and can help each other if something happens..',\n",
       " 'I liek the idea of one prize for the first moon landing and return, by a non governmental body..  Also the idea of then having a moon habitat race..',\n",
       " 'I know we need to do somthing to get people involved..  Eccentric millionaire billionaire would be nice.. We see how old Ross feels about it.. After all it would be a great promotional thing and a way to show he does care about commericalization and the people.. Will try to broach the subject to him..   Moonbase on the cheap is a good idea.. NASA and friends seem to take to much time and give us to expensive stuff that of late does not work  hubble and such .',\n",
       " 'Basically what is the difference between a   mil peice of junk and a multi   mil piece of junk..',\n",
       " 'I know junk..']"
      ]
     },
     "execution_count": 195,
     "metadata": {},
     "output_type": "execute_result"
    }
   ],
   "source": [
    "sentTokenizer(cleanFile(fname))"
   ]
  },
  {
   "cell_type": "markdown",
   "id": "f8ca013b-0549-4105-b3b3-aa5606fa320e",
   "metadata": {},
   "source": [
    "**document `15740.txt`**"
   ]
  },
  {
   "cell_type": "code",
   "execution_count": 196,
   "id": "3ba87c21-0082-4d2c-a311-15d0363a535e",
   "metadata": {},
   "outputs": [],
   "source": [
    "fname = './data/kaggle/Text_Classification_on_Documents/Science/15740.txt'"
   ]
  },
  {
   "cell_type": "code",
   "execution_count": 197,
   "id": "569d214d-f3a8-4100-ab95-2825e000736c",
   "metadata": {},
   "outputs": [
    {
     "name": "stdout",
     "output_type": "stream",
     "text": [
      "Originator: mckee@oschuba.cs.buffalo.edu\n",
      "Nntp-Posting-Host: oschuba.cs.buffalo.edu\n",
      "\n",
      "\n",
      "In article <1993Apr22.014646.28445@ucsu.Colorado.EDU>, andersom@spot.Colorado.EDU (Marc Anderson) writes:\n",
      "|> In article <1993Apr21.001707.9999@ucsu.Colorado.EDU> andersom@spot.Colorado.EDU (Marc Anderson) writes:\n",
      "|> [...]\n",
      "|> >\n",
      "|> >(the date I have for this is 1-26-93)\n",
      "|> >\n",
      "|> >note Clinton's statements about encryption in the 3rd paragraph..  I guess\n",
      "|> >this statement doesen't contradict what you said, though.\n",
      "|> >\n",
      "|> >--- cut here ---\n",
      "|> >\n",
      "|> >        WASHINGTON (UPI) -- The War on Drugs is about to get a fresh\n",
      "|> >start, President Clinton told delegates to the National Federation\n",
      "|> >of Police Commisioners convention in Washington.\n",
      "|> >        In the first speech on the drug issue since his innaugural,\n",
      "|> >Clinton said that his planned escalation of the Drug War ``would make\n",
      "|> >everything so far seem so half-hearted that for all practical\n",
      "|> [...]\n",
      "|>\n",
      "|> I just found out from my source that this article was a joke.  Heh heh..\n",
      "|> It seemed pretty damn convincing to me from the start -- I just didn't\n",
      "|> notice the smiley at the end of the article, and there were a few other\n",
      "|> hints which I should of caught.\n",
      "\n",
      "Well, isn't this just a hoot! :)  All I read on this group is a bunch\n",
      "of ppl fearing the misuses of information by the big bad evil govt.\n",
      "This just happens to be a case of an ordinary-joe-netter, who decided\n",
      "that he would create and/or distribute some misinformation.  Ppl buy\n",
      "into BS posts like this (I know, because I forwarded a copy of the\n",
      "post to my office mate, who turned around and was (although he won't\n",
      "admit it...sorry Joe!) ready to get in a fight about F-O-R-F-E-I-T-U-R-E!!!)\n",
      "Please, if we're going to hold our govt (which admittedly has had and\n",
      "still has its problems) to high standards, then mustn't we follow these\n",
      "too?  Electronic Freedoms only go so far.\n",
      "\n",
      "\n",
      "|> Anyway -- I guess this 'joke' did turn out to resemble Clinton's true\n",
      "|> feelings at least to some extent.\n",
      "|>\n",
      "|> Sorry about that...\n",
      "|>\n",
      "|> -marc\n",
      "|> andersom@spot.colorado.edu\n",
      "\n",
      "Hey, I'm willing to forgive...after of course my office mate takes his\n",
      "extra anti-paranoia pills! :)\n",
      "\n",
      "Doug McKee\n",
      "mckee@cs.buffalo.edu\n"
     ]
    }
   ],
   "source": [
    "# raw document\n",
    "fhand = open(fname)\n",
    "for line in fhand:\n",
    "    print(line.strip())"
   ]
  },
  {
   "cell_type": "code",
   "execution_count": 198,
   "id": "98742adf-a0f4-4367-8aae-43fb0c7d8f01",
   "metadata": {},
   "outputs": [
    {
     "data": {
      "text/plain": [
       "'      ...            the date I have for this is                   note Clintons statements about encryption in the  rd paragraph..  I guess     this statement doesent contradict what you said, though.              cut here                      WASHINGTON  UPI     The War on Drugs is about to get a fresh     start, President Clinton told delegates to the National Federation     of Police Commisioners convention in Washington.             In the first speech on the drug issue since his innaugural,     Clinton said that his planned escalation of the Drug War   would make     everything so far seem so half hearted that for all practical     ...         I just found out from my source that this article was a joke.  Heh heh..      It seemed pretty damn convincing to me from the start    I just didnt    notice the smiley at the end of the article, and there were a few other    hints which I should of caught.  Well, isnt this just a hoot!     All I read on this group is a bunch of ppl fearing the misuses of information by the big bad evil govt. This just happens to be a case of an ordinary joe netter, who decided that he would create and or distribute some misinformation.  Ppl buy into BS posts like this  I know, because I forwarded a copy of the post to my office mate, who turned around and was  although he wont admit it...sorry Joe!  ready to get in a fight about F O R F E I T U R E!!!  Please, if were going to hold our govt  which admittedly has had and still has its problems  to high standards, then mustnt we follow these too?  Electronic Freedoms only go so far.       Anyway    I guess this joke did turn out to resemble Clintons true     feelings at least to some extent.          Sorry about that...         marc  Hey, Im willing to forgive...after of course my office mate takes his extra anti paranoia pills!     Doug McKee '"
      ]
     },
     "execution_count": 198,
     "metadata": {},
     "output_type": "execute_result"
    }
   ],
   "source": [
    "cleanFile(fname)"
   ]
  },
  {
   "cell_type": "code",
   "execution_count": 199,
   "id": "3a132e24-9781-4ae0-a812-94ff4e270b16",
   "metadata": {},
   "outputs": [
    {
     "data": {
      "text/plain": [
       "['...            the date I have for this is                   note Clintons statements about encryption in the  rd paragraph..',\n",
       " 'I guess     this statement doesent contradict what you said, though.',\n",
       " 'cut here                      WASHINGTON  UPI     The War on Drugs is about to get a fresh     start, President Clinton told delegates to the National Federation     of Police Commisioners convention in Washington.',\n",
       " 'In the first speech on the drug issue since his innaugural,     Clinton said that his planned escalation of the Drug War   would make     everything so far seem so half hearted that for all practical     ...',\n",
       " 'I just found out from my source that this article was a joke.',\n",
       " 'Heh heh..',\n",
       " 'It seemed pretty damn convincing to me from the start    I just didnt    notice the smiley at the end of the article, and there were a few other    hints which I should of caught.',\n",
       " 'Well, isnt this just a hoot!',\n",
       " 'All I read on this group is a bunch of ppl fearing the misuses of information by the big bad evil govt.',\n",
       " 'This just happens to be a case of an ordinary joe netter, who decided that he would create and or distribute some misinformation.',\n",
       " 'Ppl buy into BS posts like this  I know, because I forwarded a copy of the post to my office mate, who turned around and was  although he wont admit it...sorry Joe!',\n",
       " 'ready to get in a fight about F O R F E I T U R E!!!',\n",
       " 'Please, if were going to hold our govt  which admittedly has had and still has its problems  to high standards, then mustnt we follow these too?',\n",
       " 'Electronic Freedoms only go so far.',\n",
       " 'Anyway    I guess this joke did turn out to resemble Clintons true     feelings at least to some extent.',\n",
       " 'Sorry about that...         marc  Hey, Im willing to forgive...after of course my office mate takes his extra anti paranoia pills!',\n",
       " 'Doug McKee']"
      ]
     },
     "execution_count": 199,
     "metadata": {},
     "output_type": "execute_result"
    }
   ],
   "source": [
    "sentTokenizer(cleanFile(fname))"
   ]
  },
  {
   "cell_type": "code",
   "execution_count": null,
   "id": "7112670b-1dca-43f8-b4e7-a34afe0f0440",
   "metadata": {},
   "outputs": [],
   "source": []
  }
 ],
 "metadata": {
  "kernelspec": {
   "display_name": "Python 3 (ipykernel)",
   "language": "python",
   "name": "python3"
  },
  "language_info": {
   "codemirror_mode": {
    "name": "ipython",
    "version": 3
   },
   "file_extension": ".py",
   "mimetype": "text/x-python",
   "name": "python",
   "nbconvert_exporter": "python",
   "pygments_lexer": "ipython3",
   "version": "3.13.0"
  }
 },
 "nbformat": 4,
 "nbformat_minor": 5
}
