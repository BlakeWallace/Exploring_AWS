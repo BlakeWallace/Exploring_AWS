{
 "cells": [
  {
   "cell_type": "markdown",
   "id": "76e91551-f319-4bd1-ba19-8d6e7ba5c162",
   "metadata": {},
   "source": [
    "# Document Classification"
   ]
  },
  {
   "cell_type": "markdown",
   "id": "0095a472-06ec-410a-8fb4-ac90f38e78aa",
   "metadata": {},
   "source": [
    "## Mastering Machine Learning on AWS\n",
    "### Section 2, Chapter 2\n",
    "\n",
    "In this notebook we will use data from Kaggle for classification.  These are pre-labelled text documents, found [here](https://www.kaggle.com/datasets/dipankarsrirag/topic-modelling-on-emails).  There are four categories, `Crime` (1100), `Entertainment` (1053), `Politics` (3001), `Science` (4000).  We will work with the `Politics` and `Science` data to train binary classifiers.  The models will use 2300 documents to train, 200 to validate, and 200 to test.  Our initial evaluation metric will be model accuracy.  We will use the model accuracy to choose the best model from the different techniques considered.  Initially, we will train two models, Naive Bayes and Logistic Regression.  We will do some final analysis considering a few other questions regarding errors and missclassifications, and consider questions related to tuning the models in various situations to handle the different classes.\n",
    "\n",
    "During Data Preprocessing each step each step will be explored and the steps taken will be detailed.  At the model building stage, the steps will be joined together inside a single pipeline for transforming the data from its raw state to its predictive model ingestable state.  Models will then be trained on the completely transformed data before exploring an analysis of the results."
   ]
  },
  {
   "cell_type": "markdown",
   "id": "dcba6754-d1d0-4d3b-ac6a-60ea2f433711",
   "metadata": {},
   "source": [
    "# Contents "
   ]
  },
  {
   "cell_type": "markdown",
   "id": "05f5c123-c149-46f0-9ce6-390bcf565e00",
   "metadata": {
    "jp-MarkdownHeadingCollapsed": true
   },
   "source": [
    "1. [Contents](#Contents)  \n",
    "2. [Modules and Libraries](#Modules-and-Libraries)  \n",
    "3. [Download Data](#Download-Data)  \n",
    "4. [Define data variables and Import Data](#Define-data-variables-and-Import-Data)  \n",
    "    1. [Importing Data with `read_text_files`](#Importing-Data-with-read_text_files)\n",
    "5. [Data Exploration](#Data-Exploration)\n",
    "    1. [Crime Data](#Crime-Data)\n",
    "    2. [Entertainment Data](#Entertainment-Data)\n",
    "    3. [Science Data](#Science-Data)\n",
    "    4. [Politics-Data](#Politics-Data)\n",
    "6. [Duplicate Data Check](#Duplicate-Data-Check)\n",
    "    1. [Crime vs Entertainment](#Crime-vs-Entertainment)\n",
    "    2. [Science vs Politics](#Science-vs-Politics)\n",
    "    3. [Science vs Crime](#Science-vs-Crime)  \n",
    "    4. [Politics vs Crime](#Politics-vs-Crime)\n",
    "    5. [Data Conclusions](#Data-Conclusions)\n",
    "7. [Data Cleaning and Preperation](#Data-Cleaning-and-Preperation)\n",
    "    1. [Creating Transformed Data for Processing](#Creating-Transformed-Data-for-Processing)\n",
    "    2. [Remove Duplicate Data](#Remove-Duplicate-Data)\n",
    "    3. [Create Lists and Numpy Arrays of the Data](#Create-Lists-and-Numpy-Arrays-of-the-Data)\n",
    "    4. [Feature Vectorization](#Feature-Vectorization)\n",
    "        1. [Create DataFrames](#Create-DataFrames)\n",
    "            1. [Politics, label 1](#Politics,-label-1)\n",
    "            2. [Science, label 0](#Science,-label-0)\n",
    "            3. [Combined DataFrame](#Combined-DataFrame)  \n",
    "    6. [Vectorize the Data](#Vectorize-the-Data)  \n",
    "8. [Predictive Models](#Predictive-Models)\n",
    "    1. [Naive Bayes](#Naive-Bayes)  \n",
    "    2. [Logistic Regression](#Logistic-Regression)  \n",
    "    3. [K-Nearest Neighbors](#K-Nearest-Neighbors)  \n",
    "    4. [CART, Decision Trees](#CART,-Decision-Trees)  "
   ]
  },
  {
   "cell_type": "markdown",
   "id": "f05ac7d0-6e9a-445b-9653-efb2cc63fefc",
   "metadata": {},
   "source": [
    "# Modules and Libraries     "
   ]
  },
  {
   "cell_type": "code",
   "execution_count": 1,
   "id": "0e251765-1b13-4949-880b-59bd1ebd81ea",
   "metadata": {},
   "outputs": [],
   "source": [
    "import numpy as np\n",
    "import pandas as pd\n",
    "import matplotlib as mlp\n",
    "import matplotlib.pyplot as plt\n",
    "from matplotlib.colors import LinearSegmentedColormap\n",
    "\n",
    "import datetime as dt\n",
    "import time\n",
    "\n",
    "import nltk\n",
    "from nltk.stem import WordNetLemmatizer\n",
    "# nltk.download('stopwords') \n",
    "# nltk.download('punkt_tab')\n",
    "# nltk.download(\"wordnet\")\n",
    "# nltk.download(\"omw-1.4\")\n",
    "\n",
    "from sklearn.model_selection import train_test_split, GridSearchCV, StratifiedShuffleSplit\n",
    "from sklearn.linear_model import LogisticRegression\n",
    "from sklearn.pipeline import Pipeline\n",
    "from sklearn.feature_extraction.text import CountVectorizer, TfidfVectorizer\n",
    "from sklearn.neighbors import KNeighborsClassifier\n",
    "from sklearn.ensemble import AdaBoostClassifier\n",
    "from sklearn.tree import DecisionTreeClassifier\n",
    "\n",
    "from sklearn.metrics import confusion_matrix, classification_report, accuracy_score\n",
    "\n",
    "%matplotlib inline\n",
    "\n",
    "class color:\n",
    "   PURPLE = '\\033[95m'\n",
    "   CYAN = '\\033[96m'\n",
    "   DARKCYAN = '\\033[36m'\n",
    "   BLUE = '\\033[94m'\n",
    "   GREEN = '\\033[92m'\n",
    "   YELLOW = '\\033[93m'\n",
    "   RED = '\\033[91m'\n",
    "   BOLD = '\\033[1m'\n",
    "   UNDERLINE = '\\033[4m'\n",
    "   END = '\\033[0m'\n",
    "\n",
    "import bnaivebayes as bnb\n",
    "import readtextfunctions as rtf\n",
    "import datacleaning as dc\n",
    "# import nb"
   ]
  },
  {
   "cell_type": "markdown",
   "id": "70f7057b-2c58-4a30-8521-63ee949d680a",
   "metadata": {},
   "source": [
    "# Download Data"
   ]
  },
  {
   "cell_type": "markdown",
   "id": "f14334c0-560c-48e6-9d93-5fe81f93e0d5",
   "metadata": {},
   "source": [
    "This is the script that was used to download and show where the data is located.\n",
    "```python\n",
    "import kagglehub\n",
    "\n",
    "# Download latest version\n",
    "path = kagglehub.dataset_download(\"dipankarsrirag/topic-modelling-on-emails\")\n",
    "\n",
    "print(\"Path to dataset files:\", path)\n",
    "```\n",
    "Output: `Path to dataset files: /Users/blakewallace/.cache/kagglehub/datasets/dipankarsrirag/topic-modelling-on-emails/versions/1`\n",
    "\n",
    "All of the files were moved to the local directory housing the current workbook.  The path to the folder is now `/Users/blakewallace/Repositories/AWS/data/kaggle/Text_Classification_on_Documents`.  \n",
    "\n",
    "Note that the data is not actually in the GitHub repository.  It is available for download on the Kaggle platform on the page [Text Classification on Emails](https://www.kaggle.com/datasets/dipankarsrirag/topic-modelling-on-emails).  "
   ]
  },
  {
   "cell_type": "markdown",
   "id": "bbd1a09e-5f72-4d29-87f5-e29de66ec786",
   "metadata": {},
   "source": [
    "# Define data variables and Import Data"
   ]
  },
  {
   "cell_type": "markdown",
   "id": "bd7ea1b3-2c1a-42d3-9fef-b1b4f336ecd4",
   "metadata": {},
   "source": [
    "## Importing Data with `read_text_files`\n",
    "\n",
    "This data is in the location on the system that it was downloaded to in the [Download Data](#Download-Data) section."
   ]
  },
  {
   "cell_type": "code",
   "execution_count": 2,
   "id": "48ab7517-c0bf-4078-95b1-d7856f44165e",
   "metadata": {},
   "outputs": [
    {
     "name": "stdout",
     "output_type": "stream",
     "text": [
      "/Users/blakewallace/Repositories/Exploring_AWS/Ch2_Classifying_Twitter_Feeds_with_Naive_Bayes/data/kaggle/Text_Classification_on_Documents/Crime/\n",
      "Error reading 15672.txt: 'utf-8' codec can't decode byte 0xa0 in position 896: invalid start byte\n",
      "\n",
      "/Users/blakewallace/Repositories/Exploring_AWS/Ch2_Classifying_Twitter_Feeds_with_Naive_Bayes/data/kaggle/Text_Classification_on_Documents/Entertainment/\n",
      "Error reading 15672.txt: 'utf-8' codec can't decode byte 0xa0 in position 896: invalid start byte\n",
      "\n",
      "/Users/blakewallace/Repositories/Exploring_AWS/Ch2_Classifying_Twitter_Feeds_with_Naive_Bayes/data/kaggle/Text_Classification_on_Documents/Politics/\n",
      "\n",
      "/Users/blakewallace/Repositories/Exploring_AWS/Ch2_Classifying_Twitter_Feeds_with_Naive_Bayes/data/kaggle/Text_Classification_on_Documents/Science/\n",
      "Error reading 15672.txt: 'utf-8' codec can't decode byte 0xa0 in position 896: invalid start byte\n",
      "Error reading 53721.txt: 'utf-8' codec can't decode byte 0xfd in position 195: invalid start byte\n",
      "Error reading 53803.txt: 'utf-8' codec can't decode byte 0xfd in position 285: invalid start byte\n",
      "Error reading 53883.txt: 'utf-8' codec can't decode byte 0xfd in position 390: invalid start byte\n",
      "Error reading 54070.txt: 'utf-8' codec can't decode byte 0xfe in position 176: invalid start byte\n",
      "Error reading 54071.txt: 'utf-8' codec can't decode byte 0xfe in position 209: invalid start byte\n",
      "Error reading 54485.txt: 'utf-8' codec can't decode byte 0xf6 in position 1532: invalid start byte\n",
      "Error reading 59055.txt: 'utf-8' codec can't decode byte 0xff in position 728: invalid start byte\n",
      "Error reading 59239.txt: 'utf-8' codec can't decode byte 0xed in position 540: invalid continuation byte\n",
      "Error reading 59535.txt: 'utf-8' codec can't decode byte 0xab in position 182: invalid start byte\n",
      "Error reading 61293.txt: 'utf-8' codec can't decode byte 0xa5 in position 931: invalid start byte\n",
      "Error reading 61534.txt: 'utf-8' codec can't decode byte 0xf8 in position 1650: invalid start byte\n",
      "Error reading 61556.txt: 'utf-8' codec can't decode byte 0xa5 in position 453: invalid start byte\n",
      "\n"
     ]
    }
   ],
   "source": [
    "# utilize the `read_text_files` function in the readtextfunctions file\n",
    "for directory in ['Crime', 'Entertainment', 'Politics', 'Science']:\n",
    "    folder_path = \"/Users/blakewallace/Repositories/Exploring_AWS/Ch2_Classifying_Twitter_Feeds_with_Naive_Bayes/data/kaggle/Text_Classification_on_Documents/\" + directory + \"/\"\n",
    "    print(folder_path)\n",
    "    globals()['text_files_data_{}'.format(directory)] = rtf.read_text_files(folder_path)\n",
    "    print()\n"
   ]
  },
  {
   "cell_type": "markdown",
   "id": "e2429823-b8e5-4d33-8b1c-47def7e53d14",
   "metadata": {},
   "source": [
    "# Data Exploration"
   ]
  },
  {
   "cell_type": "markdown",
   "id": "8b3c5260-0a22-48d8-9e0e-19960981ef6f",
   "metadata": {},
   "source": [
    "## Crime Data"
   ]
  },
  {
   "cell_type": "markdown",
   "id": "c7e7e79b-1ee0-49df-8e23-41404525ee55",
   "metadata": {},
   "source": [
    "**There are 1099 files in the Crime file.**"
   ]
  },
  {
   "cell_type": "code",
   "execution_count": 3,
   "id": "ee7dd39c-bb95-45ee-b262-59e788457000",
   "metadata": {},
   "outputs": [
    {
     "data": {
      "text/plain": [
       "1099"
      ]
     },
     "execution_count": 3,
     "metadata": {},
     "output_type": "execute_result"
    }
   ],
   "source": [
    "len(text_files_data_Crime)"
   ]
  },
  {
   "cell_type": "markdown",
   "id": "6fc2eaeb-1a0f-4fb3-8a98-ac0fa8949a32",
   "metadata": {},
   "source": [
    "**We need the data to be in lists for some of the functions that will process the data.**\n",
    "\n",
    "Create a list and a numpy array housing the Crime data."
   ]
  },
  {
   "cell_type": "code",
   "execution_count": 4,
   "id": "49e4ad6d-dc57-44fd-9bcf-f55e7ab17b63",
   "metadata": {},
   "outputs": [],
   "source": [
    "Crime_list = list()\n",
    "for key in text_files_data_Crime:\n",
    "    Crime_list.append(text_files_data_Crime[key])\n",
    "\n",
    "Crime_array = np.array(Crime_list)\n",
    "# Crime_array"
   ]
  },
  {
   "cell_type": "code",
   "execution_count": 5,
   "id": "86ada759-87b6-4f65-8919-5154f91461d2",
   "metadata": {},
   "outputs": [
    {
     "data": {
      "text/plain": [
       "1099"
      ]
     },
     "execution_count": 5,
     "metadata": {},
     "output_type": "execute_result"
    }
   ],
   "source": [
    "len(Crime_array)"
   ]
  },
  {
   "cell_type": "code",
   "execution_count": 6,
   "id": "a794b0c3",
   "metadata": {},
   "outputs": [],
   "source": [
    "# need to work to save this as a csv file\n",
    "pd.DataFrame({'keys':text_files_data_Crime.keys(), \n",
    "              'documents':text_files_data_Crime.values()}, \n",
    "              index=np.arange(len(text_files_data_Crime))).to_csv(\n",
    "                                    './data/kaggle/Text_Classification_on_Documents/crime.csv', \n",
    "                                    index=False)\n"
   ]
  },
  {
   "cell_type": "code",
   "execution_count": 7,
   "id": "f5a95c71",
   "metadata": {},
   "outputs": [
    {
     "name": "stdout",
     "output_type": "stream",
     "text": [
      "1099\n"
     ]
    },
    {
     "data": {
      "text/html": [
       "<div>\n",
       "<style scoped>\n",
       "    .dataframe tbody tr th:only-of-type {\n",
       "        vertical-align: middle;\n",
       "    }\n",
       "\n",
       "    .dataframe tbody tr th {\n",
       "        vertical-align: top;\n",
       "    }\n",
       "\n",
       "    .dataframe thead th {\n",
       "        text-align: right;\n",
       "    }\n",
       "</style>\n",
       "<table border=\"1\" class=\"dataframe\">\n",
       "  <thead>\n",
       "    <tr style=\"text-align: right;\">\n",
       "      <th></th>\n",
       "      <th>keys</th>\n",
       "      <th>documents</th>\n",
       "    </tr>\n",
       "  </thead>\n",
       "  <tbody>\n",
       "    <tr>\n",
       "      <th>0</th>\n",
       "      <td>14147.txt</td>\n",
       "      <td>\\nArchive-name: ripem/faq\\nLast-update: Sun, 7...</td>\n",
       "    </tr>\n",
       "    <tr>\n",
       "      <th>1</th>\n",
       "      <td>14831.txt</td>\n",
       "      <td>Approved: news-answers-request@MIT.EDU\\nConten...</td>\n",
       "    </tr>\n",
       "    <tr>\n",
       "      <th>2</th>\n",
       "      <td>14832.txt</td>\n",
       "      <td>Approved: news-answers-request@MIT.EDU\\nConten...</td>\n",
       "    </tr>\n",
       "    <tr>\n",
       "      <th>3</th>\n",
       "      <td>14982.txt</td>\n",
       "      <td>Message-ID: &lt;1ppvai$l79@bilbo.suite.com&gt;\\nRepl...</td>\n",
       "    </tr>\n",
       "    <tr>\n",
       "      <th>4</th>\n",
       "      <td>14983.txt</td>\n",
       "      <td>\\n   Some sick part of me really liked that ph...</td>\n",
       "    </tr>\n",
       "  </tbody>\n",
       "</table>\n",
       "</div>"
      ],
      "text/plain": [
       "        keys                                          documents\n",
       "0  14147.txt  \\nArchive-name: ripem/faq\\nLast-update: Sun, 7...\n",
       "1  14831.txt  Approved: news-answers-request@MIT.EDU\\nConten...\n",
       "2  14832.txt  Approved: news-answers-request@MIT.EDU\\nConten...\n",
       "3  14982.txt  Message-ID: <1ppvai$l79@bilbo.suite.com>\\nRepl...\n",
       "4  14983.txt  \\n   Some sick part of me really liked that ph..."
      ]
     },
     "execution_count": 7,
     "metadata": {},
     "output_type": "execute_result"
    }
   ],
   "source": [
    "Crime_df = pd.read_csv('./data/kaggle/Text_Classification_on_Documents/crime.csv')\n",
    "print(len(Crime_df))\n",
    "Crime_df.head()"
   ]
  },
  {
   "cell_type": "markdown",
   "id": "44a7c614-7fde-44f1-a2e9-1d7f8a8353d3",
   "metadata": {},
   "source": [
    "## Entertainment Data"
   ]
  },
  {
   "cell_type": "markdown",
   "id": "7d6dab9f-729b-45ad-bdeb-ccdd11956ef1",
   "metadata": {},
   "source": [
    "**There are 1052 files in the Entertainment file.**"
   ]
  },
  {
   "cell_type": "code",
   "execution_count": 8,
   "id": "698d2348-585a-42c9-8c5f-1196c907b30a",
   "metadata": {},
   "outputs": [
    {
     "data": {
      "text/plain": [
       "1052"
      ]
     },
     "execution_count": 8,
     "metadata": {},
     "output_type": "execute_result"
    }
   ],
   "source": [
    "len(text_files_data_Entertainment)"
   ]
  },
  {
   "cell_type": "markdown",
   "id": "52a70174-17c0-4faa-8c0b-dfe116a75cb1",
   "metadata": {},
   "source": [
    "Create a list and a numpy array housing the Entertainment data."
   ]
  },
  {
   "cell_type": "code",
   "execution_count": 9,
   "id": "f7944593-d8f7-497d-974f-7135c27923e7",
   "metadata": {},
   "outputs": [],
   "source": [
    "Entertainment_list = list()\n",
    "for key in text_files_data_Entertainment:\n",
    "    Entertainment_list.append(text_files_data_Entertainment[key])\n",
    "\n",
    "Entertainment_array = np.array(Entertainment_list)\n",
    "# Entertainment_array"
   ]
  },
  {
   "cell_type": "code",
   "execution_count": 10,
   "id": "f25de578-4ad0-4a6b-a2ad-a8d4ff7e069b",
   "metadata": {},
   "outputs": [
    {
     "data": {
      "text/plain": [
       "1052"
      ]
     },
     "execution_count": 10,
     "metadata": {},
     "output_type": "execute_result"
    }
   ],
   "source": [
    "len(Entertainment_array)"
   ]
  },
  {
   "cell_type": "code",
   "execution_count": 11,
   "id": "b90db9d0",
   "metadata": {},
   "outputs": [],
   "source": [
    "# need to work to save this as a csv file\n",
    "pd.DataFrame({'keys':text_files_data_Entertainment.keys(), \n",
    "              'documents':text_files_data_Entertainment.values()}, \n",
    "              index=np.arange(len(text_files_data_Entertainment))).to_csv(\n",
    "                        './data/kaggle/Text_Classification_on_Documents/entertainment.csv', \n",
    "                        index=False)\n"
   ]
  },
  {
   "cell_type": "code",
   "execution_count": 12,
   "id": "4b21cf63",
   "metadata": {},
   "outputs": [
    {
     "name": "stdout",
     "output_type": "stream",
     "text": [
      "1052\n"
     ]
    },
    {
     "data": {
      "text/html": [
       "<div>\n",
       "<style scoped>\n",
       "    .dataframe tbody tr th:only-of-type {\n",
       "        vertical-align: middle;\n",
       "    }\n",
       "\n",
       "    .dataframe tbody tr th {\n",
       "        vertical-align: top;\n",
       "    }\n",
       "\n",
       "    .dataframe thead th {\n",
       "        text-align: right;\n",
       "    }\n",
       "</style>\n",
       "<table border=\"1\" class=\"dataframe\">\n",
       "  <thead>\n",
       "    <tr style=\"text-align: right;\">\n",
       "      <th></th>\n",
       "      <th>keys</th>\n",
       "      <th>documents</th>\n",
       "    </tr>\n",
       "  </thead>\n",
       "  <tbody>\n",
       "    <tr>\n",
       "      <th>0</th>\n",
       "      <td>14147.txt</td>\n",
       "      <td>\\nArchive-name: ripem/faq\\nLast-update: Sun, 7...</td>\n",
       "    </tr>\n",
       "    <tr>\n",
       "      <th>1</th>\n",
       "      <td>14831.txt</td>\n",
       "      <td>Approved: news-answers-request@MIT.EDU\\nConten...</td>\n",
       "    </tr>\n",
       "    <tr>\n",
       "      <th>2</th>\n",
       "      <td>14832.txt</td>\n",
       "      <td>Approved: news-answers-request@MIT.EDU\\nConten...</td>\n",
       "    </tr>\n",
       "    <tr>\n",
       "      <th>3</th>\n",
       "      <td>14982.txt</td>\n",
       "      <td>Message-ID: &lt;1ppvai$l79@bilbo.suite.com&gt;\\nRepl...</td>\n",
       "    </tr>\n",
       "    <tr>\n",
       "      <th>4</th>\n",
       "      <td>14983.txt</td>\n",
       "      <td>\\n   Some sick part of me really liked that ph...</td>\n",
       "    </tr>\n",
       "  </tbody>\n",
       "</table>\n",
       "</div>"
      ],
      "text/plain": [
       "        keys                                          documents\n",
       "0  14147.txt  \\nArchive-name: ripem/faq\\nLast-update: Sun, 7...\n",
       "1  14831.txt  Approved: news-answers-request@MIT.EDU\\nConten...\n",
       "2  14832.txt  Approved: news-answers-request@MIT.EDU\\nConten...\n",
       "3  14982.txt  Message-ID: <1ppvai$l79@bilbo.suite.com>\\nRepl...\n",
       "4  14983.txt  \\n   Some sick part of me really liked that ph..."
      ]
     },
     "execution_count": 12,
     "metadata": {},
     "output_type": "execute_result"
    }
   ],
   "source": [
    "Entertainment_df = pd.read_csv(\n",
    "    './data/kaggle/Text_Classification_on_Documents/entertainment.csv')\n",
    "print(len(Entertainment_df))\n",
    "Entertainment_df.head()\n"
   ]
  },
  {
   "cell_type": "markdown",
   "id": "9067b706-a940-4e03-b0c1-fe1786b5786c",
   "metadata": {},
   "source": [
    "## Science Data"
   ]
  },
  {
   "cell_type": "code",
   "execution_count": 13,
   "id": "47be2fe5-993f-4b9c-b791-17003a29d449",
   "metadata": {},
   "outputs": [
    {
     "data": {
      "text/plain": [
       "3987"
      ]
     },
     "execution_count": 13,
     "metadata": {},
     "output_type": "execute_result"
    }
   ],
   "source": [
    "len(text_files_data_Science)"
   ]
  },
  {
   "cell_type": "code",
   "execution_count": 14,
   "id": "b07c9934-1aa4-4be5-b855-386beb7e58e0",
   "metadata": {},
   "outputs": [],
   "source": [
    "Science_list = list()\n",
    "for key in text_files_data_Science:\n",
    "    Science_list.append(text_files_data_Science[key])\n",
    "# text_files_data_Crime[list(text_files_data_Crime.keys())[0]]\n",
    "\n",
    "Science_array = np.array(Science_list)\n",
    "# Science_array"
   ]
  },
  {
   "cell_type": "code",
   "execution_count": 15,
   "id": "27d03c6c-d69c-44ac-8756-2990fe2bf0f6",
   "metadata": {},
   "outputs": [
    {
     "data": {
      "text/plain": [
       "3987"
      ]
     },
     "execution_count": 15,
     "metadata": {},
     "output_type": "execute_result"
    }
   ],
   "source": [
    "len(Science_array)"
   ]
  },
  {
   "cell_type": "code",
   "execution_count": 16,
   "id": "8e5a7571",
   "metadata": {},
   "outputs": [],
   "source": [
    "# need to work to save this as a csv file\n",
    "pd.DataFrame({'keys':text_files_data_Science.keys(), \n",
    "              'documents':text_files_data_Science.values()}, \n",
    "              index=np.arange(len(text_files_data_Science))).to_csv(\n",
    "                        './data/kaggle/Text_Classification_on_Documents/science.csv', \n",
    "                        index=False)\n"
   ]
  },
  {
   "cell_type": "code",
   "execution_count": 17,
   "id": "ce1fd6ba",
   "metadata": {},
   "outputs": [
    {
     "name": "stdout",
     "output_type": "stream",
     "text": [
      "3987\n"
     ]
    },
    {
     "data": {
      "text/html": [
       "<div>\n",
       "<style scoped>\n",
       "    .dataframe tbody tr th:only-of-type {\n",
       "        vertical-align: middle;\n",
       "    }\n",
       "\n",
       "    .dataframe tbody tr th {\n",
       "        vertical-align: top;\n",
       "    }\n",
       "\n",
       "    .dataframe thead th {\n",
       "        text-align: right;\n",
       "    }\n",
       "</style>\n",
       "<table border=\"1\" class=\"dataframe\">\n",
       "  <thead>\n",
       "    <tr style=\"text-align: right;\">\n",
       "      <th></th>\n",
       "      <th>keys</th>\n",
       "      <th>documents</th>\n",
       "    </tr>\n",
       "  </thead>\n",
       "  <tbody>\n",
       "    <tr>\n",
       "      <th>0</th>\n",
       "      <td>14147.txt</td>\n",
       "      <td>\\nArchive-name: ripem/faq\\nLast-update: Sun, 7...</td>\n",
       "    </tr>\n",
       "    <tr>\n",
       "      <th>1</th>\n",
       "      <td>14831.txt</td>\n",
       "      <td>Approved: news-answers-request@MIT.EDU\\nConten...</td>\n",
       "    </tr>\n",
       "    <tr>\n",
       "      <th>2</th>\n",
       "      <td>14832.txt</td>\n",
       "      <td>Approved: news-answers-request@MIT.EDU\\nConten...</td>\n",
       "    </tr>\n",
       "    <tr>\n",
       "      <th>3</th>\n",
       "      <td>14982.txt</td>\n",
       "      <td>Message-ID: &lt;1ppvai$l79@bilbo.suite.com&gt;\\nRepl...</td>\n",
       "    </tr>\n",
       "    <tr>\n",
       "      <th>4</th>\n",
       "      <td>14983.txt</td>\n",
       "      <td>\\n   Some sick part of me really liked that ph...</td>\n",
       "    </tr>\n",
       "  </tbody>\n",
       "</table>\n",
       "</div>"
      ],
      "text/plain": [
       "        keys                                          documents\n",
       "0  14147.txt  \\nArchive-name: ripem/faq\\nLast-update: Sun, 7...\n",
       "1  14831.txt  Approved: news-answers-request@MIT.EDU\\nConten...\n",
       "2  14832.txt  Approved: news-answers-request@MIT.EDU\\nConten...\n",
       "3  14982.txt  Message-ID: <1ppvai$l79@bilbo.suite.com>\\nRepl...\n",
       "4  14983.txt  \\n   Some sick part of me really liked that ph..."
      ]
     },
     "execution_count": 17,
     "metadata": {},
     "output_type": "execute_result"
    }
   ],
   "source": [
    "Science_df = pd.read_csv(\n",
    "    './data/kaggle/Text_Classification_on_Documents/science.csv')\n",
    "print(len(Science_df))\n",
    "Science_df.head()\n"
   ]
  },
  {
   "cell_type": "markdown",
   "id": "4b0e4ad8-e949-44ce-953a-2904a0122d48",
   "metadata": {},
   "source": [
    "## Politics Data"
   ]
  },
  {
   "cell_type": "code",
   "execution_count": 18,
   "id": "7e19a952-1917-46e3-aae4-4dec974670e3",
   "metadata": {},
   "outputs": [
    {
     "data": {
      "text/plain": [
       "3000"
      ]
     },
     "execution_count": 18,
     "metadata": {},
     "output_type": "execute_result"
    }
   ],
   "source": [
    "len(text_files_data_Politics)"
   ]
  },
  {
   "cell_type": "code",
   "execution_count": 19,
   "id": "aef7d487-c197-4091-8475-017c1daf1fc0",
   "metadata": {},
   "outputs": [],
   "source": [
    "Politics_list = list()\n",
    "for key in text_files_data_Politics:\n",
    "    Politics_list.append(text_files_data_Politics[key])\n",
    "\n",
    "Politics_array = np.array(Politics_list)\n",
    "# Politics_array"
   ]
  },
  {
   "cell_type": "code",
   "execution_count": 20,
   "id": "706cea24-0da6-48e6-a3ad-733e975543f8",
   "metadata": {},
   "outputs": [
    {
     "data": {
      "text/plain": [
       "3000"
      ]
     },
     "execution_count": 20,
     "metadata": {},
     "output_type": "execute_result"
    }
   ],
   "source": [
    "len(Politics_array)"
   ]
  },
  {
   "cell_type": "code",
   "execution_count": 21,
   "id": "be2ebca6",
   "metadata": {},
   "outputs": [],
   "source": [
    "# need to work to save this as a csv file\n",
    "pd.DataFrame({'keys':text_files_data_Politics.keys(), \n",
    "              'documents':text_files_data_Politics.values()}, \n",
    "              index=np.arange(len(text_files_data_Politics))).to_csv(\n",
    "                        './data/kaggle/Text_Classification_on_Documents/politics.csv', \n",
    "                        index=False)\n"
   ]
  },
  {
   "cell_type": "code",
   "execution_count": 22,
   "id": "384f9287",
   "metadata": {},
   "outputs": [
    {
     "name": "stdout",
     "output_type": "stream",
     "text": [
      "3000\n"
     ]
    },
    {
     "data": {
      "text/html": [
       "<div>\n",
       "<style scoped>\n",
       "    .dataframe tbody tr th:only-of-type {\n",
       "        vertical-align: middle;\n",
       "    }\n",
       "\n",
       "    .dataframe tbody tr th {\n",
       "        vertical-align: top;\n",
       "    }\n",
       "\n",
       "    .dataframe thead th {\n",
       "        text-align: right;\n",
       "    }\n",
       "</style>\n",
       "<table border=\"1\" class=\"dataframe\">\n",
       "  <thead>\n",
       "    <tr style=\"text-align: right;\">\n",
       "      <th></th>\n",
       "      <th>keys</th>\n",
       "      <th>documents</th>\n",
       "    </tr>\n",
       "  </thead>\n",
       "  <tbody>\n",
       "    <tr>\n",
       "      <th>0</th>\n",
       "      <td>124146.txt</td>\n",
       "      <td>Nntp-Posting-Host: acvax1\\nNntp-Posting-User: ...</td>\n",
       "    </tr>\n",
       "    <tr>\n",
       "      <th>1</th>\n",
       "      <td>176845.txt</td>\n",
       "      <td>\\nIn &lt;C4v13w.Dup@apollo.hp.com&gt; nelson_p@apoll...</td>\n",
       "    </tr>\n",
       "    <tr>\n",
       "      <th>2</th>\n",
       "      <td>176846.txt</td>\n",
       "      <td>NNTP-Posting-Host: oregon.uoregon.edu\\nNews-So...</td>\n",
       "    </tr>\n",
       "    <tr>\n",
       "      <th>3</th>\n",
       "      <td>176847.txt</td>\n",
       "      <td>NNTP-Posting-Host: oregon.uoregon.edu\\nNews-So...</td>\n",
       "    </tr>\n",
       "    <tr>\n",
       "      <th>4</th>\n",
       "      <td>176849.txt</td>\n",
       "      <td>NNTP-Posting-Host: oregon.uoregon.edu\\nNews-So...</td>\n",
       "    </tr>\n",
       "  </tbody>\n",
       "</table>\n",
       "</div>"
      ],
      "text/plain": [
       "         keys                                          documents\n",
       "0  124146.txt  Nntp-Posting-Host: acvax1\\nNntp-Posting-User: ...\n",
       "1  176845.txt  \\nIn <C4v13w.Dup@apollo.hp.com> nelson_p@apoll...\n",
       "2  176846.txt  NNTP-Posting-Host: oregon.uoregon.edu\\nNews-So...\n",
       "3  176847.txt  NNTP-Posting-Host: oregon.uoregon.edu\\nNews-So...\n",
       "4  176849.txt  NNTP-Posting-Host: oregon.uoregon.edu\\nNews-So..."
      ]
     },
     "execution_count": 22,
     "metadata": {},
     "output_type": "execute_result"
    }
   ],
   "source": [
    "Politics_df = pd.read_csv(\n",
    "    './data/kaggle/Text_Classification_on_Documents/politics.csv')\n",
    "print(len(Politics_df))\n",
    "Politics_df.head()\n"
   ]
  },
  {
   "cell_type": "markdown",
   "id": "4b88c3d8-22ae-4397-827d-51e774297d5e",
   "metadata": {},
   "source": [
    "<a id='Duplicate-Data-Check'></a>\n",
    "# Duplicate Data Check"
   ]
  },
  {
   "cell_type": "markdown",
   "id": "ea8de756-afa9-4614-b5c1-6932c33078b4",
   "metadata": {},
   "source": [
    "## Crime vs Entertainment"
   ]
  },
  {
   "cell_type": "markdown",
   "id": "fe63fb31-7811-49eb-a71d-d411f79a2d8c",
   "metadata": {},
   "source": [
    "**Entertainment and Crime data are corrupt.  We will not use them in our final analysis.**\n",
    "\n",
    "We can see from the following analysis that every document in the `Entertainment` folder is also in the `Crime` folder.  We will not spend time deciding which data is corrupt.  As will be shown shortly, neither data will be used for the final model training phase.  \n",
    "\n",
    "**First, attempt to train a model using the two sets of data.  This yields an accuracy of zero.**\n",
    "\n",
    "Note on functions, we are using our own custome created functions.  See the accompanying file for more details.  \n",
    "\n",
    "The Naive Bayes model here removes stopwords and uses NLTK's built in word lemmatizer (nltk.stem.WordNetLemmatizer()).  However, at this point in the analysis there is no consideration of any Parts of Speech (POS), and no POS partitioning to determine any type of term importance is being considered.  "
   ]
  },
  {
   "cell_type": "code",
   "execution_count": 23,
   "id": "7640f143-6132-4c67-9d85-27accb4aeeb9",
   "metadata": {},
   "outputs": [],
   "source": [
    "# train a `Naive Bayes` model on 1000 elements from each dataset\n",
    "crimeVSentertainment_weights = bnb.trainNaiveBayes(Crime_array[:1000], Entertainment_array[:1000]) \n"
   ]
  },
  {
   "cell_type": "markdown",
   "id": "1cff35c5-2e9f-4c16-9142-50cca9e1f51a",
   "metadata": {},
   "source": [
    "There are **14854** terms in this model."
   ]
  },
  {
   "cell_type": "code",
   "execution_count": 24,
   "id": "148c9a9d-becf-40d4-85c1-7d27335d149f",
   "metadata": {},
   "outputs": [
    {
     "data": {
      "text/plain": [
       "14854"
      ]
     },
     "execution_count": 24,
     "metadata": {},
     "output_type": "execute_result"
    }
   ],
   "source": [
    "len(crimeVSentertainment_weights)"
   ]
  },
  {
   "cell_type": "code",
   "execution_count": 25,
   "id": "9eb4a8c3-b459-4035-8709-7141e87eaff3",
   "metadata": {},
   "outputs": [
    {
     "data": {
      "text/plain": [
       "0.0"
      ]
     },
     "execution_count": 25,
     "metadata": {},
     "output_type": "execute_result"
    }
   ],
   "source": [
    "# training accuracy\n",
    "bnb.PredAccuracy(Crime_array[:1000], Entertainment_array[:1000], crimeVSentertainment_weights)"
   ]
  },
  {
   "cell_type": "markdown",
   "id": "2a63cb52-4244-4f55-a1e5-67a89053d36b",
   "metadata": {},
   "source": [
    "**The training accuracy is 0.0**"
   ]
  },
  {
   "cell_type": "markdown",
   "id": "896104f4-df98-47b9-977b-ac6abeafa45d",
   "metadata": {},
   "source": [
    "**Looking at an example element in the `Crime` data reveals that the two datasets might have the same data.**\n",
    "\n",
    "The Score function is used to determine which class label to assign to each instance.  The left entry in the output list is associated with the label `Crime`, while the right is associated with the label `Entertainment`.  The higher of the two (which is always non-positive) is the label assigned to the instance.  In this example, the model is not able to assign a class label to the instance because the scores are identical.  This is because when generating the model weights during training the number of each feature associated with each label is identical, so the feature probabilities are identical.  \n",
    "\n",
    "The data is likely identical in both data sets."
   ]
  },
  {
   "cell_type": "markdown",
   "id": "71665c0a-59e0-44e2-89f1-266c07d86fb3",
   "metadata": {},
   "source": [
    "**Example**"
   ]
  },
  {
   "cell_type": "code",
   "execution_count": 26,
   "id": "78c52bb9-bd6b-46a9-ac72-0292c51ddd4b",
   "metadata": {},
   "outputs": [
    {
     "data": {
      "text/plain": [
       "[-268.83868901017416, -268.83868901017416]"
      ]
     },
     "execution_count": 26,
     "metadata": {},
     "output_type": "execute_result"
    }
   ],
   "source": [
    "# similar score for each of the class labels\n",
    "bnb.Score(Crime_array[4], crimeVSentertainment_weights)"
   ]
  },
  {
   "cell_type": "markdown",
   "id": "0cf73d8b-a93b-4f3f-b261-60ff68a1030e",
   "metadata": {},
   "source": [
    "**Notice, all of the scores look to be identical in the weights generated by the Naive Bayes model.  This hints towards duplicate data.**"
   ]
  },
  {
   "cell_type": "code",
   "execution_count": 27,
   "id": "bd3930cb-6a3d-495b-9395-934067bf6ae2",
   "metadata": {},
   "outputs": [
    {
     "name": "stdout",
     "output_type": "stream",
     "text": [
      "archivename: [-9.230394193210719, -9.230394193210719]\n",
      "ripemfaq: [-10.904370626782391, -10.904370626782391]\n",
      "lastupdate: [-10.904370626782391, -10.904370626782391]\n",
      "sun: [-8.289410848746193, -8.289410848746193]\n",
      "mar: [-10.61668855433061, -10.61668855433061]\n",
      "post: [-6.054947926269855, -6.054947926269855]\n",
      "still: [-6.826833182876672, -6.826833182876672]\n",
      "rather: [-6.890995127093957, -6.890995127093957]\n",
      "rough: [-9.80575833811428, -9.80575833811428]\n",
      "list: [-6.879018936047242, -6.879018936047242]\n",
      "likely: [-7.27559509673816, -7.27559509673816]\n",
      "question: [-6.543397401306342, -6.543397401306342]\n",
      "information: [-5.794392889353872, -5.794392889353872]\n",
      "ripem: [-7.040138285190594, -7.040138285190594]\n",
      "program: [-6.336556227338068, -6.336556227338068]\n",
      "public: [-5.87175642596736, -5.87175642596736]\n",
      "key: [-4.474651148743254, -4.474651148743254]\n",
      "mail: [-6.5519444618848, -6.5519444618848]\n",
      "encryption: [-5.152856749305, -5.152856749305]\n",
      "faq: [-7.368253927220865, -7.368253927220865]\n"
     ]
    }
   ],
   "source": [
    "# first 20 elemnts in the weights dictionary\n",
    "bnb.print_first_n_items(crimeVSentertainment_weights, 20)"
   ]
  },
  {
   "cell_type": "markdown",
   "id": "367a7219-3497-4676-95e2-0c2ba1bf78b2",
   "metadata": {},
   "source": [
    "**We can confirm that all of the weights are identical.**"
   ]
  },
  {
   "cell_type": "markdown",
   "id": "02d8bc3d-d1f1-4fb2-b4e4-248d532e4d41",
   "metadata": {},
   "source": [
    "Number of features in the Naive Bayes model"
   ]
  },
  {
   "cell_type": "code",
   "execution_count": 28,
   "id": "5db86bcc-3486-4211-872f-c7e0ef528949",
   "metadata": {},
   "outputs": [
    {
     "data": {
      "text/plain": [
       "14854"
      ]
     },
     "execution_count": 28,
     "metadata": {},
     "output_type": "execute_result"
    }
   ],
   "source": [
    "len(crimeVSentertainment_weights)"
   ]
  },
  {
   "cell_type": "markdown",
   "id": "fa6209d4-9127-4076-99f0-a9b205f4eb5c",
   "metadata": {},
   "source": [
    "**Generate a comparison count between the label scores in the set of weights.**"
   ]
  },
  {
   "cell_type": "code",
   "execution_count": 29,
   "id": "5b7bf2f0-0d9c-4966-bfd5-d211365c1d88",
   "metadata": {},
   "outputs": [
    {
     "name": "stdout",
     "output_type": "stream",
     "text": [
      "Number different:\u001b[1m 0\u001b[0m\n",
      "Number checked:\u001b[1m 14854\u001b[0m\n",
      "Number identical:\u001b[1m 14854\u001b[0m\n"
     ]
    }
   ],
   "source": [
    "number_different = 0                                       # count the number that are different\n",
    "number_checked = 0                                         # count the number that are checked\n",
    "for key, value in crimeVSentertainment_weights.items():\n",
    "    if value[0] == value[1]:                               # compare each entry\n",
    "        number_checked += 1\n",
    "    else:\n",
    "        number_different += 1\n",
    "        number_checked += 1\n",
    "\n",
    "print('Number different:' + color.BOLD + f' {number_different}' + color.END)\n",
    "print('Number checked:' + color.BOLD + f' {number_checked}' + color.END)\n",
    "print('Number identical:' + color.BOLD + f' {number_checked - number_different}' + color.END)"
   ]
  },
  {
   "cell_type": "markdown",
   "id": "12cc6091-49ed-44ee-9be7-7f9f66b2f332",
   "metadata": {},
   "source": [
    "**The intersection of `Crime` and `Entertainment` has 1052 elements, which is the exact number of elements in the `Entertainment` file.  Thus, everything in the `Entertainment` file is in the `Crime` file.  Duplicate data.**"
   ]
  },
  {
   "cell_type": "code",
   "execution_count": 30,
   "id": "0fc867b7-e646-45dc-aa67-80ce8f9b9574",
   "metadata": {},
   "outputs": [
    {
     "data": {
      "text/plain": [
       "1052"
      ]
     },
     "execution_count": 30,
     "metadata": {},
     "output_type": "execute_result"
    }
   ],
   "source": [
    "# Intersection, Crime vs Entertainment\n",
    "len(set(text_files_data_Crime.keys()).intersection(set(text_files_data_Entertainment.keys())))"
   ]
  },
  {
   "cell_type": "markdown",
   "id": "ad5d98dd-3c7b-4194-b2bd-6a885962ce3a",
   "metadata": {},
   "source": [
    "**47 elements are present in the `Crime` file and not the `Entertainment` file**"
   ]
  },
  {
   "cell_type": "code",
   "execution_count": 31,
   "id": "3bed9acf-4d15-401e-9f73-cc080462a01e",
   "metadata": {},
   "outputs": [
    {
     "data": {
      "text/plain": [
       "47"
      ]
     },
     "execution_count": 31,
     "metadata": {},
     "output_type": "execute_result"
    }
   ],
   "source": [
    "# Show the number of elements in the Crime file that are not in the Entertainment file\n",
    "len(set(text_files_data_Crime.keys()) - set(text_files_data_Entertainment.keys()))"
   ]
  },
  {
   "cell_type": "markdown",
   "id": "f77812ab-6b58-4422-976a-efdb3a7c090c",
   "metadata": {},
   "source": [
    "**Here are the 47 document keys present in the `Crime` file that are not present in the `Entertainment` file.**"
   ]
  },
  {
   "cell_type": "code",
   "execution_count": 32,
   "id": "01c8da47-33ef-478c-b0af-761c4de46838",
   "metadata": {},
   "outputs": [
    {
     "name": "stdout",
     "output_type": "stream",
     "text": [
      "['52797.txt', '52805.txt', '52783.txt', '52801.txt', '52787.txt', '52808.txt', '52794.txt', '52780.txt', '52813.txt', '52793.txt', '52798.txt', '52777.txt', '52792.txt', '52807.txt', '52781.txt', '52800.txt', '52776.txt', '52806.txt', '52779.txt', '52790.txt', '52775.txt', '52772.txt', '52799.txt', '52773.txt', '52811.txt', '52778.txt', '52782.txt', '52786.txt', '52771.txt', '52770.txt', '52804.txt', '52784.txt', '52802.txt', '52791.txt', '52768.txt', '52796.txt', '52767.txt', '52809.txt', '52774.txt', '52810.txt', '52812.txt', '52789.txt', '52803.txt', '52785.txt', '52795.txt', '52769.txt', '52788.txt']\n"
     ]
    }
   ],
   "source": [
    "# Crime and Not Entertainment\n",
    "print(list(set(text_files_data_Crime.keys()) - set(text_files_data_Entertainment.keys())))"
   ]
  },
  {
   "cell_type": "markdown",
   "id": "23ac0609-31bd-43ee-82ff-479e5baafea0",
   "metadata": {},
   "source": [
    "**We will look more closely at the other sets of documents to make sure there are no duplicates between them.**"
   ]
  },
  {
   "cell_type": "markdown",
   "id": "dae78814-7abc-4ef9-b8b0-be5d6b220fa5",
   "metadata": {},
   "source": [
    "## Science vs Politics \n",
    "\n",
    "**266** elements are in both the Science and Politics sets of documents"
   ]
  },
  {
   "cell_type": "code",
   "execution_count": 33,
   "id": "4ce0efac-4898-451c-81d2-450d9c8b51b1",
   "metadata": {},
   "outputs": [
    {
     "data": {
      "text/plain": [
       "3987"
      ]
     },
     "execution_count": 33,
     "metadata": {},
     "output_type": "execute_result"
    }
   ],
   "source": [
    "# Science, number of elements\n",
    "len(text_files_data_Science)"
   ]
  },
  {
   "cell_type": "code",
   "execution_count": 34,
   "id": "5eb981d6-d0a9-4122-90f0-7381fa6178b7",
   "metadata": {},
   "outputs": [
    {
     "data": {
      "text/plain": [
       "3000"
      ]
     },
     "execution_count": 34,
     "metadata": {},
     "output_type": "execute_result"
    }
   ],
   "source": [
    "# Politics, number of elements\n",
    "len(text_files_data_Politics)"
   ]
  },
  {
   "cell_type": "code",
   "execution_count": 35,
   "id": "81361f42-55ab-4b3c-a9a0-90e39b910ac0",
   "metadata": {},
   "outputs": [
    {
     "data": {
      "text/plain": [
       "266"
      ]
     },
     "execution_count": 35,
     "metadata": {},
     "output_type": "execute_result"
    }
   ],
   "source": [
    "# Intersection, Science vs Politics\n",
    "len(set(text_files_data_Science.keys()).intersection(set(text_files_data_Politics.keys())))"
   ]
  },
  {
   "cell_type": "markdown",
   "id": "afd3b1a9-72cc-4cda-9122-93eb6866c901",
   "metadata": {},
   "source": [
    "**266 documents are in both `Politics` and `Science`.**"
   ]
  },
  {
   "cell_type": "code",
   "execution_count": 36,
   "id": "89f40bb3-b6e2-41b5-b7cc-6d25bcc1adf8",
   "metadata": {},
   "outputs": [
    {
     "name": "stdout",
     "output_type": "stream",
     "text": [
      "Number of shared keys:\u001b[1m 266\u001b[0m\n",
      "\n",
      "The first five shared documents: ['54116.txt', '54117.txt', '54118.txt', '54119.txt', '54120.txt'].\n"
     ]
    }
   ],
   "source": [
    "# create a list of shared keys\n",
    "shared_keys_PvsS = list()\n",
    "for key in text_files_data_Science.keys():\n",
    "    if key in text_files_data_Politics:\n",
    "        shared_keys_PvsS.append(key)\n",
    "\n",
    "# number of shared keys\n",
    "print('Number of shared keys:' + color.BOLD + f' {len(shared_keys_PvsS)}' + color.END + '\\n')\n",
    "\n",
    "# the first five document keys\n",
    "print(f'The first five shared documents: {shared_keys_PvsS[:5]}.')"
   ]
  },
  {
   "cell_type": "markdown",
   "id": "e4f6e96d-5f5d-4c7c-92e5-5e6ad5887b55",
   "metadata": {},
   "source": [
    "## Science vs Crime"
   ]
  },
  {
   "cell_type": "code",
   "execution_count": 37,
   "id": "271ff7f7-8dd9-4276-8a0b-5431b83a1812",
   "metadata": {},
   "outputs": [
    {
     "data": {
      "text/plain": [
       "3987"
      ]
     },
     "execution_count": 37,
     "metadata": {},
     "output_type": "execute_result"
    }
   ],
   "source": [
    "# Science, number of elements\n",
    "len(text_files_data_Science)"
   ]
  },
  {
   "cell_type": "code",
   "execution_count": 38,
   "id": "aba551aa-be41-4310-8065-eb7ef2bed018",
   "metadata": {},
   "outputs": [
    {
     "data": {
      "text/plain": [
       "1099"
      ]
     },
     "execution_count": 38,
     "metadata": {},
     "output_type": "execute_result"
    }
   ],
   "source": [
    "# Intersection, Science vs Crime\n",
    "len(set(text_files_data_Science.keys()).intersection(set(text_files_data_Crime.keys())))"
   ]
  },
  {
   "cell_type": "code",
   "execution_count": 39,
   "id": "25c061b6-7570-461e-b431-bf7356900207",
   "metadata": {},
   "outputs": [
    {
     "data": {
      "text/plain": [
       "1099"
      ]
     },
     "execution_count": 39,
     "metadata": {},
     "output_type": "execute_result"
    }
   ],
   "source": [
    "# Crime, number of elements\n",
    "len(text_files_data_Crime)"
   ]
  },
  {
   "cell_type": "markdown",
   "id": "e1f056fa-a242-4e6a-a54c-76f14718c72a",
   "metadata": {},
   "source": [
    "**Every element in the `Crime` dataset is within the `Science` dataset.**"
   ]
  },
  {
   "cell_type": "markdown",
   "id": "2382a0d6-46bc-4a85-8eb8-34a9f45f5996",
   "metadata": {},
   "source": [
    "## Politics vs Crime"
   ]
  },
  {
   "cell_type": "code",
   "execution_count": 40,
   "id": "988f7d9a-be1c-4fd1-b499-a921378cd3ee",
   "metadata": {},
   "outputs": [
    {
     "data": {
      "text/plain": [
       "0"
      ]
     },
     "execution_count": 40,
     "metadata": {},
     "output_type": "execute_result"
    }
   ],
   "source": [
    "# Intersection, Politics vs Crime\n",
    "len(set(text_files_data_Politics.keys()).intersection(set(text_files_data_Crime.keys())))"
   ]
  },
  {
   "cell_type": "markdown",
   "id": "96660db6-0f97-4484-b7c6-5bdf360c9b25",
   "metadata": {},
   "source": [
    "**There is no overlap between the `Politics` and `Crime` datasets.  A classifier could be trained between them.**"
   ]
  },
  {
   "cell_type": "markdown",
   "id": "e08eb94b-b1e8-4d27-9567-80e0eb49578c",
   "metadata": {},
   "source": [
    "## Data Conclusions\n",
    "\n",
    "It has been found that everything in `Entertainment` is in `Crime`, and everything in `Crime` is in `Science`.  Thus, any attempt to train a classifier between `Science` and `Crime` or `Entertainment` will not work.  This is assuming that there is a uniform transformation done to each set of data.  \n",
    "\n",
    "There is no overlap between the `Politics` and `Crime` datasets, and there is slight overlap between the `Politics` and `Science` sets.  We could look at two different situations, one classifying between `Politics` and `Crime`, the other between `Politics` and `Science`.  But, the `Crime` set is a subset of the `Science` set.  So, creating a model between `Politics` and `Crime` is the same as creating a model between `Politics` and a subset of `Science`.  We will not do this.  Instead, we will focus exclusively on building models between `Politics` and `Science`."
   ]
  },
  {
   "cell_type": "markdown",
   "id": "e150e624-5edb-4ff0-9273-340586cce314",
   "metadata": {},
   "source": [
    "# Data Cleaning and Preperation"
   ]
  },
  {
   "cell_type": "markdown",
   "id": "fb1abd0f-d1dc-4a1b-89b1-ee790861be24",
   "metadata": {},
   "source": [
    "## Creating Transformed Data for Processing"
   ]
  },
  {
   "cell_type": "markdown",
   "id": "aced78b3-f162-4094-bd81-b0a0ab4c0953",
   "metadata": {},
   "source": [
    "There are several functions being used to perform the data cleaning transformations.  They can be found in two `.py` files that accompany this notebook (`readtextfunctions.py`, `datacleaning.py`).  \n",
    "\n",
    "All six functions in the `datacleaning.py` file are being used to transform the data.  \n",
    "The function `read_transform_text_files` is being used from the second.  "
   ]
  },
  {
   "cell_type": "code",
   "execution_count": 41,
   "id": "c2b6070a-7449-4d70-964d-ed90064e9471",
   "metadata": {},
   "outputs": [
    {
     "name": "stdout",
     "output_type": "stream",
     "text": [
      "/Users/blakewallace/Repositories/Exploring_AWS/Ch2_Classifying_Twitter_Feeds_with_Naive_Bayes/data/kaggle/Text_Classification_on_Documents/Politics/\n",
      "\n",
      "/Users/blakewallace/Repositories/Exploring_AWS/Ch2_Classifying_Twitter_Feeds_with_Naive_Bayes/data/kaggle/Text_Classification_on_Documents/Science/\n",
      "Error reading 15672.txt: 'utf-8' codec can't decode byte 0xa0 in position 896: invalid start byte\n",
      "Error reading 53721.txt: 'utf-8' codec can't decode byte 0xfd in position 195: invalid start byte\n",
      "Error reading 53803.txt: 'utf-8' codec can't decode byte 0xfd in position 285: invalid start byte\n",
      "Error reading 53883.txt: 'utf-8' codec can't decode byte 0xfd in position 390: invalid start byte\n",
      "Error reading 54070.txt: 'utf-8' codec can't decode byte 0xfe in position 176: invalid start byte\n",
      "Error reading 54071.txt: 'utf-8' codec can't decode byte 0xfe in position 209: invalid start byte\n",
      "Error reading 54485.txt: 'utf-8' codec can't decode byte 0xf6 in position 1532: invalid start byte\n",
      "Error reading 59055.txt: 'utf-8' codec can't decode byte 0xff in position 728: invalid start byte\n",
      "Error reading 59239.txt: 'utf-8' codec can't decode byte 0xed in position 540: invalid continuation byte\n",
      "Error reading 59535.txt: 'utf-8' codec can't decode byte 0xab in position 182: invalid start byte\n",
      "Error reading 61293.txt: 'utf-8' codec can't decode byte 0xa5 in position 931: invalid start byte\n",
      "Error reading 61534.txt: 'utf-8' codec can't decode byte 0xf8 in position 1650: invalid start byte\n",
      "Error reading 61556.txt: 'utf-8' codec can't decode byte 0xa5 in position 453: invalid start byte\n",
      "\n",
      "time: 173.406 seconds\n",
      "time: 2 minutes, 53.406 seconds\n"
     ]
    }
   ],
   "source": [
    "start_time = time.time()\n",
    "\n",
    "# utilize the `read_transform_text_files` function in the readtextfunctions file\n",
    "for directory in ['Politics', 'Science']:\n",
    "    folder_path = \"/Users/blakewallace/Repositories/Exploring_AWS/Ch2_Classifying_Twitter_Feeds_with_Naive_Bayes/data/kaggle/Text_Classification_on_Documents/\" + directory + \"/\"\n",
    "    print(folder_path)\n",
    "    globals()['transformed_text_data_{}'.format(directory)] = rtf.read_transform_text_files(folder_path)\n",
    "    print()\n",
    "\n",
    "# determine the amount of time it takes my local machine to execute the code in this cell\n",
    "end_time = round(time.time() - start_time, 3)\n",
    "print(f'time: {end_time} seconds')\n",
    "end_time_minutes = int(end_time/ 60)\n",
    "end_time_seconds = round(end_time % 60, 3)\n",
    "\n",
    "print(f'time: {end_time_minutes} minutes, {end_time_seconds} seconds')"
   ]
  },
  {
   "cell_type": "code",
   "execution_count": 42,
   "id": "4c83c0b5-6a83-4d02-acad-25d6d8663115",
   "metadata": {},
   "outputs": [
    {
     "data": {
      "text/plain": [
       "3000"
      ]
     },
     "execution_count": 42,
     "metadata": {},
     "output_type": "execute_result"
    }
   ],
   "source": [
    "len(transformed_text_data_Politics)"
   ]
  },
  {
   "cell_type": "code",
   "execution_count": 43,
   "id": "a2ba8914-f3cf-4735-afbb-0f7a1e675593",
   "metadata": {},
   "outputs": [
    {
     "data": {
      "text/plain": [
       "3987"
      ]
     },
     "execution_count": 43,
     "metadata": {},
     "output_type": "execute_result"
    }
   ],
   "source": [
    "len(transformed_text_data_Science)"
   ]
  },
  {
   "cell_type": "markdown",
   "id": "d4e9dc97-d9ef-4bc5-8193-2196d28f8546",
   "metadata": {},
   "source": [
    "## Remove Duplicate Data"
   ]
  },
  {
   "cell_type": "code",
   "execution_count": 44,
   "id": "4785d67f-897a-4ca4-89a0-2cfd8d1698bc",
   "metadata": {},
   "outputs": [
    {
     "data": {
      "text/plain": [
       "266"
      ]
     },
     "execution_count": 44,
     "metadata": {},
     "output_type": "execute_result"
    }
   ],
   "source": [
    "len(shared_keys_PvsS)"
   ]
  },
  {
   "cell_type": "code",
   "execution_count": 45,
   "id": "90c5fe76-a6b4-44b7-9ea1-44597ab0bdc4",
   "metadata": {},
   "outputs": [],
   "source": [
    "# remove the entries in the dictionaries `shared_keys_PvsS` with the shared keys between Politics and Science\n",
    "for key in shared_keys_PvsS:\n",
    "    transformed_text_data_Politics.pop(key)\n",
    "    transformed_text_data_Science.pop(key)"
   ]
  },
  {
   "cell_type": "code",
   "execution_count": 46,
   "id": "7ddfcea7-5422-42db-bcbd-916cc8db27a9",
   "metadata": {},
   "outputs": [
    {
     "data": {
      "text/plain": [
       "2734"
      ]
     },
     "execution_count": 46,
     "metadata": {},
     "output_type": "execute_result"
    }
   ],
   "source": [
    "len(transformed_text_data_Politics)"
   ]
  },
  {
   "cell_type": "code",
   "execution_count": 47,
   "id": "f579190e-70f6-4514-a919-b65958679e6b",
   "metadata": {},
   "outputs": [
    {
     "data": {
      "text/plain": [
       "3721"
      ]
     },
     "execution_count": 47,
     "metadata": {},
     "output_type": "execute_result"
    }
   ],
   "source": [
    "len(transformed_text_data_Science)"
   ]
  },
  {
   "cell_type": "markdown",
   "id": "e64db542-75da-4e53-8f52-4f4cd909c3aa",
   "metadata": {},
   "source": [
    "## Create Lists and Numpy Arrays of the Data"
   ]
  },
  {
   "cell_type": "code",
   "execution_count": 48,
   "id": "74652972-9a6d-48e8-94a3-aa11549e171d",
   "metadata": {},
   "outputs": [],
   "source": [
    "# Science Data\n",
    "Science_list_transformed = list()\n",
    "for key in transformed_text_data_Science:\n",
    "    Science_list_transformed.append(transformed_text_data_Science[key])\n",
    "\n",
    "Science_array_transformed = np.array(Science_list_transformed)"
   ]
  },
  {
   "cell_type": "code",
   "execution_count": 49,
   "id": "52f3e13b-1327-46a9-8632-f6e983a835dd",
   "metadata": {},
   "outputs": [],
   "source": [
    "# Politics Data\n",
    "Politics_list_transformed = list()\n",
    "for key in transformed_text_data_Politics:\n",
    "    Politics_list_transformed.append(transformed_text_data_Politics[key])\n",
    "\n",
    "Politics_array_transformed = np.array(Politics_list_transformed)"
   ]
  },
  {
   "cell_type": "markdown",
   "id": "cef289bc-9d30-406f-bdb4-545313c80b72",
   "metadata": {},
   "source": [
    "## Feature Vectorization"
   ]
  },
  {
   "cell_type": "markdown",
   "id": "f7bc7904-5ee4-4649-8569-b2d3874196d4",
   "metadata": {
    "jp-MarkdownHeadingCollapsed": true
   },
   "source": [
    "Two feature vectors for each data point will be considered, count vectorizer and tf_idf.  The first counts the number of occurences of each feature in the vocabulary that appear in the document.  The second weights each feature count by multiplying by a log transformation of the number of documents that which contain that feature.  The acutal formul for the tr-idf transformation is\n",
    "\n",
    "$$(\\text{number of times term } t \\text{ appears in document } d) \\times \\Big(\\text{log}\\frac{\\text{n}_d}{1 + \\text{df}(d,t)} + 1 \\Big),$$\n",
    "\n",
    "where n$_d$ is the total number of documents, and $\\text{df}(d,t)$ is the count of the number of documents $d$ that contain the term $t$.  This is the default calculation used within scikit-learn's `TfidfVectorizer` method."
   ]
  },
  {
   "cell_type": "markdown",
   "id": "46bd8fed-35c6-4856-adf2-7753386e54e6",
   "metadata": {},
   "source": [
    "### Create DataFrames"
   ]
  },
  {
   "cell_type": "markdown",
   "id": "0d6de64f-00bc-484c-b912-ce0262f3c1c2",
   "metadata": {},
   "source": [
    "#### Politics, label 1"
   ]
  },
  {
   "cell_type": "code",
   "execution_count": 50,
   "id": "c775e68b-e2d6-4454-a386-a7c8d1a055e6",
   "metadata": {},
   "outputs": [
    {
     "data": {
      "text/html": [
       "<div>\n",
       "<style scoped>\n",
       "    .dataframe tbody tr th:only-of-type {\n",
       "        vertical-align: middle;\n",
       "    }\n",
       "\n",
       "    .dataframe tbody tr th {\n",
       "        vertical-align: top;\n",
       "    }\n",
       "\n",
       "    .dataframe thead th {\n",
       "        text-align: right;\n",
       "    }\n",
       "</style>\n",
       "<table border=\"1\" class=\"dataframe\">\n",
       "  <thead>\n",
       "    <tr style=\"text-align: right;\">\n",
       "      <th></th>\n",
       "      <th>key</th>\n",
       "      <th>document</th>\n",
       "      <th>label</th>\n",
       "    </tr>\n",
       "  </thead>\n",
       "  <tbody>\n",
       "    <tr>\n",
       "      <th>0</th>\n",
       "      <td>124146.txt</td>\n",
       "      <td>cant find source state retract claim go dig on...</td>\n",
       "      <td>1</td>\n",
       "    </tr>\n",
       "    <tr>\n",
       "      <th>1</th>\n",
       "      <td>176845.txt</td>\n",
       "      <td>norway appear post place always escape underst...</td>\n",
       "      <td>1</td>\n",
       "    </tr>\n",
       "    <tr>\n",
       "      <th>2</th>\n",
       "      <td>176846.txt</td>\n",
       "      <td>main point human yet bear bind contract wrong ...</td>\n",
       "      <td>1</td>\n",
       "    </tr>\n",
       "    <tr>\n",
       "      <th>3</th>\n",
       "      <td>176847.txt</td>\n",
       "      <td>case dismiss interest authority ground dismiss...</td>\n",
       "      <td>1</td>\n",
       "    </tr>\n",
       "    <tr>\n",
       "      <th>4</th>\n",
       "      <td>176849.txt</td>\n",
       "      <td>tax protesters legally correct put jail anyway...</td>\n",
       "      <td>1</td>\n",
       "    </tr>\n",
       "    <tr>\n",
       "      <th>...</th>\n",
       "      <td>...</td>\n",
       "      <td>...</td>\n",
       "      <td>...</td>\n",
       "    </tr>\n",
       "    <tr>\n",
       "      <th>2729</th>\n",
       "      <td>77820.txt</td>\n",
       "      <td>armies attack suppose brave slaughter athletes...</td>\n",
       "      <td>1</td>\n",
       "    </tr>\n",
       "    <tr>\n",
       "      <th>2730</th>\n",
       "      <td>77821.txt</td>\n",
       "      <td>fair traditional jewish christian think actual...</td>\n",
       "      <td>1</td>\n",
       "    </tr>\n",
       "    <tr>\n",
       "      <th>2731</th>\n",
       "      <td>77822.txt</td>\n",
       "      <td>lovely arguments write historical ownership pl...</td>\n",
       "      <td>1</td>\n",
       "    </tr>\n",
       "    <tr>\n",
       "      <th>2732</th>\n",
       "      <td>77823.txt</td>\n",
       "      <td>anas much pay write</td>\n",
       "      <td>1</td>\n",
       "    </tr>\n",
       "    <tr>\n",
       "      <th>2733</th>\n",
       "      <td>77850.txt</td>\n",
       "      <td>say fact areas majority large group people one...</td>\n",
       "      <td>1</td>\n",
       "    </tr>\n",
       "  </tbody>\n",
       "</table>\n",
       "<p>2734 rows × 3 columns</p>\n",
       "</div>"
      ],
      "text/plain": [
       "             key                                           document  label\n",
       "0     124146.txt  cant find source state retract claim go dig on...      1\n",
       "1     176845.txt  norway appear post place always escape underst...      1\n",
       "2     176846.txt  main point human yet bear bind contract wrong ...      1\n",
       "3     176847.txt  case dismiss interest authority ground dismiss...      1\n",
       "4     176849.txt  tax protesters legally correct put jail anyway...      1\n",
       "...          ...                                                ...    ...\n",
       "2729   77820.txt  armies attack suppose brave slaughter athletes...      1\n",
       "2730   77821.txt  fair traditional jewish christian think actual...      1\n",
       "2731   77822.txt  lovely arguments write historical ownership pl...      1\n",
       "2732   77823.txt                                anas much pay write      1\n",
       "2733   77850.txt  say fact areas majority large group people one...      1\n",
       "\n",
       "[2734 rows x 3 columns]"
      ]
     },
     "execution_count": 50,
     "metadata": {},
     "output_type": "execute_result"
    }
   ],
   "source": [
    "politics_df = pd.DataFrame(transformed_text_data_Politics.keys(), columns=['key']).join(\n",
    "              pd.DataFrame(Politics_array_transformed, columns=['document']))\n",
    "\n",
    "politics_df['label'] = 1\n",
    "politics_df"
   ]
  },
  {
   "cell_type": "markdown",
   "id": "f1be4f09-9cac-45ae-8155-f0c51e032bc8",
   "metadata": {},
   "source": [
    "#### Science, label 0"
   ]
  },
  {
   "cell_type": "code",
   "execution_count": 51,
   "id": "26abed6a-ccf9-4bb1-95fe-d8be5b5972d6",
   "metadata": {},
   "outputs": [
    {
     "data": {
      "text/html": [
       "<div>\n",
       "<style scoped>\n",
       "    .dataframe tbody tr th:only-of-type {\n",
       "        vertical-align: middle;\n",
       "    }\n",
       "\n",
       "    .dataframe tbody tr th {\n",
       "        vertical-align: top;\n",
       "    }\n",
       "\n",
       "    .dataframe thead th {\n",
       "        text-align: right;\n",
       "    }\n",
       "</style>\n",
       "<table border=\"1\" class=\"dataframe\">\n",
       "  <thead>\n",
       "    <tr style=\"text-align: right;\">\n",
       "      <th></th>\n",
       "      <th>key</th>\n",
       "      <th>document</th>\n",
       "      <th>label</th>\n",
       "    </tr>\n",
       "  </thead>\n",
       "  <tbody>\n",
       "    <tr>\n",
       "      <th>0</th>\n",
       "      <td>14147.txt</td>\n",
       "      <td>post still rather rough list likely question i...</td>\n",
       "      <td>0</td>\n",
       "    </tr>\n",
       "    <tr>\n",
       "      <th>1</th>\n",
       "      <td>14831.txt</td>\n",
       "      <td>text usenet version title post list likely que...</td>\n",
       "      <td>0</td>\n",
       "    </tr>\n",
       "    <tr>\n",
       "      <th>2</th>\n",
       "      <td>14832.txt</td>\n",
       "      <td>text usenet version title live list potential ...</td>\n",
       "      <td>0</td>\n",
       "    </tr>\n",
       "    <tr>\n",
       "      <th>3</th>\n",
       "      <td>14982.txt</td>\n",
       "      <td>access try ftp rsa com login anonymous several...</td>\n",
       "      <td>0</td>\n",
       "    </tr>\n",
       "    <tr>\n",
       "      <th>4</th>\n",
       "      <td>14983.txt</td>\n",
       "      <td>sick part really like phrase merely threat lon...</td>\n",
       "      <td>0</td>\n",
       "    </tr>\n",
       "    <tr>\n",
       "      <th>...</th>\n",
       "      <td>...</td>\n",
       "      <td>...</td>\n",
       "      <td>...</td>\n",
       "    </tr>\n",
       "    <tr>\n",
       "      <th>3716</th>\n",
       "      <td>62615.txt</td>\n",
       "      <td>write staffer tell interest story cost team lo...</td>\n",
       "      <td>0</td>\n",
       "    </tr>\n",
       "    <tr>\n",
       "      <th>3717</th>\n",
       "      <td>62616.txt</td>\n",
       "      <td>sez object would interfere anyones enjoyment n...</td>\n",
       "      <td>0</td>\n",
       "    </tr>\n",
       "    <tr>\n",
       "      <th>3718</th>\n",
       "      <td>62708.txt</td>\n",
       "      <td>accord person talk propose billboard small res...</td>\n",
       "      <td>0</td>\n",
       "    </tr>\n",
       "    <tr>\n",
       "      <th>3719</th>\n",
       "      <td>62709.txt</td>\n",
       "      <td>x sure consider sacrilegious doubtfull credibi...</td>\n",
       "      <td>0</td>\n",
       "    </tr>\n",
       "    <tr>\n",
       "      <th>3720</th>\n",
       "      <td>62710.txt</td>\n",
       "      <td>existence undefined synonymous observable phys...</td>\n",
       "      <td>0</td>\n",
       "    </tr>\n",
       "  </tbody>\n",
       "</table>\n",
       "<p>3721 rows × 3 columns</p>\n",
       "</div>"
      ],
      "text/plain": [
       "            key                                           document  label\n",
       "0     14147.txt  post still rather rough list likely question i...      0\n",
       "1     14831.txt  text usenet version title post list likely que...      0\n",
       "2     14832.txt  text usenet version title live list potential ...      0\n",
       "3     14982.txt  access try ftp rsa com login anonymous several...      0\n",
       "4     14983.txt  sick part really like phrase merely threat lon...      0\n",
       "...         ...                                                ...    ...\n",
       "3716  62615.txt  write staffer tell interest story cost team lo...      0\n",
       "3717  62616.txt  sez object would interfere anyones enjoyment n...      0\n",
       "3718  62708.txt  accord person talk propose billboard small res...      0\n",
       "3719  62709.txt  x sure consider sacrilegious doubtfull credibi...      0\n",
       "3720  62710.txt  existence undefined synonymous observable phys...      0\n",
       "\n",
       "[3721 rows x 3 columns]"
      ]
     },
     "execution_count": 51,
     "metadata": {},
     "output_type": "execute_result"
    }
   ],
   "source": [
    "science_df = pd.DataFrame(transformed_text_data_Science.keys(), columns=['key']).join(\n",
    "             pd.DataFrame(Science_array_transformed, columns=['document']))\n",
    "\n",
    "science_df['label'] = 0\n",
    "science_df"
   ]
  },
  {
   "cell_type": "markdown",
   "id": "e2c0e682-26b7-4e4d-939c-20241e6ac3ce",
   "metadata": {},
   "source": [
    "#### Combined DataFrame"
   ]
  },
  {
   "cell_type": "code",
   "execution_count": 52,
   "id": "1f4368c5-a99f-4886-85d6-afbba4e40c77",
   "metadata": {},
   "outputs": [
    {
     "data": {
      "text/html": [
       "<div>\n",
       "<style scoped>\n",
       "    .dataframe tbody tr th:only-of-type {\n",
       "        vertical-align: middle;\n",
       "    }\n",
       "\n",
       "    .dataframe tbody tr th {\n",
       "        vertical-align: top;\n",
       "    }\n",
       "\n",
       "    .dataframe thead th {\n",
       "        text-align: right;\n",
       "    }\n",
       "</style>\n",
       "<table border=\"1\" class=\"dataframe\">\n",
       "  <thead>\n",
       "    <tr style=\"text-align: right;\">\n",
       "      <th></th>\n",
       "      <th>key</th>\n",
       "      <th>document</th>\n",
       "      <th>label</th>\n",
       "    </tr>\n",
       "  </thead>\n",
       "  <tbody>\n",
       "    <tr>\n",
       "      <th>0</th>\n",
       "      <td>124146.txt</td>\n",
       "      <td>cant find source state retract claim go dig on...</td>\n",
       "      <td>1</td>\n",
       "    </tr>\n",
       "    <tr>\n",
       "      <th>1</th>\n",
       "      <td>176845.txt</td>\n",
       "      <td>norway appear post place always escape underst...</td>\n",
       "      <td>1</td>\n",
       "    </tr>\n",
       "    <tr>\n",
       "      <th>2</th>\n",
       "      <td>176846.txt</td>\n",
       "      <td>main point human yet bear bind contract wrong ...</td>\n",
       "      <td>1</td>\n",
       "    </tr>\n",
       "    <tr>\n",
       "      <th>3</th>\n",
       "      <td>176847.txt</td>\n",
       "      <td>case dismiss interest authority ground dismiss...</td>\n",
       "      <td>1</td>\n",
       "    </tr>\n",
       "    <tr>\n",
       "      <th>4</th>\n",
       "      <td>176849.txt</td>\n",
       "      <td>tax protesters legally correct put jail anyway...</td>\n",
       "      <td>1</td>\n",
       "    </tr>\n",
       "  </tbody>\n",
       "</table>\n",
       "</div>"
      ],
      "text/plain": [
       "          key                                           document  label\n",
       "0  124146.txt  cant find source state retract claim go dig on...      1\n",
       "1  176845.txt  norway appear post place always escape underst...      1\n",
       "2  176846.txt  main point human yet bear bind contract wrong ...      1\n",
       "3  176847.txt  case dismiss interest authority ground dismiss...      1\n",
       "4  176849.txt  tax protesters legally correct put jail anyway...      1"
      ]
     },
     "execution_count": 52,
     "metadata": {},
     "output_type": "execute_result"
    }
   ],
   "source": [
    "data_df = pd.concat([politics_df.iloc[:2700], science_df.iloc[:2700]], axis=0)\n",
    "data_df.head()"
   ]
  },
  {
   "cell_type": "markdown",
   "id": "c117cfb1-18a7-4f16-97cc-4bc39cffc617",
   "metadata": {},
   "source": [
    "### Vectorize the Data"
   ]
  },
  {
   "cell_type": "code",
   "execution_count": 53,
   "id": "6dc023cf-84cb-4122-9432-19d982ae23f8",
   "metadata": {},
   "outputs": [],
   "source": [
    "X = data_df['document']\n",
    "y = data_df['label']"
   ]
  },
  {
   "cell_type": "code",
   "execution_count": 54,
   "id": "ac728e28-b5a4-4c10-90ca-151451d4cb2d",
   "metadata": {},
   "outputs": [
    {
     "data": {
      "text/plain": [
       "0       cant find source state retract claim go dig on...\n",
       "1       norway appear post place always escape underst...\n",
       "2       main point human yet bear bind contract wrong ...\n",
       "3       case dismiss interest authority ground dismiss...\n",
       "4       tax protesters legally correct put jail anyway...\n",
       "                              ...                        \n",
       "2695    restate thread go stimulate antidepressant unf...\n",
       "2696    theres chiropractor stand middle shop mall off...\n",
       "2697    want know follow scam theres chiropractor stan...\n",
       "2698    anyone know study long term health effect man ...\n",
       "2699    take antihistamines nights start paradoxical e...\n",
       "Name: document, Length: 5400, dtype: object"
      ]
     },
     "execution_count": 54,
     "metadata": {},
     "output_type": "execute_result"
    }
   ],
   "source": [
    "X"
   ]
  },
  {
   "cell_type": "code",
   "execution_count": 55,
   "id": "5a88a40f-4371-457a-bc8a-9e0d746e3199",
   "metadata": {},
   "outputs": [],
   "source": [
    "X_tr, X_test, y_tr, y_test = train_test_split(X,y, test_size=270, stratify=y, random_state=0)\n",
    "X_train, X_val, y_train, y_val = train_test_split(X_tr, y_tr, test_size=540, stratify=y_tr, random_state=0)"
   ]
  },
  {
   "cell_type": "code",
   "execution_count": 56,
   "id": "38831ffc-ab62-4a43-8e2b-f0a9ba1458c6",
   "metadata": {},
   "outputs": [
    {
     "name": "stdout",
     "output_type": "stream",
     "text": [
      "Training X: \u001b[1m5130\u001b[0m\n",
      "Training label: \u001b[1m5130\u001b[0m\n",
      "Validation X: \u001b[1m540\u001b[0m\n",
      "Validation label: \u001b[1m540\u001b[0m\n",
      "Testing X: \u001b[1m270\u001b[0m\n",
      "Testing label: \u001b[1m270\u001b[0m\n"
     ]
    }
   ],
   "source": [
    "print('Training X: ' + color.BOLD + f'{ len(X_tr)}' + color.END)\n",
    "print('Training label: ' + color.BOLD + f'{ len(y_tr)}' + color.END)\n",
    "print('Validation X: ' + color.BOLD + f'{ len(X_val)}' + color.END)\n",
    "print('Validation label: ' + color.BOLD + f'{ len(y_val)}' + color.END)\n",
    "print('Testing X: ' + color.BOLD + f'{ len(X_test)}' + color.END)\n",
    "print('Testing label: ' + color.BOLD + f'{ len(y_test)}' + color.END)"
   ]
  },
  {
   "cell_type": "code",
   "execution_count": 57,
   "id": "3b5b8dbe-9eb4-4dd3-a10c-bcc1655596d0",
   "metadata": {},
   "outputs": [
    {
     "data": {
      "text/plain": [
       "1    2295\n",
       "0    2295\n",
       "Name: label, dtype: int64"
      ]
     },
     "execution_count": 57,
     "metadata": {},
     "output_type": "execute_result"
    }
   ],
   "source": [
    "y_train.value_counts()"
   ]
  },
  {
   "cell_type": "code",
   "execution_count": 58,
   "id": "ede0c0d2-c42b-4a00-91d3-95590fc4f146",
   "metadata": {},
   "outputs": [
    {
     "data": {
      "text/plain": [
       "1    270\n",
       "0    270\n",
       "Name: label, dtype: int64"
      ]
     },
     "execution_count": 58,
     "metadata": {},
     "output_type": "execute_result"
    }
   ],
   "source": [
    "y_val.value_counts()"
   ]
  },
  {
   "cell_type": "code",
   "execution_count": 59,
   "id": "2f0ceaa8-aab5-4452-b6e6-63b2af2b2ee1",
   "metadata": {},
   "outputs": [
    {
     "data": {
      "text/plain": [
       "1    135\n",
       "0    135\n",
       "Name: label, dtype: int64"
      ]
     },
     "execution_count": 59,
     "metadata": {},
     "output_type": "execute_result"
    }
   ],
   "source": [
    "y_test.value_counts()"
   ]
  },
  {
   "cell_type": "code",
   "execution_count": 60,
   "id": "8a8febfe-72b0-4c3e-b1e2-f0c670124f59",
   "metadata": {},
   "outputs": [],
   "source": [
    "# Instantiate the \"CountVectorizer\" object, which is scikit-learn's bag of words tool.\n",
    "count_vectorizer = CountVectorizer(min_df=9/5000, max_df=0.5)           # remove any word not in at most 9 documents and any word in more than half the documents\n",
    "tfidf_vectorizer = TfidfVectorizer(min_df=9/5000, max_df=0.5)\n",
    "\n",
    "# count_vectorizer = CountVectorizer()           # remove any word not in at most 9 documents and any word in more than half the documents\n",
    "# tfidf_vectorizer = TfidfVectorizer()\n",
    "\n",
    "# fit the vectorizer to the Training set\n",
    "train_data_features_cvec = count_vectorizer.fit_transform(np.array(X_train))\n",
    "train_data_features_tfidf = tfidf_vectorizer.fit_transform(np.array(X_train))\n",
    "\n",
    "# use the trained vectorizer to transform the Validation set\n",
    "validation_data_features_cvec = count_vectorizer.transform(X_val)\n",
    "validation_data_features_tfidf = tfidf_vectorizer.transform(X_val)\n",
    "\n",
    "# train_data_features = train_data_features.toarray()\n"
   ]
  },
  {
   "cell_type": "code",
   "execution_count": 61,
   "id": "b19e0614-f49a-418c-935a-4cc4b0da2d79",
   "metadata": {},
   "outputs": [
    {
     "data": {
      "text/plain": [
       "matrix([[0, 0, 0, ..., 0, 0, 0],\n",
       "        [0, 0, 0, ..., 0, 0, 0],\n",
       "        [0, 0, 0, ..., 0, 0, 0],\n",
       "        ...,\n",
       "        [0, 0, 0, ..., 0, 0, 0],\n",
       "        [0, 0, 0, ..., 0, 0, 0],\n",
       "        [0, 0, 0, ..., 0, 0, 0]])"
      ]
     },
     "execution_count": 61,
     "metadata": {},
     "output_type": "execute_result"
    }
   ],
   "source": [
    "train_data_features_cvec.todense()"
   ]
  },
  {
   "cell_type": "code",
   "execution_count": 62,
   "id": "f3ac885f-12ce-483d-a517-c431c1b43098",
   "metadata": {},
   "outputs": [
    {
     "name": "stdout",
     "output_type": "stream",
     "text": [
      "(4590, 5501)\n",
      "(4590, 5501)\n"
     ]
    }
   ],
   "source": [
    "print(train_data_features_cvec.shape)\n",
    "print(train_data_features_tfidf.shape)"
   ]
  },
  {
   "cell_type": "code",
   "execution_count": 63,
   "id": "5ecd58e7-8335-4a1b-bb02-5e8cf4e827af",
   "metadata": {},
   "outputs": [
    {
     "name": "stdout",
     "output_type": "stream",
     "text": [
      "(540, 5501)\n",
      "(540, 5501)\n"
     ]
    }
   ],
   "source": [
    "print(validation_data_features_cvec.shape)\n",
    "print(validation_data_features_tfidf.shape)"
   ]
  },
  {
   "cell_type": "code",
   "execution_count": 64,
   "id": "b48e2c3a-6f9d-43fb-a179-c27e65c4a6b0",
   "metadata": {},
   "outputs": [
    {
     "data": {
      "text/plain": [
       "679     critisism easy solutions people would better l...\n",
       "2567    xxxviii turn notion ives funnel law want spy t...\n",
       "Name: document, dtype: object"
      ]
     },
     "execution_count": 64,
     "metadata": {},
     "output_type": "execute_result"
    }
   ],
   "source": [
    "X_train[:2]"
   ]
  },
  {
   "cell_type": "code",
   "execution_count": 65,
   "id": "cea66721-7f3e-4cce-9026-5a9dec600464",
   "metadata": {},
   "outputs": [
    {
     "data": {
      "text/plain": [
       "array([   0,    1,    2, ..., 4587, 4588, 4589])"
      ]
     },
     "execution_count": 65,
     "metadata": {},
     "output_type": "execute_result"
    }
   ],
   "source": [
    "np.arange(len(train_data_features_cvec.toarray()))"
   ]
  },
  {
   "cell_type": "code",
   "execution_count": 66,
   "id": "f62f5199-5bb2-4dbd-8a05-084811f5b7d3",
   "metadata": {},
   "outputs": [
    {
     "data": {
      "text/html": [
       "<div>\n",
       "<style scoped>\n",
       "    .dataframe tbody tr th:only-of-type {\n",
       "        vertical-align: middle;\n",
       "    }\n",
       "\n",
       "    .dataframe tbody tr th {\n",
       "        vertical-align: top;\n",
       "    }\n",
       "\n",
       "    .dataframe thead th {\n",
       "        text-align: right;\n",
       "    }\n",
       "</style>\n",
       "<table border=\"1\" class=\"dataframe\">\n",
       "  <thead>\n",
       "    <tr style=\"text-align: right;\">\n",
       "      <th></th>\n",
       "      <th>aaron</th>\n",
       "      <th>abandon</th>\n",
       "      <th>abdominal</th>\n",
       "      <th>abide</th>\n",
       "      <th>ability</th>\n",
       "      <th>able</th>\n",
       "      <th>abolish</th>\n",
       "      <th>abortion</th>\n",
       "      <th>abortions</th>\n",
       "      <th>abound</th>\n",
       "      <th>...</th>\n",
       "      <th>yourselfers</th>\n",
       "      <th>youth</th>\n",
       "      <th>yup</th>\n",
       "      <th>zero</th>\n",
       "      <th>zinc</th>\n",
       "      <th>zionism</th>\n",
       "      <th>zionist</th>\n",
       "      <th>zionists</th>\n",
       "      <th>zip</th>\n",
       "      <th>zone</th>\n",
       "    </tr>\n",
       "  </thead>\n",
       "  <tbody>\n",
       "    <tr>\n",
       "      <th>0</th>\n",
       "      <td>0</td>\n",
       "      <td>0</td>\n",
       "      <td>0</td>\n",
       "      <td>0</td>\n",
       "      <td>0</td>\n",
       "      <td>0</td>\n",
       "      <td>0</td>\n",
       "      <td>0</td>\n",
       "      <td>0</td>\n",
       "      <td>0</td>\n",
       "      <td>...</td>\n",
       "      <td>0</td>\n",
       "      <td>0</td>\n",
       "      <td>0</td>\n",
       "      <td>0</td>\n",
       "      <td>0</td>\n",
       "      <td>0</td>\n",
       "      <td>0</td>\n",
       "      <td>0</td>\n",
       "      <td>0</td>\n",
       "      <td>0</td>\n",
       "    </tr>\n",
       "    <tr>\n",
       "      <th>1</th>\n",
       "      <td>0</td>\n",
       "      <td>0</td>\n",
       "      <td>0</td>\n",
       "      <td>0</td>\n",
       "      <td>0</td>\n",
       "      <td>1</td>\n",
       "      <td>0</td>\n",
       "      <td>0</td>\n",
       "      <td>0</td>\n",
       "      <td>0</td>\n",
       "      <td>...</td>\n",
       "      <td>0</td>\n",
       "      <td>0</td>\n",
       "      <td>0</td>\n",
       "      <td>1</td>\n",
       "      <td>0</td>\n",
       "      <td>0</td>\n",
       "      <td>0</td>\n",
       "      <td>0</td>\n",
       "      <td>0</td>\n",
       "      <td>0</td>\n",
       "    </tr>\n",
       "    <tr>\n",
       "      <th>2</th>\n",
       "      <td>0</td>\n",
       "      <td>0</td>\n",
       "      <td>0</td>\n",
       "      <td>0</td>\n",
       "      <td>0</td>\n",
       "      <td>0</td>\n",
       "      <td>0</td>\n",
       "      <td>0</td>\n",
       "      <td>0</td>\n",
       "      <td>0</td>\n",
       "      <td>...</td>\n",
       "      <td>0</td>\n",
       "      <td>0</td>\n",
       "      <td>0</td>\n",
       "      <td>0</td>\n",
       "      <td>0</td>\n",
       "      <td>0</td>\n",
       "      <td>0</td>\n",
       "      <td>0</td>\n",
       "      <td>0</td>\n",
       "      <td>0</td>\n",
       "    </tr>\n",
       "    <tr>\n",
       "      <th>3</th>\n",
       "      <td>0</td>\n",
       "      <td>0</td>\n",
       "      <td>0</td>\n",
       "      <td>0</td>\n",
       "      <td>0</td>\n",
       "      <td>0</td>\n",
       "      <td>0</td>\n",
       "      <td>0</td>\n",
       "      <td>0</td>\n",
       "      <td>0</td>\n",
       "      <td>...</td>\n",
       "      <td>0</td>\n",
       "      <td>0</td>\n",
       "      <td>0</td>\n",
       "      <td>0</td>\n",
       "      <td>0</td>\n",
       "      <td>0</td>\n",
       "      <td>0</td>\n",
       "      <td>0</td>\n",
       "      <td>0</td>\n",
       "      <td>0</td>\n",
       "    </tr>\n",
       "    <tr>\n",
       "      <th>4</th>\n",
       "      <td>0</td>\n",
       "      <td>0</td>\n",
       "      <td>0</td>\n",
       "      <td>0</td>\n",
       "      <td>0</td>\n",
       "      <td>0</td>\n",
       "      <td>0</td>\n",
       "      <td>0</td>\n",
       "      <td>0</td>\n",
       "      <td>0</td>\n",
       "      <td>...</td>\n",
       "      <td>0</td>\n",
       "      <td>0</td>\n",
       "      <td>0</td>\n",
       "      <td>0</td>\n",
       "      <td>0</td>\n",
       "      <td>0</td>\n",
       "      <td>0</td>\n",
       "      <td>0</td>\n",
       "      <td>0</td>\n",
       "      <td>0</td>\n",
       "    </tr>\n",
       "  </tbody>\n",
       "</table>\n",
       "<p>5 rows × 5501 columns</p>\n",
       "</div>"
      ],
      "text/plain": [
       "   aaron  abandon  abdominal  abide  ability  able  abolish  abortion  \\\n",
       "0      0        0          0      0        0     0        0         0   \n",
       "1      0        0          0      0        0     1        0         0   \n",
       "2      0        0          0      0        0     0        0         0   \n",
       "3      0        0          0      0        0     0        0         0   \n",
       "4      0        0          0      0        0     0        0         0   \n",
       "\n",
       "   abortions  abound  ...  yourselfers  youth  yup  zero  zinc  zionism  \\\n",
       "0          0       0  ...            0      0    0     0     0        0   \n",
       "1          0       0  ...            0      0    0     1     0        0   \n",
       "2          0       0  ...            0      0    0     0     0        0   \n",
       "3          0       0  ...            0      0    0     0     0        0   \n",
       "4          0       0  ...            0      0    0     0     0        0   \n",
       "\n",
       "   zionist  zionists  zip  zone  \n",
       "0        0         0    0     0  \n",
       "1        0         0    0     0  \n",
       "2        0         0    0     0  \n",
       "3        0         0    0     0  \n",
       "4        0         0    0     0  \n",
       "\n",
       "[5 rows x 5501 columns]"
      ]
     },
     "execution_count": 66,
     "metadata": {},
     "output_type": "execute_result"
    }
   ],
   "source": [
    "X_train_df_cvec = pd.DataFrame(train_data_features_cvec.toarray(), \n",
    "                               index = np.arange(len(train_data_features_cvec.toarray())), \n",
    "                               columns = count_vectorizer.get_feature_names())\n",
    "X_train_df_cvec.head()"
   ]
  },
  {
   "cell_type": "code",
   "execution_count": 67,
   "id": "6fa1d22e-c4ec-4549-9d92-02f9430473d8",
   "metadata": {},
   "outputs": [
    {
     "data": {
      "text/html": [
       "<div>\n",
       "<style scoped>\n",
       "    .dataframe tbody tr th:only-of-type {\n",
       "        vertical-align: middle;\n",
       "    }\n",
       "\n",
       "    .dataframe tbody tr th {\n",
       "        vertical-align: top;\n",
       "    }\n",
       "\n",
       "    .dataframe thead th {\n",
       "        text-align: right;\n",
       "    }\n",
       "</style>\n",
       "<table border=\"1\" class=\"dataframe\">\n",
       "  <thead>\n",
       "    <tr style=\"text-align: right;\">\n",
       "      <th></th>\n",
       "      <th>aaron</th>\n",
       "      <th>abandon</th>\n",
       "      <th>abdominal</th>\n",
       "      <th>abide</th>\n",
       "      <th>ability</th>\n",
       "      <th>able</th>\n",
       "      <th>abolish</th>\n",
       "      <th>abortion</th>\n",
       "      <th>abortions</th>\n",
       "      <th>abound</th>\n",
       "      <th>...</th>\n",
       "      <th>yourselfers</th>\n",
       "      <th>youth</th>\n",
       "      <th>yup</th>\n",
       "      <th>zero</th>\n",
       "      <th>zinc</th>\n",
       "      <th>zionism</th>\n",
       "      <th>zionist</th>\n",
       "      <th>zionists</th>\n",
       "      <th>zip</th>\n",
       "      <th>zone</th>\n",
       "    </tr>\n",
       "  </thead>\n",
       "  <tbody>\n",
       "    <tr>\n",
       "      <th>0</th>\n",
       "      <td>0</td>\n",
       "      <td>0</td>\n",
       "      <td>0</td>\n",
       "      <td>0</td>\n",
       "      <td>0</td>\n",
       "      <td>0</td>\n",
       "      <td>0</td>\n",
       "      <td>0</td>\n",
       "      <td>0</td>\n",
       "      <td>0</td>\n",
       "      <td>...</td>\n",
       "      <td>0</td>\n",
       "      <td>0</td>\n",
       "      <td>0</td>\n",
       "      <td>0</td>\n",
       "      <td>0</td>\n",
       "      <td>0</td>\n",
       "      <td>0</td>\n",
       "      <td>0</td>\n",
       "      <td>0</td>\n",
       "      <td>0</td>\n",
       "    </tr>\n",
       "    <tr>\n",
       "      <th>1</th>\n",
       "      <td>0</td>\n",
       "      <td>0</td>\n",
       "      <td>0</td>\n",
       "      <td>0</td>\n",
       "      <td>0</td>\n",
       "      <td>0</td>\n",
       "      <td>0</td>\n",
       "      <td>0</td>\n",
       "      <td>0</td>\n",
       "      <td>0</td>\n",
       "      <td>...</td>\n",
       "      <td>0</td>\n",
       "      <td>0</td>\n",
       "      <td>0</td>\n",
       "      <td>0</td>\n",
       "      <td>0</td>\n",
       "      <td>0</td>\n",
       "      <td>0</td>\n",
       "      <td>0</td>\n",
       "      <td>0</td>\n",
       "      <td>0</td>\n",
       "    </tr>\n",
       "    <tr>\n",
       "      <th>2</th>\n",
       "      <td>0</td>\n",
       "      <td>0</td>\n",
       "      <td>0</td>\n",
       "      <td>0</td>\n",
       "      <td>0</td>\n",
       "      <td>0</td>\n",
       "      <td>0</td>\n",
       "      <td>0</td>\n",
       "      <td>0</td>\n",
       "      <td>0</td>\n",
       "      <td>...</td>\n",
       "      <td>0</td>\n",
       "      <td>0</td>\n",
       "      <td>0</td>\n",
       "      <td>0</td>\n",
       "      <td>0</td>\n",
       "      <td>0</td>\n",
       "      <td>0</td>\n",
       "      <td>0</td>\n",
       "      <td>0</td>\n",
       "      <td>0</td>\n",
       "    </tr>\n",
       "    <tr>\n",
       "      <th>3</th>\n",
       "      <td>0</td>\n",
       "      <td>0</td>\n",
       "      <td>0</td>\n",
       "      <td>0</td>\n",
       "      <td>0</td>\n",
       "      <td>1</td>\n",
       "      <td>0</td>\n",
       "      <td>0</td>\n",
       "      <td>0</td>\n",
       "      <td>0</td>\n",
       "      <td>...</td>\n",
       "      <td>0</td>\n",
       "      <td>0</td>\n",
       "      <td>0</td>\n",
       "      <td>0</td>\n",
       "      <td>0</td>\n",
       "      <td>0</td>\n",
       "      <td>0</td>\n",
       "      <td>0</td>\n",
       "      <td>0</td>\n",
       "      <td>0</td>\n",
       "    </tr>\n",
       "    <tr>\n",
       "      <th>4</th>\n",
       "      <td>0</td>\n",
       "      <td>0</td>\n",
       "      <td>0</td>\n",
       "      <td>0</td>\n",
       "      <td>0</td>\n",
       "      <td>0</td>\n",
       "      <td>0</td>\n",
       "      <td>0</td>\n",
       "      <td>0</td>\n",
       "      <td>0</td>\n",
       "      <td>...</td>\n",
       "      <td>0</td>\n",
       "      <td>0</td>\n",
       "      <td>0</td>\n",
       "      <td>0</td>\n",
       "      <td>0</td>\n",
       "      <td>0</td>\n",
       "      <td>0</td>\n",
       "      <td>0</td>\n",
       "      <td>0</td>\n",
       "      <td>0</td>\n",
       "    </tr>\n",
       "  </tbody>\n",
       "</table>\n",
       "<p>5 rows × 5501 columns</p>\n",
       "</div>"
      ],
      "text/plain": [
       "   aaron  abandon  abdominal  abide  ability  able  abolish  abortion  \\\n",
       "0      0        0          0      0        0     0        0         0   \n",
       "1      0        0          0      0        0     0        0         0   \n",
       "2      0        0          0      0        0     0        0         0   \n",
       "3      0        0          0      0        0     1        0         0   \n",
       "4      0        0          0      0        0     0        0         0   \n",
       "\n",
       "   abortions  abound  ...  yourselfers  youth  yup  zero  zinc  zionism  \\\n",
       "0          0       0  ...            0      0    0     0     0        0   \n",
       "1          0       0  ...            0      0    0     0     0        0   \n",
       "2          0       0  ...            0      0    0     0     0        0   \n",
       "3          0       0  ...            0      0    0     0     0        0   \n",
       "4          0       0  ...            0      0    0     0     0        0   \n",
       "\n",
       "   zionist  zionists  zip  zone  \n",
       "0        0         0    0     0  \n",
       "1        0         0    0     0  \n",
       "2        0         0    0     0  \n",
       "3        0         0    0     0  \n",
       "4        0         0    0     0  \n",
       "\n",
       "[5 rows x 5501 columns]"
      ]
     },
     "execution_count": 67,
     "metadata": {},
     "output_type": "execute_result"
    }
   ],
   "source": [
    "X_val_df_cvec = pd.DataFrame(validation_data_features_cvec.toarray(), \n",
    "                             index = np.arange(len(validation_data_features_cvec.toarray())), \n",
    "                             columns = count_vectorizer.get_feature_names())\n",
    "X_val_df_cvec.head()"
   ]
  },
  {
   "cell_type": "code",
   "execution_count": 68,
   "id": "91fabe01-63d2-47a5-b1e4-bd1c55c4d4d4",
   "metadata": {},
   "outputs": [
    {
     "data": {
      "text/html": [
       "<div>\n",
       "<style scoped>\n",
       "    .dataframe tbody tr th:only-of-type {\n",
       "        vertical-align: middle;\n",
       "    }\n",
       "\n",
       "    .dataframe tbody tr th {\n",
       "        vertical-align: top;\n",
       "    }\n",
       "\n",
       "    .dataframe thead th {\n",
       "        text-align: right;\n",
       "    }\n",
       "</style>\n",
       "<table border=\"1\" class=\"dataframe\">\n",
       "  <thead>\n",
       "    <tr style=\"text-align: right;\">\n",
       "      <th></th>\n",
       "      <th>aaron</th>\n",
       "      <th>abandon</th>\n",
       "      <th>abdominal</th>\n",
       "      <th>abide</th>\n",
       "      <th>ability</th>\n",
       "      <th>able</th>\n",
       "      <th>abolish</th>\n",
       "      <th>abortion</th>\n",
       "      <th>abortions</th>\n",
       "      <th>abound</th>\n",
       "      <th>...</th>\n",
       "      <th>yourselfers</th>\n",
       "      <th>youth</th>\n",
       "      <th>yup</th>\n",
       "      <th>zero</th>\n",
       "      <th>zinc</th>\n",
       "      <th>zionism</th>\n",
       "      <th>zionist</th>\n",
       "      <th>zionists</th>\n",
       "      <th>zip</th>\n",
       "      <th>zone</th>\n",
       "    </tr>\n",
       "  </thead>\n",
       "  <tbody>\n",
       "    <tr>\n",
       "      <th>0</th>\n",
       "      <td>0.0</td>\n",
       "      <td>0.0</td>\n",
       "      <td>0.0</td>\n",
       "      <td>0.0</td>\n",
       "      <td>0.0</td>\n",
       "      <td>0.000000</td>\n",
       "      <td>0.0</td>\n",
       "      <td>0.0</td>\n",
       "      <td>0.0</td>\n",
       "      <td>0.0</td>\n",
       "      <td>...</td>\n",
       "      <td>0.0</td>\n",
       "      <td>0.0</td>\n",
       "      <td>0.0</td>\n",
       "      <td>0.00000</td>\n",
       "      <td>0.0</td>\n",
       "      <td>0.0</td>\n",
       "      <td>0.0</td>\n",
       "      <td>0.0</td>\n",
       "      <td>0.0</td>\n",
       "      <td>0.0</td>\n",
       "    </tr>\n",
       "    <tr>\n",
       "      <th>1</th>\n",
       "      <td>0.0</td>\n",
       "      <td>0.0</td>\n",
       "      <td>0.0</td>\n",
       "      <td>0.0</td>\n",
       "      <td>0.0</td>\n",
       "      <td>0.006934</td>\n",
       "      <td>0.0</td>\n",
       "      <td>0.0</td>\n",
       "      <td>0.0</td>\n",
       "      <td>0.0</td>\n",
       "      <td>...</td>\n",
       "      <td>0.0</td>\n",
       "      <td>0.0</td>\n",
       "      <td>0.0</td>\n",
       "      <td>0.01132</td>\n",
       "      <td>0.0</td>\n",
       "      <td>0.0</td>\n",
       "      <td>0.0</td>\n",
       "      <td>0.0</td>\n",
       "      <td>0.0</td>\n",
       "      <td>0.0</td>\n",
       "    </tr>\n",
       "    <tr>\n",
       "      <th>2</th>\n",
       "      <td>0.0</td>\n",
       "      <td>0.0</td>\n",
       "      <td>0.0</td>\n",
       "      <td>0.0</td>\n",
       "      <td>0.0</td>\n",
       "      <td>0.000000</td>\n",
       "      <td>0.0</td>\n",
       "      <td>0.0</td>\n",
       "      <td>0.0</td>\n",
       "      <td>0.0</td>\n",
       "      <td>...</td>\n",
       "      <td>0.0</td>\n",
       "      <td>0.0</td>\n",
       "      <td>0.0</td>\n",
       "      <td>0.00000</td>\n",
       "      <td>0.0</td>\n",
       "      <td>0.0</td>\n",
       "      <td>0.0</td>\n",
       "      <td>0.0</td>\n",
       "      <td>0.0</td>\n",
       "      <td>0.0</td>\n",
       "    </tr>\n",
       "    <tr>\n",
       "      <th>3</th>\n",
       "      <td>0.0</td>\n",
       "      <td>0.0</td>\n",
       "      <td>0.0</td>\n",
       "      <td>0.0</td>\n",
       "      <td>0.0</td>\n",
       "      <td>0.000000</td>\n",
       "      <td>0.0</td>\n",
       "      <td>0.0</td>\n",
       "      <td>0.0</td>\n",
       "      <td>0.0</td>\n",
       "      <td>...</td>\n",
       "      <td>0.0</td>\n",
       "      <td>0.0</td>\n",
       "      <td>0.0</td>\n",
       "      <td>0.00000</td>\n",
       "      <td>0.0</td>\n",
       "      <td>0.0</td>\n",
       "      <td>0.0</td>\n",
       "      <td>0.0</td>\n",
       "      <td>0.0</td>\n",
       "      <td>0.0</td>\n",
       "    </tr>\n",
       "    <tr>\n",
       "      <th>4</th>\n",
       "      <td>0.0</td>\n",
       "      <td>0.0</td>\n",
       "      <td>0.0</td>\n",
       "      <td>0.0</td>\n",
       "      <td>0.0</td>\n",
       "      <td>0.000000</td>\n",
       "      <td>0.0</td>\n",
       "      <td>0.0</td>\n",
       "      <td>0.0</td>\n",
       "      <td>0.0</td>\n",
       "      <td>...</td>\n",
       "      <td>0.0</td>\n",
       "      <td>0.0</td>\n",
       "      <td>0.0</td>\n",
       "      <td>0.00000</td>\n",
       "      <td>0.0</td>\n",
       "      <td>0.0</td>\n",
       "      <td>0.0</td>\n",
       "      <td>0.0</td>\n",
       "      <td>0.0</td>\n",
       "      <td>0.0</td>\n",
       "    </tr>\n",
       "  </tbody>\n",
       "</table>\n",
       "<p>5 rows × 5501 columns</p>\n",
       "</div>"
      ],
      "text/plain": [
       "   aaron  abandon  abdominal  abide  ability      able  abolish  abortion  \\\n",
       "0    0.0      0.0        0.0    0.0      0.0  0.000000      0.0       0.0   \n",
       "1    0.0      0.0        0.0    0.0      0.0  0.006934      0.0       0.0   \n",
       "2    0.0      0.0        0.0    0.0      0.0  0.000000      0.0       0.0   \n",
       "3    0.0      0.0        0.0    0.0      0.0  0.000000      0.0       0.0   \n",
       "4    0.0      0.0        0.0    0.0      0.0  0.000000      0.0       0.0   \n",
       "\n",
       "   abortions  abound  ...  yourselfers  youth  yup     zero  zinc  zionism  \\\n",
       "0        0.0     0.0  ...          0.0    0.0  0.0  0.00000   0.0      0.0   \n",
       "1        0.0     0.0  ...          0.0    0.0  0.0  0.01132   0.0      0.0   \n",
       "2        0.0     0.0  ...          0.0    0.0  0.0  0.00000   0.0      0.0   \n",
       "3        0.0     0.0  ...          0.0    0.0  0.0  0.00000   0.0      0.0   \n",
       "4        0.0     0.0  ...          0.0    0.0  0.0  0.00000   0.0      0.0   \n",
       "\n",
       "   zionist  zionists  zip  zone  \n",
       "0      0.0       0.0  0.0   0.0  \n",
       "1      0.0       0.0  0.0   0.0  \n",
       "2      0.0       0.0  0.0   0.0  \n",
       "3      0.0       0.0  0.0   0.0  \n",
       "4      0.0       0.0  0.0   0.0  \n",
       "\n",
       "[5 rows x 5501 columns]"
      ]
     },
     "execution_count": 68,
     "metadata": {},
     "output_type": "execute_result"
    }
   ],
   "source": [
    "X_train_df_tfidf = pd.DataFrame(train_data_features_tfidf.toarray(), \n",
    "                                index = np.arange(len(train_data_features_tfidf.toarray())), \n",
    "                                columns = tfidf_vectorizer.get_feature_names())\n",
    "X_train_df_tfidf.head()"
   ]
  },
  {
   "cell_type": "code",
   "execution_count": 69,
   "id": "32da4abb-d85b-411e-834b-499a82f835e4",
   "metadata": {},
   "outputs": [
    {
     "data": {
      "text/html": [
       "<div>\n",
       "<style scoped>\n",
       "    .dataframe tbody tr th:only-of-type {\n",
       "        vertical-align: middle;\n",
       "    }\n",
       "\n",
       "    .dataframe tbody tr th {\n",
       "        vertical-align: top;\n",
       "    }\n",
       "\n",
       "    .dataframe thead th {\n",
       "        text-align: right;\n",
       "    }\n",
       "</style>\n",
       "<table border=\"1\" class=\"dataframe\">\n",
       "  <thead>\n",
       "    <tr style=\"text-align: right;\">\n",
       "      <th></th>\n",
       "      <th>aaron</th>\n",
       "      <th>abandon</th>\n",
       "      <th>abdominal</th>\n",
       "      <th>abide</th>\n",
       "      <th>ability</th>\n",
       "      <th>able</th>\n",
       "      <th>abolish</th>\n",
       "      <th>abortion</th>\n",
       "      <th>abortions</th>\n",
       "      <th>abound</th>\n",
       "      <th>...</th>\n",
       "      <th>yourselfers</th>\n",
       "      <th>youth</th>\n",
       "      <th>yup</th>\n",
       "      <th>zero</th>\n",
       "      <th>zinc</th>\n",
       "      <th>zionism</th>\n",
       "      <th>zionist</th>\n",
       "      <th>zionists</th>\n",
       "      <th>zip</th>\n",
       "      <th>zone</th>\n",
       "    </tr>\n",
       "  </thead>\n",
       "  <tbody>\n",
       "    <tr>\n",
       "      <th>0</th>\n",
       "      <td>0.0</td>\n",
       "      <td>0.0</td>\n",
       "      <td>0.0</td>\n",
       "      <td>0.0</td>\n",
       "      <td>0.0</td>\n",
       "      <td>0.00000</td>\n",
       "      <td>0.0</td>\n",
       "      <td>0.0</td>\n",
       "      <td>0.0</td>\n",
       "      <td>0.0</td>\n",
       "      <td>...</td>\n",
       "      <td>0.0</td>\n",
       "      <td>0.0</td>\n",
       "      <td>0.0</td>\n",
       "      <td>0.0</td>\n",
       "      <td>0.0</td>\n",
       "      <td>0.0</td>\n",
       "      <td>0.0</td>\n",
       "      <td>0.0</td>\n",
       "      <td>0.0</td>\n",
       "      <td>0.0</td>\n",
       "    </tr>\n",
       "    <tr>\n",
       "      <th>1</th>\n",
       "      <td>0.0</td>\n",
       "      <td>0.0</td>\n",
       "      <td>0.0</td>\n",
       "      <td>0.0</td>\n",
       "      <td>0.0</td>\n",
       "      <td>0.00000</td>\n",
       "      <td>0.0</td>\n",
       "      <td>0.0</td>\n",
       "      <td>0.0</td>\n",
       "      <td>0.0</td>\n",
       "      <td>...</td>\n",
       "      <td>0.0</td>\n",
       "      <td>0.0</td>\n",
       "      <td>0.0</td>\n",
       "      <td>0.0</td>\n",
       "      <td>0.0</td>\n",
       "      <td>0.0</td>\n",
       "      <td>0.0</td>\n",
       "      <td>0.0</td>\n",
       "      <td>0.0</td>\n",
       "      <td>0.0</td>\n",
       "    </tr>\n",
       "    <tr>\n",
       "      <th>2</th>\n",
       "      <td>0.0</td>\n",
       "      <td>0.0</td>\n",
       "      <td>0.0</td>\n",
       "      <td>0.0</td>\n",
       "      <td>0.0</td>\n",
       "      <td>0.00000</td>\n",
       "      <td>0.0</td>\n",
       "      <td>0.0</td>\n",
       "      <td>0.0</td>\n",
       "      <td>0.0</td>\n",
       "      <td>...</td>\n",
       "      <td>0.0</td>\n",
       "      <td>0.0</td>\n",
       "      <td>0.0</td>\n",
       "      <td>0.0</td>\n",
       "      <td>0.0</td>\n",
       "      <td>0.0</td>\n",
       "      <td>0.0</td>\n",
       "      <td>0.0</td>\n",
       "      <td>0.0</td>\n",
       "      <td>0.0</td>\n",
       "    </tr>\n",
       "    <tr>\n",
       "      <th>3</th>\n",
       "      <td>0.0</td>\n",
       "      <td>0.0</td>\n",
       "      <td>0.0</td>\n",
       "      <td>0.0</td>\n",
       "      <td>0.0</td>\n",
       "      <td>0.10084</td>\n",
       "      <td>0.0</td>\n",
       "      <td>0.0</td>\n",
       "      <td>0.0</td>\n",
       "      <td>0.0</td>\n",
       "      <td>...</td>\n",
       "      <td>0.0</td>\n",
       "      <td>0.0</td>\n",
       "      <td>0.0</td>\n",
       "      <td>0.0</td>\n",
       "      <td>0.0</td>\n",
       "      <td>0.0</td>\n",
       "      <td>0.0</td>\n",
       "      <td>0.0</td>\n",
       "      <td>0.0</td>\n",
       "      <td>0.0</td>\n",
       "    </tr>\n",
       "    <tr>\n",
       "      <th>4</th>\n",
       "      <td>0.0</td>\n",
       "      <td>0.0</td>\n",
       "      <td>0.0</td>\n",
       "      <td>0.0</td>\n",
       "      <td>0.0</td>\n",
       "      <td>0.00000</td>\n",
       "      <td>0.0</td>\n",
       "      <td>0.0</td>\n",
       "      <td>0.0</td>\n",
       "      <td>0.0</td>\n",
       "      <td>...</td>\n",
       "      <td>0.0</td>\n",
       "      <td>0.0</td>\n",
       "      <td>0.0</td>\n",
       "      <td>0.0</td>\n",
       "      <td>0.0</td>\n",
       "      <td>0.0</td>\n",
       "      <td>0.0</td>\n",
       "      <td>0.0</td>\n",
       "      <td>0.0</td>\n",
       "      <td>0.0</td>\n",
       "    </tr>\n",
       "  </tbody>\n",
       "</table>\n",
       "<p>5 rows × 5501 columns</p>\n",
       "</div>"
      ],
      "text/plain": [
       "   aaron  abandon  abdominal  abide  ability     able  abolish  abortion  \\\n",
       "0    0.0      0.0        0.0    0.0      0.0  0.00000      0.0       0.0   \n",
       "1    0.0      0.0        0.0    0.0      0.0  0.00000      0.0       0.0   \n",
       "2    0.0      0.0        0.0    0.0      0.0  0.00000      0.0       0.0   \n",
       "3    0.0      0.0        0.0    0.0      0.0  0.10084      0.0       0.0   \n",
       "4    0.0      0.0        0.0    0.0      0.0  0.00000      0.0       0.0   \n",
       "\n",
       "   abortions  abound  ...  yourselfers  youth  yup  zero  zinc  zionism  \\\n",
       "0        0.0     0.0  ...          0.0    0.0  0.0   0.0   0.0      0.0   \n",
       "1        0.0     0.0  ...          0.0    0.0  0.0   0.0   0.0      0.0   \n",
       "2        0.0     0.0  ...          0.0    0.0  0.0   0.0   0.0      0.0   \n",
       "3        0.0     0.0  ...          0.0    0.0  0.0   0.0   0.0      0.0   \n",
       "4        0.0     0.0  ...          0.0    0.0  0.0   0.0   0.0      0.0   \n",
       "\n",
       "   zionist  zionists  zip  zone  \n",
       "0      0.0       0.0  0.0   0.0  \n",
       "1      0.0       0.0  0.0   0.0  \n",
       "2      0.0       0.0  0.0   0.0  \n",
       "3      0.0       0.0  0.0   0.0  \n",
       "4      0.0       0.0  0.0   0.0  \n",
       "\n",
       "[5 rows x 5501 columns]"
      ]
     },
     "execution_count": 69,
     "metadata": {},
     "output_type": "execute_result"
    }
   ],
   "source": [
    "X_val_df_tfidf = pd.DataFrame(validation_data_features_tfidf.toarray(), \n",
    "                              index = np.arange(len(validation_data_features_tfidf.toarray())), \n",
    "                              columns = tfidf_vectorizer.get_feature_names())\n",
    "X_val_df_tfidf.head()"
   ]
  },
  {
   "cell_type": "code",
   "execution_count": 70,
   "id": "e13bf1dc-efe4-4fb3-a144-62a00e46dfc2",
   "metadata": {},
   "outputs": [
    {
     "name": "stdout",
     "output_type": "stream",
     "text": [
      "shape:\u001b[1m (4590, 4)\u001b[0m\n"
     ]
    },
    {
     "data": {
      "text/html": [
       "<div>\n",
       "<style scoped>\n",
       "    .dataframe tbody tr th:only-of-type {\n",
       "        vertical-align: middle;\n",
       "    }\n",
       "\n",
       "    .dataframe tbody tr th {\n",
       "        vertical-align: top;\n",
       "    }\n",
       "\n",
       "    .dataframe thead th {\n",
       "        text-align: right;\n",
       "    }\n",
       "</style>\n",
       "<table border=\"1\" class=\"dataframe\">\n",
       "  <thead>\n",
       "    <tr style=\"text-align: right;\">\n",
       "      <th></th>\n",
       "      <th>clean_training_data</th>\n",
       "      <th>label</th>\n",
       "      <th>count_vect</th>\n",
       "      <th>tf_idf</th>\n",
       "    </tr>\n",
       "  </thead>\n",
       "  <tbody>\n",
       "    <tr>\n",
       "      <th>679</th>\n",
       "      <td>critisism easy solutions people would better l...</td>\n",
       "      <td>1</td>\n",
       "      <td>[0, 0, 0, 0, 0, 0, 0, 0, 0, 0, 0, 0, 0, 0, 0, ...</td>\n",
       "      <td>[0.0, 0.0, 0.0, 0.0, 0.0, 0.0, 0.0, 0.0, 0.0, ...</td>\n",
       "    </tr>\n",
       "    <tr>\n",
       "      <th>2567</th>\n",
       "      <td>xxxviii turn notion ives funnel law want spy t...</td>\n",
       "      <td>1</td>\n",
       "      <td>[0, 0, 0, 0, 0, 1, 0, 0, 0, 0, 0, 0, 0, 0, 1, ...</td>\n",
       "      <td>[0.0, 0.0, 0.0, 0.0, 0.0, 0.006933648073445591...</td>\n",
       "    </tr>\n",
       "    <tr>\n",
       "      <th>1219</th>\n",
       "      <td>someting good mean forever go days leave house...</td>\n",
       "      <td>1</td>\n",
       "      <td>[0, 0, 0, 0, 0, 0, 0, 0, 0, 0, 0, 0, 0, 0, 0, ...</td>\n",
       "      <td>[0.0, 0.0, 0.0, 0.0, 0.0, 0.0, 0.0, 0.0, 0.0, ...</td>\n",
       "    </tr>\n",
       "    <tr>\n",
       "      <th>1323</th>\n",
       "      <td>x r say old keychains see simms silver keyring...</td>\n",
       "      <td>0</td>\n",
       "      <td>[0, 0, 0, 0, 0, 0, 0, 0, 0, 0, 0, 0, 0, 0, 0, ...</td>\n",
       "      <td>[0.0, 0.0, 0.0, 0.0, 0.0, 0.0, 0.0, 0.0, 0.0, ...</td>\n",
       "    </tr>\n",
       "    <tr>\n",
       "      <th>78</th>\n",
       "      <td>hmmm   intersting long message care libertaria...</td>\n",
       "      <td>1</td>\n",
       "      <td>[0, 0, 0, 0, 0, 0, 0, 0, 0, 0, 0, 0, 0, 0, 0, ...</td>\n",
       "      <td>[0.0, 0.0, 0.0, 0.0, 0.0, 0.0, 0.0, 0.0, 0.0, ...</td>\n",
       "    </tr>\n",
       "  </tbody>\n",
       "</table>\n",
       "</div>"
      ],
      "text/plain": [
       "                                    clean_training_data  label  \\\n",
       "679   critisism easy solutions people would better l...      1   \n",
       "2567  xxxviii turn notion ives funnel law want spy t...      1   \n",
       "1219  someting good mean forever go days leave house...      1   \n",
       "1323  x r say old keychains see simms silver keyring...      0   \n",
       "78    hmmm   intersting long message care libertaria...      1   \n",
       "\n",
       "                                             count_vect  \\\n",
       "679   [0, 0, 0, 0, 0, 0, 0, 0, 0, 0, 0, 0, 0, 0, 0, ...   \n",
       "2567  [0, 0, 0, 0, 0, 1, 0, 0, 0, 0, 0, 0, 0, 0, 1, ...   \n",
       "1219  [0, 0, 0, 0, 0, 0, 0, 0, 0, 0, 0, 0, 0, 0, 0, ...   \n",
       "1323  [0, 0, 0, 0, 0, 0, 0, 0, 0, 0, 0, 0, 0, 0, 0, ...   \n",
       "78    [0, 0, 0, 0, 0, 0, 0, 0, 0, 0, 0, 0, 0, 0, 0, ...   \n",
       "\n",
       "                                                 tf_idf  \n",
       "679   [0.0, 0.0, 0.0, 0.0, 0.0, 0.0, 0.0, 0.0, 0.0, ...  \n",
       "2567  [0.0, 0.0, 0.0, 0.0, 0.0, 0.006933648073445591...  \n",
       "1219  [0.0, 0.0, 0.0, 0.0, 0.0, 0.0, 0.0, 0.0, 0.0, ...  \n",
       "1323  [0.0, 0.0, 0.0, 0.0, 0.0, 0.0, 0.0, 0.0, 0.0, ...  \n",
       "78    [0.0, 0.0, 0.0, 0.0, 0.0, 0.0, 0.0, 0.0, 0.0, ...  "
      ]
     },
     "execution_count": 70,
     "metadata": {},
     "output_type": "execute_result"
    }
   ],
   "source": [
    "train_df = pd.concat([pd.DataFrame({\"clean_training_data\":X_train}, index=X_train.index), \n",
    "                      pd.DataFrame({\"label\":y_train}, index=X_train.index),\n",
    "                      pd.DataFrame({\"count_vect\":list(train_data_features_cvec.toarray())}, index=X_train.index), \n",
    "                      pd.DataFrame({\"tf_idf\":list(train_data_features_tfidf.toarray())}, index=X_train.index)\n",
    "                      ], \n",
    "                     axis=1)\n",
    "print('shape:' + color.BOLD + f' {train_df.shape}' + color.END)\n",
    "train_df.head()"
   ]
  },
  {
   "cell_type": "code",
   "execution_count": 71,
   "id": "4a28d3c0-8d96-4779-be6d-a924f17b59a4",
   "metadata": {},
   "outputs": [
    {
     "data": {
      "text/plain": [
       "20"
      ]
     },
     "execution_count": 71,
     "metadata": {},
     "output_type": "execute_result"
    }
   ],
   "source": [
    "train_data_features_cvec.toarray()[0].sum()"
   ]
  },
  {
   "cell_type": "code",
   "execution_count": 72,
   "id": "13e607ea-4658-4a45-afc5-e7173c045132",
   "metadata": {},
   "outputs": [
    {
     "data": {
      "text/plain": [
       "4.152509437971699"
      ]
     },
     "execution_count": 72,
     "metadata": {},
     "output_type": "execute_result"
    }
   ],
   "source": [
    "train_data_features_tfidf.toarray()[0].sum()"
   ]
  },
  {
   "cell_type": "code",
   "execution_count": 73,
   "id": "5ae3b340-eb28-4201-9ce8-32578a8ecf30",
   "metadata": {},
   "outputs": [
    {
     "name": "stdout",
     "output_type": "stream",
     "text": [
      "shape:\u001b[1m (540, 4)\u001b[0m\n"
     ]
    },
    {
     "data": {
      "text/html": [
       "<div>\n",
       "<style scoped>\n",
       "    .dataframe tbody tr th:only-of-type {\n",
       "        vertical-align: middle;\n",
       "    }\n",
       "\n",
       "    .dataframe tbody tr th {\n",
       "        vertical-align: top;\n",
       "    }\n",
       "\n",
       "    .dataframe thead th {\n",
       "        text-align: right;\n",
       "    }\n",
       "</style>\n",
       "<table border=\"1\" class=\"dataframe\">\n",
       "  <thead>\n",
       "    <tr style=\"text-align: right;\">\n",
       "      <th></th>\n",
       "      <th>clean_training_data</th>\n",
       "      <th>label</th>\n",
       "      <th>count_vect</th>\n",
       "      <th>tf_idf</th>\n",
       "    </tr>\n",
       "  </thead>\n",
       "  <tbody>\n",
       "    <tr>\n",
       "      <th>2195</th>\n",
       "      <td>fmgs citizens alien difficult situation citize...</td>\n",
       "      <td>0</td>\n",
       "      <td>[0, 0, 0, 0, 0, 0, 0, 0, 0, 0, 0, 0, 0, 0, 0, ...</td>\n",
       "      <td>[0.0, 0.0, 0.0, 0.0, 0.0, 0.0, 0.0, 0.0, 0.0, ...</td>\n",
       "    </tr>\n",
       "    <tr>\n",
       "      <th>2450</th>\n",
       "      <td>idea provide financial incentives select form ...</td>\n",
       "      <td>1</td>\n",
       "      <td>[0, 0, 0, 0, 0, 0, 0, 0, 0, 0, 0, 0, 0, 0, 0, ...</td>\n",
       "      <td>[0.0, 0.0, 0.0, 0.0, 0.0, 0.0, 0.0, 0.0, 0.0, ...</td>\n",
       "    </tr>\n",
       "    <tr>\n",
       "      <th>1311</th>\n",
       "      <td>accord numerous account compound fire start ar...</td>\n",
       "      <td>1</td>\n",
       "      <td>[0, 0, 0, 0, 0, 0, 0, 0, 0, 0, 0, 0, 0, 0, 0, ...</td>\n",
       "      <td>[0.0, 0.0, 0.0, 0.0, 0.0, 0.0, 0.0, 0.0, 0.0, ...</td>\n",
       "    </tr>\n",
       "    <tr>\n",
       "      <th>1715</th>\n",
       "      <td>battery go dead primarily becaust floor cold t...</td>\n",
       "      <td>0</td>\n",
       "      <td>[0, 0, 0, 0, 0, 1, 0, 0, 0, 0, 0, 0, 0, 0, 0, ...</td>\n",
       "      <td>[0.0, 0.0, 0.0, 0.0, 0.0, 0.10084027543920393,...</td>\n",
       "    </tr>\n",
       "    <tr>\n",
       "      <th>2390</th>\n",
       "      <td>question derive incident gas particles create ...</td>\n",
       "      <td>0</td>\n",
       "      <td>[0, 0, 0, 0, 0, 0, 0, 0, 0, 0, 0, 0, 0, 0, 0, ...</td>\n",
       "      <td>[0.0, 0.0, 0.0, 0.0, 0.0, 0.0, 0.0, 0.0, 0.0, ...</td>\n",
       "    </tr>\n",
       "  </tbody>\n",
       "</table>\n",
       "</div>"
      ],
      "text/plain": [
       "                                    clean_training_data  label  \\\n",
       "2195  fmgs citizens alien difficult situation citize...      0   \n",
       "2450  idea provide financial incentives select form ...      1   \n",
       "1311  accord numerous account compound fire start ar...      1   \n",
       "1715  battery go dead primarily becaust floor cold t...      0   \n",
       "2390  question derive incident gas particles create ...      0   \n",
       "\n",
       "                                             count_vect  \\\n",
       "2195  [0, 0, 0, 0, 0, 0, 0, 0, 0, 0, 0, 0, 0, 0, 0, ...   \n",
       "2450  [0, 0, 0, 0, 0, 0, 0, 0, 0, 0, 0, 0, 0, 0, 0, ...   \n",
       "1311  [0, 0, 0, 0, 0, 0, 0, 0, 0, 0, 0, 0, 0, 0, 0, ...   \n",
       "1715  [0, 0, 0, 0, 0, 1, 0, 0, 0, 0, 0, 0, 0, 0, 0, ...   \n",
       "2390  [0, 0, 0, 0, 0, 0, 0, 0, 0, 0, 0, 0, 0, 0, 0, ...   \n",
       "\n",
       "                                                 tf_idf  \n",
       "2195  [0.0, 0.0, 0.0, 0.0, 0.0, 0.0, 0.0, 0.0, 0.0, ...  \n",
       "2450  [0.0, 0.0, 0.0, 0.0, 0.0, 0.0, 0.0, 0.0, 0.0, ...  \n",
       "1311  [0.0, 0.0, 0.0, 0.0, 0.0, 0.0, 0.0, 0.0, 0.0, ...  \n",
       "1715  [0.0, 0.0, 0.0, 0.0, 0.0, 0.10084027543920393,...  \n",
       "2390  [0.0, 0.0, 0.0, 0.0, 0.0, 0.0, 0.0, 0.0, 0.0, ...  "
      ]
     },
     "execution_count": 73,
     "metadata": {},
     "output_type": "execute_result"
    }
   ],
   "source": [
    "validation_df = pd.concat([pd.DataFrame({\"clean_training_data\":X_val}), \n",
    "                           pd.DataFrame({\"label\":y_val}, index=X_val.index),\n",
    "                           pd.DataFrame({\"count_vect\":list(validation_data_features_cvec.toarray())}, index=X_val.index), \n",
    "                           pd.DataFrame({\"tf_idf\":list(validation_data_features_tfidf.toarray())}, index=X_val.index)], \n",
    "                          axis=1)\n",
    "print('shape:' + color.BOLD + f' {validation_df.shape}' + color.END)\n",
    "validation_df.head()"
   ]
  },
  {
   "cell_type": "code",
   "execution_count": null,
   "id": "0e882095",
   "metadata": {},
   "outputs": [],
   "source": []
  },
  {
   "cell_type": "code",
   "execution_count": null,
   "id": "eb0affde",
   "metadata": {},
   "outputs": [],
   "source": []
  },
  {
   "cell_type": "code",
   "execution_count": 74,
   "id": "21c00053",
   "metadata": {},
   "outputs": [
    {
     "data": {
      "image/png": "[encoded data removed]",
      "text/plain": [
       "<Figure size 720x576 with 2 Axes>"
      ]
     },
     "metadata": {
      "needs_background": "light"
     },
     "output_type": "display_data"
    }
   ],
   "source": [
    "import seaborn as sns\n",
    "import matplotlib.pyplot as plt\n",
    "from matplotlib.colors import LinearSegmentedColormap\n",
    "import numpy as np\n",
    "import pandas as pd\n",
    "\n",
    "# Generate a sample dataset\n",
    "np.random.seed(0)\n",
    "# data = pd.DataFrame(np.random.rand(10, 10), columns=[f'col_{i}' for i in range(10)])\n",
    "data = X_train_df_cvec.loc[90:100,:'document']\n",
    "colors = [\"black\", \"yellow\"]\n",
    "cmap = LinearSegmentedColormap.from_list(\"grey_yellow\", colors)\n",
    "\n",
    "# Create the heatmap\n",
    "plt.figure(figsize=(10, 8))  # Adjust figure size for better visualization\n",
    "# sns.heatmap(data, annot=True, cmap='viridis', fmt=\".2f\", linewidths=.5, cbar_kws={\"shrink\": .8})\n",
    "sns.heatmap(data, annot=False, cmap=cmap)\n",
    "\n",
    "\n",
    "# Customize the heatmap\n",
    "plt.title('Sample Heatmap', fontsize=16)\n",
    "plt.xlabel('Columns', fontsize=12)\n",
    "plt.ylabel('Rows', fontsize=12)\n",
    "\n",
    "# Show the plot\n",
    "plt.show()"
   ]
  },
  {
   "cell_type": "code",
   "execution_count": 75,
   "id": "77d9e17a",
   "metadata": {},
   "outputs": [
    {
     "data": {
      "text/plain": [
       "group    42\n",
       "Name: 1, dtype: int64"
      ]
     },
     "execution_count": 75,
     "metadata": {},
     "output_type": "execute_result"
    }
   ],
   "source": [
    "X_train_df_cvec.loc[1, :][X_train_df_cvec.loc[1, :] == 42]"
   ]
  },
  {
   "cell_type": "code",
   "execution_count": 76,
   "id": "47764830",
   "metadata": {},
   "outputs": [
    {
     "data": {
      "text/plain": [
       "array([42, 35, 32, 31, 28, 23, 23, 21, 20, 20, 17, 16, 15, 15, 14, 14, 13,\n",
       "       12, 11, 11, 11, 11, 11,  9,  9])"
      ]
     },
     "execution_count": 76,
     "metadata": {},
     "output_type": "execute_result"
    }
   ],
   "source": [
    "np.sort(X_train_df_cvec.loc[1,:][X_train_df_cvec.loc[1, :] != 0])[::-1][:25]"
   ]
  },
  {
   "cell_type": "code",
   "execution_count": 77,
   "id": "9a2abd6a",
   "metadata": {},
   "outputs": [
    {
     "data": {
      "text/plain": [
       "'xxxviii turn notion ives funnel law want spy teenager read three saga penetrate become american folk hero build dossiers unsuspecting colleagues time produce film portray informer quintessential american patriot lead three live informant member private citizen mayor even proclaim present spy plaque shy young man come term homosexuality straight arrow life double agent perfect way hide lifestyle fight menace fascinate recently tell federal investigators think would try infiltrate go american delegation give full report return photos take soviet military vehicles hook next two years work unpaid informant find true call become pay spy activities center biggest domestic spy scandal recent american history scandal may end criminal indictment year period compile computer file individuals group political strip include group solidarity group anti apartheid organizations even spy recently slay south african nationalist visit  sell many file anti apartheid activists intelligence pay nearly   use prominent attorney conduit order conceal financial relationship last month police raid offices home confiscate computer file box document accord court record file contain drivers license vehicle registration information addition criminal histories individuals much allegedly steal police computers tell copy virtually everything computer data base give office base evidence say police affidavit believe numerous peace officer supply confidential criminal information whats investigate tap phone access answer machine assume false identities infiltrate organizations document seize home also contain evidence foray trash name phone number employees telephone message slip staff members include name phone number callers  office correspondence list name return address senders inter office memos also receipt bank account itemize cancel check name payees date amount even know balance check account investigations police reveal share least spy gather material israeli government officials whats apparently use tip detain palestinian travel establish defend later minority group discrimination lead fight racist fascist group american champion civil right movement also darker side late spy leftists share investigative file swing sharply right administration become bastion neoconservatism repentant head powerful real danger pose right coalition leftists black view threaten fabric democracy state tradition ideological soulmate direct vast network informants give code name spy reportedly pose priest years journalists liberal members community know spy right wing hate group long target anti semitic organizations one seem particularly trouble case reveal also spy group nonviolent progressive orientation apparent massive violation civil liberties may end criminal indictment investigation begin human right group face possible criminal prosecution many felony count include indictment gain illegal access police computers say one source close investigation cent certain indict wake investigation police probe spy spread part country receive numerous complaints spy  say spokesperson mayors office base african self help group allegedly spy write request immediate investigation action cause great concern direct flagrant violation minimum civil rights    we call join to   bring end latest form spokesperson office say evidence warrant sort investigation add offer assist office pending investigation far ask assistance acknowledge share information violence prone group law enforcement officials also admit maintain extensive file wide variety organizations say two page press release vast majority file compose news clip magazine article book journals document make clear countenance violations law part anyone connect agency process gather information presently review insure laws violate thats say public consumption morale low employees complain sleepless nights cry fit even jewish group circle wagons show solidarity many hold nose jewish officials privately say decide human right group secret police agency regard community community definitive source information anti extremist group say former executive director base group monitor anti racism hate group one things scandal completely taint credibility reputation regard objectivity scandal go devastate blow community large people regard synonymous american bullocks talents snoop extreme conservatism mesh worldview move become spy week almost always use real name snoop call correspond supporters governor provide office write report transmit head accord court record stewardship become heart soul locate national headquarter department assemble vast library hate group cull material publications speeches informants report adept lead double life long move ingratiate woman help gain access group office find file right wingers keep discovery give rise speculation office somehow penetrate focus almost exclusively right wing extremist group early head replace encourage target leave years later move pose art dealer fact finder infiltrate local community expose ensue scandal die order penetrate especially concern american found former senator combat bash page dirty trick handbook penetration destabilization join recruit group apparently try discredit accord publish report send attend annual congress accord court document tell find source group fund unable follow money good job ingratiate appoint head delegation visit member surprise penetrate organizations acute paranoia explain interest group far concern gay group heavily infiltrate call gay leave revolutionaries prompt write activities soon expand horizons move shadowy realm foreign espionage head office introduce detective work demolitions expert early apparently pass interest right wing death squads search briefcase find extensive literature torture interrogation photos blindfold chain men passports make different name include remote jungle island redoubt flee last tell blow lid involvement latin american death squads indict spy case first encounter office lunch like right later tell police investigator report interrogation obtain charm roguish character great deal integrity let say consider one finest policemen ever work absolutely capable intelligent percent long provide confidential report various group individuals turn give classify police intelligence file local skinheads others tell material end report would say percent data get name address sometimes physical description criminal history rarely tell investigators also give chart outline vast network businessmen organizations allegedly tie terror group surveillance photos receive weapons train overseas claim give photos understand would careful information give would release law enforcement officer say report nothing unusual cozy relationship law enforcement mid swap file hundreds official friends organizations euphemism law enforcement intelligence source relationship counterterrorism office close report arab american group covert tie terrorists must read accident police find classify report entitle search office spook investigate seven study universities student visa discover disseminate literature inform turn take case order students deport subversives regional director gloat offices cooperation law enforcement backpedal deportation still appeal work quietly top cop enjoy similar tie spy agencies charge leaders vehemently deny early   director write executive secretary request  investigators information boast addition essential operations great value service data make available countries full knowledge source come scrutiny wake spy scandal assign access closely guard secrets steal thousands page classify document accord federal prosecutors could fill room size large closet   ten feet six feet six feet pollard handler air force colonel wife work lawyer later write friends prominent leader deeply involve spy operation proof anyone connect involve evidence freely pass information intelligence interrogate fact finder fire illegally obtain police information use rival pointedly ask ever transmit information admit learn law enforcement contact allegedly member radical faction schedule travel en route phone deputy consul general information later day accord page interview obtain  call back another man say ask repeat information get man name conversation felt confident man actually israeli official name private citizens police find file mohammed year old resident arrest  allegedly distribute hundreds thousands dollars hamas large fundamentalist movement office run least three undercover informants work official friends local law enforcement accord document release source close give facts arab american group surmise pass information intelligence one technique use monitor large arab community scan local press funeral notice accord source familiar practice investigators unmarked vans videotape funerals sometimes turn rally palestinians detain simply basis film attend funeral accord executive director cousin arab member shortly israeli government announce run money operational instructions relay courier fax israels charge play front page accord place source fact finder work closely officials campaign vilification introduce friendly reporters official friends law enforcement fluent prepare report fund identify base association front organization infrastructure function interlock network organizations small businesses individual activists say report outline organizations development activities college campuses metamorphosis also trace fundraise plethora allege front group doubtful could compile sophisticate data help official friends spy refuse comment use talk many three time week opposition researcher spy operation disclose last summer level cooperation close say recent phone conservation graduate school felt file lack contact year old human right worker win   recall fax man entire police file obtain embassy arrest numerous time confess member severely torture jabarin receive short jail term become course terrorist order keep tabs receive award call representative human right group employ obtain itinerary even open file musician present award may able rationalize close monitor even leave wing gay revolutionaries far harder time explain obsession spy anti apartheid activists tell start work fact finder  file already bulge information african connection anti apartheid group confirm routinely collect information persons engage anti apartheid activities say report say file office date estimate oldest material anti apartheid activities date back late parallel rise power deepen tie jewish state say report   interview anti apartheid demonstration hold south african participate demonstration socialist workers party go two demonstration plan sessions subsequent demonstration write report plan sessions demonstration copy report disseminate others care office learn consul general south african would speak meet organize head anti suspect know say report suggest might want warn agree inform cancel appearance months later phone tell south african intelligence officer want meet rendezvous hotel say interest acquire information american anti apartheid activists call also ask information group advocate divestments present meet say report tell humphries employ cia    humphries offer pay month exchange information note much information say want already possession sell information intelligence receive steady raise split evenly say impression never explicitly tell never ask may tell contact say report say know resident agent drop residence follow meet replace handler  say go go office may task recall meet go conduct investigation behalf say report target investigation group call learn woman name delete transport money tell gerard later tell guy would like know ask would go back gather information however never go back also seem close relationship may start go junket israel frequently sponsor trip american law enforcement officials israel win din meet counterparts various intelligence agencies accord affidavit police inspector expense pay trip less thank gift liaison gesture continue close relationships specific law enforcement officer may like saw short time travel go help rescue ethiopian relationship deepen talk openly exploit recall mention business discuss safehouses say report respond intelligence determine cooperate also speak travel also tell adventure intelligence officer trade war stories regale tales narrow scrap still much mystery trigger law enforcements investigation probably theft classify report nation office arm search warrant recover report office say send copy director fact find division prepare op ed piece  argue receive federal fund reconstruction group anti violence prone arrange police junket attend testify criminal trial work months later subcontractor join trial admit share information official invitation conference question last fall flee extradition treaty believe supply information police computers report may charge violate federal espionage laws work years praise memo number one investigator argue rogue agent defense also assert fact finders operate differently journalists ask officials journalists keep file difference practice journalism method gather information strike journalists place information public domain hold accountable falsehoods distortions libel part journalists share investigative file foreign domestic police agencies inhibition many file open public scrutiny false information collect ideologically bias researchers cannot correct proud human right group become jewish think police say human right group jews everyone say highly respect researcher base monitor right wing extremist group thats fine cant spy blatantly unethical frankly immoral argument people wear four hat hat independently appropriate broad base human right group look broad issue prejudice discrimination group defend defamation entirely noble nothing wrong hat group leaders least consistently defend action critics entirely appropriate group maintain information share arrangement law enforcement nothing wrong group cant four impossible four violate bound ethics theres build conflict interest wear four hat national director apparently see conflict letter  complain proud year record fight bigotry promote civil right constitutional freedoms imputation effort motive part smear stifle free speech anyone false baseless piece spy  describe dissemination information slander existence file token inclination depiction mislead several ways virtually every journalist academic politician organization keep file subject deem relevant trace logic reckless charge tantamount disseminate public record public figure neither defamation many believe increasingly defamation business leaders past target smear time exonerate fascist assist covert war policy endorse leaders early researchers ask meet fact find head discuss work anti view really terrific investigator say introduce say lean back chair basically run dossier political activities work organizations belong try blow away succeed admirably sit mouth open feel uncomfortable lean forward say right wing problem leave wing problem biggest problem world american leave biggest threat wrong track part problem stun virtually tear perceive basically stumble daze letter response article xxxviii assault spy demonstrate axe grind prejudice bias agenda promote also demonstrate concern accurate report far list story replete inaccuracies innuendos outright falsehoods convey picture divorce reality farcical even wrong basic easily determine facts found build office locate build picture work fight haters years spy organizations individuals profound respect law mission monitor expose anti racist anti democratic violence prone monitor primarily read publications attend public meet years publish score report anti emanate leave right fact bias lead assume contrary primary concern still far right extremist organizations highly secretive sometimes learn activities use undercover source friedmans hyperbole source function manner directly analogous investigative journalists perform great service american people example uncover existence right wing extremist paramilitary train camp recognition considerable personal risk information obtain place public domain years establish reputation accurate report friedmans article contrast contain much misinformation would take article equally long set record straight examples state leader deeply involve spy operation handlers wife work lawyer true also state investigators unmarked vans videotape palestinian funerals true elsewhere assert obsess spy anti apartheid activists true could go course reveal source distortion game play mention number reveal lack objectivity come much pay week independent contractor employee important distinction also fail make include zero  invite reader see large number contrast observe pay nearly   choose point amount little  year hardly excessive sum accurate story description four hat look broad issue prejudice discrimination defend critics maintain information share relationship law enforcement regard extremist activities hate crimes see conflict four activities believe readers either compare investigative journalists absurd journalists spy anti apartheid activists freely pass file south african israeli intelligence accord police confessions two pay investigators buttress page court document interview spy group neither anti violent confiscate file hundreds mainstream group range respect intellectuals scholars disagree political view end blacklist reputations smear private organizations business pay operatives police departments spy say editorial  condemn spy police arm search warrant raid offices conclude employees apparently less truthful voluntarily turn document earlier search accord police inspector swear affidavit also assert pay employee fail pay tax  income pay bullock could face total felony count accord court paper may also face felony charge illegally obtain confidential information police computers errors found move original tenant build show photo move months never write leader deeply involve spy operation report make charge court paper lawyer say wife handler work bias side'"
      ]
     },
     "execution_count": 77,
     "metadata": {},
     "output_type": "execute_result"
    }
   ],
   "source": [
    "X_train.iloc[1]"
   ]
  },
  {
   "cell_type": "code",
   "execution_count": 78,
   "id": "fb286b6f",
   "metadata": {},
   "outputs": [],
   "source": [
    "my_dict = count_vectorizer.vocabulary_\n",
    "\n",
    "sorted_dict = dict(sorted(my_dict.items()))\n",
    "\n",
    "# print(sorted_dict)"
   ]
  },
  {
   "cell_type": "code",
   "execution_count": null,
   "id": "ba570f0f",
   "metadata": {},
   "outputs": [],
   "source": []
  },
  {
   "cell_type": "code",
   "execution_count": null,
   "id": "6a712ce1",
   "metadata": {},
   "outputs": [],
   "source": []
  },
  {
   "cell_type": "code",
   "execution_count": null,
   "id": "705faf68",
   "metadata": {},
   "outputs": [],
   "source": []
  },
  {
   "cell_type": "markdown",
   "id": "cd8f73bc-ac91-4e0e-9f19-6c4357b3dfab",
   "metadata": {},
   "source": [
    "# Predictive Models"
   ]
  },
  {
   "cell_type": "markdown",
   "id": "9430dc62-95ce-44d2-b77e-6786ce06e7e6",
   "metadata": {},
   "source": [
    "## Create Results DataFrame"
   ]
  },
  {
   "cell_type": "code",
   "execution_count": 79,
   "id": "2cfa9817-55b5-42a3-82f6-41fee3eaea46",
   "metadata": {},
   "outputs": [
    {
     "data": {
      "text/html": [
       "<div>\n",
       "<style scoped>\n",
       "    .dataframe tbody tr th:only-of-type {\n",
       "        vertical-align: middle;\n",
       "    }\n",
       "\n",
       "    .dataframe tbody tr th {\n",
       "        vertical-align: top;\n",
       "    }\n",
       "\n",
       "    .dataframe thead th {\n",
       "        text-align: right;\n",
       "    }\n",
       "</style>\n",
       "<table border=\"1\" class=\"dataframe\">\n",
       "  <thead>\n",
       "    <tr style=\"text-align: right;\">\n",
       "      <th>model</th>\n",
       "    </tr>\n",
       "    <tr>\n",
       "      <th>accuracy</th>\n",
       "    </tr>\n",
       "  </thead>\n",
       "  <tbody>\n",
       "    <tr>\n",
       "      <th>train</th>\n",
       "    </tr>\n",
       "    <tr>\n",
       "      <th>validate</th>\n",
       "    </tr>\n",
       "    <tr>\n",
       "      <th>test</th>\n",
       "    </tr>\n",
       "  </tbody>\n",
       "</table>\n",
       "</div>"
      ],
      "text/plain": [
       "Empty DataFrame\n",
       "Columns: []\n",
       "Index: [train, validate, test]"
      ]
     },
     "execution_count": 79,
     "metadata": {},
     "output_type": "execute_result"
    }
   ],
   "source": [
    "# `results`\n",
    "\n",
    "results_df = pd.DataFrame(index=['train', 'validate', 'test'])\n",
    "results_df.index.name = 'accuracy'\n",
    "results_df.columns.name = 'model'\n",
    "results_df"
   ]
  },
  {
   "cell_type": "code",
   "execution_count": 80,
   "id": "118ab19a-da4b-4bbf-a077-4747ca2a7f71",
   "metadata": {},
   "outputs": [
    {
     "data": {
      "text/html": [
       "<div>\n",
       "<style scoped>\n",
       "    .dataframe tbody tr th:only-of-type {\n",
       "        vertical-align: middle;\n",
       "    }\n",
       "\n",
       "    .dataframe tbody tr th {\n",
       "        vertical-align: top;\n",
       "    }\n",
       "\n",
       "    .dataframe thead th {\n",
       "        text-align: right;\n",
       "    }\n",
       "</style>\n",
       "<table border=\"1\" class=\"dataframe\">\n",
       "  <thead>\n",
       "    <tr style=\"text-align: right;\">\n",
       "      <th></th>\n",
       "      <th>aaron</th>\n",
       "      <th>abandon</th>\n",
       "      <th>abdominal</th>\n",
       "      <th>abide</th>\n",
       "      <th>ability</th>\n",
       "      <th>able</th>\n",
       "      <th>abolish</th>\n",
       "      <th>abortion</th>\n",
       "      <th>abortions</th>\n",
       "      <th>abound</th>\n",
       "      <th>...</th>\n",
       "      <th>yourselfers</th>\n",
       "      <th>youth</th>\n",
       "      <th>yup</th>\n",
       "      <th>zero</th>\n",
       "      <th>zinc</th>\n",
       "      <th>zionism</th>\n",
       "      <th>zionist</th>\n",
       "      <th>zionists</th>\n",
       "      <th>zip</th>\n",
       "      <th>zone</th>\n",
       "    </tr>\n",
       "  </thead>\n",
       "  <tbody>\n",
       "    <tr>\n",
       "      <th>0</th>\n",
       "      <td>0</td>\n",
       "      <td>0</td>\n",
       "      <td>0</td>\n",
       "      <td>0</td>\n",
       "      <td>0</td>\n",
       "      <td>0</td>\n",
       "      <td>0</td>\n",
       "      <td>0</td>\n",
       "      <td>0</td>\n",
       "      <td>0</td>\n",
       "      <td>...</td>\n",
       "      <td>0</td>\n",
       "      <td>0</td>\n",
       "      <td>0</td>\n",
       "      <td>0</td>\n",
       "      <td>0</td>\n",
       "      <td>0</td>\n",
       "      <td>0</td>\n",
       "      <td>0</td>\n",
       "      <td>0</td>\n",
       "      <td>0</td>\n",
       "    </tr>\n",
       "    <tr>\n",
       "      <th>1</th>\n",
       "      <td>0</td>\n",
       "      <td>0</td>\n",
       "      <td>0</td>\n",
       "      <td>0</td>\n",
       "      <td>0</td>\n",
       "      <td>1</td>\n",
       "      <td>0</td>\n",
       "      <td>0</td>\n",
       "      <td>0</td>\n",
       "      <td>0</td>\n",
       "      <td>...</td>\n",
       "      <td>0</td>\n",
       "      <td>0</td>\n",
       "      <td>0</td>\n",
       "      <td>1</td>\n",
       "      <td>0</td>\n",
       "      <td>0</td>\n",
       "      <td>0</td>\n",
       "      <td>0</td>\n",
       "      <td>0</td>\n",
       "      <td>0</td>\n",
       "    </tr>\n",
       "    <tr>\n",
       "      <th>2</th>\n",
       "      <td>0</td>\n",
       "      <td>0</td>\n",
       "      <td>0</td>\n",
       "      <td>0</td>\n",
       "      <td>0</td>\n",
       "      <td>0</td>\n",
       "      <td>0</td>\n",
       "      <td>0</td>\n",
       "      <td>0</td>\n",
       "      <td>0</td>\n",
       "      <td>...</td>\n",
       "      <td>0</td>\n",
       "      <td>0</td>\n",
       "      <td>0</td>\n",
       "      <td>0</td>\n",
       "      <td>0</td>\n",
       "      <td>0</td>\n",
       "      <td>0</td>\n",
       "      <td>0</td>\n",
       "      <td>0</td>\n",
       "      <td>0</td>\n",
       "    </tr>\n",
       "    <tr>\n",
       "      <th>3</th>\n",
       "      <td>0</td>\n",
       "      <td>0</td>\n",
       "      <td>0</td>\n",
       "      <td>0</td>\n",
       "      <td>0</td>\n",
       "      <td>0</td>\n",
       "      <td>0</td>\n",
       "      <td>0</td>\n",
       "      <td>0</td>\n",
       "      <td>0</td>\n",
       "      <td>...</td>\n",
       "      <td>0</td>\n",
       "      <td>0</td>\n",
       "      <td>0</td>\n",
       "      <td>0</td>\n",
       "      <td>0</td>\n",
       "      <td>0</td>\n",
       "      <td>0</td>\n",
       "      <td>0</td>\n",
       "      <td>0</td>\n",
       "      <td>0</td>\n",
       "    </tr>\n",
       "    <tr>\n",
       "      <th>4</th>\n",
       "      <td>0</td>\n",
       "      <td>0</td>\n",
       "      <td>0</td>\n",
       "      <td>0</td>\n",
       "      <td>0</td>\n",
       "      <td>0</td>\n",
       "      <td>0</td>\n",
       "      <td>0</td>\n",
       "      <td>0</td>\n",
       "      <td>0</td>\n",
       "      <td>...</td>\n",
       "      <td>0</td>\n",
       "      <td>0</td>\n",
       "      <td>0</td>\n",
       "      <td>0</td>\n",
       "      <td>0</td>\n",
       "      <td>0</td>\n",
       "      <td>0</td>\n",
       "      <td>0</td>\n",
       "      <td>0</td>\n",
       "      <td>0</td>\n",
       "    </tr>\n",
       "    <tr>\n",
       "      <th>...</th>\n",
       "      <td>...</td>\n",
       "      <td>...</td>\n",
       "      <td>...</td>\n",
       "      <td>...</td>\n",
       "      <td>...</td>\n",
       "      <td>...</td>\n",
       "      <td>...</td>\n",
       "      <td>...</td>\n",
       "      <td>...</td>\n",
       "      <td>...</td>\n",
       "      <td>...</td>\n",
       "      <td>...</td>\n",
       "      <td>...</td>\n",
       "      <td>...</td>\n",
       "      <td>...</td>\n",
       "      <td>...</td>\n",
       "      <td>...</td>\n",
       "      <td>...</td>\n",
       "      <td>...</td>\n",
       "      <td>...</td>\n",
       "      <td>...</td>\n",
       "    </tr>\n",
       "    <tr>\n",
       "      <th>4585</th>\n",
       "      <td>0</td>\n",
       "      <td>0</td>\n",
       "      <td>0</td>\n",
       "      <td>0</td>\n",
       "      <td>0</td>\n",
       "      <td>0</td>\n",
       "      <td>0</td>\n",
       "      <td>0</td>\n",
       "      <td>0</td>\n",
       "      <td>0</td>\n",
       "      <td>...</td>\n",
       "      <td>0</td>\n",
       "      <td>0</td>\n",
       "      <td>0</td>\n",
       "      <td>0</td>\n",
       "      <td>0</td>\n",
       "      <td>0</td>\n",
       "      <td>0</td>\n",
       "      <td>0</td>\n",
       "      <td>0</td>\n",
       "      <td>0</td>\n",
       "    </tr>\n",
       "    <tr>\n",
       "      <th>4586</th>\n",
       "      <td>0</td>\n",
       "      <td>0</td>\n",
       "      <td>0</td>\n",
       "      <td>0</td>\n",
       "      <td>0</td>\n",
       "      <td>0</td>\n",
       "      <td>0</td>\n",
       "      <td>0</td>\n",
       "      <td>0</td>\n",
       "      <td>0</td>\n",
       "      <td>...</td>\n",
       "      <td>0</td>\n",
       "      <td>0</td>\n",
       "      <td>0</td>\n",
       "      <td>0</td>\n",
       "      <td>0</td>\n",
       "      <td>0</td>\n",
       "      <td>0</td>\n",
       "      <td>0</td>\n",
       "      <td>0</td>\n",
       "      <td>1</td>\n",
       "    </tr>\n",
       "    <tr>\n",
       "      <th>4587</th>\n",
       "      <td>0</td>\n",
       "      <td>0</td>\n",
       "      <td>0</td>\n",
       "      <td>0</td>\n",
       "      <td>0</td>\n",
       "      <td>0</td>\n",
       "      <td>0</td>\n",
       "      <td>0</td>\n",
       "      <td>0</td>\n",
       "      <td>0</td>\n",
       "      <td>...</td>\n",
       "      <td>0</td>\n",
       "      <td>0</td>\n",
       "      <td>0</td>\n",
       "      <td>0</td>\n",
       "      <td>0</td>\n",
       "      <td>0</td>\n",
       "      <td>0</td>\n",
       "      <td>0</td>\n",
       "      <td>0</td>\n",
       "      <td>0</td>\n",
       "    </tr>\n",
       "    <tr>\n",
       "      <th>4588</th>\n",
       "      <td>0</td>\n",
       "      <td>0</td>\n",
       "      <td>0</td>\n",
       "      <td>0</td>\n",
       "      <td>0</td>\n",
       "      <td>0</td>\n",
       "      <td>0</td>\n",
       "      <td>0</td>\n",
       "      <td>0</td>\n",
       "      <td>0</td>\n",
       "      <td>...</td>\n",
       "      <td>0</td>\n",
       "      <td>0</td>\n",
       "      <td>0</td>\n",
       "      <td>0</td>\n",
       "      <td>0</td>\n",
       "      <td>0</td>\n",
       "      <td>0</td>\n",
       "      <td>0</td>\n",
       "      <td>0</td>\n",
       "      <td>0</td>\n",
       "    </tr>\n",
       "    <tr>\n",
       "      <th>4589</th>\n",
       "      <td>0</td>\n",
       "      <td>0</td>\n",
       "      <td>0</td>\n",
       "      <td>0</td>\n",
       "      <td>0</td>\n",
       "      <td>0</td>\n",
       "      <td>0</td>\n",
       "      <td>0</td>\n",
       "      <td>0</td>\n",
       "      <td>0</td>\n",
       "      <td>...</td>\n",
       "      <td>0</td>\n",
       "      <td>0</td>\n",
       "      <td>0</td>\n",
       "      <td>0</td>\n",
       "      <td>0</td>\n",
       "      <td>0</td>\n",
       "      <td>0</td>\n",
       "      <td>0</td>\n",
       "      <td>0</td>\n",
       "      <td>0</td>\n",
       "    </tr>\n",
       "  </tbody>\n",
       "</table>\n",
       "<p>4590 rows × 5501 columns</p>\n",
       "</div>"
      ],
      "text/plain": [
       "      aaron  abandon  abdominal  abide  ability  able  abolish  abortion  \\\n",
       "0         0        0          0      0        0     0        0         0   \n",
       "1         0        0          0      0        0     1        0         0   \n",
       "2         0        0          0      0        0     0        0         0   \n",
       "3         0        0          0      0        0     0        0         0   \n",
       "4         0        0          0      0        0     0        0         0   \n",
       "...     ...      ...        ...    ...      ...   ...      ...       ...   \n",
       "4585      0        0          0      0        0     0        0         0   \n",
       "4586      0        0          0      0        0     0        0         0   \n",
       "4587      0        0          0      0        0     0        0         0   \n",
       "4588      0        0          0      0        0     0        0         0   \n",
       "4589      0        0          0      0        0     0        0         0   \n",
       "\n",
       "      abortions  abound  ...  yourselfers  youth  yup  zero  zinc  zionism  \\\n",
       "0             0       0  ...            0      0    0     0     0        0   \n",
       "1             0       0  ...            0      0    0     1     0        0   \n",
       "2             0       0  ...            0      0    0     0     0        0   \n",
       "3             0       0  ...            0      0    0     0     0        0   \n",
       "4             0       0  ...            0      0    0     0     0        0   \n",
       "...         ...     ...  ...          ...    ...  ...   ...   ...      ...   \n",
       "4585          0       0  ...            0      0    0     0     0        0   \n",
       "4586          0       0  ...            0      0    0     0     0        0   \n",
       "4587          0       0  ...            0      0    0     0     0        0   \n",
       "4588          0       0  ...            0      0    0     0     0        0   \n",
       "4589          0       0  ...            0      0    0     0     0        0   \n",
       "\n",
       "      zionist  zionists  zip  zone  \n",
       "0           0         0    0     0  \n",
       "1           0         0    0     0  \n",
       "2           0         0    0     0  \n",
       "3           0         0    0     0  \n",
       "4           0         0    0     0  \n",
       "...       ...       ...  ...   ...  \n",
       "4585        0         0    0     0  \n",
       "4586        0         0    0     1  \n",
       "4587        0         0    0     0  \n",
       "4588        0         0    0     0  \n",
       "4589        0         0    0     0  \n",
       "\n",
       "[4590 rows x 5501 columns]"
      ]
     },
     "execution_count": 80,
     "metadata": {},
     "output_type": "execute_result"
    }
   ],
   "source": [
    "X_train_df_cvec"
   ]
  },
  {
   "cell_type": "code",
   "execution_count": 81,
   "id": "3bd63328",
   "metadata": {},
   "outputs": [
    {
     "data": {
      "text/plain": [
       "679     1\n",
       "2567    1\n",
       "1219    1\n",
       "1323    0\n",
       "78      1\n",
       "       ..\n",
       "1822    1\n",
       "2003    1\n",
       "2242    1\n",
       "87      0\n",
       "2472    0\n",
       "Name: label, Length: 4590, dtype: int64"
      ]
     },
     "execution_count": 81,
     "metadata": {},
     "output_type": "execute_result"
    }
   ],
   "source": [
    "y_train"
   ]
  },
  {
   "cell_type": "code",
   "execution_count": null,
   "id": "32a606e5",
   "metadata": {},
   "outputs": [],
   "source": []
  },
  {
   "cell_type": "code",
   "execution_count": 82,
   "id": "ee7709d9",
   "metadata": {},
   "outputs": [],
   "source": [
    "# This function was written by Heather Robins.  IN most cases we would attempt to produce our own, but it is \n",
    "# beautiful.  So, for this project we chose to use it verbatim, and pass along the credit where it is due.  (Thank you!)\n",
    "def metrics(y_init, y_predict):\n",
    "#     print('_________________________________________________________________')\n",
    "    print('----------------------------------------------------------------')\n",
    "    print('Accuracy score %s ' % round(accuracy_score(y_init, y_predict), 4), '\\n')\n",
    "    print('----------------------------------------------------------------')\n",
    "    print(pd.DataFrame(confusion_matrix(y_init, y_predict), \n",
    "                            index=['Actually_Negative', 'Actually_Positive'], \n",
    "                            columns=['Predicted_Negative', 'Predicted_Positive']), '\\n')\n",
    "    print('-----------------------------------------------------------------')\n",
    "    print(classification_report(y_init, y_predict))\n",
    "    print('-----------------------------------------------------------------')"
   ]
  },
  {
   "cell_type": "code",
   "execution_count": 83,
   "id": "66b0711b",
   "metadata": {},
   "outputs": [],
   "source": [
    "# def metrics_compared(y_train, y_train_preds, y_val, y_val_preds):\n",
    "#     print('_________________________________________________________________')\n",
    "#     print('Train Accuracy score %s ' % round(accuracy_score(y_train, y_train_preds), 4), '\\n')\n",
    "#     print('----------------------------------------------------------------')\n",
    "#     print(pd.DataFrame(confusion_matrix(y_train, y_train_preds), \n",
    "#                             index=['Actually_Negative', 'Actually_Positive'], \n",
    "#                             columns=['Predicted_Negative', 'Predicted_Positive']), '\\n')\n",
    "#     print('-----------------------------------------------------------------')\n",
    "#     print(classification_report(y_train, y_train_preds))\n",
    "#     print('-----------------------------------------------------------------')\n",
    "#     print('_________________________________________________________________')\n",
    "#     print('Validation Accuracy score %s ' % round(accuracy_score(y_val, y_val_preds), 4), '\\n')\n",
    "#     print('----------------------------------------------------------------')\n",
    "#     print(pd.DataFrame(confusion_matrix(y_val, y_val_preds), \n",
    "#                             index=['Actually_Negative', 'Actually_Positive'], \n",
    "#                             columns=['Predicted_Negative', 'Predicted_Positive']), '\\n')\n",
    "#     print('-----------------------------------------------------------------')\n",
    "#     print(classification_report(y_val, y_val_preds))\n",
    "#     print('-----------------------------------------------------------------')"
   ]
  },
  {
   "cell_type": "code",
   "execution_count": null,
   "id": "7216cc91",
   "metadata": {},
   "outputs": [],
   "source": []
  },
  {
   "cell_type": "markdown",
   "id": "5a37d1a4-c90a-47dc-94a4-cfb56a87f1a8",
   "metadata": {},
   "source": [
    "## Naive Bayes"
   ]
  },
  {
   "cell_type": "code",
   "execution_count": 84,
   "id": "8412c3cb-d6bd-48eb-866f-c0e4339b776e",
   "metadata": {},
   "outputs": [],
   "source": [
    "# Import our model!\n",
    "\n",
    "from sklearn.naive_bayes import MultinomialNB"
   ]
  },
  {
   "cell_type": "code",
   "execution_count": 85,
   "id": "4353cfa0-4715-486f-bc9a-6860ec935322",
   "metadata": {},
   "outputs": [
    {
     "name": "stdout",
     "output_type": "stream",
     "text": [
      "Fitting 3 folds for each of 5 candidates, totalling 15 fits\n",
      "0.9483660130718955\n",
      "{'alpha': 0.5}\n",
      "Fitting 3 folds for each of 5 candidates, totalling 15 fits\n",
      "0.9483660130718955\n",
      "{'alpha': 0.5}\n",
      "time: 24.432 seconds\n",
      "time: 0 minutes, 24.432 seconds\n"
     ]
    }
   ],
   "source": [
    "# Instantiate our model!\n",
    "\n",
    "start_time = time.time()\n",
    "\n",
    "# define parameters for a GridSearch\n",
    "nb_params = {\n",
    "    'alpha': [1.0, 0.75, 0.5, 0.25, 0.1]\n",
    "}\n",
    "\n",
    "\n",
    "# Naive Bayes, Count Vectorizer\n",
    "nb_cvect = MultinomialNB()\n",
    "gs_nb_cvec = GridSearchCV(nb_cvect, param_grid=nb_params, verbose=1, cv=3)\n",
    "gs_nb_cvec.fit(X_train_df_cvec, y_train)\n",
    "print(gs_nb_cvec.best_score_)\n",
    "print(gs_nb_cvec.best_params_)\n",
    "\n",
    "\n",
    "# Naive Bayes, tf-idf Vectorizer\n",
    "nb_tfidf = MultinomialNB()\n",
    "gs_nb_tfidf = GridSearchCV(nb_tfidf, param_grid=nb_params, verbose=1, cv=3)\n",
    "gs_nb_tfidf.fit(X_train_df_cvec, y_train)\n",
    "print(gs_nb_tfidf.best_score_)\n",
    "print(gs_nb_tfidf.best_params_)\n",
    "\n",
    "\n",
    "end_time = round(time.time() - start_time, 3)\n",
    "print(f'time: {end_time} seconds')\n",
    "end_time_minutes = int(end_time/ 60)\n",
    "end_time_seconds = round(end_time % 60, 3)\n",
    "\n",
    "print(f'time: {end_time_minutes} minutes, {end_time_seconds} seconds')\n",
    "\n"
   ]
  },
  {
   "cell_type": "code",
   "execution_count": 86,
   "id": "2e41e93f-2a3c-41ba-9b09-4908e85013fa",
   "metadata": {},
   "outputs": [
    {
     "name": "stdout",
     "output_type": "stream",
     "text": [
      "NaiveB Cvect Training Score:\u001b[1m 0.9564\u001b[0m\n",
      "NaiveB Cvect validation Score:\u001b[1m 0.9444\u001b[0m\n",
      "\n",
      "NaiveB Tf-idf Training Score:\u001b[1m 0.958\u001b[0m\n",
      "NaiveB Tf-idf validation Score:\u001b[1m 0.9481\u001b[0m\n"
     ]
    }
   ],
   "source": [
    "nb_train_score_cvec = gs_nb_cvec.score(X_train_df_cvec, y_train)\n",
    "nb_val_score_cvec = gs_nb_cvec.score(X_val_df_cvec, y_val)\n",
    "nb_train_score_tfidf = gs_nb_tfidf.score(X_train_df_tfidf, y_train)\n",
    "nb_val_score_tfidf = gs_nb_tfidf.score(X_val_df_tfidf, y_val)\n",
    "\n",
    "print('NaiveB Cvect Training Score:' + color.BOLD + f' {round(nb_train_score_cvec, 4)}' + color.END)\n",
    "print('NaiveB Cvect validation Score:' + color.BOLD + f' {round(nb_val_score_cvec, 4)}' + color.END)\n",
    "print()\n",
    "print('NaiveB Tf-idf Training Score:' + color.BOLD + f' {round(nb_train_score_tfidf, 4)}' + color.END)\n",
    "print('NaiveB Tf-idf validation Score:' + color.BOLD + f' {round(nb_val_score_tfidf, 4)}' + color.END)\n"
   ]
  },
  {
   "cell_type": "code",
   "execution_count": 87,
   "id": "f6095f87-8ff0-4463-a169-d69eb6d7efe7",
   "metadata": {},
   "outputs": [
    {
     "data": {
      "text/plain": [
       "31"
      ]
     },
     "execution_count": 87,
     "metadata": {},
     "output_type": "execute_result"
    }
   ],
   "source": [
    "(gs_nb_cvec.predict(X_train_df_cvec) != gs_nb_tfidf.predict(X_train_df_tfidf)).sum()"
   ]
  },
  {
   "cell_type": "code",
   "execution_count": 88,
   "id": "3ec7dd6c-e8c0-4bf0-908f-3ec18c58f8da",
   "metadata": {},
   "outputs": [
    {
     "data": {
      "text/plain": [
       "8"
      ]
     },
     "execution_count": 88,
     "metadata": {},
     "output_type": "execute_result"
    }
   ],
   "source": [
    "(gs_nb_cvec.predict(X_val_df_cvec) != gs_nb_tfidf.predict(X_val_df_tfidf)).sum()"
   ]
  },
  {
   "cell_type": "code",
   "execution_count": 89,
   "id": "c5cf2c58-78e8-4835-a4c5-fd13b3c3f09b",
   "metadata": {},
   "outputs": [
    {
     "data": {
      "text/html": [
       "<div>\n",
       "<style scoped>\n",
       "    .dataframe tbody tr th:only-of-type {\n",
       "        vertical-align: middle;\n",
       "    }\n",
       "\n",
       "    .dataframe tbody tr th {\n",
       "        vertical-align: top;\n",
       "    }\n",
       "\n",
       "    .dataframe thead th {\n",
       "        text-align: right;\n",
       "    }\n",
       "</style>\n",
       "<table border=\"1\" class=\"dataframe\">\n",
       "  <thead>\n",
       "    <tr style=\"text-align: right;\">\n",
       "      <th>model</th>\n",
       "      <th>nb_cvec</th>\n",
       "      <th>nb_tfidf</th>\n",
       "    </tr>\n",
       "    <tr>\n",
       "      <th>accuracy</th>\n",
       "      <th></th>\n",
       "      <th></th>\n",
       "    </tr>\n",
       "  </thead>\n",
       "  <tbody>\n",
       "    <tr>\n",
       "      <th>train</th>\n",
       "      <td>0.9564</td>\n",
       "      <td>0.9580</td>\n",
       "    </tr>\n",
       "    <tr>\n",
       "      <th>validate</th>\n",
       "      <td>0.9444</td>\n",
       "      <td>0.9481</td>\n",
       "    </tr>\n",
       "    <tr>\n",
       "      <th>test</th>\n",
       "      <td>0.0000</td>\n",
       "      <td>0.0000</td>\n",
       "    </tr>\n",
       "  </tbody>\n",
       "</table>\n",
       "</div>"
      ],
      "text/plain": [
       "model     nb_cvec  nb_tfidf\n",
       "accuracy                   \n",
       "train      0.9564    0.9580\n",
       "validate   0.9444    0.9481\n",
       "test       0.0000    0.0000"
      ]
     },
     "execution_count": 89,
     "metadata": {},
     "output_type": "execute_result"
    }
   ],
   "source": [
    "results_df['nb_cvec'] = np.array([round(nb_train_score_cvec, 4), \n",
    "                                  round(nb_val_score_cvec, 4), \n",
    "                                  0])\n",
    "results_df['nb_tfidf'] = np.array([round(nb_train_score_tfidf, 4), \n",
    "                                  round(nb_val_score_tfidf, 4), \n",
    "                                  0])\n",
    "results_df"
   ]
  },
  {
   "cell_type": "markdown",
   "id": "53528e97",
   "metadata": {},
   "source": [
    "**The Tf-Idf model has slightly better numbers.  We now consider a error analysis of the model.**"
   ]
  },
  {
   "cell_type": "markdown",
   "id": "aa6aec73",
   "metadata": {},
   "source": [
    "**Confusion Matrix**"
   ]
  },
  {
   "cell_type": "code",
   "execution_count": 90,
   "id": "ac1c4286",
   "metadata": {},
   "outputs": [
    {
     "data": {
      "text/plain": [
       "array([[249,  21],\n",
       "       [  9, 261]])"
      ]
     },
     "execution_count": 90,
     "metadata": {},
     "output_type": "execute_result"
    }
   ],
   "source": [
    "y_preds_val_cvec = gs_nb_cvec.predict(X_val_df_cvec)\n",
    "\n",
    "confusion_matrix(y_val, y_preds_val_cvec)"
   ]
  },
  {
   "cell_type": "code",
   "execution_count": 91,
   "id": "9600aeb0",
   "metadata": {},
   "outputs": [
    {
     "data": {
      "image/png": "[encoded data removed]",
      "text/plain": [
       "<Figure size 720x360 with 4 Axes>"
      ]
     },
     "metadata": {
      "needs_background": "light"
     },
     "output_type": "display_data"
    }
   ],
   "source": [
    "import matplotlib.pyplot as plt\n",
    "import numpy as np\n",
    "from sklearn.metrics import confusion_matrix, ConfusionMatrixDisplay\n",
    "\n",
    "# Example confusion matrices\n",
    "# cm1 = np.array([[80, 20], [30, 70]])\n",
    "y_preds_val_cvec = gs_nb_cvec.predict(X_val_df_cvec)\n",
    "cm1 = confusion_matrix(y_val, y_preds_val_cvec)\n",
    "# cm2 = np.array([[90, 10], [15, 85]])\n",
    "y_preds_val_tfidf = gs_nb_tfidf.predict(X_val_df_tfidf)\n",
    "cm2 = confusion_matrix(y_val, y_preds_val_tfidf)\n",
    "\n",
    "# Create subplots\n",
    "fig, axes = plt.subplots(1, 2, figsize=(10, 5))\n",
    "\n",
    "# Plot the first confusion matrix\n",
    "disp1 = ConfusionMatrixDisplay(confusion_matrix=cm1)\n",
    "disp1.plot(ax=axes[0], cmap=plt.cm.Blues)\n",
    "axes[0].set_title('Confusion Matrix\\nNaive Bayes\\nCount Vectorizer')\n",
    "axes[0].grid(False)\n",
    "\n",
    "# Plot the second confusion matrix\n",
    "disp2 = ConfusionMatrixDisplay(confusion_matrix=cm2)\n",
    "disp2.plot(ax=axes[1], cmap=plt.cm.Greens)\n",
    "axes[1].set_title('Confusion Matrix\\nNaive Bayes\\nTf-Idf')\n",
    "axes[1].grid(False)\n",
    "\n",
    "# Adjust layout and display the plot\n",
    "plt.tight_layout()\n",
    "plt.suptitle('Validation Numbers', fontsize=24) #  .title('Validation Numbers')\n",
    "plt.show()"
   ]
  },
  {
   "cell_type": "code",
   "execution_count": 92,
   "id": "554d6ed7",
   "metadata": {},
   "outputs": [
    {
     "name": "stdout",
     "output_type": "stream",
     "text": [
      "----------------------------------------------------------------\n",
      "Accuracy score 0.9444  \n",
      "\n",
      "----------------------------------------------------------------\n",
      "                   Predicted_Negative  Predicted_Positive\n",
      "Actually_Negative                 249                  21\n",
      "Actually_Positive                   9                 261 \n",
      "\n",
      "-----------------------------------------------------------------\n",
      "              precision    recall  f1-score   support\n",
      "\n",
      "           0       0.97      0.92      0.94       270\n",
      "           1       0.93      0.97      0.95       270\n",
      "\n",
      "    accuracy                           0.94       540\n",
      "   macro avg       0.95      0.94      0.94       540\n",
      "weighted avg       0.95      0.94      0.94       540\n",
      "\n",
      "-----------------------------------------------------------------\n",
      "----------------------------------------------------------------\n",
      "Accuracy score 0.9481  \n",
      "\n",
      "----------------------------------------------------------------\n",
      "                   Predicted_Negative  Predicted_Positive\n",
      "Actually_Negative                 251                  19\n",
      "Actually_Positive                   9                 261 \n",
      "\n",
      "-----------------------------------------------------------------\n",
      "              precision    recall  f1-score   support\n",
      "\n",
      "           0       0.97      0.93      0.95       270\n",
      "           1       0.93      0.97      0.95       270\n",
      "\n",
      "    accuracy                           0.95       540\n",
      "   macro avg       0.95      0.95      0.95       540\n",
      "weighted avg       0.95      0.95      0.95       540\n",
      "\n",
      "-----------------------------------------------------------------\n"
     ]
    },
    {
     "data": {
      "image/png": "[encoded data removed]",
      "text/plain": [
       "<Figure size 720x360 with 2 Axes>"
      ]
     },
     "metadata": {
      "needs_background": "light"
     },
     "output_type": "display_data"
    }
   ],
   "source": [
    "plt.figure(figsize=(10,5))\n",
    "plt.subplot(1, 2, 1)  # 1 row, 2 columns, 1st subplot\n",
    "# plt.plot([1, 2, 3], [4, 5, 6])\n",
    "# generating predictions\n",
    "y_preds_val_cvec = gs_nb_cvec.predict(X_val_df_cvec)\n",
    "\n",
    "# consider the confusion matrix\n",
    "metrics(y_val, y_preds_val_cvec)\n",
    "plt.title('Subplot 1')\n",
    "\n",
    "plt.subplot(1, 2, 2)  # 1 row, 2 columns, 2nd subplot\n",
    "# plt.scatter([1, 2, 3], [7, 8, 9])\n",
    "# validation set, tfidf\n",
    "\n",
    "# generating predictions\n",
    "y_preds_val_tfidf = gs_nb_tfidf.predict(X_val_df_tfidf)\n",
    "\n",
    "# consider the confusion matrix\n",
    "metrics(y_val, y_preds_val_tfidf)\n",
    "plt.title('Subplot 2')\n",
    "\n",
    "plt.tight_layout()\n",
    "plt.show()"
   ]
  },
  {
   "cell_type": "code",
   "execution_count": 93,
   "id": "cb563ffb",
   "metadata": {},
   "outputs": [
    {
     "name": "stdout",
     "output_type": "stream",
     "text": [
      "----------------------------------------------------------------\n",
      "Accuracy score 0.9444  \n",
      "\n",
      "----------------------------------------------------------------\n",
      "                   Predicted_Negative  Predicted_Positive\n",
      "Actually_Negative                 249                  21\n",
      "Actually_Positive                   9                 261 \n",
      "\n",
      "-----------------------------------------------------------------\n",
      "              precision    recall  f1-score   support\n",
      "\n",
      "           0       0.97      0.92      0.94       270\n",
      "           1       0.93      0.97      0.95       270\n",
      "\n",
      "    accuracy                           0.94       540\n",
      "   macro avg       0.95      0.94      0.94       540\n",
      "weighted avg       0.95      0.94      0.94       540\n",
      "\n",
      "-----------------------------------------------------------------\n"
     ]
    }
   ],
   "source": [
    "# validation set, cvec\n",
    "\n",
    "# generating predictions\n",
    "y_preds_val_cvec = gs_nb_cvec.predict(X_val_df_cvec)\n",
    "\n",
    "# consider the confusion matrix\n",
    "metrics(y_val, y_preds_val_cvec)"
   ]
  },
  {
   "cell_type": "code",
   "execution_count": 94,
   "id": "c77870f6",
   "metadata": {},
   "outputs": [
    {
     "name": "stdout",
     "output_type": "stream",
     "text": [
      "----------------------------------------------------------------\n",
      "Accuracy score 0.9481  \n",
      "\n",
      "----------------------------------------------------------------\n",
      "                   Predicted_Negative  Predicted_Positive\n",
      "Actually_Negative                 251                  19\n",
      "Actually_Positive                   9                 261 \n",
      "\n",
      "-----------------------------------------------------------------\n",
      "              precision    recall  f1-score   support\n",
      "\n",
      "           0       0.97      0.93      0.95       270\n",
      "           1       0.93      0.97      0.95       270\n",
      "\n",
      "    accuracy                           0.95       540\n",
      "   macro avg       0.95      0.95      0.95       540\n",
      "weighted avg       0.95      0.95      0.95       540\n",
      "\n",
      "-----------------------------------------------------------------\n"
     ]
    }
   ],
   "source": [
    "# validation set, tfidf\n",
    "\n",
    "# generating predictions\n",
    "y_preds_val_tfidf = gs_nb_tfidf.predict(X_val_df_tfidf)\n",
    "\n",
    "# consider the confusion matrix\n",
    "metrics(y_val, y_preds_val_tfidf)"
   ]
  },
  {
   "cell_type": "markdown",
   "id": "110febe9",
   "metadata": {},
   "source": [
    "## Logistic Regression"
   ]
  },
  {
   "cell_type": "code",
   "execution_count": 95,
   "id": "d74b9401",
   "metadata": {},
   "outputs": [
    {
     "data": {
      "text/html": [
       "<div>\n",
       "<style scoped>\n",
       "    .dataframe tbody tr th:only-of-type {\n",
       "        vertical-align: middle;\n",
       "    }\n",
       "\n",
       "    .dataframe tbody tr th {\n",
       "        vertical-align: top;\n",
       "    }\n",
       "\n",
       "    .dataframe thead th {\n",
       "        text-align: right;\n",
       "    }\n",
       "</style>\n",
       "<table border=\"1\" class=\"dataframe\">\n",
       "  <thead>\n",
       "    <tr style=\"text-align: right;\">\n",
       "      <th></th>\n",
       "      <th>aaron</th>\n",
       "      <th>abandon</th>\n",
       "      <th>abdominal</th>\n",
       "      <th>abide</th>\n",
       "      <th>ability</th>\n",
       "      <th>able</th>\n",
       "      <th>abolish</th>\n",
       "      <th>abortion</th>\n",
       "      <th>abortions</th>\n",
       "      <th>abound</th>\n",
       "      <th>...</th>\n",
       "      <th>yourselfers</th>\n",
       "      <th>youth</th>\n",
       "      <th>yup</th>\n",
       "      <th>zero</th>\n",
       "      <th>zinc</th>\n",
       "      <th>zionism</th>\n",
       "      <th>zionist</th>\n",
       "      <th>zionists</th>\n",
       "      <th>zip</th>\n",
       "      <th>zone</th>\n",
       "    </tr>\n",
       "  </thead>\n",
       "  <tbody>\n",
       "    <tr>\n",
       "      <th>0</th>\n",
       "      <td>0</td>\n",
       "      <td>0</td>\n",
       "      <td>0</td>\n",
       "      <td>0</td>\n",
       "      <td>0</td>\n",
       "      <td>0</td>\n",
       "      <td>0</td>\n",
       "      <td>0</td>\n",
       "      <td>0</td>\n",
       "      <td>0</td>\n",
       "      <td>...</td>\n",
       "      <td>0</td>\n",
       "      <td>0</td>\n",
       "      <td>0</td>\n",
       "      <td>0</td>\n",
       "      <td>0</td>\n",
       "      <td>0</td>\n",
       "      <td>0</td>\n",
       "      <td>0</td>\n",
       "      <td>0</td>\n",
       "      <td>0</td>\n",
       "    </tr>\n",
       "    <tr>\n",
       "      <th>1</th>\n",
       "      <td>0</td>\n",
       "      <td>0</td>\n",
       "      <td>0</td>\n",
       "      <td>0</td>\n",
       "      <td>0</td>\n",
       "      <td>1</td>\n",
       "      <td>0</td>\n",
       "      <td>0</td>\n",
       "      <td>0</td>\n",
       "      <td>0</td>\n",
       "      <td>...</td>\n",
       "      <td>0</td>\n",
       "      <td>0</td>\n",
       "      <td>0</td>\n",
       "      <td>1</td>\n",
       "      <td>0</td>\n",
       "      <td>0</td>\n",
       "      <td>0</td>\n",
       "      <td>0</td>\n",
       "      <td>0</td>\n",
       "      <td>0</td>\n",
       "    </tr>\n",
       "    <tr>\n",
       "      <th>2</th>\n",
       "      <td>0</td>\n",
       "      <td>0</td>\n",
       "      <td>0</td>\n",
       "      <td>0</td>\n",
       "      <td>0</td>\n",
       "      <td>0</td>\n",
       "      <td>0</td>\n",
       "      <td>0</td>\n",
       "      <td>0</td>\n",
       "      <td>0</td>\n",
       "      <td>...</td>\n",
       "      <td>0</td>\n",
       "      <td>0</td>\n",
       "      <td>0</td>\n",
       "      <td>0</td>\n",
       "      <td>0</td>\n",
       "      <td>0</td>\n",
       "      <td>0</td>\n",
       "      <td>0</td>\n",
       "      <td>0</td>\n",
       "      <td>0</td>\n",
       "    </tr>\n",
       "    <tr>\n",
       "      <th>3</th>\n",
       "      <td>0</td>\n",
       "      <td>0</td>\n",
       "      <td>0</td>\n",
       "      <td>0</td>\n",
       "      <td>0</td>\n",
       "      <td>0</td>\n",
       "      <td>0</td>\n",
       "      <td>0</td>\n",
       "      <td>0</td>\n",
       "      <td>0</td>\n",
       "      <td>...</td>\n",
       "      <td>0</td>\n",
       "      <td>0</td>\n",
       "      <td>0</td>\n",
       "      <td>0</td>\n",
       "      <td>0</td>\n",
       "      <td>0</td>\n",
       "      <td>0</td>\n",
       "      <td>0</td>\n",
       "      <td>0</td>\n",
       "      <td>0</td>\n",
       "    </tr>\n",
       "    <tr>\n",
       "      <th>4</th>\n",
       "      <td>0</td>\n",
       "      <td>0</td>\n",
       "      <td>0</td>\n",
       "      <td>0</td>\n",
       "      <td>0</td>\n",
       "      <td>0</td>\n",
       "      <td>0</td>\n",
       "      <td>0</td>\n",
       "      <td>0</td>\n",
       "      <td>0</td>\n",
       "      <td>...</td>\n",
       "      <td>0</td>\n",
       "      <td>0</td>\n",
       "      <td>0</td>\n",
       "      <td>0</td>\n",
       "      <td>0</td>\n",
       "      <td>0</td>\n",
       "      <td>0</td>\n",
       "      <td>0</td>\n",
       "      <td>0</td>\n",
       "      <td>0</td>\n",
       "    </tr>\n",
       "  </tbody>\n",
       "</table>\n",
       "<p>5 rows × 5501 columns</p>\n",
       "</div>"
      ],
      "text/plain": [
       "   aaron  abandon  abdominal  abide  ability  able  abolish  abortion  \\\n",
       "0      0        0          0      0        0     0        0         0   \n",
       "1      0        0          0      0        0     1        0         0   \n",
       "2      0        0          0      0        0     0        0         0   \n",
       "3      0        0          0      0        0     0        0         0   \n",
       "4      0        0          0      0        0     0        0         0   \n",
       "\n",
       "   abortions  abound  ...  yourselfers  youth  yup  zero  zinc  zionism  \\\n",
       "0          0       0  ...            0      0    0     0     0        0   \n",
       "1          0       0  ...            0      0    0     1     0        0   \n",
       "2          0       0  ...            0      0    0     0     0        0   \n",
       "3          0       0  ...            0      0    0     0     0        0   \n",
       "4          0       0  ...            0      0    0     0     0        0   \n",
       "\n",
       "   zionist  zionists  zip  zone  \n",
       "0        0         0    0     0  \n",
       "1        0         0    0     0  \n",
       "2        0         0    0     0  \n",
       "3        0         0    0     0  \n",
       "4        0         0    0     0  \n",
       "\n",
       "[5 rows x 5501 columns]"
      ]
     },
     "execution_count": 95,
     "metadata": {},
     "output_type": "execute_result"
    }
   ],
   "source": [
    "X_train_df_cvec.head()"
   ]
  },
  {
   "cell_type": "code",
   "execution_count": 96,
   "id": "073993ce",
   "metadata": {},
   "outputs": [
    {
     "name": "stdout",
     "output_type": "stream",
     "text": [
      "Fitting 5 folds for each of 1 candidates, totalling 5 fits\n",
      "0.9372549019607843\n",
      "{'penalty': 'l2'}\n",
      "Fitting 5 folds for each of 1 candidates, totalling 5 fits\n",
      "0.945751633986928\n",
      "{'penalty': 'l2'}\n",
      "time: 21.919 seconds\n",
      "time: 0 minutes, 21.919 seconds\n"
     ]
    }
   ],
   "source": [
    "start_time = time.time()\n",
    "\n",
    "# define parameters for a GridSearch\n",
    "lr_params = {\n",
    "    'penalty':['l2']\n",
    "}\n",
    "\n",
    "\n",
    "# logistic Regression, Count Vectorizer\n",
    "lr_cvec = LogisticRegression()\n",
    "gs_lr_cvec = GridSearchCV(lr_cvec, param_grid=lr_params, verbose=1, cv=5)\n",
    "gs_lr_cvec.fit(X_train_df_cvec, y_train)\n",
    "print(gs_lr_cvec.best_score_)\n",
    "print(gs_lr_cvec.best_params_)\n",
    "\n",
    "\n",
    "# logistic Regression, tf-idf Vectorizer\n",
    "lr_tfidf = LogisticRegression()\n",
    "gs_lr_tfidf = GridSearchCV(lr_tfidf, param_grid=lr_params, verbose=1, cv=5)\n",
    "gs_lr_tfidf.fit(X_train_df_tfidf, y_train)\n",
    "print(gs_lr_tfidf.best_score_)\n",
    "print(gs_lr_tfidf.best_params_)\n",
    "\n",
    "end_time = round(time.time() - start_time, 3)\n",
    "print(f'time: {end_time} seconds')\n",
    "end_time_minutes = int(end_time/ 60)\n",
    "end_time_seconds = round(end_time % 60, 3)\n",
    "\n",
    "print(f'time: {end_time_minutes} minutes, {end_time_seconds} seconds')"
   ]
  },
  {
   "cell_type": "code",
   "execution_count": 97,
   "id": "90fad804",
   "metadata": {},
   "outputs": [
    {
     "name": "stdout",
     "output_type": "stream",
     "text": [
      "LogReg Cvect Training Score:\u001b[1m 0.9959\u001b[0m\n",
      "LogReg Cvect validation Score:\u001b[1m 0.9426\u001b[0m\n",
      "\n",
      "LogReg Tf-idf Training Score:\u001b[1m 0.9767\u001b[0m\n",
      "LogReg Tf-idf validation Score:\u001b[1m 0.9556\u001b[0m\n"
     ]
    }
   ],
   "source": [
    "lr_train_score_cvec = gs_lr_cvec.score(X_train_df_cvec, y_train)\n",
    "lr_val_score_cvec = gs_lr_cvec.score(X_val_df_cvec, y_val)\n",
    "lr_train_score_tfidf = gs_lr_tfidf.score(X_train_df_tfidf, y_train)\n",
    "lr_val_score_tfidf = gs_lr_tfidf.score(X_val_df_tfidf, y_val)\n",
    "\n",
    "print('LogReg Cvect Training Score:' + color.BOLD + f' {round(lr_train_score_cvec, 4)}' + color.END)\n",
    "print('LogReg Cvect validation Score:' + color.BOLD + f' {round(lr_val_score_cvec, 4)}' + color.END)\n",
    "print()\n",
    "print('LogReg Tf-idf Training Score:' + color.BOLD + f' {round(lr_train_score_tfidf, 4)}' + color.END)\n",
    "print('LogReg Tf-idf validation Score:' + color.BOLD + f' {round(lr_val_score_tfidf, 4)}' + color.END)\n"
   ]
  },
  {
   "cell_type": "code",
   "execution_count": 98,
   "id": "d0df8a9d",
   "metadata": {},
   "outputs": [
    {
     "data": {
      "text/html": [
       "<div>\n",
       "<style scoped>\n",
       "    .dataframe tbody tr th:only-of-type {\n",
       "        vertical-align: middle;\n",
       "    }\n",
       "\n",
       "    .dataframe tbody tr th {\n",
       "        vertical-align: top;\n",
       "    }\n",
       "\n",
       "    .dataframe thead th {\n",
       "        text-align: right;\n",
       "    }\n",
       "</style>\n",
       "<table border=\"1\" class=\"dataframe\">\n",
       "  <thead>\n",
       "    <tr style=\"text-align: right;\">\n",
       "      <th>model</th>\n",
       "      <th>nb_cvec</th>\n",
       "      <th>nb_tfidf</th>\n",
       "      <th>lr_cvec</th>\n",
       "      <th>lr_tfidf</th>\n",
       "    </tr>\n",
       "    <tr>\n",
       "      <th>accuracy</th>\n",
       "      <th></th>\n",
       "      <th></th>\n",
       "      <th></th>\n",
       "      <th></th>\n",
       "    </tr>\n",
       "  </thead>\n",
       "  <tbody>\n",
       "    <tr>\n",
       "      <th>train</th>\n",
       "      <td>0.9564</td>\n",
       "      <td>0.9580</td>\n",
       "      <td>0.9959</td>\n",
       "      <td>0.9767</td>\n",
       "    </tr>\n",
       "    <tr>\n",
       "      <th>validate</th>\n",
       "      <td>0.9444</td>\n",
       "      <td>0.9481</td>\n",
       "      <td>0.9426</td>\n",
       "      <td>0.9556</td>\n",
       "    </tr>\n",
       "    <tr>\n",
       "      <th>test</th>\n",
       "      <td>0.0000</td>\n",
       "      <td>0.0000</td>\n",
       "      <td>0.0000</td>\n",
       "      <td>0.0000</td>\n",
       "    </tr>\n",
       "  </tbody>\n",
       "</table>\n",
       "</div>"
      ],
      "text/plain": [
       "model     nb_cvec  nb_tfidf  lr_cvec  lr_tfidf\n",
       "accuracy                                      \n",
       "train      0.9564    0.9580   0.9959    0.9767\n",
       "validate   0.9444    0.9481   0.9426    0.9556\n",
       "test       0.0000    0.0000   0.0000    0.0000"
      ]
     },
     "execution_count": 98,
     "metadata": {},
     "output_type": "execute_result"
    }
   ],
   "source": [
    "results_df['lr_cvec'] = np.array([round(lr_train_score_cvec, 4), \n",
    "                                  round(lr_val_score_cvec, 4), \n",
    "                                  0])\n",
    "results_df['lr_tfidf'] = np.array([round(lr_train_score_tfidf, 4), \n",
    "                                  round(lr_val_score_tfidf, 4), \n",
    "                                  0])\n",
    "results_df"
   ]
  },
  {
   "cell_type": "markdown",
   "id": "11f3c4c2",
   "metadata": {},
   "source": [
    "## K-Nearest Neighbors"
   ]
  },
  {
   "cell_type": "code",
   "execution_count": 99,
   "id": "709324b0",
   "metadata": {},
   "outputs": [
    {
     "data": {
      "text/html": [
       "<div>\n",
       "<style scoped>\n",
       "    .dataframe tbody tr th:only-of-type {\n",
       "        vertical-align: middle;\n",
       "    }\n",
       "\n",
       "    .dataframe tbody tr th {\n",
       "        vertical-align: top;\n",
       "    }\n",
       "\n",
       "    .dataframe thead th {\n",
       "        text-align: right;\n",
       "    }\n",
       "</style>\n",
       "<table border=\"1\" class=\"dataframe\">\n",
       "  <thead>\n",
       "    <tr style=\"text-align: right;\">\n",
       "      <th></th>\n",
       "      <th>aaron</th>\n",
       "      <th>abandon</th>\n",
       "      <th>abdominal</th>\n",
       "      <th>abide</th>\n",
       "      <th>ability</th>\n",
       "      <th>able</th>\n",
       "      <th>abolish</th>\n",
       "      <th>abortion</th>\n",
       "      <th>abortions</th>\n",
       "      <th>abound</th>\n",
       "      <th>...</th>\n",
       "      <th>yourselfers</th>\n",
       "      <th>youth</th>\n",
       "      <th>yup</th>\n",
       "      <th>zero</th>\n",
       "      <th>zinc</th>\n",
       "      <th>zionism</th>\n",
       "      <th>zionist</th>\n",
       "      <th>zionists</th>\n",
       "      <th>zip</th>\n",
       "      <th>zone</th>\n",
       "    </tr>\n",
       "  </thead>\n",
       "  <tbody>\n",
       "    <tr>\n",
       "      <th>0</th>\n",
       "      <td>0</td>\n",
       "      <td>0</td>\n",
       "      <td>0</td>\n",
       "      <td>0</td>\n",
       "      <td>0</td>\n",
       "      <td>0</td>\n",
       "      <td>0</td>\n",
       "      <td>0</td>\n",
       "      <td>0</td>\n",
       "      <td>0</td>\n",
       "      <td>...</td>\n",
       "      <td>0</td>\n",
       "      <td>0</td>\n",
       "      <td>0</td>\n",
       "      <td>0</td>\n",
       "      <td>0</td>\n",
       "      <td>0</td>\n",
       "      <td>0</td>\n",
       "      <td>0</td>\n",
       "      <td>0</td>\n",
       "      <td>0</td>\n",
       "    </tr>\n",
       "    <tr>\n",
       "      <th>1</th>\n",
       "      <td>0</td>\n",
       "      <td>0</td>\n",
       "      <td>0</td>\n",
       "      <td>0</td>\n",
       "      <td>0</td>\n",
       "      <td>1</td>\n",
       "      <td>0</td>\n",
       "      <td>0</td>\n",
       "      <td>0</td>\n",
       "      <td>0</td>\n",
       "      <td>...</td>\n",
       "      <td>0</td>\n",
       "      <td>0</td>\n",
       "      <td>0</td>\n",
       "      <td>1</td>\n",
       "      <td>0</td>\n",
       "      <td>0</td>\n",
       "      <td>0</td>\n",
       "      <td>0</td>\n",
       "      <td>0</td>\n",
       "      <td>0</td>\n",
       "    </tr>\n",
       "    <tr>\n",
       "      <th>2</th>\n",
       "      <td>0</td>\n",
       "      <td>0</td>\n",
       "      <td>0</td>\n",
       "      <td>0</td>\n",
       "      <td>0</td>\n",
       "      <td>0</td>\n",
       "      <td>0</td>\n",
       "      <td>0</td>\n",
       "      <td>0</td>\n",
       "      <td>0</td>\n",
       "      <td>...</td>\n",
       "      <td>0</td>\n",
       "      <td>0</td>\n",
       "      <td>0</td>\n",
       "      <td>0</td>\n",
       "      <td>0</td>\n",
       "      <td>0</td>\n",
       "      <td>0</td>\n",
       "      <td>0</td>\n",
       "      <td>0</td>\n",
       "      <td>0</td>\n",
       "    </tr>\n",
       "    <tr>\n",
       "      <th>3</th>\n",
       "      <td>0</td>\n",
       "      <td>0</td>\n",
       "      <td>0</td>\n",
       "      <td>0</td>\n",
       "      <td>0</td>\n",
       "      <td>0</td>\n",
       "      <td>0</td>\n",
       "      <td>0</td>\n",
       "      <td>0</td>\n",
       "      <td>0</td>\n",
       "      <td>...</td>\n",
       "      <td>0</td>\n",
       "      <td>0</td>\n",
       "      <td>0</td>\n",
       "      <td>0</td>\n",
       "      <td>0</td>\n",
       "      <td>0</td>\n",
       "      <td>0</td>\n",
       "      <td>0</td>\n",
       "      <td>0</td>\n",
       "      <td>0</td>\n",
       "    </tr>\n",
       "    <tr>\n",
       "      <th>4</th>\n",
       "      <td>0</td>\n",
       "      <td>0</td>\n",
       "      <td>0</td>\n",
       "      <td>0</td>\n",
       "      <td>0</td>\n",
       "      <td>0</td>\n",
       "      <td>0</td>\n",
       "      <td>0</td>\n",
       "      <td>0</td>\n",
       "      <td>0</td>\n",
       "      <td>...</td>\n",
       "      <td>0</td>\n",
       "      <td>0</td>\n",
       "      <td>0</td>\n",
       "      <td>0</td>\n",
       "      <td>0</td>\n",
       "      <td>0</td>\n",
       "      <td>0</td>\n",
       "      <td>0</td>\n",
       "      <td>0</td>\n",
       "      <td>0</td>\n",
       "    </tr>\n",
       "    <tr>\n",
       "      <th>...</th>\n",
       "      <td>...</td>\n",
       "      <td>...</td>\n",
       "      <td>...</td>\n",
       "      <td>...</td>\n",
       "      <td>...</td>\n",
       "      <td>...</td>\n",
       "      <td>...</td>\n",
       "      <td>...</td>\n",
       "      <td>...</td>\n",
       "      <td>...</td>\n",
       "      <td>...</td>\n",
       "      <td>...</td>\n",
       "      <td>...</td>\n",
       "      <td>...</td>\n",
       "      <td>...</td>\n",
       "      <td>...</td>\n",
       "      <td>...</td>\n",
       "      <td>...</td>\n",
       "      <td>...</td>\n",
       "      <td>...</td>\n",
       "      <td>...</td>\n",
       "    </tr>\n",
       "    <tr>\n",
       "      <th>4585</th>\n",
       "      <td>0</td>\n",
       "      <td>0</td>\n",
       "      <td>0</td>\n",
       "      <td>0</td>\n",
       "      <td>0</td>\n",
       "      <td>0</td>\n",
       "      <td>0</td>\n",
       "      <td>0</td>\n",
       "      <td>0</td>\n",
       "      <td>0</td>\n",
       "      <td>...</td>\n",
       "      <td>0</td>\n",
       "      <td>0</td>\n",
       "      <td>0</td>\n",
       "      <td>0</td>\n",
       "      <td>0</td>\n",
       "      <td>0</td>\n",
       "      <td>0</td>\n",
       "      <td>0</td>\n",
       "      <td>0</td>\n",
       "      <td>0</td>\n",
       "    </tr>\n",
       "    <tr>\n",
       "      <th>4586</th>\n",
       "      <td>0</td>\n",
       "      <td>0</td>\n",
       "      <td>0</td>\n",
       "      <td>0</td>\n",
       "      <td>0</td>\n",
       "      <td>0</td>\n",
       "      <td>0</td>\n",
       "      <td>0</td>\n",
       "      <td>0</td>\n",
       "      <td>0</td>\n",
       "      <td>...</td>\n",
       "      <td>0</td>\n",
       "      <td>0</td>\n",
       "      <td>0</td>\n",
       "      <td>0</td>\n",
       "      <td>0</td>\n",
       "      <td>0</td>\n",
       "      <td>0</td>\n",
       "      <td>0</td>\n",
       "      <td>0</td>\n",
       "      <td>1</td>\n",
       "    </tr>\n",
       "    <tr>\n",
       "      <th>4587</th>\n",
       "      <td>0</td>\n",
       "      <td>0</td>\n",
       "      <td>0</td>\n",
       "      <td>0</td>\n",
       "      <td>0</td>\n",
       "      <td>0</td>\n",
       "      <td>0</td>\n",
       "      <td>0</td>\n",
       "      <td>0</td>\n",
       "      <td>0</td>\n",
       "      <td>...</td>\n",
       "      <td>0</td>\n",
       "      <td>0</td>\n",
       "      <td>0</td>\n",
       "      <td>0</td>\n",
       "      <td>0</td>\n",
       "      <td>0</td>\n",
       "      <td>0</td>\n",
       "      <td>0</td>\n",
       "      <td>0</td>\n",
       "      <td>0</td>\n",
       "    </tr>\n",
       "    <tr>\n",
       "      <th>4588</th>\n",
       "      <td>0</td>\n",
       "      <td>0</td>\n",
       "      <td>0</td>\n",
       "      <td>0</td>\n",
       "      <td>0</td>\n",
       "      <td>0</td>\n",
       "      <td>0</td>\n",
       "      <td>0</td>\n",
       "      <td>0</td>\n",
       "      <td>0</td>\n",
       "      <td>...</td>\n",
       "      <td>0</td>\n",
       "      <td>0</td>\n",
       "      <td>0</td>\n",
       "      <td>0</td>\n",
       "      <td>0</td>\n",
       "      <td>0</td>\n",
       "      <td>0</td>\n",
       "      <td>0</td>\n",
       "      <td>0</td>\n",
       "      <td>0</td>\n",
       "    </tr>\n",
       "    <tr>\n",
       "      <th>4589</th>\n",
       "      <td>0</td>\n",
       "      <td>0</td>\n",
       "      <td>0</td>\n",
       "      <td>0</td>\n",
       "      <td>0</td>\n",
       "      <td>0</td>\n",
       "      <td>0</td>\n",
       "      <td>0</td>\n",
       "      <td>0</td>\n",
       "      <td>0</td>\n",
       "      <td>...</td>\n",
       "      <td>0</td>\n",
       "      <td>0</td>\n",
       "      <td>0</td>\n",
       "      <td>0</td>\n",
       "      <td>0</td>\n",
       "      <td>0</td>\n",
       "      <td>0</td>\n",
       "      <td>0</td>\n",
       "      <td>0</td>\n",
       "      <td>0</td>\n",
       "    </tr>\n",
       "  </tbody>\n",
       "</table>\n",
       "<p>4590 rows × 5501 columns</p>\n",
       "</div>"
      ],
      "text/plain": [
       "      aaron  abandon  abdominal  abide  ability  able  abolish  abortion  \\\n",
       "0         0        0          0      0        0     0        0         0   \n",
       "1         0        0          0      0        0     1        0         0   \n",
       "2         0        0          0      0        0     0        0         0   \n",
       "3         0        0          0      0        0     0        0         0   \n",
       "4         0        0          0      0        0     0        0         0   \n",
       "...     ...      ...        ...    ...      ...   ...      ...       ...   \n",
       "4585      0        0          0      0        0     0        0         0   \n",
       "4586      0        0          0      0        0     0        0         0   \n",
       "4587      0        0          0      0        0     0        0         0   \n",
       "4588      0        0          0      0        0     0        0         0   \n",
       "4589      0        0          0      0        0     0        0         0   \n",
       "\n",
       "      abortions  abound  ...  yourselfers  youth  yup  zero  zinc  zionism  \\\n",
       "0             0       0  ...            0      0    0     0     0        0   \n",
       "1             0       0  ...            0      0    0     1     0        0   \n",
       "2             0       0  ...            0      0    0     0     0        0   \n",
       "3             0       0  ...            0      0    0     0     0        0   \n",
       "4             0       0  ...            0      0    0     0     0        0   \n",
       "...         ...     ...  ...          ...    ...  ...   ...   ...      ...   \n",
       "4585          0       0  ...            0      0    0     0     0        0   \n",
       "4586          0       0  ...            0      0    0     0     0        0   \n",
       "4587          0       0  ...            0      0    0     0     0        0   \n",
       "4588          0       0  ...            0      0    0     0     0        0   \n",
       "4589          0       0  ...            0      0    0     0     0        0   \n",
       "\n",
       "      zionist  zionists  zip  zone  \n",
       "0           0         0    0     0  \n",
       "1           0         0    0     0  \n",
       "2           0         0    0     0  \n",
       "3           0         0    0     0  \n",
       "4           0         0    0     0  \n",
       "...       ...       ...  ...   ...  \n",
       "4585        0         0    0     0  \n",
       "4586        0         0    0     1  \n",
       "4587        0         0    0     0  \n",
       "4588        0         0    0     0  \n",
       "4589        0         0    0     0  \n",
       "\n",
       "[4590 rows x 5501 columns]"
      ]
     },
     "execution_count": 99,
     "metadata": {},
     "output_type": "execute_result"
    }
   ],
   "source": [
    "X_train_df_cvec"
   ]
  },
  {
   "cell_type": "code",
   "execution_count": 100,
   "id": "282345b5",
   "metadata": {},
   "outputs": [
    {
     "data": {
      "text/plain": [
       "679     1\n",
       "2567    1\n",
       "1219    1\n",
       "1323    0\n",
       "78      1\n",
       "       ..\n",
       "1822    1\n",
       "2003    1\n",
       "2242    1\n",
       "87      0\n",
       "2472    0\n",
       "Name: label, Length: 4590, dtype: int64"
      ]
     },
     "execution_count": 100,
     "metadata": {},
     "output_type": "execute_result"
    }
   ],
   "source": [
    "y_train"
   ]
  },
  {
   "cell_type": "code",
   "execution_count": 101,
   "id": "2b3ef26a",
   "metadata": {},
   "outputs": [
    {
     "name": "stdout",
     "output_type": "stream",
     "text": [
      "Fitting 3 folds for each of 8 candidates, totalling 24 fits\n",
      "0.7206971677559914\n",
      "{'n_neighbors': 5}\n",
      "Fitting 3 folds for each of 8 candidates, totalling 24 fits\n",
      "0.7034858387799563\n",
      "{'n_neighbors': 2}\n",
      "time: 110.317 seconds\n",
      "time: 1 minutes, 50.317 seconds\n"
     ]
    }
   ],
   "source": [
    "start_time = time.time()\n",
    "\n",
    "# define parameters for a GridSearch\n",
    "knn_params = {\n",
    "    'n_neighbors': [2,3,4,5,6,7,8,9] #,\n",
    "#     'weights': ['uniform', 'distance'],\n",
    "#     'metric': ['euclidean', 'manhattan']\n",
    "}\n",
    "\n",
    "\n",
    "# k-nearest neighbors, Count Vectorizer\n",
    "knn_cvec = KNeighborsClassifier()\n",
    "gs_knn_cvec = GridSearchCV(\n",
    "    knn_cvec, \n",
    "    knn_params, \n",
    "    #scoring = scorer, \n",
    "    verbose = 1,\n",
    "    cv=3\n",
    ")\n",
    "gs_knn_cvec.fit(X_train_df_cvec, y_train)\n",
    "print(gs_knn_cvec.best_score_)\n",
    "print(gs_knn_cvec.best_params_)\n",
    "\n",
    "\n",
    "# k-nearest neighbors, tf-idf Vectorizer\n",
    "knn_tfidf = KNeighborsClassifier()\n",
    "gs_knn_tfidf = GridSearchCV(\n",
    "    knn_tfidf, \n",
    "    knn_params, \n",
    "    #scoring = scorer, \n",
    "    verbose = 1,\n",
    "    cv=3\n",
    ")\n",
    "gs_knn_tfidf.fit(X_train_df_tfidf, y_train)\n",
    "print(gs_knn_tfidf.best_score_)\n",
    "print(gs_knn_tfidf.best_params_)\n",
    "\n",
    "\n",
    "end_time = round(time.time() - start_time, 3)\n",
    "print(f'time: {end_time} seconds')\n",
    "end_time_minutes = int(end_time/ 60)\n",
    "end_time_seconds = round(end_time % 60, 3)\n",
    "\n",
    "print(f'time: {end_time_minutes} minutes, {end_time_seconds} seconds')\n",
    "\n"
   ]
  },
  {
   "cell_type": "code",
   "execution_count": 102,
   "id": "105cf1fc",
   "metadata": {},
   "outputs": [
    {
     "name": "stdout",
     "output_type": "stream",
     "text": [
      "knn Cvect Training Score:\u001b[1m 0.8658\u001b[0m\n",
      "knn Cvect validation Score:\u001b[1m 0.7852\u001b[0m\n",
      "\n",
      "knn Tf-idf Training Score:\u001b[1m 0.9943\u001b[0m\n",
      "knn Tf-idf validation Score:\u001b[1m 0.7426\u001b[0m\n"
     ]
    }
   ],
   "source": [
    "knn_train_score_cvec = gs_knn_cvec.score(X_train_df_cvec, y_train)\n",
    "knn_val_score_cvec = gs_knn_cvec.score(X_val_df_cvec, y_val)\n",
    "knn_train_score_tfidf = gs_knn_tfidf.score(X_train_df_tfidf, y_train)\n",
    "knn_val_score_tfidf = gs_knn_tfidf.score(X_val_df_tfidf, y_val)\n",
    "\n",
    "print('knn Cvect Training Score:' + color.BOLD + f' {round(knn_train_score_cvec, 4)}' + color.END)\n",
    "print('knn Cvect validation Score:' + color.BOLD + f' {round(knn_val_score_cvec, 4)}' + color.END)\n",
    "print()\n",
    "print('knn Tf-idf Training Score:' + color.BOLD + f' {round(knn_train_score_tfidf, 4)}' + color.END)\n",
    "print('knn Tf-idf validation Score:' + color.BOLD + f' {round(knn_val_score_tfidf, 4)}' + color.END)\n"
   ]
  },
  {
   "cell_type": "code",
   "execution_count": null,
   "id": "d02bb69c",
   "metadata": {},
   "outputs": [],
   "source": []
  },
  {
   "cell_type": "code",
   "execution_count": 103,
   "id": "3bf20e5c",
   "metadata": {},
   "outputs": [
    {
     "data": {
      "text/html": [
       "<div>\n",
       "<style scoped>\n",
       "    .dataframe tbody tr th:only-of-type {\n",
       "        vertical-align: middle;\n",
       "    }\n",
       "\n",
       "    .dataframe tbody tr th {\n",
       "        vertical-align: top;\n",
       "    }\n",
       "\n",
       "    .dataframe thead th {\n",
       "        text-align: right;\n",
       "    }\n",
       "</style>\n",
       "<table border=\"1\" class=\"dataframe\">\n",
       "  <thead>\n",
       "    <tr style=\"text-align: right;\">\n",
       "      <th>model</th>\n",
       "      <th>nb_cvec</th>\n",
       "      <th>nb_tfidf</th>\n",
       "      <th>lr_cvec</th>\n",
       "      <th>lr_tfidf</th>\n",
       "      <th>knn_cvec</th>\n",
       "      <th>knn_tfidf</th>\n",
       "    </tr>\n",
       "    <tr>\n",
       "      <th>accuracy</th>\n",
       "      <th></th>\n",
       "      <th></th>\n",
       "      <th></th>\n",
       "      <th></th>\n",
       "      <th></th>\n",
       "      <th></th>\n",
       "    </tr>\n",
       "  </thead>\n",
       "  <tbody>\n",
       "    <tr>\n",
       "      <th>train</th>\n",
       "      <td>0.9564</td>\n",
       "      <td>0.9580</td>\n",
       "      <td>0.9959</td>\n",
       "      <td>0.9767</td>\n",
       "      <td>0.8658</td>\n",
       "      <td>0.9943</td>\n",
       "    </tr>\n",
       "    <tr>\n",
       "      <th>validate</th>\n",
       "      <td>0.9444</td>\n",
       "      <td>0.9481</td>\n",
       "      <td>0.9426</td>\n",
       "      <td>0.9556</td>\n",
       "      <td>0.7852</td>\n",
       "      <td>0.7426</td>\n",
       "    </tr>\n",
       "    <tr>\n",
       "      <th>test</th>\n",
       "      <td>0.0000</td>\n",
       "      <td>0.0000</td>\n",
       "      <td>0.0000</td>\n",
       "      <td>0.0000</td>\n",
       "      <td>0.0000</td>\n",
       "      <td>0.0000</td>\n",
       "    </tr>\n",
       "  </tbody>\n",
       "</table>\n",
       "</div>"
      ],
      "text/plain": [
       "model     nb_cvec  nb_tfidf  lr_cvec  lr_tfidf  knn_cvec  knn_tfidf\n",
       "accuracy                                                           \n",
       "train      0.9564    0.9580   0.9959    0.9767    0.8658     0.9943\n",
       "validate   0.9444    0.9481   0.9426    0.9556    0.7852     0.7426\n",
       "test       0.0000    0.0000   0.0000    0.0000    0.0000     0.0000"
      ]
     },
     "execution_count": 103,
     "metadata": {},
     "output_type": "execute_result"
    }
   ],
   "source": [
    "results_df['knn_cvec'] = np.array([round(knn_train_score_cvec, 4), \n",
    "                                  round(knn_val_score_cvec, 4), \n",
    "                                  0])\n",
    "results_df['knn_tfidf'] = np.array([round(knn_train_score_tfidf, 4), \n",
    "                                  round(knn_val_score_tfidf, 4), \n",
    "                                  0])\n",
    "results_df"
   ]
  },
  {
   "cell_type": "markdown",
   "id": "f61fe88f",
   "metadata": {},
   "source": [
    "## CART, Decision Trees"
   ]
  },
  {
   "cell_type": "code",
   "execution_count": 104,
   "id": "63277e30",
   "metadata": {},
   "outputs": [
    {
     "data": {
      "text/html": [
       "<div>\n",
       "<style scoped>\n",
       "    .dataframe tbody tr th:only-of-type {\n",
       "        vertical-align: middle;\n",
       "    }\n",
       "\n",
       "    .dataframe tbody tr th {\n",
       "        vertical-align: top;\n",
       "    }\n",
       "\n",
       "    .dataframe thead th {\n",
       "        text-align: right;\n",
       "    }\n",
       "</style>\n",
       "<table border=\"1\" class=\"dataframe\">\n",
       "  <thead>\n",
       "    <tr style=\"text-align: right;\">\n",
       "      <th></th>\n",
       "      <th>aaron</th>\n",
       "      <th>abandon</th>\n",
       "      <th>abdominal</th>\n",
       "      <th>abide</th>\n",
       "      <th>ability</th>\n",
       "      <th>able</th>\n",
       "      <th>abolish</th>\n",
       "      <th>abortion</th>\n",
       "      <th>abortions</th>\n",
       "      <th>abound</th>\n",
       "      <th>...</th>\n",
       "      <th>yourselfers</th>\n",
       "      <th>youth</th>\n",
       "      <th>yup</th>\n",
       "      <th>zero</th>\n",
       "      <th>zinc</th>\n",
       "      <th>zionism</th>\n",
       "      <th>zionist</th>\n",
       "      <th>zionists</th>\n",
       "      <th>zip</th>\n",
       "      <th>zone</th>\n",
       "    </tr>\n",
       "  </thead>\n",
       "  <tbody>\n",
       "    <tr>\n",
       "      <th>0</th>\n",
       "      <td>0</td>\n",
       "      <td>0</td>\n",
       "      <td>0</td>\n",
       "      <td>0</td>\n",
       "      <td>0</td>\n",
       "      <td>0</td>\n",
       "      <td>0</td>\n",
       "      <td>0</td>\n",
       "      <td>0</td>\n",
       "      <td>0</td>\n",
       "      <td>...</td>\n",
       "      <td>0</td>\n",
       "      <td>0</td>\n",
       "      <td>0</td>\n",
       "      <td>0</td>\n",
       "      <td>0</td>\n",
       "      <td>0</td>\n",
       "      <td>0</td>\n",
       "      <td>0</td>\n",
       "      <td>0</td>\n",
       "      <td>0</td>\n",
       "    </tr>\n",
       "    <tr>\n",
       "      <th>1</th>\n",
       "      <td>0</td>\n",
       "      <td>0</td>\n",
       "      <td>0</td>\n",
       "      <td>0</td>\n",
       "      <td>0</td>\n",
       "      <td>1</td>\n",
       "      <td>0</td>\n",
       "      <td>0</td>\n",
       "      <td>0</td>\n",
       "      <td>0</td>\n",
       "      <td>...</td>\n",
       "      <td>0</td>\n",
       "      <td>0</td>\n",
       "      <td>0</td>\n",
       "      <td>1</td>\n",
       "      <td>0</td>\n",
       "      <td>0</td>\n",
       "      <td>0</td>\n",
       "      <td>0</td>\n",
       "      <td>0</td>\n",
       "      <td>0</td>\n",
       "    </tr>\n",
       "    <tr>\n",
       "      <th>2</th>\n",
       "      <td>0</td>\n",
       "      <td>0</td>\n",
       "      <td>0</td>\n",
       "      <td>0</td>\n",
       "      <td>0</td>\n",
       "      <td>0</td>\n",
       "      <td>0</td>\n",
       "      <td>0</td>\n",
       "      <td>0</td>\n",
       "      <td>0</td>\n",
       "      <td>...</td>\n",
       "      <td>0</td>\n",
       "      <td>0</td>\n",
       "      <td>0</td>\n",
       "      <td>0</td>\n",
       "      <td>0</td>\n",
       "      <td>0</td>\n",
       "      <td>0</td>\n",
       "      <td>0</td>\n",
       "      <td>0</td>\n",
       "      <td>0</td>\n",
       "    </tr>\n",
       "    <tr>\n",
       "      <th>3</th>\n",
       "      <td>0</td>\n",
       "      <td>0</td>\n",
       "      <td>0</td>\n",
       "      <td>0</td>\n",
       "      <td>0</td>\n",
       "      <td>0</td>\n",
       "      <td>0</td>\n",
       "      <td>0</td>\n",
       "      <td>0</td>\n",
       "      <td>0</td>\n",
       "      <td>...</td>\n",
       "      <td>0</td>\n",
       "      <td>0</td>\n",
       "      <td>0</td>\n",
       "      <td>0</td>\n",
       "      <td>0</td>\n",
       "      <td>0</td>\n",
       "      <td>0</td>\n",
       "      <td>0</td>\n",
       "      <td>0</td>\n",
       "      <td>0</td>\n",
       "    </tr>\n",
       "    <tr>\n",
       "      <th>4</th>\n",
       "      <td>0</td>\n",
       "      <td>0</td>\n",
       "      <td>0</td>\n",
       "      <td>0</td>\n",
       "      <td>0</td>\n",
       "      <td>0</td>\n",
       "      <td>0</td>\n",
       "      <td>0</td>\n",
       "      <td>0</td>\n",
       "      <td>0</td>\n",
       "      <td>...</td>\n",
       "      <td>0</td>\n",
       "      <td>0</td>\n",
       "      <td>0</td>\n",
       "      <td>0</td>\n",
       "      <td>0</td>\n",
       "      <td>0</td>\n",
       "      <td>0</td>\n",
       "      <td>0</td>\n",
       "      <td>0</td>\n",
       "      <td>0</td>\n",
       "    </tr>\n",
       "    <tr>\n",
       "      <th>...</th>\n",
       "      <td>...</td>\n",
       "      <td>...</td>\n",
       "      <td>...</td>\n",
       "      <td>...</td>\n",
       "      <td>...</td>\n",
       "      <td>...</td>\n",
       "      <td>...</td>\n",
       "      <td>...</td>\n",
       "      <td>...</td>\n",
       "      <td>...</td>\n",
       "      <td>...</td>\n",
       "      <td>...</td>\n",
       "      <td>...</td>\n",
       "      <td>...</td>\n",
       "      <td>...</td>\n",
       "      <td>...</td>\n",
       "      <td>...</td>\n",
       "      <td>...</td>\n",
       "      <td>...</td>\n",
       "      <td>...</td>\n",
       "      <td>...</td>\n",
       "    </tr>\n",
       "    <tr>\n",
       "      <th>4585</th>\n",
       "      <td>0</td>\n",
       "      <td>0</td>\n",
       "      <td>0</td>\n",
       "      <td>0</td>\n",
       "      <td>0</td>\n",
       "      <td>0</td>\n",
       "      <td>0</td>\n",
       "      <td>0</td>\n",
       "      <td>0</td>\n",
       "      <td>0</td>\n",
       "      <td>...</td>\n",
       "      <td>0</td>\n",
       "      <td>0</td>\n",
       "      <td>0</td>\n",
       "      <td>0</td>\n",
       "      <td>0</td>\n",
       "      <td>0</td>\n",
       "      <td>0</td>\n",
       "      <td>0</td>\n",
       "      <td>0</td>\n",
       "      <td>0</td>\n",
       "    </tr>\n",
       "    <tr>\n",
       "      <th>4586</th>\n",
       "      <td>0</td>\n",
       "      <td>0</td>\n",
       "      <td>0</td>\n",
       "      <td>0</td>\n",
       "      <td>0</td>\n",
       "      <td>0</td>\n",
       "      <td>0</td>\n",
       "      <td>0</td>\n",
       "      <td>0</td>\n",
       "      <td>0</td>\n",
       "      <td>...</td>\n",
       "      <td>0</td>\n",
       "      <td>0</td>\n",
       "      <td>0</td>\n",
       "      <td>0</td>\n",
       "      <td>0</td>\n",
       "      <td>0</td>\n",
       "      <td>0</td>\n",
       "      <td>0</td>\n",
       "      <td>0</td>\n",
       "      <td>1</td>\n",
       "    </tr>\n",
       "    <tr>\n",
       "      <th>4587</th>\n",
       "      <td>0</td>\n",
       "      <td>0</td>\n",
       "      <td>0</td>\n",
       "      <td>0</td>\n",
       "      <td>0</td>\n",
       "      <td>0</td>\n",
       "      <td>0</td>\n",
       "      <td>0</td>\n",
       "      <td>0</td>\n",
       "      <td>0</td>\n",
       "      <td>...</td>\n",
       "      <td>0</td>\n",
       "      <td>0</td>\n",
       "      <td>0</td>\n",
       "      <td>0</td>\n",
       "      <td>0</td>\n",
       "      <td>0</td>\n",
       "      <td>0</td>\n",
       "      <td>0</td>\n",
       "      <td>0</td>\n",
       "      <td>0</td>\n",
       "    </tr>\n",
       "    <tr>\n",
       "      <th>4588</th>\n",
       "      <td>0</td>\n",
       "      <td>0</td>\n",
       "      <td>0</td>\n",
       "      <td>0</td>\n",
       "      <td>0</td>\n",
       "      <td>0</td>\n",
       "      <td>0</td>\n",
       "      <td>0</td>\n",
       "      <td>0</td>\n",
       "      <td>0</td>\n",
       "      <td>...</td>\n",
       "      <td>0</td>\n",
       "      <td>0</td>\n",
       "      <td>0</td>\n",
       "      <td>0</td>\n",
       "      <td>0</td>\n",
       "      <td>0</td>\n",
       "      <td>0</td>\n",
       "      <td>0</td>\n",
       "      <td>0</td>\n",
       "      <td>0</td>\n",
       "    </tr>\n",
       "    <tr>\n",
       "      <th>4589</th>\n",
       "      <td>0</td>\n",
       "      <td>0</td>\n",
       "      <td>0</td>\n",
       "      <td>0</td>\n",
       "      <td>0</td>\n",
       "      <td>0</td>\n",
       "      <td>0</td>\n",
       "      <td>0</td>\n",
       "      <td>0</td>\n",
       "      <td>0</td>\n",
       "      <td>...</td>\n",
       "      <td>0</td>\n",
       "      <td>0</td>\n",
       "      <td>0</td>\n",
       "      <td>0</td>\n",
       "      <td>0</td>\n",
       "      <td>0</td>\n",
       "      <td>0</td>\n",
       "      <td>0</td>\n",
       "      <td>0</td>\n",
       "      <td>0</td>\n",
       "    </tr>\n",
       "  </tbody>\n",
       "</table>\n",
       "<p>4590 rows × 5501 columns</p>\n",
       "</div>"
      ],
      "text/plain": [
       "      aaron  abandon  abdominal  abide  ability  able  abolish  abortion  \\\n",
       "0         0        0          0      0        0     0        0         0   \n",
       "1         0        0          0      0        0     1        0         0   \n",
       "2         0        0          0      0        0     0        0         0   \n",
       "3         0        0          0      0        0     0        0         0   \n",
       "4         0        0          0      0        0     0        0         0   \n",
       "...     ...      ...        ...    ...      ...   ...      ...       ...   \n",
       "4585      0        0          0      0        0     0        0         0   \n",
       "4586      0        0          0      0        0     0        0         0   \n",
       "4587      0        0          0      0        0     0        0         0   \n",
       "4588      0        0          0      0        0     0        0         0   \n",
       "4589      0        0          0      0        0     0        0         0   \n",
       "\n",
       "      abortions  abound  ...  yourselfers  youth  yup  zero  zinc  zionism  \\\n",
       "0             0       0  ...            0      0    0     0     0        0   \n",
       "1             0       0  ...            0      0    0     1     0        0   \n",
       "2             0       0  ...            0      0    0     0     0        0   \n",
       "3             0       0  ...            0      0    0     0     0        0   \n",
       "4             0       0  ...            0      0    0     0     0        0   \n",
       "...         ...     ...  ...          ...    ...  ...   ...   ...      ...   \n",
       "4585          0       0  ...            0      0    0     0     0        0   \n",
       "4586          0       0  ...            0      0    0     0     0        0   \n",
       "4587          0       0  ...            0      0    0     0     0        0   \n",
       "4588          0       0  ...            0      0    0     0     0        0   \n",
       "4589          0       0  ...            0      0    0     0     0        0   \n",
       "\n",
       "      zionist  zionists  zip  zone  \n",
       "0           0         0    0     0  \n",
       "1           0         0    0     0  \n",
       "2           0         0    0     0  \n",
       "3           0         0    0     0  \n",
       "4           0         0    0     0  \n",
       "...       ...       ...  ...   ...  \n",
       "4585        0         0    0     0  \n",
       "4586        0         0    0     1  \n",
       "4587        0         0    0     0  \n",
       "4588        0         0    0     0  \n",
       "4589        0         0    0     0  \n",
       "\n",
       "[4590 rows x 5501 columns]"
      ]
     },
     "execution_count": 104,
     "metadata": {},
     "output_type": "execute_result"
    }
   ],
   "source": [
    "X_train_df_cvec"
   ]
  },
  {
   "cell_type": "code",
   "execution_count": 105,
   "id": "9f8587b7",
   "metadata": {},
   "outputs": [
    {
     "data": {
      "text/plain": [
       "679     1\n",
       "2567    1\n",
       "1219    1\n",
       "1323    0\n",
       "78      1\n",
       "       ..\n",
       "1822    1\n",
       "2003    1\n",
       "2242    1\n",
       "87      0\n",
       "2472    0\n",
       "Name: label, Length: 4590, dtype: int64"
      ]
     },
     "execution_count": 105,
     "metadata": {},
     "output_type": "execute_result"
    }
   ],
   "source": [
    "y_train"
   ]
  },
  {
   "cell_type": "code",
   "execution_count": 106,
   "id": "7fb61419",
   "metadata": {},
   "outputs": [
    {
     "name": "stdout",
     "output_type": "stream",
     "text": [
      "Fitting 3 folds for each of 5 candidates, totalling 15 fits\n",
      "0.7553376906318082\n",
      "{'criterion': 'gini', 'max_depth': 12, 'max_features': None, 'splitter': 'best'}\n",
      "Fitting 3 folds for each of 5 candidates, totalling 15 fits\n",
      "0.7568627450980392\n",
      "{'criterion': 'gini', 'max_depth': 11, 'max_features': None, 'splitter': 'best'}\n",
      "time: 85.123 seconds\n",
      "time: 1 minutes, 25.123 seconds\n"
     ]
    }
   ],
   "source": [
    "start_time = time.time()\n",
    "\n",
    "# define parameters for a GridSearch\n",
    "tree_params = {\n",
    "    'max_depth': [8,9,10,11,12],\n",
    "    'criterion': ['gini'],\n",
    "    'splitter': ['best'],\n",
    "    'max_features': [None]\n",
    "}\n",
    "\n",
    "\n",
    "# Decision Tree Classifier (CART), Count Vectorizer\n",
    "tree_cvec = DecisionTreeClassifier()\n",
    "gs_tree_cvec = GridSearchCV(\n",
    "    tree_cvec, \n",
    "    tree_params, \n",
    "    #scoring = scorer, \n",
    "    verbose = 1,\n",
    "    cv=3\n",
    ")\n",
    "gs_tree_cvec.fit(X_train_df_cvec, y_train)\n",
    "print(gs_tree_cvec.best_score_)\n",
    "print(gs_tree_cvec.best_params_)\n",
    "\n",
    "\n",
    "# Decision Tree Classifier (CART), tf-idf Vectorizer\n",
    "tree_tfidf = DecisionTreeClassifier()\n",
    "gs_tree_tfidf = GridSearchCV(\n",
    "    tree_tfidf, \n",
    "    tree_params, \n",
    "    #scoring = scorer, \n",
    "    verbose = 1,\n",
    "    cv=3\n",
    ")\n",
    "gs_tree_tfidf.fit(X_train_df_tfidf, y_train)\n",
    "print(gs_tree_tfidf.best_score_)\n",
    "print(gs_tree_tfidf.best_params_)\n",
    "\n",
    "\n",
    "end_time = round(time.time() - start_time, 3)\n",
    "print(f'time: {end_time} seconds')\n",
    "end_time_minutes = int(end_time/ 60)\n",
    "end_time_seconds = round(end_time % 60, 3)\n",
    "\n",
    "print(f'time: {end_time_minutes} minutes, {end_time_seconds} seconds')\n",
    "\n"
   ]
  },
  {
   "cell_type": "code",
   "execution_count": 107,
   "id": "4108cfce",
   "metadata": {},
   "outputs": [
    {
     "name": "stdout",
     "output_type": "stream",
     "text": [
      "Fitting 3 folds for each of 2 candidates, totalling 6 fits\n",
      "time: 155.234 seconds\n",
      "time: 2 minutes, 35.234 seconds\n",
      "0.8466230936819171\n"
     ]
    },
    {
     "data": {
      "text/plain": [
       "{'base_estimator__max_depth': 1, 'learning_rate': 0.9, 'n_estimators': 50}"
      ]
     },
     "execution_count": 107,
     "metadata": {},
     "output_type": "execute_result"
    }
   ],
   "source": [
    "start_time = time.time()\n",
    "\n",
    "ada = AdaBoostClassifier(base_estimator=DecisionTreeClassifier())\n",
    "ada_params = {\n",
    "    'n_estimators': [50],\n",
    "    'base_estimator__max_depth': [1],\n",
    "    'learning_rate': [.9, 1.]\n",
    "}\n",
    "gs = GridSearchCV(ada, param_grid=ada_params, verbose=1, cv=3)\n",
    "gs.fit(X_train_df_cvec, y_train)\n",
    "\n",
    "end_time = round(time.time() - start_time, 3)\n",
    "print(f'time: {end_time} seconds')\n",
    "end_time_minutes = int(end_time/ 60)\n",
    "end_time_seconds = round(end_time % 60, 3)\n",
    "\n",
    "print(f'time: {end_time_minutes} minutes, {end_time_seconds} seconds')\n",
    "\n",
    "print(gs.best_score_)\n",
    "gs.best_params_"
   ]
  }
 ],
 "metadata": {
  "kernelspec": {
   "display_name": "Python 3",
   "language": "python",
   "name": "python3"
  },
  "language_info": {
   "codemirror_mode": {
    "name": "ipython",
    "version": 3
   },
   "file_extension": ".py",
   "mimetype": "text/x-python",
   "name": "python",
   "nbconvert_exporter": "python",
   "pygments_lexer": "ipython3",
   "version": "3.6.5"
  }
 },
 "nbformat": 4,
 "nbformat_minor": 5
}
