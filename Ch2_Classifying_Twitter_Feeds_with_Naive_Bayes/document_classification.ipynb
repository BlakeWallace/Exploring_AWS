{
 "cells": [
  {
   "cell_type": "markdown",
   "id": "76e91551-f319-4bd1-ba19-8d6e7ba5c162",
   "metadata": {},
   "source": [
    "# Document Classification"
   ]
  },
  {
   "cell_type": "markdown",
   "id": "0095a472-06ec-410a-8fb4-ac90f38e78aa",
   "metadata": {},
   "source": [
    "## Mastering Machine Learning on AWS\n",
    "### Section 2, Chapter 2\n",
    "\n",
    "In this notebook we will use data from Kaggle for classification.  These are pre-labelled text documents, found [here](https://www.kaggle.com/datasets/dipankarsrirag/topic-modelling-on-emails).  There are four categories, `Crime` (1100), `Entertainment` (1053), `Politics` (3001), `Science` (4000).  We will work with the `Politics` and `Science` data to train binary classifiers.  The models will use 2300 documents to train, 200 to validate, and 200 to test.  Our initial evaluation metric will be model accuracy.  We will use the model accuracy to choose the best model from the different techniques considered.  Initially, we will train two models, Naive Bayes and Logistic Regression.  We will do some final analysis considering a few other questions regarding errors and missclassifications, and consider questions related to tuning the models in various situations to handle the different classes.\n",
    "\n",
    "During Data Preprocessing each step each step will be explored and the steps taken will be detailed.  At the model building stage, the steps will be joined together inside a single pipeline for transforming the data from its raw state to its predictive model ingestable state.  Models will then be trained on the completely transformed data before exploring an analysis of the results."
   ]
  },
  {
   "cell_type": "markdown",
   "id": "dcba6754-d1d0-4d3b-ac6a-60ea2f433711",
   "metadata": {},
   "source": [
    "# Contents "
   ]
  },
  {
   "cell_type": "markdown",
   "id": "05f5c123-c149-46f0-9ce6-390bcf565e00",
   "metadata": {
    "jp-MarkdownHeadingCollapsed": true
   },
   "source": [
    "1. [Contents](#Contents)  \n",
    "2. [Modules and Libraries](#Modules-and-Libraries)  \n",
    "3. [Download Data](#Download-Data)  \n",
    "4. [Define data variables and Import Data](#Define-data-variables-and-Import-Data)  \n",
    "    1. [Importing Data with `read_text_files`](#Importing-Data-with-read_text_files)\n",
    "5. [Data Exploration](#Data-Exploration)\n",
    "    1. [Crime Data](#Crime-Data)\n",
    "    2. [Entertainment Data](#Entertainment-Data)\n",
    "    3. [Science Data](#Science-Data)\n",
    "    4. [Politics-Data](#Politics-Data)\n",
    "6. [Duplicate Data Check](#Duplicate-Data-Check)\n",
    "    1. [Crime vs Entertainment](#Crime-vs-Entertainment)\n",
    "    2. [Science vs Politics](#Science-vs-Politics)\n",
    "    3. [Science vs Crime](#Science-vs-Crime)  \n",
    "    4. [Politics vs Crime](#Politics-vs-Crime)\n",
    "    5. [Data Conclusions](#Data-Conclusions)\n",
    "7. [Data Cleaning and Preperation](#Data-Cleaning-and-Preperation)\n",
    "    1. [Creating Transformed Data for Processing](#Creating-Transformed-Data-for-Processing)\n",
    "    2. [Remove Duplicate Data](#Remove-Duplicate-Data)\n",
    "    3. [Create Lists and Numpy Arrays of the Data](#Create-Lists-and-Numpy-Arrays-of-the-Data)\n",
    "    4. [Feature Vectorization](#Feature-Vectorization)\n",
    "        1. [Create DataFrames](#Create-DataFrames)\n",
    "            1. [Politics, label 1](#Politics,-label-1)\n",
    "            2. [Science, label 0](#Science,-label-0)\n",
    "            3. [Combined DataFrame](#Combined-DataFrame)  \n",
    "    6. [Vectorize the Data](#Vectorize-the-Data)  \n",
    "8. [Predictive Models](#Predictive-Models)\n",
    "    1. [Naive Bayes](#Naive-Bayes)  \n",
    "    2. [Logistic Regression](#Logistic-Regression)  \n",
    "    3. [K-Nearest Neighbors](#K-Nearest-Neighbors)  "
   ]
  },
  {
   "cell_type": "markdown",
   "id": "f05ac7d0-6e9a-445b-9653-efb2cc63fefc",
   "metadata": {},
   "source": [
    "# Modules and Libraries     "
   ]
  },
  {
   "cell_type": "code",
   "execution_count": 358,
   "id": "0e251765-1b13-4949-880b-59bd1ebd81ea",
   "metadata": {},
   "outputs": [],
   "source": [
    "import numpy as np\n",
    "import pandas as pd\n",
    "import matplotlib as mlp\n",
    "import matplotlib.pyplot as plt\n",
    "from matplotlib.colors import LinearSegmentedColormap\n",
    "\n",
    "import datetime as dt\n",
    "import time\n",
    "\n",
    "import nltk\n",
    "from nltk.stem import WordNetLemmatizer\n",
    "# nltk.download('stopwords') \n",
    "# nltk.download('punkt_tab')\n",
    "# nltk.download(\"wordnet\")\n",
    "# nltk.download(\"omw-1.4\")\n",
    "\n",
    "from sklearn.model_selection import train_test_split, GridSearchCV, StratifiedShuffleSplit\n",
    "from sklearn.linear_model import LogisticRegression\n",
    "from sklearn.pipeline import Pipeline\n",
    "from sklearn.feature_extraction.text import CountVectorizer, TfidfVectorizer\n",
    "from sklearn.ensemble import AdaBoostClassifier\n",
    "from sklearn.tree import DecisionTreeClassifier\n",
    "\n",
    "from sklearn.metrics import confusion_matrix, classification_report, accuracy_score\n",
    "\n",
    "%matplotlib inline\n",
    "\n",
    "class color:\n",
    "   PURPLE = '\\033[95m'\n",
    "   CYAN = '\\033[96m'\n",
    "   DARKCYAN = '\\033[36m'\n",
    "   BLUE = '\\033[94m'\n",
    "   GREEN = '\\033[92m'\n",
    "   YELLOW = '\\033[93m'\n",
    "   RED = '\\033[91m'\n",
    "   BOLD = '\\033[1m'\n",
    "   UNDERLINE = '\\033[4m'\n",
    "   END = '\\033[0m'\n",
    "\n",
    "import bnaivebayes as bnb\n",
    "import readtextfunctions as rtf\n",
    "import datacleaning as dc\n",
    "# import nb"
   ]
  },
  {
   "cell_type": "markdown",
   "id": "70f7057b-2c58-4a30-8521-63ee949d680a",
   "metadata": {},
   "source": [
    "# Download Data"
   ]
  },
  {
   "cell_type": "markdown",
   "id": "f14334c0-560c-48e6-9d93-5fe81f93e0d5",
   "metadata": {},
   "source": [
    "This is the script that was used to download and show where the data is located.\n",
    "```python\n",
    "import kagglehub\n",
    "\n",
    "# Download latest version\n",
    "path = kagglehub.dataset_download(\"dipankarsrirag/topic-modelling-on-emails\")\n",
    "\n",
    "print(\"Path to dataset files:\", path)\n",
    "```\n",
    "Output: `Path to dataset files: /Users/blakewallace/.cache/kagglehub/datasets/dipankarsrirag/topic-modelling-on-emails/versions/1`\n",
    "\n",
    "All of the files were moved to the local directory housing the current workbook.  The path to the folder is now `/Users/blakewallace/Repositories/AWS/data/kaggle/Text_Classification_on_Documents`.  \n",
    "\n",
    "Note that the data is not actually in the GitHub repository.  It is available for download on the Kaggle platform on the page [Text Classification on Emails](https://www.kaggle.com/datasets/dipankarsrirag/topic-modelling-on-emails).  "
   ]
  },
  {
   "cell_type": "markdown",
   "id": "bbd1a09e-5f72-4d29-87f5-e29de66ec786",
   "metadata": {},
   "source": [
    "# Define data variables and Import Data"
   ]
  },
  {
   "cell_type": "markdown",
   "id": "bd7ea1b3-2c1a-42d3-9fef-b1b4f336ecd4",
   "metadata": {},
   "source": [
    "## Importing Data with `read_text_files`\n",
    "\n",
    "This data is in the location on the system that it was downloaded to in the [Download Data](#Download-Data) section."
   ]
  },
  {
   "cell_type": "code",
   "execution_count": 2,
   "id": "48ab7517-c0bf-4078-95b1-d7856f44165e",
   "metadata": {},
   "outputs": [
    {
     "name": "stdout",
     "output_type": "stream",
     "text": [
      "/Users/blakewallace/Repositories/AWS/data/kaggle/Text_Classification_on_Documents/Crime/\n",
      "Error reading 15672.txt: 'utf-8' codec can't decode byte 0xa0 in position 896: invalid start byte\n",
      "\n",
      "/Users/blakewallace/Repositories/AWS/data/kaggle/Text_Classification_on_Documents/Entertainment/\n",
      "Error reading 15672.txt: 'utf-8' codec can't decode byte 0xa0 in position 896: invalid start byte\n",
      "\n",
      "/Users/blakewallace/Repositories/AWS/data/kaggle/Text_Classification_on_Documents/Politics/\n",
      "\n",
      "/Users/blakewallace/Repositories/AWS/data/kaggle/Text_Classification_on_Documents/Science/\n",
      "Error reading 15672.txt: 'utf-8' codec can't decode byte 0xa0 in position 896: invalid start byte\n",
      "Error reading 53721.txt: 'utf-8' codec can't decode byte 0xfd in position 195: invalid start byte\n",
      "Error reading 53803.txt: 'utf-8' codec can't decode byte 0xfd in position 285: invalid start byte\n",
      "Error reading 53883.txt: 'utf-8' codec can't decode byte 0xfd in position 390: invalid start byte\n",
      "Error reading 54070.txt: 'utf-8' codec can't decode byte 0xfe in position 176: invalid start byte\n",
      "Error reading 54071.txt: 'utf-8' codec can't decode byte 0xfe in position 209: invalid start byte\n",
      "Error reading 54485.txt: 'utf-8' codec can't decode byte 0xf6 in position 1532: invalid start byte\n",
      "Error reading 59055.txt: 'utf-8' codec can't decode byte 0xff in position 728: invalid start byte\n",
      "Error reading 59239.txt: 'utf-8' codec can't decode byte 0xed in position 540: invalid continuation byte\n",
      "Error reading 59535.txt: 'utf-8' codec can't decode byte 0xab in position 182: invalid start byte\n",
      "Error reading 61293.txt: 'utf-8' codec can't decode byte 0xa5 in position 931: invalid start byte\n",
      "Error reading 61534.txt: 'utf-8' codec can't decode byte 0xf8 in position 1650: invalid start byte\n",
      "Error reading 61556.txt: 'utf-8' codec can't decode byte 0xa5 in position 453: invalid start byte\n",
      "\n"
     ]
    }
   ],
   "source": [
    "# utilize the `read_text_files` function in the readtextfunctions file\n",
    "for directory in ['Crime', 'Entertainment', 'Politics', 'Science']:\n",
    "    folder_path = \"/Users/blakewallace/Repositories/AWS/data/kaggle/Text_Classification_on_Documents/\" + directory + \"/\"\n",
    "    print(folder_path)\n",
    "    globals()['text_files_data_{}'.format(directory)] = rtf.read_text_files(folder_path)\n",
    "    print()\n"
   ]
  },
  {
   "cell_type": "markdown",
   "id": "e2429823-b8e5-4d33-8b1c-47def7e53d14",
   "metadata": {},
   "source": [
    "# Data Exploration"
   ]
  },
  {
   "cell_type": "markdown",
   "id": "8b3c5260-0a22-48d8-9e0e-19960981ef6f",
   "metadata": {},
   "source": [
    "## Crime Data"
   ]
  },
  {
   "cell_type": "markdown",
   "id": "c7e7e79b-1ee0-49df-8e23-41404525ee55",
   "metadata": {},
   "source": [
    "**There are 1099 files in the Crime file.**"
   ]
  },
  {
   "cell_type": "code",
   "execution_count": 3,
   "id": "ee7dd39c-bb95-45ee-b262-59e788457000",
   "metadata": {},
   "outputs": [
    {
     "data": {
      "text/plain": [
       "1099"
      ]
     },
     "execution_count": 3,
     "metadata": {},
     "output_type": "execute_result"
    }
   ],
   "source": [
    "len(text_files_data_Crime)"
   ]
  },
  {
   "cell_type": "markdown",
   "id": "6fc2eaeb-1a0f-4fb3-8a98-ac0fa8949a32",
   "metadata": {},
   "source": [
    "**We need the data to be in lists for some of the functions that will process the data.**\n",
    "\n",
    "Create a list and a numpy array housing the Crime data."
   ]
  },
  {
   "cell_type": "code",
   "execution_count": 4,
   "id": "49e4ad6d-dc57-44fd-9bcf-f55e7ab17b63",
   "metadata": {},
   "outputs": [],
   "source": [
    "Crime_list = list()\n",
    "for key in text_files_data_Crime:\n",
    "    Crime_list.append(text_files_data_Crime[key])\n",
    "\n",
    "Crime_array = np.array(Crime_list)\n",
    "# Crime_array"
   ]
  },
  {
   "cell_type": "code",
   "execution_count": 5,
   "id": "86ada759-87b6-4f65-8919-5154f91461d2",
   "metadata": {},
   "outputs": [
    {
     "data": {
      "text/plain": [
       "1099"
      ]
     },
     "execution_count": 5,
     "metadata": {},
     "output_type": "execute_result"
    }
   ],
   "source": [
    "len(Crime_array)"
   ]
  },
  {
   "cell_type": "code",
   "execution_count": 6,
   "id": "a794b0c3",
   "metadata": {},
   "outputs": [],
   "source": [
    "# need to work to save this as a csv file\n",
    "pd.DataFrame({'keys':text_files_data_Crime.keys(), \n",
    "              'documents':text_files_data_Crime.values()}, \n",
    "              index=np.arange(len(text_files_data_Crime))).to_csv(\n",
    "                                    './data/kaggle/Text_Classification_on_Documents/crime.csv', \n",
    "                                    index=False)\n"
   ]
  },
  {
   "cell_type": "code",
   "execution_count": 7,
   "id": "f5a95c71",
   "metadata": {},
   "outputs": [
    {
     "name": "stdout",
     "output_type": "stream",
     "text": [
      "1099\n"
     ]
    },
    {
     "data": {
      "text/html": [
       "<div>\n",
       "<style scoped>\n",
       "    .dataframe tbody tr th:only-of-type {\n",
       "        vertical-align: middle;\n",
       "    }\n",
       "\n",
       "    .dataframe tbody tr th {\n",
       "        vertical-align: top;\n",
       "    }\n",
       "\n",
       "    .dataframe thead th {\n",
       "        text-align: right;\n",
       "    }\n",
       "</style>\n",
       "<table border=\"1\" class=\"dataframe\">\n",
       "  <thead>\n",
       "    <tr style=\"text-align: right;\">\n",
       "      <th></th>\n",
       "      <th>keys</th>\n",
       "      <th>documents</th>\n",
       "    </tr>\n",
       "  </thead>\n",
       "  <tbody>\n",
       "    <tr>\n",
       "      <th>0</th>\n",
       "      <td>14147.txt</td>\n",
       "      <td>\\nArchive-name: ripem/faq\\nLast-update: Sun, 7...</td>\n",
       "    </tr>\n",
       "    <tr>\n",
       "      <th>1</th>\n",
       "      <td>14831.txt</td>\n",
       "      <td>Approved: news-answers-request@MIT.EDU\\nConten...</td>\n",
       "    </tr>\n",
       "    <tr>\n",
       "      <th>2</th>\n",
       "      <td>14832.txt</td>\n",
       "      <td>Approved: news-answers-request@MIT.EDU\\nConten...</td>\n",
       "    </tr>\n",
       "    <tr>\n",
       "      <th>3</th>\n",
       "      <td>14982.txt</td>\n",
       "      <td>Message-ID: &lt;1ppvai$l79@bilbo.suite.com&gt;\\nRepl...</td>\n",
       "    </tr>\n",
       "    <tr>\n",
       "      <th>4</th>\n",
       "      <td>14983.txt</td>\n",
       "      <td>\\n   Some sick part of me really liked that ph...</td>\n",
       "    </tr>\n",
       "  </tbody>\n",
       "</table>\n",
       "</div>"
      ],
      "text/plain": [
       "        keys                                          documents\n",
       "0  14147.txt  \\nArchive-name: ripem/faq\\nLast-update: Sun, 7...\n",
       "1  14831.txt  Approved: news-answers-request@MIT.EDU\\nConten...\n",
       "2  14832.txt  Approved: news-answers-request@MIT.EDU\\nConten...\n",
       "3  14982.txt  Message-ID: <1ppvai$l79@bilbo.suite.com>\\nRepl...\n",
       "4  14983.txt  \\n   Some sick part of me really liked that ph..."
      ]
     },
     "execution_count": 7,
     "metadata": {},
     "output_type": "execute_result"
    }
   ],
   "source": [
    "Crime_df = pd.read_csv('./data/kaggle/Text_Classification_on_Documents/crime.csv')\n",
    "print(len(Crime_df))\n",
    "Crime_df.head()"
   ]
  },
  {
   "cell_type": "markdown",
   "id": "44a7c614-7fde-44f1-a2e9-1d7f8a8353d3",
   "metadata": {},
   "source": [
    "## Entertainment Data"
   ]
  },
  {
   "cell_type": "markdown",
   "id": "7d6dab9f-729b-45ad-bdeb-ccdd11956ef1",
   "metadata": {},
   "source": [
    "**There are 1052 files in the Entertainment file.**"
   ]
  },
  {
   "cell_type": "code",
   "execution_count": 8,
   "id": "698d2348-585a-42c9-8c5f-1196c907b30a",
   "metadata": {},
   "outputs": [
    {
     "data": {
      "text/plain": [
       "1052"
      ]
     },
     "execution_count": 8,
     "metadata": {},
     "output_type": "execute_result"
    }
   ],
   "source": [
    "len(text_files_data_Entertainment)"
   ]
  },
  {
   "cell_type": "markdown",
   "id": "52a70174-17c0-4faa-8c0b-dfe116a75cb1",
   "metadata": {},
   "source": [
    "Create a list and a numpy array housing the Entertainment data."
   ]
  },
  {
   "cell_type": "code",
   "execution_count": 9,
   "id": "f7944593-d8f7-497d-974f-7135c27923e7",
   "metadata": {},
   "outputs": [],
   "source": [
    "Entertainment_list = list()\n",
    "for key in text_files_data_Entertainment:\n",
    "    Entertainment_list.append(text_files_data_Entertainment[key])\n",
    "\n",
    "Entertainment_array = np.array(Entertainment_list)\n",
    "# Entertainment_array"
   ]
  },
  {
   "cell_type": "code",
   "execution_count": 10,
   "id": "f25de578-4ad0-4a6b-a2ad-a8d4ff7e069b",
   "metadata": {},
   "outputs": [
    {
     "data": {
      "text/plain": [
       "1052"
      ]
     },
     "execution_count": 10,
     "metadata": {},
     "output_type": "execute_result"
    }
   ],
   "source": [
    "len(Entertainment_array)"
   ]
  },
  {
   "cell_type": "code",
   "execution_count": 11,
   "id": "b90db9d0",
   "metadata": {},
   "outputs": [],
   "source": [
    "# need to work to save this as a csv file\n",
    "pd.DataFrame({'keys':text_files_data_Entertainment.keys(), \n",
    "              'documents':text_files_data_Entertainment.values()}, \n",
    "              index=np.arange(len(text_files_data_Entertainment))).to_csv(\n",
    "                        './data/kaggle/Text_Classification_on_Documents/entertainment.csv', \n",
    "                        index=False)\n"
   ]
  },
  {
   "cell_type": "code",
   "execution_count": 12,
   "id": "4b21cf63",
   "metadata": {},
   "outputs": [
    {
     "name": "stdout",
     "output_type": "stream",
     "text": [
      "1052\n"
     ]
    },
    {
     "data": {
      "text/html": [
       "<div>\n",
       "<style scoped>\n",
       "    .dataframe tbody tr th:only-of-type {\n",
       "        vertical-align: middle;\n",
       "    }\n",
       "\n",
       "    .dataframe tbody tr th {\n",
       "        vertical-align: top;\n",
       "    }\n",
       "\n",
       "    .dataframe thead th {\n",
       "        text-align: right;\n",
       "    }\n",
       "</style>\n",
       "<table border=\"1\" class=\"dataframe\">\n",
       "  <thead>\n",
       "    <tr style=\"text-align: right;\">\n",
       "      <th></th>\n",
       "      <th>keys</th>\n",
       "      <th>documents</th>\n",
       "    </tr>\n",
       "  </thead>\n",
       "  <tbody>\n",
       "    <tr>\n",
       "      <th>0</th>\n",
       "      <td>14147.txt</td>\n",
       "      <td>\\nArchive-name: ripem/faq\\nLast-update: Sun, 7...</td>\n",
       "    </tr>\n",
       "    <tr>\n",
       "      <th>1</th>\n",
       "      <td>14831.txt</td>\n",
       "      <td>Approved: news-answers-request@MIT.EDU\\nConten...</td>\n",
       "    </tr>\n",
       "    <tr>\n",
       "      <th>2</th>\n",
       "      <td>14832.txt</td>\n",
       "      <td>Approved: news-answers-request@MIT.EDU\\nConten...</td>\n",
       "    </tr>\n",
       "    <tr>\n",
       "      <th>3</th>\n",
       "      <td>14982.txt</td>\n",
       "      <td>Message-ID: &lt;1ppvai$l79@bilbo.suite.com&gt;\\nRepl...</td>\n",
       "    </tr>\n",
       "    <tr>\n",
       "      <th>4</th>\n",
       "      <td>14983.txt</td>\n",
       "      <td>\\n   Some sick part of me really liked that ph...</td>\n",
       "    </tr>\n",
       "  </tbody>\n",
       "</table>\n",
       "</div>"
      ],
      "text/plain": [
       "        keys                                          documents\n",
       "0  14147.txt  \\nArchive-name: ripem/faq\\nLast-update: Sun, 7...\n",
       "1  14831.txt  Approved: news-answers-request@MIT.EDU\\nConten...\n",
       "2  14832.txt  Approved: news-answers-request@MIT.EDU\\nConten...\n",
       "3  14982.txt  Message-ID: <1ppvai$l79@bilbo.suite.com>\\nRepl...\n",
       "4  14983.txt  \\n   Some sick part of me really liked that ph..."
      ]
     },
     "execution_count": 12,
     "metadata": {},
     "output_type": "execute_result"
    }
   ],
   "source": [
    "Entertainment_df = pd.read_csv(\n",
    "    './data/kaggle/Text_Classification_on_Documents/entertainment.csv')\n",
    "print(len(Entertainment_df))\n",
    "Entertainment_df.head()\n"
   ]
  },
  {
   "cell_type": "markdown",
   "id": "9067b706-a940-4e03-b0c1-fe1786b5786c",
   "metadata": {},
   "source": [
    "## Science Data"
   ]
  },
  {
   "cell_type": "code",
   "execution_count": 13,
   "id": "47be2fe5-993f-4b9c-b791-17003a29d449",
   "metadata": {},
   "outputs": [
    {
     "data": {
      "text/plain": [
       "3987"
      ]
     },
     "execution_count": 13,
     "metadata": {},
     "output_type": "execute_result"
    }
   ],
   "source": [
    "len(text_files_data_Science)"
   ]
  },
  {
   "cell_type": "code",
   "execution_count": 14,
   "id": "b07c9934-1aa4-4be5-b855-386beb7e58e0",
   "metadata": {},
   "outputs": [],
   "source": [
    "Science_list = list()\n",
    "for key in text_files_data_Science:\n",
    "    Science_list.append(text_files_data_Science[key])\n",
    "# text_files_data_Crime[list(text_files_data_Crime.keys())[0]]\n",
    "\n",
    "Science_array = np.array(Science_list)\n",
    "# Science_array"
   ]
  },
  {
   "cell_type": "code",
   "execution_count": 15,
   "id": "27d03c6c-d69c-44ac-8756-2990fe2bf0f6",
   "metadata": {},
   "outputs": [
    {
     "data": {
      "text/plain": [
       "3987"
      ]
     },
     "execution_count": 15,
     "metadata": {},
     "output_type": "execute_result"
    }
   ],
   "source": [
    "len(Science_array)"
   ]
  },
  {
   "cell_type": "code",
   "execution_count": 16,
   "id": "8e5a7571",
   "metadata": {},
   "outputs": [],
   "source": [
    "# need to work to save this as a csv file\n",
    "pd.DataFrame({'keys':text_files_data_Science.keys(), \n",
    "              'documents':text_files_data_Science.values()}, \n",
    "              index=np.arange(len(text_files_data_Science))).to_csv(\n",
    "                        './data/kaggle/Text_Classification_on_Documents/science.csv', \n",
    "                        index=False)\n"
   ]
  },
  {
   "cell_type": "code",
   "execution_count": 17,
   "id": "ce1fd6ba",
   "metadata": {},
   "outputs": [
    {
     "name": "stdout",
     "output_type": "stream",
     "text": [
      "3987\n"
     ]
    },
    {
     "data": {
      "text/html": [
       "<div>\n",
       "<style scoped>\n",
       "    .dataframe tbody tr th:only-of-type {\n",
       "        vertical-align: middle;\n",
       "    }\n",
       "\n",
       "    .dataframe tbody tr th {\n",
       "        vertical-align: top;\n",
       "    }\n",
       "\n",
       "    .dataframe thead th {\n",
       "        text-align: right;\n",
       "    }\n",
       "</style>\n",
       "<table border=\"1\" class=\"dataframe\">\n",
       "  <thead>\n",
       "    <tr style=\"text-align: right;\">\n",
       "      <th></th>\n",
       "      <th>keys</th>\n",
       "      <th>documents</th>\n",
       "    </tr>\n",
       "  </thead>\n",
       "  <tbody>\n",
       "    <tr>\n",
       "      <th>0</th>\n",
       "      <td>14147.txt</td>\n",
       "      <td>\\nArchive-name: ripem/faq\\nLast-update: Sun, 7...</td>\n",
       "    </tr>\n",
       "    <tr>\n",
       "      <th>1</th>\n",
       "      <td>14831.txt</td>\n",
       "      <td>Approved: news-answers-request@MIT.EDU\\nConten...</td>\n",
       "    </tr>\n",
       "    <tr>\n",
       "      <th>2</th>\n",
       "      <td>14832.txt</td>\n",
       "      <td>Approved: news-answers-request@MIT.EDU\\nConten...</td>\n",
       "    </tr>\n",
       "    <tr>\n",
       "      <th>3</th>\n",
       "      <td>14982.txt</td>\n",
       "      <td>Message-ID: &lt;1ppvai$l79@bilbo.suite.com&gt;\\nRepl...</td>\n",
       "    </tr>\n",
       "    <tr>\n",
       "      <th>4</th>\n",
       "      <td>14983.txt</td>\n",
       "      <td>\\n   Some sick part of me really liked that ph...</td>\n",
       "    </tr>\n",
       "  </tbody>\n",
       "</table>\n",
       "</div>"
      ],
      "text/plain": [
       "        keys                                          documents\n",
       "0  14147.txt  \\nArchive-name: ripem/faq\\nLast-update: Sun, 7...\n",
       "1  14831.txt  Approved: news-answers-request@MIT.EDU\\nConten...\n",
       "2  14832.txt  Approved: news-answers-request@MIT.EDU\\nConten...\n",
       "3  14982.txt  Message-ID: <1ppvai$l79@bilbo.suite.com>\\nRepl...\n",
       "4  14983.txt  \\n   Some sick part of me really liked that ph..."
      ]
     },
     "execution_count": 17,
     "metadata": {},
     "output_type": "execute_result"
    }
   ],
   "source": [
    "Science_df = pd.read_csv(\n",
    "    './data/kaggle/Text_Classification_on_Documents/science.csv')\n",
    "print(len(Science_df))\n",
    "Science_df.head()\n"
   ]
  },
  {
   "cell_type": "markdown",
   "id": "4b0e4ad8-e949-44ce-953a-2904a0122d48",
   "metadata": {},
   "source": [
    "## Politics Data"
   ]
  },
  {
   "cell_type": "code",
   "execution_count": 18,
   "id": "7e19a952-1917-46e3-aae4-4dec974670e3",
   "metadata": {},
   "outputs": [
    {
     "data": {
      "text/plain": [
       "3000"
      ]
     },
     "execution_count": 18,
     "metadata": {},
     "output_type": "execute_result"
    }
   ],
   "source": [
    "len(text_files_data_Politics)"
   ]
  },
  {
   "cell_type": "code",
   "execution_count": 19,
   "id": "aef7d487-c197-4091-8475-017c1daf1fc0",
   "metadata": {},
   "outputs": [],
   "source": [
    "Politics_list = list()\n",
    "for key in text_files_data_Politics:\n",
    "    Politics_list.append(text_files_data_Politics[key])\n",
    "\n",
    "Politics_array = np.array(Politics_list)\n",
    "# Politics_array"
   ]
  },
  {
   "cell_type": "code",
   "execution_count": 20,
   "id": "706cea24-0da6-48e6-a3ad-733e975543f8",
   "metadata": {},
   "outputs": [
    {
     "data": {
      "text/plain": [
       "3000"
      ]
     },
     "execution_count": 20,
     "metadata": {},
     "output_type": "execute_result"
    }
   ],
   "source": [
    "len(Politics_array)"
   ]
  },
  {
   "cell_type": "code",
   "execution_count": 21,
   "id": "be2ebca6",
   "metadata": {},
   "outputs": [],
   "source": [
    "# need to work to save this as a csv file\n",
    "pd.DataFrame({'keys':text_files_data_Politics.keys(), \n",
    "              'documents':text_files_data_Politics.values()}, \n",
    "              index=np.arange(len(text_files_data_Politics))).to_csv(\n",
    "                        './data/kaggle/Text_Classification_on_Documents/politics.csv', \n",
    "                        index=False)\n"
   ]
  },
  {
   "cell_type": "code",
   "execution_count": 22,
   "id": "384f9287",
   "metadata": {},
   "outputs": [
    {
     "name": "stdout",
     "output_type": "stream",
     "text": [
      "3000\n"
     ]
    },
    {
     "data": {
      "text/html": [
       "<div>\n",
       "<style scoped>\n",
       "    .dataframe tbody tr th:only-of-type {\n",
       "        vertical-align: middle;\n",
       "    }\n",
       "\n",
       "    .dataframe tbody tr th {\n",
       "        vertical-align: top;\n",
       "    }\n",
       "\n",
       "    .dataframe thead th {\n",
       "        text-align: right;\n",
       "    }\n",
       "</style>\n",
       "<table border=\"1\" class=\"dataframe\">\n",
       "  <thead>\n",
       "    <tr style=\"text-align: right;\">\n",
       "      <th></th>\n",
       "      <th>keys</th>\n",
       "      <th>documents</th>\n",
       "    </tr>\n",
       "  </thead>\n",
       "  <tbody>\n",
       "    <tr>\n",
       "      <th>0</th>\n",
       "      <td>124146.txt</td>\n",
       "      <td>Nntp-Posting-Host: acvax1\\nNntp-Posting-User: ...</td>\n",
       "    </tr>\n",
       "    <tr>\n",
       "      <th>1</th>\n",
       "      <td>176845.txt</td>\n",
       "      <td>\\nIn &lt;C4v13w.Dup@apollo.hp.com&gt; nelson_p@apoll...</td>\n",
       "    </tr>\n",
       "    <tr>\n",
       "      <th>2</th>\n",
       "      <td>176846.txt</td>\n",
       "      <td>NNTP-Posting-Host: oregon.uoregon.edu\\nNews-So...</td>\n",
       "    </tr>\n",
       "    <tr>\n",
       "      <th>3</th>\n",
       "      <td>176847.txt</td>\n",
       "      <td>NNTP-Posting-Host: oregon.uoregon.edu\\nNews-So...</td>\n",
       "    </tr>\n",
       "    <tr>\n",
       "      <th>4</th>\n",
       "      <td>176849.txt</td>\n",
       "      <td>NNTP-Posting-Host: oregon.uoregon.edu\\nNews-So...</td>\n",
       "    </tr>\n",
       "  </tbody>\n",
       "</table>\n",
       "</div>"
      ],
      "text/plain": [
       "         keys                                          documents\n",
       "0  124146.txt  Nntp-Posting-Host: acvax1\\nNntp-Posting-User: ...\n",
       "1  176845.txt  \\nIn <C4v13w.Dup@apollo.hp.com> nelson_p@apoll...\n",
       "2  176846.txt  NNTP-Posting-Host: oregon.uoregon.edu\\nNews-So...\n",
       "3  176847.txt  NNTP-Posting-Host: oregon.uoregon.edu\\nNews-So...\n",
       "4  176849.txt  NNTP-Posting-Host: oregon.uoregon.edu\\nNews-So..."
      ]
     },
     "execution_count": 22,
     "metadata": {},
     "output_type": "execute_result"
    }
   ],
   "source": [
    "Politics_df = pd.read_csv(\n",
    "    './data/kaggle/Text_Classification_on_Documents/politics.csv')\n",
    "print(len(Politics_df))\n",
    "Politics_df.head()\n"
   ]
  },
  {
   "cell_type": "markdown",
   "id": "4b88c3d8-22ae-4397-827d-51e774297d5e",
   "metadata": {},
   "source": [
    "<a id='Duplicate-Data-Check'></a>\n",
    "# Duplicate Data Check"
   ]
  },
  {
   "cell_type": "markdown",
   "id": "ea8de756-afa9-4614-b5c1-6932c33078b4",
   "metadata": {},
   "source": [
    "## Crime vs Entertainment"
   ]
  },
  {
   "cell_type": "markdown",
   "id": "fe63fb31-7811-49eb-a71d-d411f79a2d8c",
   "metadata": {},
   "source": [
    "**Entertainment and Crime data are corrupt.  We will not use them in our final analysis.**\n",
    "\n",
    "We can see from the following analysis that every document in the `Entertainment` folder is also in the `Crime` folder.  We will not spend time deciding which data is corrupt.  As will be shown shortly, neither data will be used for the final model training phase.  \n",
    "\n",
    "**First, attempt to train a model using the two sets of data.  This yields an accuracy of zero.**\n",
    "\n",
    "Note on functions, we are using our own custome created functions.  See the accompanying file for more details.  \n",
    "\n",
    "The Naive Bayes model here removes stopwords and uses NLTK's built in word lemmatizer (nltk.stem.WordNetLemmatizer()).  However, at this point in the analysis there is no consideration of any Parts of Speech (POS), and no POS partitioning to determine any type of term importance is being considered.  "
   ]
  },
  {
   "cell_type": "code",
   "execution_count": 23,
   "id": "7640f143-6132-4c67-9d85-27accb4aeeb9",
   "metadata": {},
   "outputs": [],
   "source": [
    "# train a `Naive Bayes` model on 1000 elements from each dataset\n",
    "crimeVSentertainment_weights = bnb.trainNaiveBayes(Crime_array[:1000], Entertainment_array[:1000]) "
   ]
  },
  {
   "cell_type": "markdown",
   "id": "1cff35c5-2e9f-4c16-9142-50cca9e1f51a",
   "metadata": {},
   "source": [
    "There are **14883** terms in this model."
   ]
  },
  {
   "cell_type": "code",
   "execution_count": 24,
   "id": "148c9a9d-becf-40d4-85c1-7d27335d149f",
   "metadata": {},
   "outputs": [
    {
     "data": {
      "text/plain": [
       "14854"
      ]
     },
     "execution_count": 24,
     "metadata": {},
     "output_type": "execute_result"
    }
   ],
   "source": [
    "len(crimeVSentertainment_weights)"
   ]
  },
  {
   "cell_type": "code",
   "execution_count": 25,
   "id": "9eb4a8c3-b459-4035-8709-7141e87eaff3",
   "metadata": {},
   "outputs": [
    {
     "data": {
      "text/plain": [
       "0.0"
      ]
     },
     "execution_count": 25,
     "metadata": {},
     "output_type": "execute_result"
    }
   ],
   "source": [
    "# training accuracy\n",
    "bnb.PredAccuracy(Crime_array[:1000], Entertainment_array[:1000], crimeVSentertainment_weights)"
   ]
  },
  {
   "cell_type": "markdown",
   "id": "2a63cb52-4244-4f55-a1e5-67a89053d36b",
   "metadata": {},
   "source": [
    "**The training accuracy is 0.0**"
   ]
  },
  {
   "cell_type": "markdown",
   "id": "896104f4-df98-47b9-977b-ac6abeafa45d",
   "metadata": {},
   "source": [
    "**Looking at an example element in the `Crime` data reveals that the two datasets might have the same data.**\n",
    "\n",
    "The Score function is used to determine which class label to assign to each instance.  The left entry in the output list is associated with the label `Crime`, while the right is associated with the label `Entertainment`.  The higher of the two (which is always non-positive) is the label assigned to the instance.  In this example, the model is not able to assign a class label to the instance because the scores are identical.  This is because when generating the model weights during training the number of each feature associated with each label is identical, so the feature probabilities are identical.  \n",
    "\n",
    "The data is likely identical in both data sets."
   ]
  },
  {
   "cell_type": "markdown",
   "id": "71665c0a-59e0-44e2-89f1-266c07d86fb3",
   "metadata": {},
   "source": [
    "**Example**"
   ]
  },
  {
   "cell_type": "code",
   "execution_count": 26,
   "id": "78c52bb9-bd6b-46a9-ac72-0292c51ddd4b",
   "metadata": {},
   "outputs": [
    {
     "data": {
      "text/plain": [
       "[-268.83868901017416, -268.83868901017416]"
      ]
     },
     "execution_count": 26,
     "metadata": {},
     "output_type": "execute_result"
    }
   ],
   "source": [
    "# similar score for each of the class labels\n",
    "bnb.Score(Crime_array[4], crimeVSentertainment_weights)"
   ]
  },
  {
   "cell_type": "markdown",
   "id": "0cf73d8b-a93b-4f3f-b261-60ff68a1030e",
   "metadata": {},
   "source": [
    "**Notice, all of the scores look to be identical in the weights generated by the Naive Bayes model.  This hints towards duplicate data.**"
   ]
  },
  {
   "cell_type": "code",
   "execution_count": 27,
   "id": "bd3930cb-6a3d-495b-9395-934067bf6ae2",
   "metadata": {},
   "outputs": [
    {
     "name": "stdout",
     "output_type": "stream",
     "text": [
      "archivename: [-9.230394193210719, -9.230394193210719]\n",
      "ripemfaq: [-10.904370626782391, -10.904370626782391]\n",
      "lastupdate: [-10.904370626782391, -10.904370626782391]\n",
      "sun: [-8.289410848746193, -8.289410848746193]\n",
      "mar: [-10.61668855433061, -10.61668855433061]\n",
      "post: [-6.054947926269855, -6.054947926269855]\n",
      "still: [-6.826833182876672, -6.826833182876672]\n",
      "rather: [-6.890995127093957, -6.890995127093957]\n",
      "rough: [-9.80575833811428, -9.80575833811428]\n",
      "list: [-6.879018936047242, -6.879018936047242]\n",
      "likely: [-7.27559509673816, -7.27559509673816]\n",
      "question: [-6.543397401306342, -6.543397401306342]\n",
      "information: [-5.794392889353872, -5.794392889353872]\n",
      "ripem: [-7.040138285190594, -7.040138285190594]\n",
      "program: [-6.336556227338068, -6.336556227338068]\n",
      "public: [-5.87175642596736, -5.87175642596736]\n",
      "key: [-4.474651148743254, -4.474651148743254]\n",
      "mail: [-6.5519444618848, -6.5519444618848]\n",
      "encryption: [-5.152856749305, -5.152856749305]\n",
      "faq: [-7.368253927220865, -7.368253927220865]\n"
     ]
    }
   ],
   "source": [
    "# first 20 elemnts in the weights dictionary\n",
    "bnb.print_first_n_items(crimeVSentertainment_weights, 20)"
   ]
  },
  {
   "cell_type": "markdown",
   "id": "367a7219-3497-4676-95e2-0c2ba1bf78b2",
   "metadata": {},
   "source": [
    "**We can confirm that all of the weights are identical.**"
   ]
  },
  {
   "cell_type": "markdown",
   "id": "02d8bc3d-d1f1-4fb2-b4e4-248d532e4d41",
   "metadata": {},
   "source": [
    "Number of features in the Naive Bayes model"
   ]
  },
  {
   "cell_type": "code",
   "execution_count": 28,
   "id": "5db86bcc-3486-4211-872f-c7e0ef528949",
   "metadata": {},
   "outputs": [
    {
     "data": {
      "text/plain": [
       "14854"
      ]
     },
     "execution_count": 28,
     "metadata": {},
     "output_type": "execute_result"
    }
   ],
   "source": [
    "len(crimeVSentertainment_weights)"
   ]
  },
  {
   "cell_type": "markdown",
   "id": "fa6209d4-9127-4076-99f0-a9b205f4eb5c",
   "metadata": {},
   "source": [
    "**Generate a comparison count between the label scores in the set of weights.**"
   ]
  },
  {
   "cell_type": "code",
   "execution_count": 29,
   "id": "5b7bf2f0-0d9c-4966-bfd5-d211365c1d88",
   "metadata": {},
   "outputs": [
    {
     "name": "stdout",
     "output_type": "stream",
     "text": [
      "Number different:\u001b[1m 0\u001b[0m\n",
      "Number checked:\u001b[1m 14854\u001b[0m\n",
      "Number identical:\u001b[1m 14854\u001b[0m\n"
     ]
    }
   ],
   "source": [
    "number_different = 0                                       # count the number that are different\n",
    "number_checked = 0                                         # count the number that are checked\n",
    "for key, value in crimeVSentertainment_weights.items():\n",
    "    if value[0] == value[1]:                               # compare each entry\n",
    "        number_checked += 1\n",
    "    else:\n",
    "        number_different += 1\n",
    "        number_checked += 1\n",
    "\n",
    "print('Number different:' + color.BOLD + f' {number_different}' + color.END)\n",
    "print('Number checked:' + color.BOLD + f' {number_checked}' + color.END)\n",
    "print('Number identical:' + color.BOLD + f' {number_checked - number_different}' + color.END)"
   ]
  },
  {
   "cell_type": "markdown",
   "id": "12cc6091-49ed-44ee-9be7-7f9f66b2f332",
   "metadata": {},
   "source": [
    "**The intersection of `Crime` and `Entertainment` has 1052 elements, which is the exact number of elements in the `Entertainment` file.  Thus, everything in the `Entertainment` file is in the `Crime` file.  Duplicate data.**"
   ]
  },
  {
   "cell_type": "code",
   "execution_count": 30,
   "id": "0fc867b7-e646-45dc-aa67-80ce8f9b9574",
   "metadata": {},
   "outputs": [
    {
     "data": {
      "text/plain": [
       "1052"
      ]
     },
     "execution_count": 30,
     "metadata": {},
     "output_type": "execute_result"
    }
   ],
   "source": [
    "# Intersection, Crime vs Entertainment\n",
    "len(set(text_files_data_Crime.keys()).intersection(set(text_files_data_Entertainment.keys())))"
   ]
  },
  {
   "cell_type": "markdown",
   "id": "ad5d98dd-3c7b-4194-b2bd-6a885962ce3a",
   "metadata": {},
   "source": [
    "**47 elements are present in the `Crime` file and not the `Entertainment` file**"
   ]
  },
  {
   "cell_type": "code",
   "execution_count": 31,
   "id": "3bed9acf-4d15-401e-9f73-cc080462a01e",
   "metadata": {},
   "outputs": [
    {
     "data": {
      "text/plain": [
       "47"
      ]
     },
     "execution_count": 31,
     "metadata": {},
     "output_type": "execute_result"
    }
   ],
   "source": [
    "# Show the number of elements in the Crime file that are not in the Entertainment file\n",
    "len(set(text_files_data_Crime.keys()) - set(text_files_data_Entertainment.keys()))"
   ]
  },
  {
   "cell_type": "markdown",
   "id": "f77812ab-6b58-4422-976a-efdb3a7c090c",
   "metadata": {},
   "source": [
    "**Here are the 47 document keys present in the `Crime` file that are not present in the `Entertainment` file.**"
   ]
  },
  {
   "cell_type": "code",
   "execution_count": 32,
   "id": "01c8da47-33ef-478c-b0af-761c4de46838",
   "metadata": {},
   "outputs": [
    {
     "name": "stdout",
     "output_type": "stream",
     "text": [
      "['52767.txt', '52778.txt', '52771.txt', '52806.txt', '52779.txt', '52772.txt', '52770.txt', '52811.txt', '52808.txt', '52787.txt', '52783.txt', '52781.txt', '52801.txt', '52777.txt', '52792.txt', '52780.txt', '52775.txt', '52804.txt', '52812.txt', '52769.txt', '52803.txt', '52790.txt', '52813.txt', '52810.txt', '52782.txt', '52799.txt', '52768.txt', '52809.txt', '52773.txt', '52789.txt', '52786.txt', '52788.txt', '52805.txt', '52797.txt', '52798.txt', '52796.txt', '52802.txt', '52807.txt', '52785.txt', '52774.txt', '52794.txt', '52784.txt', '52795.txt', '52791.txt', '52800.txt', '52793.txt', '52776.txt']\n"
     ]
    }
   ],
   "source": [
    "# Crime and Not Entertainment\n",
    "print(list(set(text_files_data_Crime.keys()) - set(text_files_data_Entertainment.keys())))"
   ]
  },
  {
   "cell_type": "markdown",
   "id": "23ac0609-31bd-43ee-82ff-479e5baafea0",
   "metadata": {},
   "source": [
    "**We will look more closely at the other sets of docuements to make sure there are no duplicates in them.**"
   ]
  },
  {
   "cell_type": "markdown",
   "id": "dae78814-7abc-4ef9-b8b0-be5d6b220fa5",
   "metadata": {},
   "source": [
    "## Science vs Politics \n",
    "\n",
    "**266** elements are in both the Science and Politics sets of documents"
   ]
  },
  {
   "cell_type": "code",
   "execution_count": 33,
   "id": "4ce0efac-4898-451c-81d2-450d9c8b51b1",
   "metadata": {},
   "outputs": [
    {
     "data": {
      "text/plain": [
       "3987"
      ]
     },
     "execution_count": 33,
     "metadata": {},
     "output_type": "execute_result"
    }
   ],
   "source": [
    "# Science, number of elements\n",
    "len(text_files_data_Science)"
   ]
  },
  {
   "cell_type": "code",
   "execution_count": 34,
   "id": "5eb981d6-d0a9-4122-90f0-7381fa6178b7",
   "metadata": {},
   "outputs": [
    {
     "data": {
      "text/plain": [
       "3000"
      ]
     },
     "execution_count": 34,
     "metadata": {},
     "output_type": "execute_result"
    }
   ],
   "source": [
    "# Politics, number of elements\n",
    "len(text_files_data_Politics)"
   ]
  },
  {
   "cell_type": "code",
   "execution_count": 35,
   "id": "81361f42-55ab-4b3c-a9a0-90e39b910ac0",
   "metadata": {},
   "outputs": [
    {
     "data": {
      "text/plain": [
       "266"
      ]
     },
     "execution_count": 35,
     "metadata": {},
     "output_type": "execute_result"
    }
   ],
   "source": [
    "# Intersection, Science vs Politics\n",
    "len(set(text_files_data_Science.keys()).intersection(set(text_files_data_Politics.keys())))"
   ]
  },
  {
   "cell_type": "markdown",
   "id": "afd3b1a9-72cc-4cda-9122-93eb6866c901",
   "metadata": {},
   "source": [
    "**266 documents are in both `Politics` and `Science`.**"
   ]
  },
  {
   "cell_type": "code",
   "execution_count": 36,
   "id": "89f40bb3-b6e2-41b5-b7cc-6d25bcc1adf8",
   "metadata": {},
   "outputs": [
    {
     "name": "stdout",
     "output_type": "stream",
     "text": [
      "Number of shared keys:\u001b[1m 266\u001b[0m\n",
      "\n",
      "The first five shared documents: ['54116.txt', '54117.txt', '54118.txt', '54119.txt', '54120.txt'].\n"
     ]
    }
   ],
   "source": [
    "# create a list of shared keys\n",
    "shared_keys_PvsS = list()\n",
    "for key in text_files_data_Science.keys():\n",
    "    if key in text_files_data_Politics:\n",
    "        shared_keys_PvsS.append(key)\n",
    "\n",
    "# number of shared keys\n",
    "print('Number of shared keys:' + color.BOLD + f' {len(shared_keys_PvsS)}' + color.END + '\\n')\n",
    "\n",
    "# the first five document keys\n",
    "print(f'The first five shared documents: {shared_keys_PvsS[:5]}.')"
   ]
  },
  {
   "cell_type": "markdown",
   "id": "e4f6e96d-5f5d-4c7c-92e5-5e6ad5887b55",
   "metadata": {},
   "source": [
    "## Science vs Crime"
   ]
  },
  {
   "cell_type": "code",
   "execution_count": 37,
   "id": "271ff7f7-8dd9-4276-8a0b-5431b83a1812",
   "metadata": {},
   "outputs": [
    {
     "data": {
      "text/plain": [
       "3987"
      ]
     },
     "execution_count": 37,
     "metadata": {},
     "output_type": "execute_result"
    }
   ],
   "source": [
    "# Science, number of elements\n",
    "len(text_files_data_Science)"
   ]
  },
  {
   "cell_type": "code",
   "execution_count": 38,
   "id": "aba551aa-be41-4310-8065-eb7ef2bed018",
   "metadata": {},
   "outputs": [
    {
     "data": {
      "text/plain": [
       "1099"
      ]
     },
     "execution_count": 38,
     "metadata": {},
     "output_type": "execute_result"
    }
   ],
   "source": [
    "# Intersection, Science vs Crime\n",
    "len(set(text_files_data_Science.keys()).intersection(set(text_files_data_Crime.keys())))"
   ]
  },
  {
   "cell_type": "code",
   "execution_count": 39,
   "id": "25c061b6-7570-461e-b431-bf7356900207",
   "metadata": {},
   "outputs": [
    {
     "data": {
      "text/plain": [
       "1099"
      ]
     },
     "execution_count": 39,
     "metadata": {},
     "output_type": "execute_result"
    }
   ],
   "source": [
    "# Crime, number of elements\n",
    "len(text_files_data_Crime)"
   ]
  },
  {
   "cell_type": "markdown",
   "id": "e1f056fa-a242-4e6a-a54c-76f14718c72a",
   "metadata": {},
   "source": [
    "**Every element in the `Crime` dataset is in the `Science` dataset.**"
   ]
  },
  {
   "cell_type": "markdown",
   "id": "2382a0d6-46bc-4a85-8eb8-34a9f45f5996",
   "metadata": {},
   "source": [
    "## Politics vs Crime"
   ]
  },
  {
   "cell_type": "code",
   "execution_count": 40,
   "id": "988f7d9a-be1c-4fd1-b499-a921378cd3ee",
   "metadata": {},
   "outputs": [
    {
     "data": {
      "text/plain": [
       "0"
      ]
     },
     "execution_count": 40,
     "metadata": {},
     "output_type": "execute_result"
    }
   ],
   "source": [
    "# Intersection, Politics vs Crime\n",
    "len(set(text_files_data_Politics.keys()).intersection(set(text_files_data_Crime.keys())))"
   ]
  },
  {
   "cell_type": "markdown",
   "id": "96660db6-0f97-4484-b7c6-5bdf360c9b25",
   "metadata": {},
   "source": [
    "**There is no overlap between the `Politics` and `Crime` datasets.  A classifier could be trained between them.**"
   ]
  },
  {
   "cell_type": "markdown",
   "id": "e08eb94b-b1e8-4d27-9567-80e0eb49578c",
   "metadata": {},
   "source": [
    "## Data Conclusions\n",
    "\n",
    "It has been found that everything in `Entertainment` is in `Crime`, and everything in `Crime` is in `Science`.  Thus, any attempt to train a classifier between `Science` and `Crime` or `Entertainment` will not work.  This is assuming that there is a uniform transformation done to each set of data.  \n",
    "\n",
    "There is no overlap between the `Politics` and `Crime` datasets, and there is slight overlap between the `Politics` and `Science` sets.  We could look at two different situations, one classifying between `Politics` and `Crime`, the other between `Politics` and `Science`.  But, the `Crime` set is a subset of the `Science` set.  So, creating a model between `Politics` and `Crime` is the same as creating a model between `Politics` and a subset of `Science`.  We will not do this.  Instead, we will focus exclusively on building models between `Politics` and `Science`."
   ]
  },
  {
   "cell_type": "markdown",
   "id": "e150e624-5edb-4ff0-9273-340586cce314",
   "metadata": {},
   "source": [
    "# Data Cleaning and Preperation"
   ]
  },
  {
   "cell_type": "markdown",
   "id": "fb1abd0f-d1dc-4a1b-89b1-ee790861be24",
   "metadata": {},
   "source": [
    "## Creating Transformed Data for Processing"
   ]
  },
  {
   "cell_type": "markdown",
   "id": "aced78b3-f162-4094-bd81-b0a0ab4c0953",
   "metadata": {},
   "source": [
    "There are several functions being used to perform the data cleaning transformations.  They can be found in two `.py` files that accompany this notebook (`readtextfunctions.py`, `datacleaning.py`).  \n",
    "\n",
    "All six functions in the `datacleaning.py` file are being used to transform the data.  \n",
    "The function `read_transform_text_files` is being used from the second.  "
   ]
  },
  {
   "cell_type": "code",
   "execution_count": 41,
   "id": "c2b6070a-7449-4d70-964d-ed90064e9471",
   "metadata": {},
   "outputs": [
    {
     "name": "stdout",
     "output_type": "stream",
     "text": [
      "/Users/blakewallace/Repositories/AWS/data/kaggle/Text_Classification_on_Documents/Politics/\n",
      "\n",
      "/Users/blakewallace/Repositories/AWS/data/kaggle/Text_Classification_on_Documents/Science/\n",
      "Error reading 15672.txt: 'utf-8' codec can't decode byte 0xa0 in position 896: invalid start byte\n",
      "Error reading 53721.txt: 'utf-8' codec can't decode byte 0xfd in position 195: invalid start byte\n",
      "Error reading 53803.txt: 'utf-8' codec can't decode byte 0xfd in position 285: invalid start byte\n",
      "Error reading 53883.txt: 'utf-8' codec can't decode byte 0xfd in position 390: invalid start byte\n",
      "Error reading 54070.txt: 'utf-8' codec can't decode byte 0xfe in position 176: invalid start byte\n",
      "Error reading 54071.txt: 'utf-8' codec can't decode byte 0xfe in position 209: invalid start byte\n",
      "Error reading 54485.txt: 'utf-8' codec can't decode byte 0xf6 in position 1532: invalid start byte\n",
      "Error reading 59055.txt: 'utf-8' codec can't decode byte 0xff in position 728: invalid start byte\n",
      "Error reading 59239.txt: 'utf-8' codec can't decode byte 0xed in position 540: invalid continuation byte\n",
      "Error reading 59535.txt: 'utf-8' codec can't decode byte 0xab in position 182: invalid start byte\n",
      "Error reading 61293.txt: 'utf-8' codec can't decode byte 0xa5 in position 931: invalid start byte\n",
      "Error reading 61534.txt: 'utf-8' codec can't decode byte 0xf8 in position 1650: invalid start byte\n",
      "Error reading 61556.txt: 'utf-8' codec can't decode byte 0xa5 in position 453: invalid start byte\n",
      "\n",
      "time: 177.191 seconds\n",
      "time: 2 minutes, 57.191 seconds\n"
     ]
    }
   ],
   "source": [
    "start_time = time.time()\n",
    "\n",
    "# utilize the `read_transform_text_files` function in the readtextfunctions file\n",
    "for directory in ['Politics', 'Science']:\n",
    "    folder_path = \"/Users/blakewallace/Repositories/AWS/data/kaggle/Text_Classification_on_Documents/\" + directory + \"/\"\n",
    "    print(folder_path)\n",
    "    globals()['transformed_text_data_{}'.format(directory)] = rtf.read_transform_text_files(folder_path)\n",
    "    print()\n",
    "\n",
    "end_time = round(time.time() - start_time, 3)\n",
    "print(f'time: {end_time} seconds')\n",
    "end_time_minutes = int(end_time/ 60)\n",
    "end_time_seconds = round(end_time % 60, 3)\n",
    "\n",
    "print(f'time: {end_time_minutes} minutes, {end_time_seconds} seconds')"
   ]
  },
  {
   "cell_type": "code",
   "execution_count": 42,
   "id": "4c83c0b5-6a83-4d02-acad-25d6d8663115",
   "metadata": {},
   "outputs": [
    {
     "data": {
      "text/plain": [
       "3000"
      ]
     },
     "execution_count": 42,
     "metadata": {},
     "output_type": "execute_result"
    }
   ],
   "source": [
    "len(transformed_text_data_Politics)"
   ]
  },
  {
   "cell_type": "code",
   "execution_count": 43,
   "id": "a2ba8914-f3cf-4735-afbb-0f7a1e675593",
   "metadata": {},
   "outputs": [
    {
     "data": {
      "text/plain": [
       "3987"
      ]
     },
     "execution_count": 43,
     "metadata": {},
     "output_type": "execute_result"
    }
   ],
   "source": [
    "len(transformed_text_data_Science)"
   ]
  },
  {
   "cell_type": "markdown",
   "id": "d4e9dc97-d9ef-4bc5-8193-2196d28f8546",
   "metadata": {},
   "source": [
    "## Remove Duplicate Data"
   ]
  },
  {
   "cell_type": "code",
   "execution_count": 44,
   "id": "4785d67f-897a-4ca4-89a0-2cfd8d1698bc",
   "metadata": {},
   "outputs": [
    {
     "data": {
      "text/plain": [
       "266"
      ]
     },
     "execution_count": 44,
     "metadata": {},
     "output_type": "execute_result"
    }
   ],
   "source": [
    "len(shared_keys_PvsS)"
   ]
  },
  {
   "cell_type": "code",
   "execution_count": 45,
   "id": "90c5fe76-a6b4-44b7-9ea1-44597ab0bdc4",
   "metadata": {},
   "outputs": [],
   "source": [
    "# remove the entries in the dictionaries `shared_keys_PvsS` with the shared keys between Politics and Science\n",
    "for key in shared_keys_PvsS:\n",
    "    transformed_text_data_Politics.pop(key)\n",
    "    transformed_text_data_Science.pop(key)"
   ]
  },
  {
   "cell_type": "code",
   "execution_count": 46,
   "id": "7ddfcea7-5422-42db-bcbd-916cc8db27a9",
   "metadata": {},
   "outputs": [
    {
     "data": {
      "text/plain": [
       "2734"
      ]
     },
     "execution_count": 46,
     "metadata": {},
     "output_type": "execute_result"
    }
   ],
   "source": [
    "len(transformed_text_data_Politics)"
   ]
  },
  {
   "cell_type": "code",
   "execution_count": 47,
   "id": "f579190e-70f6-4514-a919-b65958679e6b",
   "metadata": {},
   "outputs": [
    {
     "data": {
      "text/plain": [
       "3721"
      ]
     },
     "execution_count": 47,
     "metadata": {},
     "output_type": "execute_result"
    }
   ],
   "source": [
    "len(transformed_text_data_Science)"
   ]
  },
  {
   "cell_type": "markdown",
   "id": "e64db542-75da-4e53-8f52-4f4cd909c3aa",
   "metadata": {},
   "source": [
    "## Create Lists and Numpy Arrays of the Data"
   ]
  },
  {
   "cell_type": "code",
   "execution_count": 48,
   "id": "74652972-9a6d-48e8-94a3-aa11549e171d",
   "metadata": {},
   "outputs": [],
   "source": [
    "# Science Data\n",
    "Science_list_transformed = list()\n",
    "for key in transformed_text_data_Science:\n",
    "    Science_list_transformed.append(transformed_text_data_Science[key])\n",
    "\n",
    "Science_array_transformed = np.array(Science_list_transformed)"
   ]
  },
  {
   "cell_type": "code",
   "execution_count": 49,
   "id": "52f3e13b-1327-46a9-8632-f6e983a835dd",
   "metadata": {},
   "outputs": [],
   "source": [
    "# Politics Data\n",
    "Politics_list_transformed = list()\n",
    "for key in transformed_text_data_Politics:\n",
    "    Politics_list_transformed.append(transformed_text_data_Politics[key])\n",
    "\n",
    "Politics_array_transformed = np.array(Politics_list_transformed)"
   ]
  },
  {
   "cell_type": "markdown",
   "id": "cef289bc-9d30-406f-bdb4-545313c80b72",
   "metadata": {},
   "source": [
    "## Feature Vectorization"
   ]
  },
  {
   "cell_type": "markdown",
   "id": "f7bc7904-5ee4-4649-8569-b2d3874196d4",
   "metadata": {
    "jp-MarkdownHeadingCollapsed": true
   },
   "source": [
    "Two feature vectors for each data point will be considered, count vectorizer and tf_idf.  The first counts the number of occurences of each feature in the vocabulary that appear in the document.  The second weights each feature count by multiplying by a log transformation of the number of documents that which contain that feature.  The acutal formul for the tr-idf transformation is\n",
    "\n",
    "$$(\\text{number of times term } t \\text{ appears in document } d) \\times \\Big(\\text{log}\\frac{\\text{n}_d}{1 + \\text{df}(d,t)} + 1 \\Big),$$\n",
    "\n",
    "where n$_d$ is the total number of documents, and $\\text{df}(d,t)$ is the count of the number of documents $d$ that contain the term $t$.  This is the default calculation used within scikit-learn's `TfidfVectorizer` method."
   ]
  },
  {
   "cell_type": "markdown",
   "id": "46bd8fed-35c6-4856-adf2-7753386e54e6",
   "metadata": {},
   "source": [
    "### Create DataFrames"
   ]
  },
  {
   "cell_type": "markdown",
   "id": "0d6de64f-00bc-484c-b912-ce0262f3c1c2",
   "metadata": {},
   "source": [
    "#### Politics, label 1"
   ]
  },
  {
   "cell_type": "code",
   "execution_count": 50,
   "id": "c775e68b-e2d6-4454-a386-a7c8d1a055e6",
   "metadata": {},
   "outputs": [
    {
     "data": {
      "text/html": [
       "<div>\n",
       "<style scoped>\n",
       "    .dataframe tbody tr th:only-of-type {\n",
       "        vertical-align: middle;\n",
       "    }\n",
       "\n",
       "    .dataframe tbody tr th {\n",
       "        vertical-align: top;\n",
       "    }\n",
       "\n",
       "    .dataframe thead th {\n",
       "        text-align: right;\n",
       "    }\n",
       "</style>\n",
       "<table border=\"1\" class=\"dataframe\">\n",
       "  <thead>\n",
       "    <tr style=\"text-align: right;\">\n",
       "      <th></th>\n",
       "      <th>key</th>\n",
       "      <th>document</th>\n",
       "      <th>label</th>\n",
       "    </tr>\n",
       "  </thead>\n",
       "  <tbody>\n",
       "    <tr>\n",
       "      <th>0</th>\n",
       "      <td>124146.txt</td>\n",
       "      <td>cant find source state retract claim go dig on...</td>\n",
       "      <td>1</td>\n",
       "    </tr>\n",
       "    <tr>\n",
       "      <th>1</th>\n",
       "      <td>176845.txt</td>\n",
       "      <td>norway appear post place always escape underst...</td>\n",
       "      <td>1</td>\n",
       "    </tr>\n",
       "    <tr>\n",
       "      <th>2</th>\n",
       "      <td>176846.txt</td>\n",
       "      <td>main point human yet bear bind contract wrong ...</td>\n",
       "      <td>1</td>\n",
       "    </tr>\n",
       "    <tr>\n",
       "      <th>3</th>\n",
       "      <td>176847.txt</td>\n",
       "      <td>case dismiss interest authority ground dismiss...</td>\n",
       "      <td>1</td>\n",
       "    </tr>\n",
       "    <tr>\n",
       "      <th>4</th>\n",
       "      <td>176849.txt</td>\n",
       "      <td>tax protesters legally correct put jail anyway...</td>\n",
       "      <td>1</td>\n",
       "    </tr>\n",
       "    <tr>\n",
       "      <th>...</th>\n",
       "      <td>...</td>\n",
       "      <td>...</td>\n",
       "      <td>...</td>\n",
       "    </tr>\n",
       "    <tr>\n",
       "      <th>2729</th>\n",
       "      <td>77820.txt</td>\n",
       "      <td>armies attack suppose brave slaughter athletes...</td>\n",
       "      <td>1</td>\n",
       "    </tr>\n",
       "    <tr>\n",
       "      <th>2730</th>\n",
       "      <td>77821.txt</td>\n",
       "      <td>fair traditional jewish christian think actual...</td>\n",
       "      <td>1</td>\n",
       "    </tr>\n",
       "    <tr>\n",
       "      <th>2731</th>\n",
       "      <td>77822.txt</td>\n",
       "      <td>lovely arguments write historical ownership pl...</td>\n",
       "      <td>1</td>\n",
       "    </tr>\n",
       "    <tr>\n",
       "      <th>2732</th>\n",
       "      <td>77823.txt</td>\n",
       "      <td>anas much pay write</td>\n",
       "      <td>1</td>\n",
       "    </tr>\n",
       "    <tr>\n",
       "      <th>2733</th>\n",
       "      <td>77850.txt</td>\n",
       "      <td>say fact areas majority large group people one...</td>\n",
       "      <td>1</td>\n",
       "    </tr>\n",
       "  </tbody>\n",
       "</table>\n",
       "<p>2734 rows × 3 columns</p>\n",
       "</div>"
      ],
      "text/plain": [
       "             key                                           document  label\n",
       "0     124146.txt  cant find source state retract claim go dig on...      1\n",
       "1     176845.txt  norway appear post place always escape underst...      1\n",
       "2     176846.txt  main point human yet bear bind contract wrong ...      1\n",
       "3     176847.txt  case dismiss interest authority ground dismiss...      1\n",
       "4     176849.txt  tax protesters legally correct put jail anyway...      1\n",
       "...          ...                                                ...    ...\n",
       "2729   77820.txt  armies attack suppose brave slaughter athletes...      1\n",
       "2730   77821.txt  fair traditional jewish christian think actual...      1\n",
       "2731   77822.txt  lovely arguments write historical ownership pl...      1\n",
       "2732   77823.txt                                anas much pay write      1\n",
       "2733   77850.txt  say fact areas majority large group people one...      1\n",
       "\n",
       "[2734 rows x 3 columns]"
      ]
     },
     "execution_count": 50,
     "metadata": {},
     "output_type": "execute_result"
    }
   ],
   "source": [
    "politics_df = pd.DataFrame(transformed_text_data_Politics.keys(), columns=['key']).join(\n",
    "              pd.DataFrame(Politics_array_transformed, columns=['document']))\n",
    "\n",
    "politics_df['label'] = 1\n",
    "politics_df"
   ]
  },
  {
   "cell_type": "markdown",
   "id": "f1be4f09-9cac-45ae-8155-f0c51e032bc8",
   "metadata": {},
   "source": [
    "#### Science, label 0"
   ]
  },
  {
   "cell_type": "code",
   "execution_count": 51,
   "id": "26abed6a-ccf9-4bb1-95fe-d8be5b5972d6",
   "metadata": {},
   "outputs": [
    {
     "data": {
      "text/html": [
       "<div>\n",
       "<style scoped>\n",
       "    .dataframe tbody tr th:only-of-type {\n",
       "        vertical-align: middle;\n",
       "    }\n",
       "\n",
       "    .dataframe tbody tr th {\n",
       "        vertical-align: top;\n",
       "    }\n",
       "\n",
       "    .dataframe thead th {\n",
       "        text-align: right;\n",
       "    }\n",
       "</style>\n",
       "<table border=\"1\" class=\"dataframe\">\n",
       "  <thead>\n",
       "    <tr style=\"text-align: right;\">\n",
       "      <th></th>\n",
       "      <th>key</th>\n",
       "      <th>document</th>\n",
       "      <th>label</th>\n",
       "    </tr>\n",
       "  </thead>\n",
       "  <tbody>\n",
       "    <tr>\n",
       "      <th>0</th>\n",
       "      <td>14147.txt</td>\n",
       "      <td>post still rather rough list likely question i...</td>\n",
       "      <td>0</td>\n",
       "    </tr>\n",
       "    <tr>\n",
       "      <th>1</th>\n",
       "      <td>14831.txt</td>\n",
       "      <td>text usenet version title post list likely que...</td>\n",
       "      <td>0</td>\n",
       "    </tr>\n",
       "    <tr>\n",
       "      <th>2</th>\n",
       "      <td>14832.txt</td>\n",
       "      <td>text usenet version title live list potential ...</td>\n",
       "      <td>0</td>\n",
       "    </tr>\n",
       "    <tr>\n",
       "      <th>3</th>\n",
       "      <td>14982.txt</td>\n",
       "      <td>access try ftp rsa com login anonymous several...</td>\n",
       "      <td>0</td>\n",
       "    </tr>\n",
       "    <tr>\n",
       "      <th>4</th>\n",
       "      <td>14983.txt</td>\n",
       "      <td>sick part really like phrase merely threat lon...</td>\n",
       "      <td>0</td>\n",
       "    </tr>\n",
       "    <tr>\n",
       "      <th>...</th>\n",
       "      <td>...</td>\n",
       "      <td>...</td>\n",
       "      <td>...</td>\n",
       "    </tr>\n",
       "    <tr>\n",
       "      <th>3716</th>\n",
       "      <td>62615.txt</td>\n",
       "      <td>write staffer tell interest story cost team lo...</td>\n",
       "      <td>0</td>\n",
       "    </tr>\n",
       "    <tr>\n",
       "      <th>3717</th>\n",
       "      <td>62616.txt</td>\n",
       "      <td>sez object would interfere anyones enjoyment n...</td>\n",
       "      <td>0</td>\n",
       "    </tr>\n",
       "    <tr>\n",
       "      <th>3718</th>\n",
       "      <td>62708.txt</td>\n",
       "      <td>accord person talk propose billboard small res...</td>\n",
       "      <td>0</td>\n",
       "    </tr>\n",
       "    <tr>\n",
       "      <th>3719</th>\n",
       "      <td>62709.txt</td>\n",
       "      <td>x sure consider sacrilegious doubtfull credibi...</td>\n",
       "      <td>0</td>\n",
       "    </tr>\n",
       "    <tr>\n",
       "      <th>3720</th>\n",
       "      <td>62710.txt</td>\n",
       "      <td>existence undefined synonymous observable phys...</td>\n",
       "      <td>0</td>\n",
       "    </tr>\n",
       "  </tbody>\n",
       "</table>\n",
       "<p>3721 rows × 3 columns</p>\n",
       "</div>"
      ],
      "text/plain": [
       "            key                                           document  label\n",
       "0     14147.txt  post still rather rough list likely question i...      0\n",
       "1     14831.txt  text usenet version title post list likely que...      0\n",
       "2     14832.txt  text usenet version title live list potential ...      0\n",
       "3     14982.txt  access try ftp rsa com login anonymous several...      0\n",
       "4     14983.txt  sick part really like phrase merely threat lon...      0\n",
       "...         ...                                                ...    ...\n",
       "3716  62615.txt  write staffer tell interest story cost team lo...      0\n",
       "3717  62616.txt  sez object would interfere anyones enjoyment n...      0\n",
       "3718  62708.txt  accord person talk propose billboard small res...      0\n",
       "3719  62709.txt  x sure consider sacrilegious doubtfull credibi...      0\n",
       "3720  62710.txt  existence undefined synonymous observable phys...      0\n",
       "\n",
       "[3721 rows x 3 columns]"
      ]
     },
     "execution_count": 51,
     "metadata": {},
     "output_type": "execute_result"
    }
   ],
   "source": [
    "science_df = pd.DataFrame(transformed_text_data_Science.keys(), columns=['key']).join(\n",
    "             pd.DataFrame(Science_array_transformed, columns=['document']))\n",
    "\n",
    "science_df['label'] = 0\n",
    "science_df"
   ]
  },
  {
   "cell_type": "markdown",
   "id": "e2c0e682-26b7-4e4d-939c-20241e6ac3ce",
   "metadata": {},
   "source": [
    "#### Combined DataFrame"
   ]
  },
  {
   "cell_type": "code",
   "execution_count": 52,
   "id": "1f4368c5-a99f-4886-85d6-afbba4e40c77",
   "metadata": {},
   "outputs": [
    {
     "data": {
      "text/html": [
       "<div>\n",
       "<style scoped>\n",
       "    .dataframe tbody tr th:only-of-type {\n",
       "        vertical-align: middle;\n",
       "    }\n",
       "\n",
       "    .dataframe tbody tr th {\n",
       "        vertical-align: top;\n",
       "    }\n",
       "\n",
       "    .dataframe thead th {\n",
       "        text-align: right;\n",
       "    }\n",
       "</style>\n",
       "<table border=\"1\" class=\"dataframe\">\n",
       "  <thead>\n",
       "    <tr style=\"text-align: right;\">\n",
       "      <th></th>\n",
       "      <th>key</th>\n",
       "      <th>document</th>\n",
       "      <th>label</th>\n",
       "    </tr>\n",
       "  </thead>\n",
       "  <tbody>\n",
       "    <tr>\n",
       "      <th>0</th>\n",
       "      <td>124146.txt</td>\n",
       "      <td>cant find source state retract claim go dig on...</td>\n",
       "      <td>1</td>\n",
       "    </tr>\n",
       "    <tr>\n",
       "      <th>1</th>\n",
       "      <td>176845.txt</td>\n",
       "      <td>norway appear post place always escape underst...</td>\n",
       "      <td>1</td>\n",
       "    </tr>\n",
       "    <tr>\n",
       "      <th>2</th>\n",
       "      <td>176846.txt</td>\n",
       "      <td>main point human yet bear bind contract wrong ...</td>\n",
       "      <td>1</td>\n",
       "    </tr>\n",
       "    <tr>\n",
       "      <th>3</th>\n",
       "      <td>176847.txt</td>\n",
       "      <td>case dismiss interest authority ground dismiss...</td>\n",
       "      <td>1</td>\n",
       "    </tr>\n",
       "    <tr>\n",
       "      <th>4</th>\n",
       "      <td>176849.txt</td>\n",
       "      <td>tax protesters legally correct put jail anyway...</td>\n",
       "      <td>1</td>\n",
       "    </tr>\n",
       "  </tbody>\n",
       "</table>\n",
       "</div>"
      ],
      "text/plain": [
       "          key                                           document  label\n",
       "0  124146.txt  cant find source state retract claim go dig on...      1\n",
       "1  176845.txt  norway appear post place always escape underst...      1\n",
       "2  176846.txt  main point human yet bear bind contract wrong ...      1\n",
       "3  176847.txt  case dismiss interest authority ground dismiss...      1\n",
       "4  176849.txt  tax protesters legally correct put jail anyway...      1"
      ]
     },
     "execution_count": 52,
     "metadata": {},
     "output_type": "execute_result"
    }
   ],
   "source": [
    "data_df = pd.concat([politics_df.iloc[:2700], science_df.iloc[:2700]], axis=0)\n",
    "data_df.head()"
   ]
  },
  {
   "cell_type": "markdown",
   "id": "c117cfb1-18a7-4f16-97cc-4bc39cffc617",
   "metadata": {},
   "source": [
    "### Vectorize the Data"
   ]
  },
  {
   "cell_type": "code",
   "execution_count": 53,
   "id": "6dc023cf-84cb-4122-9432-19d982ae23f8",
   "metadata": {},
   "outputs": [],
   "source": [
    "X = data_df['document']\n",
    "y = data_df['label']"
   ]
  },
  {
   "cell_type": "code",
   "execution_count": 54,
   "id": "ac728e28-b5a4-4c10-90ca-151451d4cb2d",
   "metadata": {},
   "outputs": [
    {
     "data": {
      "text/plain": [
       "0       cant find source state retract claim go dig on...\n",
       "1       norway appear post place always escape underst...\n",
       "2       main point human yet bear bind contract wrong ...\n",
       "3       case dismiss interest authority ground dismiss...\n",
       "4       tax protesters legally correct put jail anyway...\n",
       "                              ...                        \n",
       "2695    restate thread go stimulate antidepressant unf...\n",
       "2696    theres chiropractor stand middle shop mall off...\n",
       "2697    want know follow scam theres chiropractor stan...\n",
       "2698    anyone know study long term health effect man ...\n",
       "2699    take antihistamines nights start paradoxical e...\n",
       "Name: document, Length: 5400, dtype: object"
      ]
     },
     "execution_count": 54,
     "metadata": {},
     "output_type": "execute_result"
    }
   ],
   "source": [
    "X"
   ]
  },
  {
   "cell_type": "code",
   "execution_count": 55,
   "id": "5a88a40f-4371-457a-bc8a-9e0d746e3199",
   "metadata": {},
   "outputs": [],
   "source": [
    "X_tr, X_test, y_tr, y_test = train_test_split(X,y, test_size=270, stratify=y, random_state=0)\n",
    "X_train, X_val, y_train, y_val = train_test_split(X_tr, y_tr, test_size=540, stratify=y_tr, random_state=0)"
   ]
  },
  {
   "cell_type": "code",
   "execution_count": 56,
   "id": "38831ffc-ab62-4a43-8e2b-f0a9ba1458c6",
   "metadata": {},
   "outputs": [
    {
     "name": "stdout",
     "output_type": "stream",
     "text": [
      "Training X: \u001b[1m5130\u001b[0m\n",
      "Training label: \u001b[1m5130\u001b[0m\n",
      "Validation X: \u001b[1m540\u001b[0m\n",
      "Validation label: \u001b[1m540\u001b[0m\n",
      "Testing X: \u001b[1m270\u001b[0m\n",
      "Testing label: \u001b[1m270\u001b[0m\n"
     ]
    }
   ],
   "source": [
    "print('Training X: ' + color.BOLD + f'{ len(X_tr)}' + color.END)\n",
    "print('Training label: ' + color.BOLD + f'{ len(y_tr)}' + color.END)\n",
    "print('Validation X: ' + color.BOLD + f'{ len(X_val)}' + color.END)\n",
    "print('Validation label: ' + color.BOLD + f'{ len(y_val)}' + color.END)\n",
    "print('Testing X: ' + color.BOLD + f'{ len(X_test)}' + color.END)\n",
    "print('Testing label: ' + color.BOLD + f'{ len(y_test)}' + color.END)"
   ]
  },
  {
   "cell_type": "code",
   "execution_count": 57,
   "id": "3b5b8dbe-9eb4-4dd3-a10c-bcc1655596d0",
   "metadata": {},
   "outputs": [
    {
     "data": {
      "text/plain": [
       "1    2295\n",
       "0    2295\n",
       "Name: label, dtype: int64"
      ]
     },
     "execution_count": 57,
     "metadata": {},
     "output_type": "execute_result"
    }
   ],
   "source": [
    "y_train.value_counts()"
   ]
  },
  {
   "cell_type": "code",
   "execution_count": 58,
   "id": "ede0c0d2-c42b-4a00-91d3-95590fc4f146",
   "metadata": {},
   "outputs": [
    {
     "data": {
      "text/plain": [
       "1    270\n",
       "0    270\n",
       "Name: label, dtype: int64"
      ]
     },
     "execution_count": 58,
     "metadata": {},
     "output_type": "execute_result"
    }
   ],
   "source": [
    "y_val.value_counts()"
   ]
  },
  {
   "cell_type": "code",
   "execution_count": 59,
   "id": "2f0ceaa8-aab5-4452-b6e6-63b2af2b2ee1",
   "metadata": {},
   "outputs": [
    {
     "data": {
      "text/plain": [
       "1    135\n",
       "0    135\n",
       "Name: label, dtype: int64"
      ]
     },
     "execution_count": 59,
     "metadata": {},
     "output_type": "execute_result"
    }
   ],
   "source": [
    "y_test.value_counts()"
   ]
  },
  {
   "cell_type": "code",
   "execution_count": 60,
   "id": "8a8febfe-72b0-4c3e-b1e2-f0c670124f59",
   "metadata": {},
   "outputs": [],
   "source": [
    "# Instantiate the \"CountVectorizer\" object, which is scikit-learn's bag of words tool.\n",
    "count_vectorizer = CountVectorizer(min_df=9/5000, max_df=0.5)           # remove any word not in at most 9 documents and any word in more than half the documents\n",
    "tfidf_vectorizer = TfidfVectorizer(min_df=9/5000, max_df=0.5)\n",
    "\n",
    "# count_vectorizer = CountVectorizer()           # remove any word not in at most 9 documents and any word in more than half the documents\n",
    "# tfidf_vectorizer = TfidfVectorizer()\n",
    "\n",
    "# fit the vectorizer to the Training set\n",
    "train_data_features_cvec = count_vectorizer.fit_transform(np.array(X_train))\n",
    "train_data_features_tfidf = tfidf_vectorizer.fit_transform(np.array(X_train))\n",
    "\n",
    "# use the trained vectorizer to transform the Validation set\n",
    "validation_data_features_cvec = count_vectorizer.transform(X_val)\n",
    "validation_data_features_tfidf = tfidf_vectorizer.transform(X_val)\n",
    "\n",
    "# train_data_features = train_data_features.toarray()\n"
   ]
  },
  {
   "cell_type": "code",
   "execution_count": 61,
   "id": "b19e0614-f49a-418c-935a-4cc4b0da2d79",
   "metadata": {},
   "outputs": [
    {
     "data": {
      "text/plain": [
       "matrix([[0, 0, 0, ..., 0, 0, 0],\n",
       "        [0, 0, 0, ..., 0, 0, 0],\n",
       "        [0, 0, 0, ..., 0, 0, 0],\n",
       "        ...,\n",
       "        [0, 0, 0, ..., 0, 0, 0],\n",
       "        [0, 0, 0, ..., 0, 0, 0],\n",
       "        [0, 0, 0, ..., 0, 0, 0]])"
      ]
     },
     "execution_count": 61,
     "metadata": {},
     "output_type": "execute_result"
    }
   ],
   "source": [
    "train_data_features_cvec.todense()"
   ]
  },
  {
   "cell_type": "code",
   "execution_count": 62,
   "id": "f3ac885f-12ce-483d-a517-c431c1b43098",
   "metadata": {},
   "outputs": [
    {
     "name": "stdout",
     "output_type": "stream",
     "text": [
      "(4590, 5501)\n",
      "(4590, 5501)\n"
     ]
    }
   ],
   "source": [
    "print(train_data_features_cvec.shape)\n",
    "print(train_data_features_tfidf.shape)"
   ]
  },
  {
   "cell_type": "code",
   "execution_count": 63,
   "id": "5ecd58e7-8335-4a1b-bb02-5e8cf4e827af",
   "metadata": {},
   "outputs": [
    {
     "name": "stdout",
     "output_type": "stream",
     "text": [
      "(540, 5501)\n",
      "(540, 5501)\n"
     ]
    }
   ],
   "source": [
    "print(validation_data_features_cvec.shape)\n",
    "print(validation_data_features_tfidf.shape)"
   ]
  },
  {
   "cell_type": "code",
   "execution_count": 64,
   "id": "b48e2c3a-6f9d-43fb-a179-c27e65c4a6b0",
   "metadata": {},
   "outputs": [
    {
     "data": {
      "text/plain": [
       "679     critisism easy solutions people would better l...\n",
       "2567    xxxviii turn notion ives funnel law want spy t...\n",
       "Name: document, dtype: object"
      ]
     },
     "execution_count": 64,
     "metadata": {},
     "output_type": "execute_result"
    }
   ],
   "source": [
    "X_train[:2]"
   ]
  },
  {
   "cell_type": "code",
   "execution_count": 65,
   "id": "cea66721-7f3e-4cce-9026-5a9dec600464",
   "metadata": {},
   "outputs": [
    {
     "data": {
      "text/plain": [
       "array([   0,    1,    2, ..., 4587, 4588, 4589])"
      ]
     },
     "execution_count": 65,
     "metadata": {},
     "output_type": "execute_result"
    }
   ],
   "source": [
    "np.arange(len(train_data_features_cvec.toarray()))"
   ]
  },
  {
   "cell_type": "code",
   "execution_count": 66,
   "id": "f62f5199-5bb2-4dbd-8a05-084811f5b7d3",
   "metadata": {},
   "outputs": [
    {
     "data": {
      "text/html": [
       "<div>\n",
       "<style scoped>\n",
       "    .dataframe tbody tr th:only-of-type {\n",
       "        vertical-align: middle;\n",
       "    }\n",
       "\n",
       "    .dataframe tbody tr th {\n",
       "        vertical-align: top;\n",
       "    }\n",
       "\n",
       "    .dataframe thead th {\n",
       "        text-align: right;\n",
       "    }\n",
       "</style>\n",
       "<table border=\"1\" class=\"dataframe\">\n",
       "  <thead>\n",
       "    <tr style=\"text-align: right;\">\n",
       "      <th></th>\n",
       "      <th>aaron</th>\n",
       "      <th>abandon</th>\n",
       "      <th>abdominal</th>\n",
       "      <th>abide</th>\n",
       "      <th>ability</th>\n",
       "      <th>able</th>\n",
       "      <th>abolish</th>\n",
       "      <th>abortion</th>\n",
       "      <th>abortions</th>\n",
       "      <th>abound</th>\n",
       "      <th>...</th>\n",
       "      <th>yourselfers</th>\n",
       "      <th>youth</th>\n",
       "      <th>yup</th>\n",
       "      <th>zero</th>\n",
       "      <th>zinc</th>\n",
       "      <th>zionism</th>\n",
       "      <th>zionist</th>\n",
       "      <th>zionists</th>\n",
       "      <th>zip</th>\n",
       "      <th>zone</th>\n",
       "    </tr>\n",
       "  </thead>\n",
       "  <tbody>\n",
       "    <tr>\n",
       "      <th>0</th>\n",
       "      <td>0</td>\n",
       "      <td>0</td>\n",
       "      <td>0</td>\n",
       "      <td>0</td>\n",
       "      <td>0</td>\n",
       "      <td>0</td>\n",
       "      <td>0</td>\n",
       "      <td>0</td>\n",
       "      <td>0</td>\n",
       "      <td>0</td>\n",
       "      <td>...</td>\n",
       "      <td>0</td>\n",
       "      <td>0</td>\n",
       "      <td>0</td>\n",
       "      <td>0</td>\n",
       "      <td>0</td>\n",
       "      <td>0</td>\n",
       "      <td>0</td>\n",
       "      <td>0</td>\n",
       "      <td>0</td>\n",
       "      <td>0</td>\n",
       "    </tr>\n",
       "    <tr>\n",
       "      <th>1</th>\n",
       "      <td>0</td>\n",
       "      <td>0</td>\n",
       "      <td>0</td>\n",
       "      <td>0</td>\n",
       "      <td>0</td>\n",
       "      <td>1</td>\n",
       "      <td>0</td>\n",
       "      <td>0</td>\n",
       "      <td>0</td>\n",
       "      <td>0</td>\n",
       "      <td>...</td>\n",
       "      <td>0</td>\n",
       "      <td>0</td>\n",
       "      <td>0</td>\n",
       "      <td>1</td>\n",
       "      <td>0</td>\n",
       "      <td>0</td>\n",
       "      <td>0</td>\n",
       "      <td>0</td>\n",
       "      <td>0</td>\n",
       "      <td>0</td>\n",
       "    </tr>\n",
       "    <tr>\n",
       "      <th>2</th>\n",
       "      <td>0</td>\n",
       "      <td>0</td>\n",
       "      <td>0</td>\n",
       "      <td>0</td>\n",
       "      <td>0</td>\n",
       "      <td>0</td>\n",
       "      <td>0</td>\n",
       "      <td>0</td>\n",
       "      <td>0</td>\n",
       "      <td>0</td>\n",
       "      <td>...</td>\n",
       "      <td>0</td>\n",
       "      <td>0</td>\n",
       "      <td>0</td>\n",
       "      <td>0</td>\n",
       "      <td>0</td>\n",
       "      <td>0</td>\n",
       "      <td>0</td>\n",
       "      <td>0</td>\n",
       "      <td>0</td>\n",
       "      <td>0</td>\n",
       "    </tr>\n",
       "    <tr>\n",
       "      <th>3</th>\n",
       "      <td>0</td>\n",
       "      <td>0</td>\n",
       "      <td>0</td>\n",
       "      <td>0</td>\n",
       "      <td>0</td>\n",
       "      <td>0</td>\n",
       "      <td>0</td>\n",
       "      <td>0</td>\n",
       "      <td>0</td>\n",
       "      <td>0</td>\n",
       "      <td>...</td>\n",
       "      <td>0</td>\n",
       "      <td>0</td>\n",
       "      <td>0</td>\n",
       "      <td>0</td>\n",
       "      <td>0</td>\n",
       "      <td>0</td>\n",
       "      <td>0</td>\n",
       "      <td>0</td>\n",
       "      <td>0</td>\n",
       "      <td>0</td>\n",
       "    </tr>\n",
       "    <tr>\n",
       "      <th>4</th>\n",
       "      <td>0</td>\n",
       "      <td>0</td>\n",
       "      <td>0</td>\n",
       "      <td>0</td>\n",
       "      <td>0</td>\n",
       "      <td>0</td>\n",
       "      <td>0</td>\n",
       "      <td>0</td>\n",
       "      <td>0</td>\n",
       "      <td>0</td>\n",
       "      <td>...</td>\n",
       "      <td>0</td>\n",
       "      <td>0</td>\n",
       "      <td>0</td>\n",
       "      <td>0</td>\n",
       "      <td>0</td>\n",
       "      <td>0</td>\n",
       "      <td>0</td>\n",
       "      <td>0</td>\n",
       "      <td>0</td>\n",
       "      <td>0</td>\n",
       "    </tr>\n",
       "  </tbody>\n",
       "</table>\n",
       "<p>5 rows × 5501 columns</p>\n",
       "</div>"
      ],
      "text/plain": [
       "   aaron  abandon  abdominal  abide  ability  able  abolish  abortion  \\\n",
       "0      0        0          0      0        0     0        0         0   \n",
       "1      0        0          0      0        0     1        0         0   \n",
       "2      0        0          0      0        0     0        0         0   \n",
       "3      0        0          0      0        0     0        0         0   \n",
       "4      0        0          0      0        0     0        0         0   \n",
       "\n",
       "   abortions  abound  ...  yourselfers  youth  yup  zero  zinc  zionism  \\\n",
       "0          0       0  ...            0      0    0     0     0        0   \n",
       "1          0       0  ...            0      0    0     1     0        0   \n",
       "2          0       0  ...            0      0    0     0     0        0   \n",
       "3          0       0  ...            0      0    0     0     0        0   \n",
       "4          0       0  ...            0      0    0     0     0        0   \n",
       "\n",
       "   zionist  zionists  zip  zone  \n",
       "0        0         0    0     0  \n",
       "1        0         0    0     0  \n",
       "2        0         0    0     0  \n",
       "3        0         0    0     0  \n",
       "4        0         0    0     0  \n",
       "\n",
       "[5 rows x 5501 columns]"
      ]
     },
     "execution_count": 66,
     "metadata": {},
     "output_type": "execute_result"
    }
   ],
   "source": [
    "X_train_df_cvec = pd.DataFrame(train_data_features_cvec.toarray(), \n",
    "                               index = np.arange(len(train_data_features_cvec.toarray())), \n",
    "                               columns = count_vectorizer.get_feature_names())\n",
    "X_train_df_cvec.head()"
   ]
  },
  {
   "cell_type": "code",
   "execution_count": 67,
   "id": "6fa1d22e-c4ec-4549-9d92-02f9430473d8",
   "metadata": {},
   "outputs": [
    {
     "data": {
      "text/html": [
       "<div>\n",
       "<style scoped>\n",
       "    .dataframe tbody tr th:only-of-type {\n",
       "        vertical-align: middle;\n",
       "    }\n",
       "\n",
       "    .dataframe tbody tr th {\n",
       "        vertical-align: top;\n",
       "    }\n",
       "\n",
       "    .dataframe thead th {\n",
       "        text-align: right;\n",
       "    }\n",
       "</style>\n",
       "<table border=\"1\" class=\"dataframe\">\n",
       "  <thead>\n",
       "    <tr style=\"text-align: right;\">\n",
       "      <th></th>\n",
       "      <th>aaron</th>\n",
       "      <th>abandon</th>\n",
       "      <th>abdominal</th>\n",
       "      <th>abide</th>\n",
       "      <th>ability</th>\n",
       "      <th>able</th>\n",
       "      <th>abolish</th>\n",
       "      <th>abortion</th>\n",
       "      <th>abortions</th>\n",
       "      <th>abound</th>\n",
       "      <th>...</th>\n",
       "      <th>yourselfers</th>\n",
       "      <th>youth</th>\n",
       "      <th>yup</th>\n",
       "      <th>zero</th>\n",
       "      <th>zinc</th>\n",
       "      <th>zionism</th>\n",
       "      <th>zionist</th>\n",
       "      <th>zionists</th>\n",
       "      <th>zip</th>\n",
       "      <th>zone</th>\n",
       "    </tr>\n",
       "  </thead>\n",
       "  <tbody>\n",
       "    <tr>\n",
       "      <th>0</th>\n",
       "      <td>0</td>\n",
       "      <td>0</td>\n",
       "      <td>0</td>\n",
       "      <td>0</td>\n",
       "      <td>0</td>\n",
       "      <td>0</td>\n",
       "      <td>0</td>\n",
       "      <td>0</td>\n",
       "      <td>0</td>\n",
       "      <td>0</td>\n",
       "      <td>...</td>\n",
       "      <td>0</td>\n",
       "      <td>0</td>\n",
       "      <td>0</td>\n",
       "      <td>0</td>\n",
       "      <td>0</td>\n",
       "      <td>0</td>\n",
       "      <td>0</td>\n",
       "      <td>0</td>\n",
       "      <td>0</td>\n",
       "      <td>0</td>\n",
       "    </tr>\n",
       "    <tr>\n",
       "      <th>1</th>\n",
       "      <td>0</td>\n",
       "      <td>0</td>\n",
       "      <td>0</td>\n",
       "      <td>0</td>\n",
       "      <td>0</td>\n",
       "      <td>0</td>\n",
       "      <td>0</td>\n",
       "      <td>0</td>\n",
       "      <td>0</td>\n",
       "      <td>0</td>\n",
       "      <td>...</td>\n",
       "      <td>0</td>\n",
       "      <td>0</td>\n",
       "      <td>0</td>\n",
       "      <td>0</td>\n",
       "      <td>0</td>\n",
       "      <td>0</td>\n",
       "      <td>0</td>\n",
       "      <td>0</td>\n",
       "      <td>0</td>\n",
       "      <td>0</td>\n",
       "    </tr>\n",
       "    <tr>\n",
       "      <th>2</th>\n",
       "      <td>0</td>\n",
       "      <td>0</td>\n",
       "      <td>0</td>\n",
       "      <td>0</td>\n",
       "      <td>0</td>\n",
       "      <td>0</td>\n",
       "      <td>0</td>\n",
       "      <td>0</td>\n",
       "      <td>0</td>\n",
       "      <td>0</td>\n",
       "      <td>...</td>\n",
       "      <td>0</td>\n",
       "      <td>0</td>\n",
       "      <td>0</td>\n",
       "      <td>0</td>\n",
       "      <td>0</td>\n",
       "      <td>0</td>\n",
       "      <td>0</td>\n",
       "      <td>0</td>\n",
       "      <td>0</td>\n",
       "      <td>0</td>\n",
       "    </tr>\n",
       "    <tr>\n",
       "      <th>3</th>\n",
       "      <td>0</td>\n",
       "      <td>0</td>\n",
       "      <td>0</td>\n",
       "      <td>0</td>\n",
       "      <td>0</td>\n",
       "      <td>1</td>\n",
       "      <td>0</td>\n",
       "      <td>0</td>\n",
       "      <td>0</td>\n",
       "      <td>0</td>\n",
       "      <td>...</td>\n",
       "      <td>0</td>\n",
       "      <td>0</td>\n",
       "      <td>0</td>\n",
       "      <td>0</td>\n",
       "      <td>0</td>\n",
       "      <td>0</td>\n",
       "      <td>0</td>\n",
       "      <td>0</td>\n",
       "      <td>0</td>\n",
       "      <td>0</td>\n",
       "    </tr>\n",
       "    <tr>\n",
       "      <th>4</th>\n",
       "      <td>0</td>\n",
       "      <td>0</td>\n",
       "      <td>0</td>\n",
       "      <td>0</td>\n",
       "      <td>0</td>\n",
       "      <td>0</td>\n",
       "      <td>0</td>\n",
       "      <td>0</td>\n",
       "      <td>0</td>\n",
       "      <td>0</td>\n",
       "      <td>...</td>\n",
       "      <td>0</td>\n",
       "      <td>0</td>\n",
       "      <td>0</td>\n",
       "      <td>0</td>\n",
       "      <td>0</td>\n",
       "      <td>0</td>\n",
       "      <td>0</td>\n",
       "      <td>0</td>\n",
       "      <td>0</td>\n",
       "      <td>0</td>\n",
       "    </tr>\n",
       "  </tbody>\n",
       "</table>\n",
       "<p>5 rows × 5501 columns</p>\n",
       "</div>"
      ],
      "text/plain": [
       "   aaron  abandon  abdominal  abide  ability  able  abolish  abortion  \\\n",
       "0      0        0          0      0        0     0        0         0   \n",
       "1      0        0          0      0        0     0        0         0   \n",
       "2      0        0          0      0        0     0        0         0   \n",
       "3      0        0          0      0        0     1        0         0   \n",
       "4      0        0          0      0        0     0        0         0   \n",
       "\n",
       "   abortions  abound  ...  yourselfers  youth  yup  zero  zinc  zionism  \\\n",
       "0          0       0  ...            0      0    0     0     0        0   \n",
       "1          0       0  ...            0      0    0     0     0        0   \n",
       "2          0       0  ...            0      0    0     0     0        0   \n",
       "3          0       0  ...            0      0    0     0     0        0   \n",
       "4          0       0  ...            0      0    0     0     0        0   \n",
       "\n",
       "   zionist  zionists  zip  zone  \n",
       "0        0         0    0     0  \n",
       "1        0         0    0     0  \n",
       "2        0         0    0     0  \n",
       "3        0         0    0     0  \n",
       "4        0         0    0     0  \n",
       "\n",
       "[5 rows x 5501 columns]"
      ]
     },
     "execution_count": 67,
     "metadata": {},
     "output_type": "execute_result"
    }
   ],
   "source": [
    "X_val_df_cvec = pd.DataFrame(validation_data_features_cvec.toarray(), \n",
    "                             index = np.arange(len(validation_data_features_cvec.toarray())), \n",
    "                             columns = count_vectorizer.get_feature_names())\n",
    "X_val_df_cvec.head()"
   ]
  },
  {
   "cell_type": "code",
   "execution_count": 68,
   "id": "91fabe01-63d2-47a5-b1e4-bd1c55c4d4d4",
   "metadata": {},
   "outputs": [
    {
     "data": {
      "text/html": [
       "<div>\n",
       "<style scoped>\n",
       "    .dataframe tbody tr th:only-of-type {\n",
       "        vertical-align: middle;\n",
       "    }\n",
       "\n",
       "    .dataframe tbody tr th {\n",
       "        vertical-align: top;\n",
       "    }\n",
       "\n",
       "    .dataframe thead th {\n",
       "        text-align: right;\n",
       "    }\n",
       "</style>\n",
       "<table border=\"1\" class=\"dataframe\">\n",
       "  <thead>\n",
       "    <tr style=\"text-align: right;\">\n",
       "      <th></th>\n",
       "      <th>aaron</th>\n",
       "      <th>abandon</th>\n",
       "      <th>abdominal</th>\n",
       "      <th>abide</th>\n",
       "      <th>ability</th>\n",
       "      <th>able</th>\n",
       "      <th>abolish</th>\n",
       "      <th>abortion</th>\n",
       "      <th>abortions</th>\n",
       "      <th>abound</th>\n",
       "      <th>...</th>\n",
       "      <th>yourselfers</th>\n",
       "      <th>youth</th>\n",
       "      <th>yup</th>\n",
       "      <th>zero</th>\n",
       "      <th>zinc</th>\n",
       "      <th>zionism</th>\n",
       "      <th>zionist</th>\n",
       "      <th>zionists</th>\n",
       "      <th>zip</th>\n",
       "      <th>zone</th>\n",
       "    </tr>\n",
       "  </thead>\n",
       "  <tbody>\n",
       "    <tr>\n",
       "      <th>0</th>\n",
       "      <td>0.0</td>\n",
       "      <td>0.0</td>\n",
       "      <td>0.0</td>\n",
       "      <td>0.0</td>\n",
       "      <td>0.0</td>\n",
       "      <td>0.000000</td>\n",
       "      <td>0.0</td>\n",
       "      <td>0.0</td>\n",
       "      <td>0.0</td>\n",
       "      <td>0.0</td>\n",
       "      <td>...</td>\n",
       "      <td>0.0</td>\n",
       "      <td>0.0</td>\n",
       "      <td>0.0</td>\n",
       "      <td>0.00000</td>\n",
       "      <td>0.0</td>\n",
       "      <td>0.0</td>\n",
       "      <td>0.0</td>\n",
       "      <td>0.0</td>\n",
       "      <td>0.0</td>\n",
       "      <td>0.0</td>\n",
       "    </tr>\n",
       "    <tr>\n",
       "      <th>1</th>\n",
       "      <td>0.0</td>\n",
       "      <td>0.0</td>\n",
       "      <td>0.0</td>\n",
       "      <td>0.0</td>\n",
       "      <td>0.0</td>\n",
       "      <td>0.006934</td>\n",
       "      <td>0.0</td>\n",
       "      <td>0.0</td>\n",
       "      <td>0.0</td>\n",
       "      <td>0.0</td>\n",
       "      <td>...</td>\n",
       "      <td>0.0</td>\n",
       "      <td>0.0</td>\n",
       "      <td>0.0</td>\n",
       "      <td>0.01132</td>\n",
       "      <td>0.0</td>\n",
       "      <td>0.0</td>\n",
       "      <td>0.0</td>\n",
       "      <td>0.0</td>\n",
       "      <td>0.0</td>\n",
       "      <td>0.0</td>\n",
       "    </tr>\n",
       "    <tr>\n",
       "      <th>2</th>\n",
       "      <td>0.0</td>\n",
       "      <td>0.0</td>\n",
       "      <td>0.0</td>\n",
       "      <td>0.0</td>\n",
       "      <td>0.0</td>\n",
       "      <td>0.000000</td>\n",
       "      <td>0.0</td>\n",
       "      <td>0.0</td>\n",
       "      <td>0.0</td>\n",
       "      <td>0.0</td>\n",
       "      <td>...</td>\n",
       "      <td>0.0</td>\n",
       "      <td>0.0</td>\n",
       "      <td>0.0</td>\n",
       "      <td>0.00000</td>\n",
       "      <td>0.0</td>\n",
       "      <td>0.0</td>\n",
       "      <td>0.0</td>\n",
       "      <td>0.0</td>\n",
       "      <td>0.0</td>\n",
       "      <td>0.0</td>\n",
       "    </tr>\n",
       "    <tr>\n",
       "      <th>3</th>\n",
       "      <td>0.0</td>\n",
       "      <td>0.0</td>\n",
       "      <td>0.0</td>\n",
       "      <td>0.0</td>\n",
       "      <td>0.0</td>\n",
       "      <td>0.000000</td>\n",
       "      <td>0.0</td>\n",
       "      <td>0.0</td>\n",
       "      <td>0.0</td>\n",
       "      <td>0.0</td>\n",
       "      <td>...</td>\n",
       "      <td>0.0</td>\n",
       "      <td>0.0</td>\n",
       "      <td>0.0</td>\n",
       "      <td>0.00000</td>\n",
       "      <td>0.0</td>\n",
       "      <td>0.0</td>\n",
       "      <td>0.0</td>\n",
       "      <td>0.0</td>\n",
       "      <td>0.0</td>\n",
       "      <td>0.0</td>\n",
       "    </tr>\n",
       "    <tr>\n",
       "      <th>4</th>\n",
       "      <td>0.0</td>\n",
       "      <td>0.0</td>\n",
       "      <td>0.0</td>\n",
       "      <td>0.0</td>\n",
       "      <td>0.0</td>\n",
       "      <td>0.000000</td>\n",
       "      <td>0.0</td>\n",
       "      <td>0.0</td>\n",
       "      <td>0.0</td>\n",
       "      <td>0.0</td>\n",
       "      <td>...</td>\n",
       "      <td>0.0</td>\n",
       "      <td>0.0</td>\n",
       "      <td>0.0</td>\n",
       "      <td>0.00000</td>\n",
       "      <td>0.0</td>\n",
       "      <td>0.0</td>\n",
       "      <td>0.0</td>\n",
       "      <td>0.0</td>\n",
       "      <td>0.0</td>\n",
       "      <td>0.0</td>\n",
       "    </tr>\n",
       "  </tbody>\n",
       "</table>\n",
       "<p>5 rows × 5501 columns</p>\n",
       "</div>"
      ],
      "text/plain": [
       "   aaron  abandon  abdominal  abide  ability      able  abolish  abortion  \\\n",
       "0    0.0      0.0        0.0    0.0      0.0  0.000000      0.0       0.0   \n",
       "1    0.0      0.0        0.0    0.0      0.0  0.006934      0.0       0.0   \n",
       "2    0.0      0.0        0.0    0.0      0.0  0.000000      0.0       0.0   \n",
       "3    0.0      0.0        0.0    0.0      0.0  0.000000      0.0       0.0   \n",
       "4    0.0      0.0        0.0    0.0      0.0  0.000000      0.0       0.0   \n",
       "\n",
       "   abortions  abound  ...  yourselfers  youth  yup     zero  zinc  zionism  \\\n",
       "0        0.0     0.0  ...          0.0    0.0  0.0  0.00000   0.0      0.0   \n",
       "1        0.0     0.0  ...          0.0    0.0  0.0  0.01132   0.0      0.0   \n",
       "2        0.0     0.0  ...          0.0    0.0  0.0  0.00000   0.0      0.0   \n",
       "3        0.0     0.0  ...          0.0    0.0  0.0  0.00000   0.0      0.0   \n",
       "4        0.0     0.0  ...          0.0    0.0  0.0  0.00000   0.0      0.0   \n",
       "\n",
       "   zionist  zionists  zip  zone  \n",
       "0      0.0       0.0  0.0   0.0  \n",
       "1      0.0       0.0  0.0   0.0  \n",
       "2      0.0       0.0  0.0   0.0  \n",
       "3      0.0       0.0  0.0   0.0  \n",
       "4      0.0       0.0  0.0   0.0  \n",
       "\n",
       "[5 rows x 5501 columns]"
      ]
     },
     "execution_count": 68,
     "metadata": {},
     "output_type": "execute_result"
    }
   ],
   "source": [
    "X_train_df_tfidf = pd.DataFrame(train_data_features_tfidf.toarray(), \n",
    "                                index = np.arange(len(train_data_features_tfidf.toarray())), \n",
    "                                columns = tfidf_vectorizer.get_feature_names())\n",
    "X_train_df_tfidf.head()"
   ]
  },
  {
   "cell_type": "code",
   "execution_count": 69,
   "id": "32da4abb-d85b-411e-834b-499a82f835e4",
   "metadata": {},
   "outputs": [
    {
     "data": {
      "text/html": [
       "<div>\n",
       "<style scoped>\n",
       "    .dataframe tbody tr th:only-of-type {\n",
       "        vertical-align: middle;\n",
       "    }\n",
       "\n",
       "    .dataframe tbody tr th {\n",
       "        vertical-align: top;\n",
       "    }\n",
       "\n",
       "    .dataframe thead th {\n",
       "        text-align: right;\n",
       "    }\n",
       "</style>\n",
       "<table border=\"1\" class=\"dataframe\">\n",
       "  <thead>\n",
       "    <tr style=\"text-align: right;\">\n",
       "      <th></th>\n",
       "      <th>aaron</th>\n",
       "      <th>abandon</th>\n",
       "      <th>abdominal</th>\n",
       "      <th>abide</th>\n",
       "      <th>ability</th>\n",
       "      <th>able</th>\n",
       "      <th>abolish</th>\n",
       "      <th>abortion</th>\n",
       "      <th>abortions</th>\n",
       "      <th>abound</th>\n",
       "      <th>...</th>\n",
       "      <th>yourselfers</th>\n",
       "      <th>youth</th>\n",
       "      <th>yup</th>\n",
       "      <th>zero</th>\n",
       "      <th>zinc</th>\n",
       "      <th>zionism</th>\n",
       "      <th>zionist</th>\n",
       "      <th>zionists</th>\n",
       "      <th>zip</th>\n",
       "      <th>zone</th>\n",
       "    </tr>\n",
       "  </thead>\n",
       "  <tbody>\n",
       "    <tr>\n",
       "      <th>0</th>\n",
       "      <td>0.0</td>\n",
       "      <td>0.0</td>\n",
       "      <td>0.0</td>\n",
       "      <td>0.0</td>\n",
       "      <td>0.0</td>\n",
       "      <td>0.00000</td>\n",
       "      <td>0.0</td>\n",
       "      <td>0.0</td>\n",
       "      <td>0.0</td>\n",
       "      <td>0.0</td>\n",
       "      <td>...</td>\n",
       "      <td>0.0</td>\n",
       "      <td>0.0</td>\n",
       "      <td>0.0</td>\n",
       "      <td>0.0</td>\n",
       "      <td>0.0</td>\n",
       "      <td>0.0</td>\n",
       "      <td>0.0</td>\n",
       "      <td>0.0</td>\n",
       "      <td>0.0</td>\n",
       "      <td>0.0</td>\n",
       "    </tr>\n",
       "    <tr>\n",
       "      <th>1</th>\n",
       "      <td>0.0</td>\n",
       "      <td>0.0</td>\n",
       "      <td>0.0</td>\n",
       "      <td>0.0</td>\n",
       "      <td>0.0</td>\n",
       "      <td>0.00000</td>\n",
       "      <td>0.0</td>\n",
       "      <td>0.0</td>\n",
       "      <td>0.0</td>\n",
       "      <td>0.0</td>\n",
       "      <td>...</td>\n",
       "      <td>0.0</td>\n",
       "      <td>0.0</td>\n",
       "      <td>0.0</td>\n",
       "      <td>0.0</td>\n",
       "      <td>0.0</td>\n",
       "      <td>0.0</td>\n",
       "      <td>0.0</td>\n",
       "      <td>0.0</td>\n",
       "      <td>0.0</td>\n",
       "      <td>0.0</td>\n",
       "    </tr>\n",
       "    <tr>\n",
       "      <th>2</th>\n",
       "      <td>0.0</td>\n",
       "      <td>0.0</td>\n",
       "      <td>0.0</td>\n",
       "      <td>0.0</td>\n",
       "      <td>0.0</td>\n",
       "      <td>0.00000</td>\n",
       "      <td>0.0</td>\n",
       "      <td>0.0</td>\n",
       "      <td>0.0</td>\n",
       "      <td>0.0</td>\n",
       "      <td>...</td>\n",
       "      <td>0.0</td>\n",
       "      <td>0.0</td>\n",
       "      <td>0.0</td>\n",
       "      <td>0.0</td>\n",
       "      <td>0.0</td>\n",
       "      <td>0.0</td>\n",
       "      <td>0.0</td>\n",
       "      <td>0.0</td>\n",
       "      <td>0.0</td>\n",
       "      <td>0.0</td>\n",
       "    </tr>\n",
       "    <tr>\n",
       "      <th>3</th>\n",
       "      <td>0.0</td>\n",
       "      <td>0.0</td>\n",
       "      <td>0.0</td>\n",
       "      <td>0.0</td>\n",
       "      <td>0.0</td>\n",
       "      <td>0.10084</td>\n",
       "      <td>0.0</td>\n",
       "      <td>0.0</td>\n",
       "      <td>0.0</td>\n",
       "      <td>0.0</td>\n",
       "      <td>...</td>\n",
       "      <td>0.0</td>\n",
       "      <td>0.0</td>\n",
       "      <td>0.0</td>\n",
       "      <td>0.0</td>\n",
       "      <td>0.0</td>\n",
       "      <td>0.0</td>\n",
       "      <td>0.0</td>\n",
       "      <td>0.0</td>\n",
       "      <td>0.0</td>\n",
       "      <td>0.0</td>\n",
       "    </tr>\n",
       "    <tr>\n",
       "      <th>4</th>\n",
       "      <td>0.0</td>\n",
       "      <td>0.0</td>\n",
       "      <td>0.0</td>\n",
       "      <td>0.0</td>\n",
       "      <td>0.0</td>\n",
       "      <td>0.00000</td>\n",
       "      <td>0.0</td>\n",
       "      <td>0.0</td>\n",
       "      <td>0.0</td>\n",
       "      <td>0.0</td>\n",
       "      <td>...</td>\n",
       "      <td>0.0</td>\n",
       "      <td>0.0</td>\n",
       "      <td>0.0</td>\n",
       "      <td>0.0</td>\n",
       "      <td>0.0</td>\n",
       "      <td>0.0</td>\n",
       "      <td>0.0</td>\n",
       "      <td>0.0</td>\n",
       "      <td>0.0</td>\n",
       "      <td>0.0</td>\n",
       "    </tr>\n",
       "  </tbody>\n",
       "</table>\n",
       "<p>5 rows × 5501 columns</p>\n",
       "</div>"
      ],
      "text/plain": [
       "   aaron  abandon  abdominal  abide  ability     able  abolish  abortion  \\\n",
       "0    0.0      0.0        0.0    0.0      0.0  0.00000      0.0       0.0   \n",
       "1    0.0      0.0        0.0    0.0      0.0  0.00000      0.0       0.0   \n",
       "2    0.0      0.0        0.0    0.0      0.0  0.00000      0.0       0.0   \n",
       "3    0.0      0.0        0.0    0.0      0.0  0.10084      0.0       0.0   \n",
       "4    0.0      0.0        0.0    0.0      0.0  0.00000      0.0       0.0   \n",
       "\n",
       "   abortions  abound  ...  yourselfers  youth  yup  zero  zinc  zionism  \\\n",
       "0        0.0     0.0  ...          0.0    0.0  0.0   0.0   0.0      0.0   \n",
       "1        0.0     0.0  ...          0.0    0.0  0.0   0.0   0.0      0.0   \n",
       "2        0.0     0.0  ...          0.0    0.0  0.0   0.0   0.0      0.0   \n",
       "3        0.0     0.0  ...          0.0    0.0  0.0   0.0   0.0      0.0   \n",
       "4        0.0     0.0  ...          0.0    0.0  0.0   0.0   0.0      0.0   \n",
       "\n",
       "   zionist  zionists  zip  zone  \n",
       "0      0.0       0.0  0.0   0.0  \n",
       "1      0.0       0.0  0.0   0.0  \n",
       "2      0.0       0.0  0.0   0.0  \n",
       "3      0.0       0.0  0.0   0.0  \n",
       "4      0.0       0.0  0.0   0.0  \n",
       "\n",
       "[5 rows x 5501 columns]"
      ]
     },
     "execution_count": 69,
     "metadata": {},
     "output_type": "execute_result"
    }
   ],
   "source": [
    "X_val_df_tfidf = pd.DataFrame(validation_data_features_tfidf.toarray(), \n",
    "                              index = np.arange(len(validation_data_features_tfidf.toarray())), \n",
    "                              columns = tfidf_vectorizer.get_feature_names())\n",
    "X_val_df_tfidf.head()"
   ]
  },
  {
   "cell_type": "code",
   "execution_count": 70,
   "id": "e13bf1dc-efe4-4fb3-a144-62a00e46dfc2",
   "metadata": {},
   "outputs": [
    {
     "name": "stdout",
     "output_type": "stream",
     "text": [
      "shape:\u001b[1m (4590, 4)\u001b[0m\n"
     ]
    },
    {
     "data": {
      "text/html": [
       "<div>\n",
       "<style scoped>\n",
       "    .dataframe tbody tr th:only-of-type {\n",
       "        vertical-align: middle;\n",
       "    }\n",
       "\n",
       "    .dataframe tbody tr th {\n",
       "        vertical-align: top;\n",
       "    }\n",
       "\n",
       "    .dataframe thead th {\n",
       "        text-align: right;\n",
       "    }\n",
       "</style>\n",
       "<table border=\"1\" class=\"dataframe\">\n",
       "  <thead>\n",
       "    <tr style=\"text-align: right;\">\n",
       "      <th></th>\n",
       "      <th>clean_training_data</th>\n",
       "      <th>label</th>\n",
       "      <th>count_vect</th>\n",
       "      <th>tf_idf</th>\n",
       "    </tr>\n",
       "  </thead>\n",
       "  <tbody>\n",
       "    <tr>\n",
       "      <th>679</th>\n",
       "      <td>critisism easy solutions people would better l...</td>\n",
       "      <td>1</td>\n",
       "      <td>[0, 0, 0, 0, 0, 0, 0, 0, 0, 0, 0, 0, 0, 0, 0, ...</td>\n",
       "      <td>[0.0, 0.0, 0.0, 0.0, 0.0, 0.0, 0.0, 0.0, 0.0, ...</td>\n",
       "    </tr>\n",
       "    <tr>\n",
       "      <th>2567</th>\n",
       "      <td>xxxviii turn notion ives funnel law want spy t...</td>\n",
       "      <td>1</td>\n",
       "      <td>[0, 0, 0, 0, 0, 1, 0, 0, 0, 0, 0, 0, 0, 0, 1, ...</td>\n",
       "      <td>[0.0, 0.0, 0.0, 0.0, 0.0, 0.006933648073445591...</td>\n",
       "    </tr>\n",
       "    <tr>\n",
       "      <th>1219</th>\n",
       "      <td>someting good mean forever go days leave house...</td>\n",
       "      <td>1</td>\n",
       "      <td>[0, 0, 0, 0, 0, 0, 0, 0, 0, 0, 0, 0, 0, 0, 0, ...</td>\n",
       "      <td>[0.0, 0.0, 0.0, 0.0, 0.0, 0.0, 0.0, 0.0, 0.0, ...</td>\n",
       "    </tr>\n",
       "    <tr>\n",
       "      <th>1323</th>\n",
       "      <td>x r say old keychains see simms silver keyring...</td>\n",
       "      <td>0</td>\n",
       "      <td>[0, 0, 0, 0, 0, 0, 0, 0, 0, 0, 0, 0, 0, 0, 0, ...</td>\n",
       "      <td>[0.0, 0.0, 0.0, 0.0, 0.0, 0.0, 0.0, 0.0, 0.0, ...</td>\n",
       "    </tr>\n",
       "    <tr>\n",
       "      <th>78</th>\n",
       "      <td>hmmm   intersting long message care libertaria...</td>\n",
       "      <td>1</td>\n",
       "      <td>[0, 0, 0, 0, 0, 0, 0, 0, 0, 0, 0, 0, 0, 0, 0, ...</td>\n",
       "      <td>[0.0, 0.0, 0.0, 0.0, 0.0, 0.0, 0.0, 0.0, 0.0, ...</td>\n",
       "    </tr>\n",
       "  </tbody>\n",
       "</table>\n",
       "</div>"
      ],
      "text/plain": [
       "                                    clean_training_data  label  \\\n",
       "679   critisism easy solutions people would better l...      1   \n",
       "2567  xxxviii turn notion ives funnel law want spy t...      1   \n",
       "1219  someting good mean forever go days leave house...      1   \n",
       "1323  x r say old keychains see simms silver keyring...      0   \n",
       "78    hmmm   intersting long message care libertaria...      1   \n",
       "\n",
       "                                             count_vect  \\\n",
       "679   [0, 0, 0, 0, 0, 0, 0, 0, 0, 0, 0, 0, 0, 0, 0, ...   \n",
       "2567  [0, 0, 0, 0, 0, 1, 0, 0, 0, 0, 0, 0, 0, 0, 1, ...   \n",
       "1219  [0, 0, 0, 0, 0, 0, 0, 0, 0, 0, 0, 0, 0, 0, 0, ...   \n",
       "1323  [0, 0, 0, 0, 0, 0, 0, 0, 0, 0, 0, 0, 0, 0, 0, ...   \n",
       "78    [0, 0, 0, 0, 0, 0, 0, 0, 0, 0, 0, 0, 0, 0, 0, ...   \n",
       "\n",
       "                                                 tf_idf  \n",
       "679   [0.0, 0.0, 0.0, 0.0, 0.0, 0.0, 0.0, 0.0, 0.0, ...  \n",
       "2567  [0.0, 0.0, 0.0, 0.0, 0.0, 0.006933648073445591...  \n",
       "1219  [0.0, 0.0, 0.0, 0.0, 0.0, 0.0, 0.0, 0.0, 0.0, ...  \n",
       "1323  [0.0, 0.0, 0.0, 0.0, 0.0, 0.0, 0.0, 0.0, 0.0, ...  \n",
       "78    [0.0, 0.0, 0.0, 0.0, 0.0, 0.0, 0.0, 0.0, 0.0, ...  "
      ]
     },
     "execution_count": 70,
     "metadata": {},
     "output_type": "execute_result"
    }
   ],
   "source": [
    "train_df = pd.concat([pd.DataFrame({\"clean_training_data\":X_train}, index=X_train.index), \n",
    "                      pd.DataFrame({\"label\":y_train}, index=X_train.index),\n",
    "                      pd.DataFrame({\"count_vect\":list(train_data_features_cvec.toarray())}, index=X_train.index), \n",
    "                      pd.DataFrame({\"tf_idf\":list(train_data_features_tfidf.toarray())}, index=X_train.index)\n",
    "                      ], \n",
    "                     axis=1)\n",
    "print('shape:' + color.BOLD + f' {train_df.shape}' + color.END)\n",
    "train_df.head()"
   ]
  },
  {
   "cell_type": "code",
   "execution_count": 71,
   "id": "4a28d3c0-8d96-4779-be6d-a924f17b59a4",
   "metadata": {},
   "outputs": [
    {
     "data": {
      "text/plain": [
       "20"
      ]
     },
     "execution_count": 71,
     "metadata": {},
     "output_type": "execute_result"
    }
   ],
   "source": [
    "train_data_features_cvec.toarray()[0].sum()"
   ]
  },
  {
   "cell_type": "code",
   "execution_count": 72,
   "id": "13e607ea-4658-4a45-afc5-e7173c045132",
   "metadata": {},
   "outputs": [
    {
     "data": {
      "text/plain": [
       "4.152509437971699"
      ]
     },
     "execution_count": 72,
     "metadata": {},
     "output_type": "execute_result"
    }
   ],
   "source": [
    "train_data_features_tfidf.toarray()[0].sum()"
   ]
  },
  {
   "cell_type": "code",
   "execution_count": 73,
   "id": "5ae3b340-eb28-4201-9ce8-32578a8ecf30",
   "metadata": {},
   "outputs": [
    {
     "name": "stdout",
     "output_type": "stream",
     "text": [
      "shape:\u001b[1m (540, 4)\u001b[0m\n"
     ]
    },
    {
     "data": {
      "text/html": [
       "<div>\n",
       "<style scoped>\n",
       "    .dataframe tbody tr th:only-of-type {\n",
       "        vertical-align: middle;\n",
       "    }\n",
       "\n",
       "    .dataframe tbody tr th {\n",
       "        vertical-align: top;\n",
       "    }\n",
       "\n",
       "    .dataframe thead th {\n",
       "        text-align: right;\n",
       "    }\n",
       "</style>\n",
       "<table border=\"1\" class=\"dataframe\">\n",
       "  <thead>\n",
       "    <tr style=\"text-align: right;\">\n",
       "      <th></th>\n",
       "      <th>clean_training_data</th>\n",
       "      <th>label</th>\n",
       "      <th>count_vect</th>\n",
       "      <th>tf_idf</th>\n",
       "    </tr>\n",
       "  </thead>\n",
       "  <tbody>\n",
       "    <tr>\n",
       "      <th>2195</th>\n",
       "      <td>fmgs citizens alien difficult situation citize...</td>\n",
       "      <td>0</td>\n",
       "      <td>[0, 0, 0, 0, 0, 0, 0, 0, 0, 0, 0, 0, 0, 0, 0, ...</td>\n",
       "      <td>[0.0, 0.0, 0.0, 0.0, 0.0, 0.0, 0.0, 0.0, 0.0, ...</td>\n",
       "    </tr>\n",
       "    <tr>\n",
       "      <th>2450</th>\n",
       "      <td>idea provide financial incentives select form ...</td>\n",
       "      <td>1</td>\n",
       "      <td>[0, 0, 0, 0, 0, 0, 0, 0, 0, 0, 0, 0, 0, 0, 0, ...</td>\n",
       "      <td>[0.0, 0.0, 0.0, 0.0, 0.0, 0.0, 0.0, 0.0, 0.0, ...</td>\n",
       "    </tr>\n",
       "    <tr>\n",
       "      <th>1311</th>\n",
       "      <td>accord numerous account compound fire start ar...</td>\n",
       "      <td>1</td>\n",
       "      <td>[0, 0, 0, 0, 0, 0, 0, 0, 0, 0, 0, 0, 0, 0, 0, ...</td>\n",
       "      <td>[0.0, 0.0, 0.0, 0.0, 0.0, 0.0, 0.0, 0.0, 0.0, ...</td>\n",
       "    </tr>\n",
       "    <tr>\n",
       "      <th>1715</th>\n",
       "      <td>battery go dead primarily becaust floor cold t...</td>\n",
       "      <td>0</td>\n",
       "      <td>[0, 0, 0, 0, 0, 1, 0, 0, 0, 0, 0, 0, 0, 0, 0, ...</td>\n",
       "      <td>[0.0, 0.0, 0.0, 0.0, 0.0, 0.10084027543920393,...</td>\n",
       "    </tr>\n",
       "    <tr>\n",
       "      <th>2390</th>\n",
       "      <td>question derive incident gas particles create ...</td>\n",
       "      <td>0</td>\n",
       "      <td>[0, 0, 0, 0, 0, 0, 0, 0, 0, 0, 0, 0, 0, 0, 0, ...</td>\n",
       "      <td>[0.0, 0.0, 0.0, 0.0, 0.0, 0.0, 0.0, 0.0, 0.0, ...</td>\n",
       "    </tr>\n",
       "  </tbody>\n",
       "</table>\n",
       "</div>"
      ],
      "text/plain": [
       "                                    clean_training_data  label  \\\n",
       "2195  fmgs citizens alien difficult situation citize...      0   \n",
       "2450  idea provide financial incentives select form ...      1   \n",
       "1311  accord numerous account compound fire start ar...      1   \n",
       "1715  battery go dead primarily becaust floor cold t...      0   \n",
       "2390  question derive incident gas particles create ...      0   \n",
       "\n",
       "                                             count_vect  \\\n",
       "2195  [0, 0, 0, 0, 0, 0, 0, 0, 0, 0, 0, 0, 0, 0, 0, ...   \n",
       "2450  [0, 0, 0, 0, 0, 0, 0, 0, 0, 0, 0, 0, 0, 0, 0, ...   \n",
       "1311  [0, 0, 0, 0, 0, 0, 0, 0, 0, 0, 0, 0, 0, 0, 0, ...   \n",
       "1715  [0, 0, 0, 0, 0, 1, 0, 0, 0, 0, 0, 0, 0, 0, 0, ...   \n",
       "2390  [0, 0, 0, 0, 0, 0, 0, 0, 0, 0, 0, 0, 0, 0, 0, ...   \n",
       "\n",
       "                                                 tf_idf  \n",
       "2195  [0.0, 0.0, 0.0, 0.0, 0.0, 0.0, 0.0, 0.0, 0.0, ...  \n",
       "2450  [0.0, 0.0, 0.0, 0.0, 0.0, 0.0, 0.0, 0.0, 0.0, ...  \n",
       "1311  [0.0, 0.0, 0.0, 0.0, 0.0, 0.0, 0.0, 0.0, 0.0, ...  \n",
       "1715  [0.0, 0.0, 0.0, 0.0, 0.0, 0.10084027543920393,...  \n",
       "2390  [0.0, 0.0, 0.0, 0.0, 0.0, 0.0, 0.0, 0.0, 0.0, ...  "
      ]
     },
     "execution_count": 73,
     "metadata": {},
     "output_type": "execute_result"
    }
   ],
   "source": [
    "validation_df = pd.concat([pd.DataFrame({\"clean_training_data\":X_val}), \n",
    "                           pd.DataFrame({\"label\":y_val}, index=X_val.index),\n",
    "                           pd.DataFrame({\"count_vect\":list(validation_data_features_cvec.toarray())}, index=X_val.index), \n",
    "                           pd.DataFrame({\"tf_idf\":list(validation_data_features_tfidf.toarray())}, index=X_val.index)], \n",
    "                          axis=1)\n",
    "print('shape:' + color.BOLD + f' {validation_df.shape}' + color.END)\n",
    "validation_df.head()"
   ]
  },
  {
   "cell_type": "code",
   "execution_count": null,
   "id": "0e882095",
   "metadata": {},
   "outputs": [],
   "source": []
  },
  {
   "cell_type": "code",
   "execution_count": null,
   "id": "eb0affde",
   "metadata": {},
   "outputs": [],
   "source": []
  },
  {
   "cell_type": "code",
   "execution_count": 356,
   "id": "21c00053",
   "metadata": {},
   "outputs": [
    {
     "data": {
      "image/png": "[encoded data removed]",
      "text/plain": [
       "<Figure size 720x576 with 2 Axes>"
      ]
     },
     "metadata": {
      "needs_background": "light"
     },
     "output_type": "display_data"
    }
   ],
   "source": [
    "import seaborn as sns\n",
    "import matplotlib.pyplot as plt\n",
    "from matplotlib.colors import LinearSegmentedColormap\n",
    "import numpy as np\n",
    "import pandas as pd\n",
    "\n",
    "# Generate a sample dataset\n",
    "np.random.seed(0)\n",
    "# data = pd.DataFrame(np.random.rand(10, 10), columns=[f'col_{i}' for i in range(10)])\n",
    "data = X_train_df_cvec.loc[90:100,:'document']\n",
    "colors = [\"black\", \"yellow\"]\n",
    "cmap = LinearSegmentedColormap.from_list(\"grey_yellow\", colors)\n",
    "\n",
    "# Create the heatmap\n",
    "plt.figure(figsize=(10, 8))  # Adjust figure size for better visualization\n",
    "# sns.heatmap(data, annot=True, cmap='viridis', fmt=\".2f\", linewidths=.5, cbar_kws={\"shrink\": .8})\n",
    "sns.heatmap(data, annot=False, cmap=cmap)\n",
    "\n",
    "\n",
    "# Customize the heatmap\n",
    "plt.title('Sample Heatmap', fontsize=16)\n",
    "plt.xlabel('Columns', fontsize=12)\n",
    "plt.ylabel('Rows', fontsize=12)\n",
    "\n",
    "# Show the plot\n",
    "plt.show()"
   ]
  },
  {
   "cell_type": "code",
   "execution_count": 349,
   "id": "77d9e17a",
   "metadata": {},
   "outputs": [
    {
     "data": {
      "text/plain": [
       "group    42\n",
       "Name: 1, dtype: int64"
      ]
     },
     "execution_count": 349,
     "metadata": {},
     "output_type": "execute_result"
    }
   ],
   "source": [
    "X_train_df_cvec.loc[1, :][X_train_df_cvec.loc[1, :] == 42]"
   ]
  },
  {
   "cell_type": "code",
   "execution_count": 339,
   "id": "47764830",
   "metadata": {},
   "outputs": [
    {
     "data": {
      "text/plain": [
       "array([42, 35, 32, 31, 28, 23, 23, 21, 20, 20, 17, 16, 15, 15, 14, 14, 13,\n",
       "       12, 11, 11, 11, 11, 11,  9,  9])"
      ]
     },
     "execution_count": 339,
     "metadata": {},
     "output_type": "execute_result"
    }
   ],
   "source": [
    "np.sort(X_train_df_cvec.loc[1,:][X_train_df_cvec.loc[1, :] != 0])[::-1][:25]"
   ]
  },
  {
   "cell_type": "code",
   "execution_count": 326,
   "id": "9a2abd6a",
   "metadata": {},
   "outputs": [
    {
     "data": {
      "text/plain": [
       "'xxxviii turn notion ives funnel law want spy teenager read three saga penetrate become american folk hero build dossiers unsuspecting colleagues time produce film portray informer quintessential american patriot lead three live informant member private citizen mayor even proclaim present spy plaque shy young man come term homosexuality straight arrow life double agent perfect way hide lifestyle fight menace fascinate recently tell federal investigators think would try infiltrate go american delegation give full report return photos take soviet military vehicles hook next two years work unpaid informant find true call become pay spy activities center biggest domestic spy scandal recent american history scandal may end criminal indictment year period compile computer file individuals group political strip include group solidarity group anti apartheid organizations even spy recently slay south african nationalist visit  sell many file anti apartheid activists intelligence pay nearly   use prominent attorney conduit order conceal financial relationship last month police raid offices home confiscate computer file box document accord court record file contain drivers license vehicle registration information addition criminal histories individuals much allegedly steal police computers tell copy virtually everything computer data base give office base evidence say police affidavit believe numerous peace officer supply confidential criminal information whats investigate tap phone access answer machine assume false identities infiltrate organizations document seize home also contain evidence foray trash name phone number employees telephone message slip staff members include name phone number callers  office correspondence list name return address senders inter office memos also receipt bank account itemize cancel check name payees date amount even know balance check account investigations police reveal share least spy gather material israeli government officials whats apparently use tip detain palestinian travel establish defend later minority group discrimination lead fight racist fascist group american champion civil right movement also darker side late spy leftists share investigative file swing sharply right administration become bastion neoconservatism repentant head powerful real danger pose right coalition leftists black view threaten fabric democracy state tradition ideological soulmate direct vast network informants give code name spy reportedly pose priest years journalists liberal members community know spy right wing hate group long target anti semitic organizations one seem particularly trouble case reveal also spy group nonviolent progressive orientation apparent massive violation civil liberties may end criminal indictment investigation begin human right group face possible criminal prosecution many felony count include indictment gain illegal access police computers say one source close investigation cent certain indict wake investigation police probe spy spread part country receive numerous complaints spy  say spokesperson mayors office base african self help group allegedly spy write request immediate investigation action cause great concern direct flagrant violation minimum civil rights    we call join to   bring end latest form spokesperson office say evidence warrant sort investigation add offer assist office pending investigation far ask assistance acknowledge share information violence prone group law enforcement officials also admit maintain extensive file wide variety organizations say two page press release vast majority file compose news clip magazine article book journals document make clear countenance violations law part anyone connect agency process gather information presently review insure laws violate thats say public consumption morale low employees complain sleepless nights cry fit even jewish group circle wagons show solidarity many hold nose jewish officials privately say decide human right group secret police agency regard community community definitive source information anti extremist group say former executive director base group monitor anti racism hate group one things scandal completely taint credibility reputation regard objectivity scandal go devastate blow community large people regard synonymous american bullocks talents snoop extreme conservatism mesh worldview move become spy week almost always use real name snoop call correspond supporters governor provide office write report transmit head accord court record stewardship become heart soul locate national headquarter department assemble vast library hate group cull material publications speeches informants report adept lead double life long move ingratiate woman help gain access group office find file right wingers keep discovery give rise speculation office somehow penetrate focus almost exclusively right wing extremist group early head replace encourage target leave years later move pose art dealer fact finder infiltrate local community expose ensue scandal die order penetrate especially concern american found former senator combat bash page dirty trick handbook penetration destabilization join recruit group apparently try discredit accord publish report send attend annual congress accord court document tell find source group fund unable follow money good job ingratiate appoint head delegation visit member surprise penetrate organizations acute paranoia explain interest group far concern gay group heavily infiltrate call gay leave revolutionaries prompt write activities soon expand horizons move shadowy realm foreign espionage head office introduce detective work demolitions expert early apparently pass interest right wing death squads search briefcase find extensive literature torture interrogation photos blindfold chain men passports make different name include remote jungle island redoubt flee last tell blow lid involvement latin american death squads indict spy case first encounter office lunch like right later tell police investigator report interrogation obtain charm roguish character great deal integrity let say consider one finest policemen ever work absolutely capable intelligent percent long provide confidential report various group individuals turn give classify police intelligence file local skinheads others tell material end report would say percent data get name address sometimes physical description criminal history rarely tell investigators also give chart outline vast network businessmen organizations allegedly tie terror group surveillance photos receive weapons train overseas claim give photos understand would careful information give would release law enforcement officer say report nothing unusual cozy relationship law enforcement mid swap file hundreds official friends organizations euphemism law enforcement intelligence source relationship counterterrorism office close report arab american group covert tie terrorists must read accident police find classify report entitle search office spook investigate seven study universities student visa discover disseminate literature inform turn take case order students deport subversives regional director gloat offices cooperation law enforcement backpedal deportation still appeal work quietly top cop enjoy similar tie spy agencies charge leaders vehemently deny early   director write executive secretary request  investigators information boast addition essential operations great value service data make available countries full knowledge source come scrutiny wake spy scandal assign access closely guard secrets steal thousands page classify document accord federal prosecutors could fill room size large closet   ten feet six feet six feet pollard handler air force colonel wife work lawyer later write friends prominent leader deeply involve spy operation proof anyone connect involve evidence freely pass information intelligence interrogate fact finder fire illegally obtain police information use rival pointedly ask ever transmit information admit learn law enforcement contact allegedly member radical faction schedule travel en route phone deputy consul general information later day accord page interview obtain  call back another man say ask repeat information get man name conversation felt confident man actually israeli official name private citizens police find file mohammed year old resident arrest  allegedly distribute hundreds thousands dollars hamas large fundamentalist movement office run least three undercover informants work official friends local law enforcement accord document release source close give facts arab american group surmise pass information intelligence one technique use monitor large arab community scan local press funeral notice accord source familiar practice investigators unmarked vans videotape funerals sometimes turn rally palestinians detain simply basis film attend funeral accord executive director cousin arab member shortly israeli government announce run money operational instructions relay courier fax israels charge play front page accord place source fact finder work closely officials campaign vilification introduce friendly reporters official friends law enforcement fluent prepare report fund identify base association front organization infrastructure function interlock network organizations small businesses individual activists say report outline organizations development activities college campuses metamorphosis also trace fundraise plethora allege front group doubtful could compile sophisticate data help official friends spy refuse comment use talk many three time week opposition researcher spy operation disclose last summer level cooperation close say recent phone conservation graduate school felt file lack contact year old human right worker win   recall fax man entire police file obtain embassy arrest numerous time confess member severely torture jabarin receive short jail term become course terrorist order keep tabs receive award call representative human right group employ obtain itinerary even open file musician present award may able rationalize close monitor even leave wing gay revolutionaries far harder time explain obsession spy anti apartheid activists tell start work fact finder  file already bulge information african connection anti apartheid group confirm routinely collect information persons engage anti apartheid activities say report say file office date estimate oldest material anti apartheid activities date back late parallel rise power deepen tie jewish state say report   interview anti apartheid demonstration hold south african participate demonstration socialist workers party go two demonstration plan sessions subsequent demonstration write report plan sessions demonstration copy report disseminate others care office learn consul general south african would speak meet organize head anti suspect know say report suggest might want warn agree inform cancel appearance months later phone tell south african intelligence officer want meet rendezvous hotel say interest acquire information american anti apartheid activists call also ask information group advocate divestments present meet say report tell humphries employ cia    humphries offer pay month exchange information note much information say want already possession sell information intelligence receive steady raise split evenly say impression never explicitly tell never ask may tell contact say report say know resident agent drop residence follow meet replace handler  say go go office may task recall meet go conduct investigation behalf say report target investigation group call learn woman name delete transport money tell gerard later tell guy would like know ask would go back gather information however never go back also seem close relationship may start go junket israel frequently sponsor trip american law enforcement officials israel win din meet counterparts various intelligence agencies accord affidavit police inspector expense pay trip less thank gift liaison gesture continue close relationships specific law enforcement officer may like saw short time travel go help rescue ethiopian relationship deepen talk openly exploit recall mention business discuss safehouses say report respond intelligence determine cooperate also speak travel also tell adventure intelligence officer trade war stories regale tales narrow scrap still much mystery trigger law enforcements investigation probably theft classify report nation office arm search warrant recover report office say send copy director fact find division prepare op ed piece  argue receive federal fund reconstruction group anti violence prone arrange police junket attend testify criminal trial work months later subcontractor join trial admit share information official invitation conference question last fall flee extradition treaty believe supply information police computers report may charge violate federal espionage laws work years praise memo number one investigator argue rogue agent defense also assert fact finders operate differently journalists ask officials journalists keep file difference practice journalism method gather information strike journalists place information public domain hold accountable falsehoods distortions libel part journalists share investigative file foreign domestic police agencies inhibition many file open public scrutiny false information collect ideologically bias researchers cannot correct proud human right group become jewish think police say human right group jews everyone say highly respect researcher base monitor right wing extremist group thats fine cant spy blatantly unethical frankly immoral argument people wear four hat hat independently appropriate broad base human right group look broad issue prejudice discrimination group defend defamation entirely noble nothing wrong hat group leaders least consistently defend action critics entirely appropriate group maintain information share arrangement law enforcement nothing wrong group cant four impossible four violate bound ethics theres build conflict interest wear four hat national director apparently see conflict letter  complain proud year record fight bigotry promote civil right constitutional freedoms imputation effort motive part smear stifle free speech anyone false baseless piece spy  describe dissemination information slander existence file token inclination depiction mislead several ways virtually every journalist academic politician organization keep file subject deem relevant trace logic reckless charge tantamount disseminate public record public figure neither defamation many believe increasingly defamation business leaders past target smear time exonerate fascist assist covert war policy endorse leaders early researchers ask meet fact find head discuss work anti view really terrific investigator say introduce say lean back chair basically run dossier political activities work organizations belong try blow away succeed admirably sit mouth open feel uncomfortable lean forward say right wing problem leave wing problem biggest problem world american leave biggest threat wrong track part problem stun virtually tear perceive basically stumble daze letter response article xxxviii assault spy demonstrate axe grind prejudice bias agenda promote also demonstrate concern accurate report far list story replete inaccuracies innuendos outright falsehoods convey picture divorce reality farcical even wrong basic easily determine facts found build office locate build picture work fight haters years spy organizations individuals profound respect law mission monitor expose anti racist anti democratic violence prone monitor primarily read publications attend public meet years publish score report anti emanate leave right fact bias lead assume contrary primary concern still far right extremist organizations highly secretive sometimes learn activities use undercover source friedmans hyperbole source function manner directly analogous investigative journalists perform great service american people example uncover existence right wing extremist paramilitary train camp recognition considerable personal risk information obtain place public domain years establish reputation accurate report friedmans article contrast contain much misinformation would take article equally long set record straight examples state leader deeply involve spy operation handlers wife work lawyer true also state investigators unmarked vans videotape palestinian funerals true elsewhere assert obsess spy anti apartheid activists true could go course reveal source distortion game play mention number reveal lack objectivity come much pay week independent contractor employee important distinction also fail make include zero  invite reader see large number contrast observe pay nearly   choose point amount little  year hardly excessive sum accurate story description four hat look broad issue prejudice discrimination defend critics maintain information share relationship law enforcement regard extremist activities hate crimes see conflict four activities believe readers either compare investigative journalists absurd journalists spy anti apartheid activists freely pass file south african israeli intelligence accord police confessions two pay investigators buttress page court document interview spy group neither anti violent confiscate file hundreds mainstream group range respect intellectuals scholars disagree political view end blacklist reputations smear private organizations business pay operatives police departments spy say editorial  condemn spy police arm search warrant raid offices conclude employees apparently less truthful voluntarily turn document earlier search accord police inspector swear affidavit also assert pay employee fail pay tax  income pay bullock could face total felony count accord court paper may also face felony charge illegally obtain confidential information police computers errors found move original tenant build show photo move months never write leader deeply involve spy operation report make charge court paper lawyer say wife handler work bias side'"
      ]
     },
     "execution_count": 326,
     "metadata": {},
     "output_type": "execute_result"
    }
   ],
   "source": [
    "X_train.iloc[1]"
   ]
  },
  {
   "cell_type": "code",
   "execution_count": 303,
   "id": "fb286b6f",
   "metadata": {},
   "outputs": [
    {
     "name": "stdout",
     "output_type": "stream",
     "text": [
      "{'aaron': 0, 'abandon': 1, 'abdominal': 2, 'abide': 3, 'ability': 4, 'able': 5, 'abolish': 6, 'abortion': 7, 'abortions': 8, 'abound': 9, 'abridge': 10, 'abroad': 11, 'absence': 12, 'absolute': 13, 'absolutely': 14, 'absorb': 15, 'abstract': 16, 'absurd': 17, 'absurdities': 18, 'abundance': 19, 'abuse': 20, 'abusive': 21, 'ac': 22, 'academia': 23, 'academic': 24, 'academics': 25, 'accelerate': 26, 'accept': 27, 'acceptable': 28, 'acceptance': 29, 'access': 30, 'accessible': 31, 'accident': 32, 'accidental': 33, 'accidentally': 34, 'accidently': 35, 'accidents': 36, 'accommodate': 37, 'accompany': 38, 'accomplish': 39, 'accord': 40, 'accordance': 41, 'accordingly': 42, 'account': 43, 'accountability': 44, 'accountable': 45, 'accumulate': 46, 'accuracy': 47, 'accurate': 48, 'accurately': 49, 'accusation': 50, 'accusations': 51, 'accuse': 52, 'achieve': 53, 'achievement': 54, 'acid': 55, 'acids': 56, 'acknowledge': 57, 'acquaintance': 58, 'acquire': 59, 'acquisition': 60, 'act': 61, 'action': 62, 'activate': 63, 'active': 64, 'actively': 65, 'activists': 66, 'activities': 67, 'activity': 68, 'actor': 69, 'actual': 70, 'actually': 71, 'acute': 72, 'ad': 73, 'adam': 74, 'add': 75, 'addict': 76, 'addition': 77, 'additional': 78, 'additive': 79, 'additives': 80, 'address': 81, 'adequate': 82, 'adequately': 83, 'adhere': 84, 'adjacent': 85, 'adjective': 86, 'adjust': 87, 'admin': 88, 'administer': 89, 'administration': 90, 'administrations': 91, 'administrative': 92, 'administrator': 93, 'admission': 94, 'admit': 95, 'admittedly': 96, 'adopt': 97, 'adoption': 98, 'adult': 99, 'adultary': 100, 'adults': 101, 'advance': 102, 'advantage': 103, 'adventure': 104, 'adverse': 105, 'advertise': 106, 'advice': 107, 'advise': 108, 'advocacy': 109, 'advocate': 110, 'affair': 111, 'affairs': 112, 'affect': 113, 'affiliate': 114, 'afford': 115, 'aforementioned': 116, 'afraid': 117, 'african': 118, 'afternoon': 119, 'afterwards': 120, 'age': 121, 'agencies': 122, 'agency': 123, 'agenda': 124, 'agendas': 125, 'agent': 126, 'agents': 127, 'aggravate': 128, 'aggression': 129, 'aggressive': 130, 'aggressively': 131, 'aggressor': 132, 'ago': 133, 'agree': 134, 'agreement': 135, 'agreements': 136, 'agression': 137, 'agricultural': 138, 'agriculture': 139, 'ahead': 140, 'aid': 141, 'aim': 142, 'aint': 143, 'air': 144, 'aircraft': 145, 'airplane': 146, 'aka': 147, 'al': 148, 'alarm': 149, 'alas': 150, 'alcohol': 151, 'ale': 152, 'algorithm': 153, 'algorithms': 154, 'algorythm': 155, 'alias': 156, 'alien': 157, 'alike': 158, 'alive': 159, 'allegations': 160, 'allege': 161, 'allegedly': 162, 'allergic': 163, 'allergies': 164, 'allergy': 165, 'alleviate': 166, 'alliance': 167, 'allocation': 168, 'allow': 169, 'ally': 170, 'almost': 171, 'alone': 172, 'along': 173, 'alot': 174, 'already': 175, 'also': 176, 'alt': 177, 'alter': 178, 'alternate': 179, 'alternative': 180, 'alternatives': 181, 'altogether': 182, 'always': 183, 'amateur': 184, 'amaze': 185, 'ambition': 186, 'ambulance': 187, 'ambush': 188, 'amend': 189, 'amendment': 190, 'amendments': 191, 'american': 192, 'americans': 193, 'amino': 194, 'ammendment': 195, 'ammunition': 196, 'amongst': 197, 'amount': 198, 'amp': 199, 'ample': 200, 'amplifier': 201, 'amplify': 202, 'amps': 203, 'amuse': 204, 'analog': 205, 'analogous': 206, 'analogy': 207, 'analyse': 208, 'analysis': 209, 'analyze': 210, 'anarchy': 211, 'ancestors': 212, 'ancient': 213, 'and': 214, 'andy': 215, 'anecdotal': 216, 'anger': 217, 'angle': 218, 'angry': 219, 'animal': 220, 'animals': 221, 'annex': 222, 'annihilate': 223, 'annihilation': 224, 'anniversary': 225, 'announce': 226, 'announcement': 227, 'announcements': 228, 'annoy': 229, 'annual': 230, 'annually': 231, 'anonymous': 232, 'another': 233, 'ans': 234, 'answer': 235, 'answers': 236, 'antenna': 237, 'anti': 238, 'antibiotic': 239, 'antibiotics': 240, 'anticipate': 241, 'anxiety': 242, 'anybody': 243, 'anymore': 244, 'anyone': 245, 'anyones': 246, 'anything': 247, 'anytime': 248, 'anyway': 249, 'anywhere': 250, 'ao': 251, 'apart': 252, 'apartment': 253, 'apartments': 254, 'apologies': 255, 'apologists': 256, 'apologize': 257, 'appal': 258, 'apparent': 259, 'apparently': 260, 'appartus': 261, 'appeal': 262, 'appear': 263, 'appearance': 264, 'append': 265, 'applaud': 266, 'applause': 267, 'apple': 268, 'apples': 269, 'applicable': 270, 'application': 271, 'applications': 272, 'apply': 273, 'appoint': 274, 'appointment': 275, 'appreciate': 276, 'appressian': 277, 'approach': 278, 'appropriate': 279, 'appropriately': 280, 'approval': 281, 'approve': 282, 'approx': 283, 'approximately': 284, 'arab': 285, 'arabs': 286, 'arbitrary': 287, 'architect': 288, 'archive': 289, 'area': 290, 'areas': 291, 'arguably': 292, 'argue': 293, 'argument': 294, 'arguments': 295, 'arise': 296, 'arithmetic': 297, 'arm': 298, 'armenia': 299, 'armenian': 300, 'armenians': 301, 'armies': 302, 'armor': 303, 'armour': 304, 'army': 305, 'around': 306, 'arrange': 307, 'arrangement': 308, 'arrangements': 309, 'array': 310, 'arrest': 311, 'arrival': 312, 'arrive': 313, 'arrogance': 314, 'arrogant': 315, 'arsenal': 316, 'art': 317, 'article': 318, 'articulate': 319, 'artificial': 320, 'artillery': 321, 'ash': 322, 'ashamed': 323, 'aside': 324, 'ask': 325, 'asleep': 326, 'aspect': 327, 'aspects': 328, 'aspirations': 329, 'ass': 330, 'assassination': 331, 'assault': 332, 'assemble': 333, 'assembly': 334, 'assert': 335, 'assertion': 336, 'assertions': 337, 'assess': 338, 'assessment': 339, 'assets': 340, 'assign': 341, 'assist': 342, 'assistance': 343, 'associate': 344, 'association': 345, 'associations': 346, 'assualt': 347, 'assume': 348, 'assumption': 349, 'assumptions': 350, 'assurance': 351, 'assurances': 352, 'assure': 353, 'asthma': 354, 'atheist': 355, 'athletes': 356, 'atmosphere': 357, 'atomic': 358, 'atrocities': 359, 'attach': 360, 'attack': 361, 'attacker': 362, 'attackers': 363, 'attain': 364, 'attempt': 365, 'attend': 366, 'attention': 367, 'attitude': 368, 'attitudes': 369, 'attorney': 370, 'attorneys': 371, 'attract': 372, 'attractive': 373, 'attributable': 374, 'attribute': 375, 'audience': 376, 'audio': 377, 'audit': 378, 'augment': 379, 'aura': 380, 'australian': 381, 'authentic': 382, 'authenticate': 383, 'authentication': 384, 'authenticity': 385, 'author': 386, 'authoritative': 387, 'authorities': 388, 'authority': 389, 'authorization': 390, 'authorize': 391, 'auto': 392, 'automate': 393, 'automatic': 394, 'automatically': 395, 'automobile': 396, 'autonomy': 397, 'autopsy': 398, 'autumn': 399, 'avail': 400, 'availability': 401, 'available': 402, 'avaliable': 403, 'average': 404, 'avoid': 405, 'await': 406, 'award': 407, 'aware': 408, 'awareness': 409, 'away': 410, 'awful': 411, 'awhile': 412, 'ax': 413, 'axe': 414, 'baby': 415, 'back': 416, 'backdoor': 417, 'background': 418, 'backup': 419, 'backups': 420, 'bacteria': 421, 'bacterial': 422, 'bad': 423, 'badly': 424, 'bag': 425, 'bail': 426, 'bait': 427, 'balance': 428, 'balcony': 429, 'ball': 430, 'balloon': 431, 'ballot': 432, 'ban': 433, 'band': 434, 'bandits': 435, 'bandwidth': 436, 'bang': 437, 'bank': 438, 'bankrupt': 439, 'baptists': 440, 'bar': 441, 'barbecue': 442, 'bare': 443, 'barely': 444, 'bargain': 445, 'bark': 446, 'barrel': 447, 'barrier': 448, 'barriers': 449, 'base': 450, 'baseball': 451, 'basement': 452, 'bash': 453, 'bashers': 454, 'basic': 455, 'basically': 456, 'basis': 457, 'bastard': 458, 'bastards': 459, 'bat': 460, 'batch': 461, 'bath': 462, 'bathroom': 463, 'battalions': 464, 'batteries': 465, 'battery': 466, 'battle': 467, 'bayonet': 468, 'beam': 469, 'bean': 470, 'bear': 471, 'beasts': 472, 'beat': 473, 'beautiful': 474, 'become': 475, 'becuase': 476, 'bed': 477, 'bedroom': 478, 'beer': 479, 'beg': 480, 'begin': 481, 'behalf': 482, 'behave': 483, 'behavior': 484, 'behaviors': 485, 'behaviour': 486, 'behind': 487, 'bei': 488, 'beleive': 489, 'belief': 490, 'beliefs': 491, 'believe': 492, 'believer': 493, 'belly': 494, 'belong': 495, 'beloved': 496, 'bench': 497, 'bend': 498, 'beneficial': 499, 'benefit': 500, 'benevolent': 501, 'benign': 502, 'berkeley': 503, 'besides': 504, 'best': 505, 'bet': 506, 'beta': 507, 'betray': 508, 'better': 509, 'bi': 510, 'bias': 511, 'bible': 512, 'big': 513, 'bigger': 514, 'biggest': 515, 'bigotry': 516, 'bigots': 517, 'bill': 518, 'billion': 519, 'billions': 520, 'binary': 521, 'bind': 522, 'biological': 523, 'biology': 524, 'bird': 525, 'birth': 526, 'bis': 527, 'bisexual': 528, 'bitch': 529, 'bite': 530, 'bits': 531, 'bizarre': 532, 'black': 533, 'blame': 534, 'blank': 535, 'blanket': 536, 'blast': 537, 'blatantly': 538, 'blaze': 539, 'bleed': 540, 'bless': 541, 'blind': 542, 'blindly': 543, 'blindness': 544, 'block': 545, 'blood': 546, 'bloodshed': 547, 'bloody': 548, 'bloom': 549, 'blow': 550, 'blue': 551, 'board': 552, 'boast': 553, 'boat': 554, 'bodily': 555, 'body': 556, 'bogus': 557, 'boil': 558, 'bomb': 559, 'bombard': 560, 'bombers': 561, 'bond': 562, 'bone': 563, 'book': 564, 'boom': 565, 'boost': 566, 'boot': 567, 'border': 568, 'borderland': 569, 'bore': 570, 'borrow': 571, 'bosnian': 572, 'boss': 573, 'botch': 574, 'bother': 575, 'bottle': 576, 'bottom': 577, 'bounce': 578, 'boundaries': 579, 'bow': 580, 'bowl': 581, 'box': 582, 'boy': 583, 'boycott': 584, 'boys': 585, 'bps': 586, 'brag': 587, 'brain': 588, 'brainwash': 589, 'branch': 590, 'brand': 591, 'brass': 592, 'brave': 593, 'breach': 594, 'bread': 595, 'break': 596, 'breakdown': 597, 'breaker': 598, 'breakfast': 599, 'breakthrough': 600, 'breast': 601, 'breath': 602, 'breathe': 603, 'breed': 604, 'bridge': 605, 'brief': 606, 'briefly': 607, 'brigade': 608, 'bright': 609, 'brilliant': 610, 'bring': 611, 'british': 612, 'broad': 613, 'broadcast': 614, 'brother': 615, 'brothers': 616, 'brown': 617, 'bruise': 618, 'brush': 619, 'brutal': 620, 'brute': 621, 'btw': 622, 'buck': 623, 'buddy': 624, 'budget': 625, 'buffer': 626, 'bug': 627, 'build': 628, 'buildup': 629, 'bulb': 630, 'bulk': 631, 'bull': 632, 'bullet': 633, 'bullets': 634, 'bullshit': 635, 'bunch': 636, 'bunker': 637, 'burden': 638, 'bureaucracy': 639, 'bureaucratic': 640, 'bureaucrats': 641, 'burn': 642, 'burst': 643, 'bury': 644, 'bus': 645, 'business': 646, 'businesses': 647, 'businessmen': 648, 'bust': 649, 'busy': 650, 'but': 651, 'butcher': 652, 'butt': 653, 'button': 654, 'buy': 655, 'buyer': 656, 'by': 657, 'bypass': 658, 'byte': 659, 'bytes': 660, 'ca': 661, 'cabinet': 662, 'cable': 663, 'caffeine': 664, 'cage': 665, 'cake': 666, 'calculate': 667, 'calculation': 668, 'calculations': 669, 'calculator': 670, 'caliber': 671, 'call': 672, 'calm': 673, 'calories': 674, 'camel': 675, 'camels': 676, 'camera': 677, 'cameras': 678, 'camp': 679, 'campaign': 680, 'campus': 681, 'canadian': 682, 'cancel': 683, 'cancer': 684, 'candida': 685, 'candidate': 686, 'candidates': 687, 'candidiasis': 688, 'candle': 689, 'cannon': 690, 'cannot': 691, 'cant': 692, 'cap': 693, 'capabilities': 694, 'capability': 695, 'capable': 696, 'capacitor': 697, 'capacitors': 698, 'capacity': 699, 'capita': 700, 'capital': 701, 'capitalist': 702, 'captain': 703, 'capture': 704, 'car': 705, 'carbon': 706, 'card': 707, 'care': 708, 'career': 709, 'careful': 710, 'carefully': 711, 'carnage': 712, 'carrier': 713, 'carriers': 714, 'carry': 715, 'cars': 716, 'cart': 717, 'cartridge': 718, 'carve': 719, 'case': 720, 'cash': 721, 'cast': 722, 'casual': 723, 'casualties': 724, 'cat': 725, 'catalog': 726, 'catch': 727, 'categories': 728, 'category': 729, 'caucasian': 730, 'cause': 731, 'caution': 732, 'cd': 733, 'cease': 734, 'ceiling': 735, 'celebrate': 736, 'cell': 737, 'cells': 738, 'cellular': 739, 'censor': 740, 'censorship': 741, 'center': 742, 'central': 743, 'centre': 744, 'cents': 745, 'centuries': 746, 'century': 747, 'certain': 748, 'certainly': 749, 'certainty': 750, 'certify': 751, 'chain': 752, 'chair': 753, 'challenge': 754, 'chamber': 755, 'chance': 756, 'change': 757, 'channel': 758, 'chant': 759, 'chapter': 760, 'character': 761, 'characteristic': 762, 'characteristics': 763, 'characterization': 764, 'characterize': 765, 'charge': 766, 'charity': 767, 'charm': 768, 'chart': 769, 'charter': 770, 'chase': 771, 'chastity': 772, 'cheap': 773, 'cheaper': 774, 'cheat': 775, 'check': 776, 'cheer': 777, 'cheese': 778, 'chemical': 779, 'chemicals': 780, 'chemistry': 781, 'chess': 782, 'chest': 783, 'chicken': 784, 'chief': 785, 'child': 786, 'childhood': 787, 'children': 788, 'childrens': 789, 'childs': 790, 'chill': 791, 'chinese': 792, 'chip': 793, 'choice': 794, 'choices': 795, 'choose': 796, 'christian': 797, 'chronic': 798, 'chunk': 799, 'church': 800, 'cigarette': 801, 'cigarettes': 802, 'cipher': 803, 'ciphertext': 804, 'circle': 805, 'circuit': 806, 'circuitry': 807, 'circulate': 808, 'circumstance': 809, 'circumstances': 810, 'citations': 811, 'cite': 812, 'cities': 813, 'citizen': 814, 'citizens': 815, 'citizenship': 816, 'city': 817, 'civil': 818, 'civilian': 819, 'civilians': 820, 'civilization': 821, 'civilize': 822, 'claim': 823, 'clarify': 824, 'clash': 825, 'class': 826, 'classic': 827, 'classical': 828, 'classify': 829, 'clause': 830, 'clean': 831, 'cleanse': 832, 'clear': 833, 'clearance': 834, 'clearly': 835, 'cleartext': 836, 'clever': 837, 'click': 838, 'client': 839, 'clients': 840, 'climb': 841, 'clinic': 842, 'clinical': 843, 'clinton': 844, 'clip': 845, 'clipper': 846, 'cloak': 847, 'clock': 848, 'clone': 849, 'close': 850, 'closely': 851, 'closer': 852, 'closest': 853, 'closet': 854, 'cloth': 855, 'clothe': 856, 'cloud': 857, 'clown': 858, 'club': 859, 'clue': 860, 'co': 861, 'coal': 862, 'coalition': 863, 'coast': 864, 'coat': 865, 'cocaine': 866, 'cod': 867, 'code': 868, 'coerce': 869, 'coercion': 870, 'coffee': 871, 'coffin': 872, 'coil': 873, 'coin': 874, 'coincidence': 875, 'cold': 876, 'collaborate': 877, 'collaboration': 878, 'collaborators': 879, 'collapse': 880, 'colleague': 881, 'colleagues': 882, 'collect': 883, 'collection': 884, 'collective': 885, 'collectively': 886, 'college': 887, 'colleges': 888, 'colon': 889, 'colonel': 890, 'colonization': 891, 'color': 892, 'colour': 893, 'column': 894, 'com': 895, 'combat': 896, 'combination': 897, 'combinations': 898, 'combine': 899, 'come': 900, 'comfort': 901, 'comfortable': 902, 'comic': 903, 'command': 904, 'commanders': 905, 'commence': 906, 'comment': 907, 'commentary': 908, 'commerce': 909, 'commercial': 910, 'commercially': 911, 'commission': 912, 'commit': 913, 'commitment': 914, 'commitments': 915, 'committee': 916, 'committees': 917, 'common': 918, 'commonly': 919, 'communicate': 920, 'communication': 921, 'communications': 922, 'communism': 923, 'communist': 924, 'communities': 925, 'community': 926, 'comp': 927, 'compact': 928, 'company': 929, 'comparable': 930, 'compare': 931, 'comparison': 932, 'compassion': 933, 'compatible': 934, 'compel': 935, 'compensate': 936, 'compensation': 937, 'compete': 938, 'competent': 939, 'competition': 940, 'competitive': 941, 'competitiveness': 942, 'competitors': 943, 'compile': 944, 'compiler': 945, 'complain': 946, 'complaint': 947, 'complaints': 948, 'complete': 949, 'completely': 950, 'complex': 951, 'compliance': 952, 'complicate': 953, 'comply': 954, 'component': 955, 'components': 956, 'compose': 957, 'compound': 958, 'comprehend': 959, 'comprehensive': 960, 'compress': 961, 'compression': 962, 'comprise': 963, 'compromise': 964, 'compute': 965, 'computer': 966, 'computers': 967, 'con': 968, 'conceal': 969, 'concede': 970, 'conceivable': 971, 'concentrate': 972, 'concentration': 973, 'concept': 974, 'concepts': 975, 'concern': 976, 'concert': 977, 'concessions': 978, 'concise': 979, 'conclude': 980, 'conclusion': 981, 'conclusions': 982, 'conclusive': 983, 'concrete': 984, 'concussion': 985, 'condemening': 986, 'condemn': 987, 'condemnation': 988, 'condition': 989, 'condone': 990, 'conduct': 991, 'conference': 992, 'conferences': 993, 'confess': 994, 'confidence': 995, 'confident': 996, 'confidential': 997, 'configure': 998, 'confine': 999, 'confirm': 1000, 'confiscate': 1001, 'conflict': 1002, 'conform': 1003, 'confront': 1004, 'confrontation': 1005, 'confuse': 1006, 'confusion': 1007, 'congress': 1008, 'congressional': 1009, 'congressman': 1010, 'conjecture': 1011, 'connect': 1012, 'connection': 1013, 'connections': 1014, 'connectors': 1015, 'conquer': 1016, 'conquest': 1017, 'conscience': 1018, 'conscious': 1019, 'consensus': 1020, 'consent': 1021, 'consequence': 1022, 'consequences': 1023, 'consequently': 1024, 'conservative': 1025, 'conservatives': 1026, 'consider': 1027, 'considerable': 1028, 'considerably': 1029, 'consideration': 1030, 'considerations': 1031, 'consist': 1032, 'consistency': 1033, 'consistent': 1034, 'consistently': 1035, 'conspiracy': 1036, 'constant': 1037, 'constantly': 1038, 'constitute': 1039, 'constitution': 1040, 'constitutional': 1041, 'constitutionally': 1042, 'constitutions': 1043, 'construct': 1044, 'construction': 1045, 'constructive': 1046, 'construe': 1047, 'consult': 1048, 'consultations': 1049, 'consume': 1050, 'consumer': 1051, 'consumers': 1052, 'consumption': 1053, 'contact': 1054, 'contain': 1055, 'contemplate': 1056, 'contemporary': 1057, 'contempt': 1058, 'contend': 1059, 'content': 1060, 'contention': 1061, 'contest': 1062, 'context': 1063, 'continual': 1064, 'continually': 1065, 'continue': 1066, 'continuous': 1067, 'continuously': 1068, 'contract': 1069, 'contractor': 1070, 'contradict': 1071, 'contradiction': 1072, 'contradictory': 1073, 'contrary': 1074, 'contrast': 1075, 'contribute': 1076, 'contribution': 1077, 'contributions': 1078, 'control': 1079, 'controller': 1080, 'controversial': 1081, 'convenience': 1082, 'convenient': 1083, 'conveniently': 1084, 'convention': 1085, 'conventional': 1086, 'conventions': 1087, 'conversation': 1088, 'conversations': 1089, 'conversion': 1090, 'convert': 1091, 'convict': 1092, 'conviction': 1093, 'convictions': 1094, 'convince': 1095, 'cook': 1096, 'cool': 1097, 'cooperate': 1098, 'cooperation': 1099, 'coordinate': 1100, 'cop': 1101, 'cope': 1102, 'copper': 1103, 'copy': 1104, 'copyright': 1105, 'cordless': 1106, 'core': 1107, 'corn': 1108, 'corner': 1109, 'corona': 1110, 'corporate': 1111, 'corporation': 1112, 'corporations': 1113, 'corpse': 1114, 'corpses': 1115, 'correct': 1116, 'correction': 1117, 'corrections': 1118, 'correctly': 1119, 'correctness': 1120, 'correlate': 1121, 'correlation': 1122, 'correspond': 1123, 'correspondent': 1124, 'corrupt': 1125, 'corruption': 1126, 'cost': 1127, 'costly': 1128, 'cotton': 1129, 'could': 1130, 'council': 1131, 'counsel': 1132, 'count': 1133, 'counter': 1134, 'counterparts': 1135, 'countless': 1136, 'countries': 1137, 'country': 1138, 'countrys': 1139, 'county': 1140, 'coup': 1141, 'couple': 1142, 'courage': 1143, 'course': 1144, 'court': 1145, 'courtyard': 1146, 'cover': 1147, 'coverage': 1148, 'cow': 1149, 'cowards': 1150, 'cpr': 1151, 'crack': 1152, 'cradle': 1153, 'crap': 1154, 'crash': 1155, 'crawl': 1156, 'crazy': 1157, 'cream': 1158, 'create': 1159, 'creation': 1160, 'creative': 1161, 'credibility': 1162, 'credible': 1163, 'credit': 1164, 'crew': 1165, 'crime': 1166, 'crimes': 1167, 'criminal': 1168, 'criminals': 1169, 'cripple': 1170, 'crisis': 1171, 'criteria': 1172, 'critical': 1173, 'criticism': 1174, 'criticize': 1175, 'critics': 1176, 'critisism': 1177, 'crook': 1178, 'crop': 1179, 'cross': 1180, 'crowd': 1181, 'crucial': 1182, 'crude': 1183, 'cruel': 1184, 'cruelty': 1185, 'crush': 1186, 'crux': 1187, 'cry': 1188, 'crypt': 1189, 'cryptanalysis': 1190, 'crypto': 1191, 'cryptographic': 1192, 'cryptographically': 1193, 'cryptography': 1194, 'cryptology': 1195, 'cryptosystem': 1196, 'cryptosystems': 1197, 'crystal': 1198, 'cs': 1199, 'csrc': 1200, 'cult': 1201, 'cultists': 1202, 'cults': 1203, 'cultural': 1204, 'culture': 1205, 'cup': 1206, 'cure': 1207, 'curious': 1208, 'current': 1209, 'currently': 1210, 'currents': 1211, 'curse': 1212, 'curtail': 1213, 'curve': 1214, 'custody': 1215, 'custom': 1216, 'customer': 1217, 'customers': 1218, 'cut': 1219, 'cute': 1220, 'cyberspace': 1221, 'cycle': 1222, 'cynical': 1223, 'cypher': 1224, 'dad': 1225, 'daily': 1226, 'damage': 1227, 'damn': 1228, 'dance': 1229, 'danger': 1230, 'dangerous': 1231, 'dangers': 1232, 'dare': 1233, 'dark': 1234, 'data': 1235, 'database': 1236, 'databases': 1237, 'date': 1238, 'daughter': 1239, 'daughters': 1240, 'dave': 1241, 'davidian': 1242, 'dawn': 1243, 'day': 1244, 'days': 1245, 'db': 1246, 'dc': 1247, 'de': 1248, 'dead': 1249, 'deadline': 1250, 'deadly': 1251, 'deal': 1252, 'dealer': 1253, 'dealers': 1254, 'dear': 1255, 'death': 1256, 'deaths': 1257, 'debacle': 1258, 'debate': 1259, 'debris': 1260, 'debt': 1261, 'debts': 1262, 'decade': 1263, 'decades': 1264, 'deceive': 1265, 'decent': 1266, 'decide': 1267, 'decipher': 1268, 'decision': 1269, 'decisions': 1270, 'decisive': 1271, 'declare': 1272, 'decline': 1273, 'decode': 1274, 'decoder': 1275, 'decrease': 1276, 'decrypt': 1277, 'decryption': 1278, 'dedicate': 1279, 'deeds': 1280, 'deem': 1281, 'deep': 1282, 'deeper': 1283, 'deeply': 1284, 'default': 1285, 'defeat': 1286, 'defence': 1287, 'defend': 1288, 'defendants': 1289, 'defense': 1290, 'defenseless': 1291, 'defenses': 1292, 'defensive': 1293, 'deficiency': 1294, 'deficit': 1295, 'define': 1296, 'definite': 1297, 'definitely': 1298, 'definition': 1299, 'definitions': 1300, 'degree': 1301, 'degrees': 1302, 'dehydrate': 1303, 'delay': 1304, 'delegate': 1305, 'delegation': 1306, 'delete': 1307, 'deliberate': 1308, 'deliberately': 1309, 'delight': 1310, 'deliver': 1311, 'delivery': 1312, 'demand': 1313, 'democracies': 1314, 'democracy': 1315, 'democratic': 1316, 'demonstrate': 1317, 'demonstration': 1318, 'denial': 1319, 'denning': 1320, 'denote': 1321, 'dense': 1322, 'density': 1323, 'deny': 1324, 'department': 1325, 'departments': 1326, 'depend': 1327, 'dependent': 1328, 'deplorable': 1329, 'deploy': 1330, 'deport': 1331, 'deposit': 1332, 'depress': 1333, 'depression': 1334, 'deprive': 1335, 'dept': 1336, 'depth': 1337, 'deputy': 1338, 'derive': 1339, 'des': 1340, 'descend': 1341, 'describe': 1342, 'description': 1343, 'desert': 1344, 'deserve': 1345, 'design': 1346, 'designate': 1347, 'designer': 1348, 'desirable': 1349, 'desire': 1350, 'desk': 1351, 'desperate': 1352, 'destroy': 1353, 'destruction': 1354, 'destructive': 1355, 'detach': 1356, 'detail': 1357, 'detect': 1358, 'detectable': 1359, 'detection': 1360, 'detector': 1361, 'detectors': 1362, 'deter': 1363, 'determination': 1364, 'determine': 1365, 'detonate': 1366, 'devastate': 1367, 'develop': 1368, 'development': 1369, 'device': 1370, 'devices': 1371, 'devil': 1372, 'devise': 1373, 'devoid': 1374, 'devote': 1375, 'diabetes': 1376, 'diagnose': 1377, 'diagnosis': 1378, 'diagnostic': 1379, 'diagram': 1380, 'dial': 1381, 'dialogue': 1382, 'diary': 1383, 'dictate': 1384, 'dictator': 1385, 'dictators': 1386, 'dictatorship': 1387, 'dictionary': 1388, 'die': 1389, 'diet': 1390, 'dietary': 1391, 'differ': 1392, 'difference': 1393, 'differences': 1394, 'different': 1395, 'differential': 1396, 'differently': 1397, 'difficult': 1398, 'difficulties': 1399, 'difficulty': 1400, 'dig': 1401, 'digest': 1402, 'digit': 1403, 'digital': 1404, 'digitize': 1405, 'dignity': 1406, 'dim': 1407, 'dimension': 1408, 'diminish': 1409, 'din': 1410, 'dinner': 1411, 'diplomatic': 1412, 'diplomats': 1413, 'direct': 1414, 'direction': 1415, 'directions': 1416, 'directive': 1417, 'directly': 1418, 'director': 1419, 'directory': 1420, 'dirt': 1421, 'dirty': 1422, 'disable': 1423, 'disadvantage': 1424, 'disagree': 1425, 'disagreement': 1426, 'disappear': 1427, 'disappoint': 1428, 'disarm': 1429, 'disaster': 1430, 'disavow': 1431, 'disband': 1432, 'disbeliever': 1433, 'discharge': 1434, 'discipline': 1435, 'disclaimer': 1436, 'disclaimers': 1437, 'disclose': 1438, 'disclosure': 1439, 'discomfort': 1440, 'discount': 1441, 'discourage': 1442, 'discourse': 1443, 'discover': 1444, 'discovery': 1445, 'discredit': 1446, 'discriminate': 1447, 'discrimination': 1448, 'discuss': 1449, 'discussion': 1450, 'discussions': 1451, 'disease': 1452, 'diseases': 1453, 'disgrace': 1454, 'disguise': 1455, 'disgust': 1456, 'dish': 1457, 'dishonest': 1458, 'disk': 1459, 'dislike': 1460, 'dismantle': 1461, 'dismiss': 1462, 'disorder': 1463, 'disparage': 1464, 'display': 1465, 'dispose': 1466, 'disproportionate': 1467, 'disprove': 1468, 'dispute': 1469, 'disregard': 1470, 'disrupt': 1471, 'dissemination': 1472, 'dissent': 1473, 'dissidents': 1474, 'dissolve': 1475, 'distance': 1476, 'distant': 1477, 'distinct': 1478, 'distinction': 1479, 'distinctions': 1480, 'distinguish': 1481, 'distort': 1482, 'distortion': 1483, 'distress': 1484, 'distribute': 1485, 'distribution': 1486, 'district': 1487, 'distrust': 1488, 'disturb': 1489, 'ditto': 1490, 'diverse': 1491, 'divert': 1492, 'divide': 1493, 'division': 1494, 'doc': 1495, 'docs': 1496, 'doctor': 1497, 'doctrine': 1498, 'document': 1499, 'documentary': 1500, 'documentation': 1501, 'dog': 1502, 'dollar': 1503, 'dollars': 1504, 'domain': 1505, 'domestic': 1506, 'dominate': 1507, 'donate': 1508, 'doom': 1509, 'door': 1510, 'doorbell': 1511, 'doors': 1512, 'dope': 1513, 'dosage': 1514, 'dose': 1515, 'dot': 1516, 'double': 1517, 'doubt': 1518, 'doubtless': 1519, 'downtown': 1520, 'dozen': 1521, 'dozens': 1522, 'draft': 1523, 'drag': 1524, 'drain': 1525, 'dramatic': 1526, 'dramatically': 1527, 'drastically': 1528, 'draw': 1529, 'dream': 1530, 'dress': 1531, 'drift': 1532, 'drill': 1533, 'drink': 1534, 'drip': 1535, 'drive': 1536, 'driver': 1537, 'drivers': 1538, 'drop': 1539, 'drown': 1540, 'drug': 1541, 'drum': 1542, 'dry': 1543, 'du': 1544, 'dual': 1545, 'dubious': 1546, 'duck': 1547, 'due': 1548, 'dumb': 1549, 'dump': 1550, 'dunno': 1551, 'duplex': 1552, 'duplicate': 1553, 'duration': 1554, 'dust': 1555, 'duties': 1556, 'duty': 1557, 'dwell': 1558, 'dynamic': 1559, 'eager': 1560, 'ear': 1561, 'earlier': 1562, 'early': 1563, 'earn': 1564, 'ears': 1565, 'earth': 1566, 'ease': 1567, 'easier': 1568, 'easiest': 1569, 'easily': 1570, 'east': 1571, 'eastern': 1572, 'easy': 1573, 'eat': 1574, 'eavesdrop': 1575, 'echo': 1576, 'economic': 1577, 'economically': 1578, 'economics': 1579, 'economies': 1580, 'economy': 1581, 'ed': 1582, 'edge': 1583, 'edit': 1584, 'edition': 1585, 'editor': 1586, 'editorial': 1587, 'editors': 1588, 'edu': 1589, 'educate': 1590, 'education': 1591, 'educational': 1592, 'ee': 1593, 'eff': 1594, 'effect': 1595, 'effective': 1596, 'effectively': 1597, 'effectiveness': 1598, 'efficacy': 1599, 'efficiency': 1600, 'efficient': 1601, 'efficiently': 1602, 'effort': 1603, 'efforts': 1604, 'eg': 1605, 'egg': 1606, 'ego': 1607, 'egyptian': 1608, 'eh': 1609, 'eight': 1610, 'eighty': 1611, 'either': 1612, 'elaborate': 1613, 'elderly': 1614, 'elect': 1615, 'election': 1616, 'elections': 1617, 'electric': 1618, 'electrical': 1619, 'electrically': 1620, 'electricity': 1621, 'electromagnetic': 1622, 'electronic': 1623, 'electronically': 1624, 'electronics': 1625, 'element': 1626, 'elementary': 1627, 'elements': 1628, 'elevate': 1629, 'elevator': 1630, 'eliminate': 1631, 'elimination': 1632, 'elite': 1633, 'eloquently': 1634, 'else': 1635, 'elses': 1636, 'elsewhere': 1637, 'em': 1638, 'email': 1639, 'embargo': 1640, 'embarrass': 1641, 'embassy': 1642, 'embed': 1643, 'embrace': 1644, 'emerge': 1645, 'emergence': 1646, 'emergency': 1647, 'emit': 1648, 'emmisions': 1649, 'emotion': 1650, 'emotional': 1651, 'emotionally': 1652, 'emotions': 1653, 'emphasis': 1654, 'emphasize': 1655, 'empire': 1656, 'empirical': 1657, 'employ': 1658, 'employee': 1659, 'employees': 1660, 'employer': 1661, 'employers': 1662, 'employment': 1663, 'empty': 1664, 'en': 1665, 'enable': 1666, 'enact': 1667, 'enclave': 1668, 'encode': 1669, 'encounter': 1670, 'encourage': 1671, 'encrypt': 1672, 'encryption': 1673, 'encryptions': 1674, 'end': 1675, 'endeavour': 1676, 'endorse': 1677, 'endure': 1678, 'enemies': 1679, 'enemy': 1680, 'energy': 1681, 'enforce': 1682, 'enforcement': 1683, 'engage': 1684, 'engine': 1685, 'engineer': 1686, 'engines': 1687, 'english': 1688, 'enhance': 1689, 'enjoy': 1690, 'enjoyment': 1691, 'enlighten': 1692, 'enormous': 1693, 'enough': 1694, 'enrol': 1695, 'ensue': 1696, 'ensure': 1697, 'entail': 1698, 'enter': 1699, 'enterprise': 1700, 'entertain': 1701, 'entertainment': 1702, 'enthusiastic': 1703, 'entire': 1704, 'entirely': 1705, 'entities': 1706, 'entitle': 1707, 'entity': 1708, 'entrance': 1709, 'entry': 1710, 'entryway': 1711, 'enumerate': 1712, 'environment': 1713, 'environmental': 1714, 'epidemic': 1715, 'episode': 1716, 'equal': 1717, 'equality': 1718, 'equally': 1719, 'equate': 1720, 'equip': 1721, 'equipment': 1722, 'equivalent': 1723, 'er': 1724, 'era': 1725, 'erase': 1726, 'ergo': 1727, 'erosion': 1728, 'error': 1729, 'errors': 1730, 'erupt': 1731, 'escape': 1732, 'escrow': 1733, 'escrowed': 1734, 'esp': 1735, 'especially': 1736, 'espionage': 1737, 'espouse': 1738, 'essence': 1739, 'essential': 1740, 'essentially': 1741, 'establish': 1742, 'establishment': 1743, 'estate': 1744, 'estimate': 1745, 'et': 1746, 'etc': 1747, 'ethical': 1748, 'ethics': 1749, 'ethnic': 1750, 'ethnicity': 1751, 'european': 1752, 'evacuate': 1753, 'evade': 1754, 'evaluate': 1755, 'evaluation': 1756, 'evasion': 1757, 'even': 1758, 'event': 1759, 'events': 1760, 'eventually': 1761, 'ever': 1762, 'every': 1763, 'everybody': 1764, 'everybodys': 1765, 'everyday': 1766, 'everyone': 1767, 'everyones': 1768, 'everything': 1769, 'everywhere': 1770, 'evidence': 1771, 'evident': 1772, 'evidently': 1773, 'evil': 1774, 'evince': 1775, 'evolution': 1776, 'evolve': 1777, 'ex': 1778, 'exact': 1779, 'exactly': 1780, 'exaggerate': 1781, 'examination': 1782, 'examine': 1783, 'example': 1784, 'examples': 1785, 'exceed': 1786, 'excellent': 1787, 'except': 1788, 'exception': 1789, 'exceptions': 1790, 'excerpt': 1791, 'excess': 1792, 'excessive': 1793, 'exchange': 1794, 'excite': 1795, 'exclaim': 1796, 'exclude': 1797, 'exclusion': 1798, 'exclusive': 1799, 'exclusively': 1800, 'excuse': 1801, 'execute': 1802, 'execution': 1803, 'executive': 1804, 'exempt': 1805, 'exercise': 1806, 'exhaust': 1807, 'exhaustive': 1808, 'exhibit': 1809, 'exile': 1810, 'exist': 1811, 'existance': 1812, 'existence': 1813, 'existent': 1814, 'exit': 1815, 'exotic': 1816, 'expand': 1817, 'expansion': 1818, 'expect': 1819, 'expectations': 1820, 'expel': 1821, 'expenditures': 1822, 'expense': 1823, 'expensive': 1824, 'experience': 1825, 'experiment': 1826, 'experimental': 1827, 'expert': 1828, 'expertise': 1829, 'experts': 1830, 'expire': 1831, 'explain': 1832, 'explanation': 1833, 'explanations': 1834, 'explicit': 1835, 'explicitly': 1836, 'explode': 1837, 'exploit': 1838, 'explore': 1839, 'explosion': 1840, 'explosive': 1841, 'explosives': 1842, 'export': 1843, 'exportable': 1844, 'expose': 1845, 'exposure': 1846, 'express': 1847, 'expression': 1848, 'expulsion': 1849, 'extend': 1850, 'extension': 1851, 'extensive': 1852, 'extensively': 1853, 'extent': 1854, 'exterminate': 1855, 'extermination': 1856, 'external': 1857, 'extra': 1858, 'extract': 1859, 'extraordinary': 1860, 'extrapolate': 1861, 'extreme': 1862, 'extremely': 1863, 'extremist': 1864, 'eye': 1865, 'eyewitness': 1866, 'face': 1867, 'facilitate': 1868, 'facilities': 1869, 'facility': 1870, 'fact': 1871, 'facto': 1872, 'factor': 1873, 'facts': 1874, 'factual': 1875, 'fail': 1876, 'failure': 1877, 'faint': 1878, 'fair': 1879, 'faire': 1880, 'fairly': 1881, 'faith': 1882, 'fake': 1883, 'fall': 1884, 'false': 1885, 'familiar': 1886, 'families': 1887, 'family': 1888, 'famous': 1889, 'fan': 1890, 'fanatic': 1891, 'fanaticism': 1892, 'fanatics': 1893, 'fancy': 1894, 'fantasy': 1895, 'faq': 1896, 'far': 1897, 'farm': 1898, 'farmers': 1899, 'farther': 1900, 'fascinate': 1901, 'fascism': 1902, 'fascist': 1903, 'fashion': 1904, 'fast': 1905, 'faster': 1906, 'fastest': 1907, 'fat': 1908, 'fatal': 1909, 'fate': 1910, 'father': 1911, 'fatigue': 1912, 'fault': 1913, 'favor': 1914, 'favorable': 1915, 'favorite': 1916, 'favour': 1917, 'fax': 1918, 'fear': 1919, 'feasible': 1920, 'feature': 1921, 'federal': 1922, 'federally': 1923, 'feds': 1924, 'fee': 1925, 'feed': 1926, 'feedback': 1927, 'feel': 1928, 'feet': 1929, 'fell': 1930, 'fellow': 1931, 'felony': 1932, 'felt': 1933, 'female': 1934, 'females': 1935, 'fetus': 1936, 'fever': 1937, 'fewer': 1938, 'fi': 1939, 'fiasco': 1940, 'fiction': 1941, 'fides': 1942, 'field': 1943, 'fifth': 1944, 'fifty': 1945, 'fight': 1946, 'fighters': 1947, 'figure': 1948, 'file': 1949, 'fill': 1950, 'film': 1951, 'filter': 1952, 'fin': 1953, 'final': 1954, 'finally': 1955, 'finance': 1956, 'financial': 1957, 'financially': 1958, 'find': 1959, 'fine': 1960, 'finger': 1961, 'finish': 1962, 'finite': 1963, 'fire': 1964, 'firearm': 1965, 'firearms': 1966, 'firm': 1967, 'firmly': 1968, 'first': 1969, 'fish': 1970, 'fit': 1971, 'five': 1972, 'fix': 1973, 'flag': 1974, 'flame': 1975, 'flash': 1976, 'flat': 1977, 'flavor': 1978, 'flaw': 1979, 'flee': 1980, 'flexible': 1981, 'flight': 1982, 'flip': 1983, 'float': 1984, 'flock': 1985, 'flood': 1986, 'floor': 1987, 'floppy': 1988, 'flow': 1989, 'fluid': 1990, 'fluids': 1991, 'flush': 1992, 'fly': 1993, 'focus': 1994, 'fog': 1995, 'fold': 1996, 'folk': 1997, 'folks': 1998, 'follow': 1999, 'followers': 2000, 'followup': 2001, 'followups': 2002, 'food': 2003, 'foods': 2004, 'fool': 2005, 'foolish': 2006, 'foot': 2007, 'footage': 2008, 'footnote': 2009, 'forbid': 2010, 'force': 2011, 'forcibly': 2012, 'foreign': 2013, 'foremost': 2014, 'forest': 2015, 'forever': 2016, 'forge': 2017, 'forget': 2018, 'forgive': 2019, 'form': 2020, 'formal': 2021, 'format': 2022, 'formation': 2023, 'former': 2024, 'formerly': 2025, 'formulate': 2026, 'forth': 2027, 'fortify': 2028, 'fortunately': 2029, 'fortune': 2030, 'forty': 2031, 'forum': 2032, 'forums': 2033, 'forward': 2034, 'fossil': 2035, 'found': 2036, 'foundation': 2037, 'founder': 2038, 'four': 2039, 'fourth': 2040, 'fraction': 2041, 'frame': 2042, 'framework': 2043, 'frances': 2044, 'frank': 2045, 'frankly': 2046, 'fraud': 2047, 'freak': 2048, 'free': 2049, 'freedom': 2050, 'freedoms': 2051, 'freely': 2052, 'freeze': 2053, 'french': 2054, 'frequencies': 2055, 'frequency': 2056, 'frequent': 2057, 'frequently': 2058, 'fresh': 2059, 'friend': 2060, 'friendly': 2061, 'friends': 2062, 'frighten': 2063, 'fringe': 2064, 'front': 2065, 'frontal': 2066, 'fruit': 2067, 'frustrate': 2068, 'fry': 2069, 'ftp': 2070, 'fuck': 2071, 'fuel': 2072, 'fulfill': 2073, 'full': 2074, 'fullest': 2075, 'fully': 2076, 'fume': 2077, 'fun': 2078, 'function': 2079, 'functional': 2080, 'fund': 2081, 'fundamental': 2082, 'fundamentalist': 2083, 'fundraise': 2084, 'fungal': 2085, 'fungals': 2086, 'fungus': 2087, 'funny': 2088, 'furthermore': 2089, 'fuse': 2090, 'future': 2091, 'fuzzy': 2092, 'gag': 2093, 'gain': 2094, 'game': 2095, 'gang': 2096, 'gap': 2097, 'garage': 2098, 'garbage': 2099, 'gas': 2100, 'gasoline': 2101, 'gate': 2102, 'gatech': 2103, 'gateway': 2104, 'gather': 2105, 'gay': 2106, 'gays': 2107, 'gear': 2108, 'gel': 2109, 'gender': 2110, 'gene': 2111, 'general': 2112, 'generalizations': 2113, 'generalize': 2114, 'generally': 2115, 'generate': 2116, 'generation': 2117, 'generations': 2118, 'generator': 2119, 'generators': 2120, 'generic': 2121, 'genes': 2122, 'genetic': 2123, 'genocide': 2124, 'gentlemen': 2125, 'genuine': 2126, 'genuinely': 2127, 'geographical': 2128, 'german': 2129, 'gesture': 2130, 'get': 2131, 'ghetto': 2132, 'giant': 2133, 'gift': 2134, 'girl': 2135, 'girlfriend': 2136, 'girls': 2137, 'give': 2138, 'glad': 2139, 'glance': 2140, 'gland': 2141, 'glare': 2142, 'glass': 2143, 'gld': 2144, 'global': 2145, 'glorious': 2146, 'glory': 2147, 'glow': 2148, 'glucose': 2149, 'glutamate': 2150, 'go': 2151, 'goal': 2152, 'goals': 2153, 'god': 2154, 'gold': 2155, 'gonna': 2156, 'good': 2157, 'goods': 2158, 'gotta': 2159, 'gov': 2160, 'goverment': 2161, 'govern': 2162, 'government': 2163, 'governmental': 2164, 'governments': 2165, 'governor': 2166, 'governors': 2167, 'govt': 2168, 'grab': 2169, 'grade': 2170, 'gradual': 2171, 'graduate': 2172, 'grain': 2173, 'grand': 2174, 'grandfather': 2175, 'grandmother': 2176, 'grandparents': 2177, 'grant': 2178, 'grasp': 2179, 'grass': 2180, 'grateful': 2181, 'grave': 2182, 'great': 2183, 'greater': 2184, 'greatest': 2185, 'greatly': 2186, 'greed': 2187, 'greek': 2188, 'greeks': 2189, 'green': 2190, 'greet': 2191, 'grenade': 2192, 'grenades': 2193, 'gridlock': 2194, 'grief': 2195, 'grievances': 2196, 'grin': 2197, 'grind': 2198, 'grip': 2199, 'gross': 2200, 'ground': 2201, 'group': 2202, 'grow': 2203, 'growth': 2204, 'guarantee': 2205, 'guard': 2206, 'guerilla': 2207, 'guerillas': 2208, 'guess': 2209, 'guest': 2210, 'guide': 2211, 'guidelines': 2212, 'guilt': 2213, 'guilty': 2214, 'guise': 2215, 'gun': 2216, 'gunfire': 2217, 'guns': 2218, 'gunshot': 2219, 'gut': 2220, 'guy': 2221, 'ha': 2222, 'habit': 2223, 'hack': 2224, 'hacker': 2225, 'hackers': 2226, 'hair': 2227, 'half': 2228, 'hall': 2229, 'halt': 2230, 'halve': 2231, 'ham': 2232, 'hammer': 2233, 'hand': 2234, 'handgun': 2235, 'handguns': 2236, 'handle': 2237, 'handwrite': 2238, 'handy': 2239, 'hang': 2240, 'happen': 2241, 'happily': 2242, 'happiness': 2243, 'happy': 2244, 'harass': 2245, 'hard': 2246, 'harder': 2247, 'hardly': 2248, 'hardware': 2249, 'harm': 2250, 'harmful': 2251, 'harmoniously': 2252, 'harmony': 2253, 'harry': 2254, 'harsh': 2255, 'hash': 2256, 'hassle': 2257, 'hat': 2258, 'hate': 2259, 'hatred': 2260, 'haul': 2261, 'hay': 2262, 'hazard': 2263, 'head': 2264, 'headache': 2265, 'headaches': 2266, 'header': 2267, 'headline': 2268, 'headquarter': 2269, 'heal': 2270, 'health': 2271, 'healthy': 2272, 'heap': 2273, 'hear': 2274, 'heart': 2275, 'hearts': 2276, 'heat': 2277, 'heaven': 2278, 'heavier': 2279, 'heavily': 2280, 'heavy': 2281, 'heck': 2282, 'heh': 2283, 'height': 2284, 'heinous': 2285, 'helicopter': 2286, 'helicopters': 2287, 'help': 2288, 'helpful': 2289, 'helpless': 2290, 'hence': 2291, 'herd': 2292, 'here': 2293, 'hereby': 2294, 'herein': 2295, 'heres': 2296, 'heritage': 2297, 'hero': 2298, 'heroes': 2299, 'heroic': 2300, 'heterosexual': 2301, 'heterosexuals': 2302, 'hey': 2303, 'hi': 2304, 'hide': 2305, 'high': 2306, 'higher': 2307, 'highest': 2308, 'highly': 2309, 'hike': 2310, 'hill': 2311, 'hint': 2312, 'hire': 2313, 'historians': 2314, 'historic': 2315, 'historical': 2316, 'historically': 2317, 'histories': 2318, 'history': 2319, 'hit': 2320, 'hmm': 2321, 'hmmm': 2322, 'ho': 2323, 'hold': 2324, 'holder': 2325, 'holders': 2326, 'hole': 2327, 'holocaust': 2328, 'holy': 2329, 'home': 2330, 'homeland': 2331, 'homeless': 2332, 'homeopathy': 2333, 'homicide': 2334, 'homicides': 2335, 'homosexual': 2336, 'homosexuality': 2337, 'homosexuals': 2338, 'honest': 2339, 'honestly': 2340, 'honesty': 2341, 'honor': 2342, 'hood': 2343, 'hook': 2344, 'hop': 2345, 'hope': 2346, 'hopefully': 2347, 'hormone': 2348, 'horn': 2349, 'horrendous': 2350, 'horrible': 2351, 'horrify': 2352, 'horror': 2353, 'horrors': 2354, 'horse': 2355, 'hospital': 2356, 'hospitals': 2357, 'host': 2358, 'hostage': 2359, 'hostages': 2360, 'hostile': 2361, 'hostilities': 2362, 'hostility': 2363, 'hot': 2364, 'hotel': 2365, 'hotels': 2366, 'hour': 2367, 'hours': 2368, 'house': 2369, 'household': 2370, 'however': 2371, 'howl': 2372, 'huge': 2373, 'huh': 2374, 'human': 2375, 'humane': 2376, 'humanitarian': 2377, 'humanity': 2378, 'humans': 2379, 'humiliate': 2380, 'humor': 2381, 'hundred': 2382, 'hundreds': 2383, 'hunt': 2384, 'hurry': 2385, 'hurt': 2386, 'husband': 2387, 'huts': 2388, 'hypocrisy': 2389, 'hypocritical': 2390, 'hypotheses': 2391, 'hypothesis': 2392, 'hypothesize': 2393, 'hypothetical': 2394, 'ice': 2395, 'idea': 2396, 'ideal': 2397, 'ideals': 2398, 'ideas': 2399, 'identical': 2400, 'identification': 2401, 'identify': 2402, 'identity': 2403, 'ideological': 2404, 'ideologies': 2405, 'ideology': 2406, 'idiot': 2407, 'idiotic': 2408, 'idiots': 2409, 'idle': 2410, 'ie': 2411, 'if': 2412, 'ignite': 2413, 'ignorance': 2414, 'ignorant': 2415, 'ignore': 2416, 'illegal': 2417, 'illegally': 2418, 'illness': 2419, 'illnesses': 2420, 'illustrate': 2421, 'image': 2422, 'imagination': 2423, 'imagine': 2424, 'immediate': 2425, 'immediately': 2426, 'immoral': 2427, 'immune': 2428, 'immunization': 2429, 'immunize': 2430, 'impact': 2431, 'impair': 2432, 'impedance': 2433, 'implement': 2434, 'implementation': 2435, 'implementations': 2436, 'implicate': 2437, 'implication': 2438, 'implications': 2439, 'imply': 2440, 'import': 2441, 'importance': 2442, 'important': 2443, 'importantly': 2444, 'impose': 2445, 'impossible': 2446, 'impractical': 2447, 'impress': 2448, 'impression': 2449, 'impressive': 2450, 'imprison': 2451, 'imprisonment': 2452, 'improve': 2453, 'improvement': 2454, 'improvements': 2455, 'inability': 2456, 'inaccurate': 2457, 'inalienable': 2458, 'inappropriate': 2459, 'incapable': 2460, 'incentive': 2461, 'inch': 2462, 'incidence': 2463, 'incident': 2464, 'incidents': 2465, 'incite': 2466, 'incline': 2467, 'include': 2468, 'income': 2469, 'incoming': 2470, 'incompetence': 2471, 'incompetent': 2472, 'incomplete': 2473, 'inconsistent': 2474, 'inconvenient': 2475, 'incorporate': 2476, 'incorrect': 2477, 'increase': 2478, 'increasingly': 2479, 'incredible': 2480, 'incredibly': 2481, 'incriminate': 2482, 'incur': 2483, 'indeed': 2484, 'independence': 2485, 'independent': 2486, 'independently': 2487, 'index': 2488, 'indian': 2489, 'indicate': 2490, 'indication': 2491, 'indictment': 2492, 'indirectly': 2493, 'indiscriminately': 2494, 'individual': 2495, 'individually': 2496, 'individuals': 2497, 'induce': 2498, 'industrial': 2499, 'industries': 2500, 'industry': 2501, 'ineffective': 2502, 'inevitable': 2503, 'inevitably': 2504, 'inexpensive': 2505, 'infamous': 2506, 'infant': 2507, 'infants': 2508, 'infect': 2509, 'infection': 2510, 'infections': 2511, 'infectious': 2512, 'infer': 2513, 'infiltrate': 2514, 'infinite': 2515, 'inflammation': 2516, 'inflammatory': 2517, 'inflate': 2518, 'inflict': 2519, 'influence': 2520, 'info': 2521, 'inform': 2522, 'information': 2523, 'informative': 2524, 'infrastructure': 2525, 'infringe': 2526, 'ingest': 2527, 'ingredients': 2528, 'inhabitants': 2529, 'inherent': 2530, 'inherently': 2531, 'inhuman': 2532, 'initial': 2533, 'initially': 2534, 'initiate': 2535, 'initiative': 2536, 'initiatives': 2537, 'inject': 2538, 'injection': 2539, 'injure': 2540, 'injuries': 2541, 'injury': 2542, 'injustice': 2543, 'inner': 2544, 'innocent': 2545, 'innovative': 2546, 'input': 2547, 'inquire': 2548, 'insane': 2549, 'insert': 2550, 'inside': 2551, 'insight': 2552, 'insignificant': 2553, 'insist': 2554, 'inspection': 2555, 'inspire': 2556, 'instal': 2557, 'install': 2558, 'installation': 2559, 'installations': 2560, 'instance': 2561, 'instant': 2562, 'instead': 2563, 'institute': 2564, 'institution': 2565, 'institutions': 2566, 'instruct': 2567, 'instruction': 2568, 'instructions': 2569, 'instrument': 2570, 'insufficient': 2571, 'insult': 2572, 'insurance': 2573, 'insure': 2574, 'intact': 2575, 'intake': 2576, 'integral': 2577, 'integrate': 2578, 'integration': 2579, 'integrity': 2580, 'intellect': 2581, 'intellectual': 2582, 'intellectually': 2583, 'intelligence': 2584, 'intelligent': 2585, 'intend': 2586, 'intense': 2587, 'intensify': 2588, 'intensity': 2589, 'intensive': 2590, 'intent': 2591, 'intention': 2592, 'intentional': 2593, 'intentionally': 2594, 'intentions': 2595, 'inter': 2596, 'interact': 2597, 'intercept': 2598, 'interception': 2599, 'intercourse': 2600, 'interest': 2601, 'interface': 2602, 'interfere': 2603, 'interference': 2604, 'intermediate': 2605, 'internal': 2606, 'international': 2607, 'internet': 2608, 'interpret': 2609, 'interpretation': 2610, 'interpretations': 2611, 'interrogate': 2612, 'interrupt': 2613, 'intervene': 2614, 'intervention': 2615, 'interview': 2616, 'intestinal': 2617, 'intestine': 2618, 'intimidate': 2619, 'intimidation': 2620, 'intolerance': 2621, 'introduce': 2622, 'introduction': 2623, 'intruder': 2624, 'invade': 2625, 'invaders': 2626, 'invalidate': 2627, 'invasion': 2628, 'invasions': 2629, 'invasive': 2630, 'invent': 2631, 'invest': 2632, 'investigate': 2633, 'investigation': 2634, 'investigations': 2635, 'investigator': 2636, 'investigators': 2637, 'investment': 2638, 'invisible': 2639, 'invite': 2640, 'invoke': 2641, 'involve': 2642, 'involvement': 2643, 'iranian': 2644, 'iron': 2645, 'ironic': 2646, 'irony': 2647, 'irrational': 2648, 'irregularities': 2649, 'irrelevant': 2650, 'irresponsible': 2651, 'irritate': 2652, 'islamic': 2653, 'island': 2654, 'islands': 2655, 'isolate': 2656, 'isolation': 2657, 'israel': 2658, 'israeli': 2659, 'israelis': 2660, 'issue': 2661, 'it': 2662, 'itchy': 2663, 'item': 2664, 'items': 2665, 'jack': 2666, 'jackals': 2667, 'jacket': 2668, 'jail': 2669, 'jam': 2670, 'japanese': 2671, 'jeopardy': 2672, 'jerk': 2673, 'jew': 2674, 'jewish': 2675, 'jews': 2676, 'job': 2677, 'join': 2678, 'joint': 2679, 'joke': 2680, 'journal': 2681, 'journalist': 2682, 'journalists': 2683, 'journals': 2684, 'joy': 2685, 'js': 2686, 'jsh': 2687, 'judge': 2688, 'judgement': 2689, 'judgment': 2690, 'jump': 2691, 'jumper': 2692, 'junk': 2693, 'jurisdiction': 2694, 'jury': 2695, 'justice': 2696, 'justifiable': 2697, 'justification': 2698, 'justifications': 2699, 'justify': 2700, 'kaldis': 2701, 'keep': 2702, 'kerosene': 2703, 'key': 2704, 'keyboard': 2705, 'keywords': 2706, 'khz': 2707, 'kick': 2708, 'kid': 2709, 'kidnap': 2710, 'kidney': 2711, 'kill': 2712, 'killers': 2713, 'kind': 2714, 'kinda': 2715, 'kindly': 2716, 'kinds': 2717, 'king': 2718, 'kirlian': 2719, 'kiss': 2720, 'kit': 2721, 'kitchen': 2722, 'km': 2723, 'knee': 2724, 'knees': 2725, 'knife': 2726, 'knives': 2727, 'knock': 2728, 'know': 2729, 'knowingly': 2730, 'knowledge': 2731, 'knowledgeable': 2732, 'knowlege': 2733, 'kurdish': 2734, 'la': 2735, 'lab': 2736, 'label': 2737, 'labor': 2738, 'lack': 2739, 'ladies': 2740, 'laissez': 2741, 'lake': 2742, 'lamp': 2743, 'lamps': 2744, 'land': 2745, 'language': 2746, 'lantern': 2747, 'lanterns': 2748, 'laptop': 2749, 'large': 2750, 'largely': 2751, 'larger': 2752, 'largest': 2753, 'laser': 2754, 'last': 2755, 'latch': 2756, 'late': 2757, 'lately': 2758, 'later': 2759, 'latest': 2760, 'latter': 2761, 'laugh': 2762, 'laughter': 2763, 'launch': 2764, 'launchers': 2765, 'law': 2766, 'lawful': 2767, 'lawfully': 2768, 'lawmakers': 2769, 'lawn': 2770, 'laws': 2771, 'lawsuit': 2772, 'lawyer': 2773, 'lawyers': 2774, 'lay': 2775, 'layer': 2776, 'lazy': 2777, 'lead': 2778, 'leader': 2779, 'leaders': 2780, 'leadership': 2781, 'leaf': 2782, 'league': 2783, 'leak': 2784, 'lean': 2785, 'leap': 2786, 'learn': 2787, 'least': 2788, 'leave': 2789, 'lebanese': 2790, 'lecture': 2791, 'leftist': 2792, 'leg': 2793, 'legal': 2794, 'legality': 2795, 'legalization': 2796, 'legalize': 2797, 'legally': 2798, 'legislation': 2799, 'legislative': 2800, 'legislature': 2801, 'legislatures': 2802, 'legitimate': 2803, 'legitimize': 2804, 'legs': 2805, 'lend': 2806, 'length': 2807, 'lengthy': 2808, 'lens': 2809, 'less': 2810, 'lesser': 2811, 'lesson': 2812, 'lessons': 2813, 'let': 2814, 'lethal': 2815, 'letter': 2816, 'level': 2817, 'liability': 2818, 'liable': 2819, 'liar': 2820, 'liberal': 2821, 'liberals': 2822, 'liberate': 2823, 'libertarian': 2824, 'libertarianism': 2825, 'libertarians': 2826, 'liberties': 2827, 'liberty': 2828, 'libraries': 2829, 'library': 2830, 'licence': 2831, 'license': 2832, 'lie': 2833, 'life': 2834, 'lifes': 2835, 'lifetime': 2836, 'lift': 2837, 'light': 2838, 'lightly': 2839, 'like': 2840, 'likelihood': 2841, 'likely': 2842, 'likewise': 2843, 'limit': 2844, 'limitations': 2845, 'line': 2846, 'linear': 2847, 'link': 2848, 'lips': 2849, 'liquid': 2850, 'list': 2851, 'listen': 2852, 'literally': 2853, 'literature': 2854, 'little': 2855, 'live': 2856, 'liver': 2857, 'load': 2858, 'loathe': 2859, 'lobby': 2860, 'local': 2861, 'locate': 2862, 'location': 2863, 'locations': 2864, 'lock': 2865, 'log': 2866, 'logic': 2867, 'logical': 2868, 'login': 2869, 'long': 2870, 'longer': 2871, 'look': 2872, 'loop': 2873, 'loose': 2874, 'loot': 2875, 'lord': 2876, 'lose': 2877, 'loser': 2878, 'loss': 2879, 'losses': 2880, 'lot': 2881, 'loud': 2882, 'loudly': 2883, 'love': 2884, 'low': 2885, 'lower': 2886, 'lowest': 2887, 'loyal': 2888, 'loyalty': 2889, 'luck': 2890, 'lucky': 2891, 'ludicrous': 2892, 'lui': 2893, 'lunch': 2894, 'lung': 2895, 'lungs': 2896, 'lurk': 2897, 'machine': 2898, 'mad': 2899, 'magazine': 2900, 'magazines': 2901, 'magic': 2902, 'magnetic': 2903, 'magnify': 2904, 'magnitude': 2905, 'mail': 2906, 'main': 2907, 'mainly': 2908, 'mainstream': 2909, 'maintain': 2910, 'maintenance': 2911, 'major': 2912, 'majority': 2913, 'make': 2914, 'makers': 2915, 'male': 2916, 'males': 2917, 'mall': 2918, 'malpractice': 2919, 'man': 2920, 'manage': 2921, 'management': 2922, 'mandate': 2923, 'mandatory': 2924, 'manipulation': 2925, 'mankind': 2926, 'manner': 2927, 'manual': 2928, 'manuals': 2929, 'manufacture': 2930, 'manufacturer': 2931, 'manufacturers': 2932, 'manuscript': 2933, 'many': 2934, 'map': 2935, 'marc': 2936, 'march': 2937, 'margin': 2938, 'marijuana': 2939, 'mark': 2940, 'market': 2941, 'marketplace': 2942, 'marksmanship': 2943, 'marriage': 2944, 'marriages': 2945, 'marry': 2946, 'martyr': 2947, 'mask': 2948, 'mass': 2949, 'massacre': 2950, 'massage': 2951, 'massive': 2952, 'massively': 2953, 'master': 2954, 'match': 2955, 'material': 2956, 'materials': 2957, 'math': 2958, 'mathematical': 2959, 'mathematics': 2960, 'matter': 2961, 'max': 2962, 'maximize': 2963, 'maximum': 2964, 'may': 2965, 'maybe': 2966, 'mayor': 2967, 'meal': 2968, 'mean': 2969, 'meaningful': 2970, 'meaningless': 2971, 'meantime': 2972, 'meanwhile': 2973, 'measure': 2974, 'measurements': 2975, 'meat': 2976, 'mechanical': 2977, 'mechanism': 2978, 'mechanisms': 2979, 'med': 2980, 'media': 2981, 'median': 2982, 'medical': 2983, 'medication': 2984, 'medications': 2985, 'medicine': 2986, 'medium': 2987, 'meet': 2988, 'mega': 2989, 'melt': 2990, 'member': 2991, 'members': 2992, 'membership': 2993, 'membranes': 2994, 'meme': 2995, 'memoirs': 2996, 'memory': 2997, 'men': 2998, 'menace': 2999, 'mens': 3000, 'ment': 3001, 'mental': 3002, 'mentally': 3003, 'mention': 3004, 'merchants': 3005, 'mere': 3006, 'merely': 3007, 'merge': 3008, 'merit': 3009, 'mess': 3010, 'message': 3011, 'metabolic': 3012, 'metal': 3013, 'meter': 3014, 'method': 3015, 'methodology': 3016, 'methods': 3017, 'metro': 3018, 'mg': 3019, 'microcircuit': 3020, 'microcircuits': 3021, 'microphone': 3022, 'microwave': 3023, 'mid': 3024, 'middle': 3025, 'mideast': 3026, 'might': 3027, 'migraine': 3028, 'migraines': 3029, 'mild': 3030, 'mildly': 3031, 'mile': 3032, 'mileage': 3033, 'miles': 3034, 'militarily': 3035, 'military': 3036, 'militia': 3037, 'militias': 3038, 'milk': 3039, 'mill': 3040, 'million': 3041, 'millions': 3042, 'mind': 3043, 'mindset': 3044, 'mine': 3045, 'minimal': 3046, 'minimize': 3047, 'minimum': 3048, 'minister': 3049, 'ministry': 3050, 'minor': 3051, 'minorities': 3052, 'minority': 3053, 'minute': 3054, 'minutes': 3055, 'miracle': 3056, 'mirror': 3057, 'mis': 3058, 'misc': 3059, 'miserable': 3060, 'misinform': 3061, 'misinformation': 3062, 'mislead': 3063, 'misrepresent': 3064, 'miss': 3065, 'mission': 3066, 'misspell': 3067, 'mistake': 3068, 'misunderstand': 3069, 'misuse': 3070, 'mit': 3071, 'mitigate': 3072, 'mix': 3073, 'mm': 3074, 'mob': 3075, 'mobility': 3076, 'mode': 3077, 'model': 3078, 'modem': 3079, 'modems': 3080, 'moderate': 3081, 'moderately': 3082, 'modern': 3083, 'modernize': 3084, 'modes': 3085, 'modification': 3086, 'modify': 3087, 'modulation': 3088, 'module': 3089, 'moisture': 3090, 'molecular': 3091, 'molest': 3092, 'molestation': 3093, 'molesters': 3094, 'moment': 3095, 'moments': 3096, 'monde': 3097, 'money': 3098, 'monger': 3099, 'monitor': 3100, 'monkey': 3101, 'monopoly': 3102, 'monosodium': 3103, 'month': 3104, 'monthly': 3105, 'months': 3106, 'monument': 3107, 'mood': 3108, 'moon': 3109, 'moral': 3110, 'morale': 3111, 'morality': 3112, 'morally': 3113, 'morals': 3114, 'morning': 3115, 'moron': 3116, 'mosque': 3117, 'mosques': 3118, 'mostly': 3119, 'mother': 3120, 'motion': 3121, 'motivate': 3122, 'motivation': 3123, 'motivations': 3124, 'motive': 3125, 'motives': 3126, 'motor': 3127, 'motss': 3128, 'mount': 3129, 'mountain': 3130, 'mountains': 3131, 'mourn': 3132, 'mournful': 3133, 'mouth': 3134, 'move': 3135, 'movement': 3136, 'movements': 3137, 'movie': 3138, 'movies': 3139, 'msg': 3140, 'much': 3141, 'mucus': 3142, 'mud': 3143, 'multi': 3144, 'multiple': 3145, 'multiply': 3146, 'munition': 3147, 'murder': 3148, 'murderer': 3149, 'murderers': 3150, 'murderous': 3151, 'murmur': 3152, 'muscle': 3153, 'music': 3154, 'muslim': 3155, 'muslims': 3156, 'must': 3157, 'mute': 3158, 'mutual': 3159, 'mutually': 3160, 'mv': 3161, 'myth': 3162, 'nabil': 3163, 'nail': 3164, 'naive': 3165, 'naked': 3166, 'name': 3167, 'namely': 3168, 'napalm': 3169, 'narrow': 3170, 'nasty': 3171, 'nation': 3172, 'national': 3173, 'nationalism': 3174, 'nationalist': 3175, 'nationality': 3176, 'nationals': 3177, 'nations': 3178, 'nationwide': 3179, 'native': 3180, 'natonal': 3181, 'natural': 3182, 'naturally': 3183, 'nature': 3184, 'nausea': 3185, 'nay': 3186, 'nazi': 3187, 'nazis': 3188, 'ncsl': 3189, 'nd': 3190, 'near': 3191, 'nearby': 3192, 'nearly': 3193, 'neat': 3194, 'necessarily': 3195, 'necessary': 3196, 'necessity': 3197, 'neck': 3198, 'need': 3199, 'needle': 3200, 'negative': 3201, 'neglect': 3202, 'negligence': 3203, 'negligent': 3204, 'negotiate': 3205, 'negotiation': 3206, 'negotiations': 3207, 'neighbor': 3208, 'neighborhood': 3209, 'neighborhoods': 3210, 'neighbour': 3211, 'neither': 3212, 'nerve': 3213, 'nervous': 3214, 'net': 3215, 'netters': 3216, 'network': 3217, 'neurons': 3218, 'neutral': 3219, 'neutralize': 3220, 'never': 3221, 'nevertheless': 3222, 'new': 3223, 'newer': 3224, 'newly': 3225, 'news': 3226, 'newsgroup': 3227, 'newsgroups': 3228, 'newsletter': 3229, 'newspaper': 3230, 'newspapers': 3231, 'next': 3232, 'nice': 3233, 'nicely': 3234, 'nifty': 3235, 'night': 3236, 'nightmare': 3237, 'nights': 3238, 'nine': 3239, 'ninja': 3240, 'ninjas': 3241, 'nist': 3242, 'noble': 3243, 'nobody': 3244, 'noise': 3245, 'noisy': 3246, 'nominate': 3247, 'nomination': 3248, 'non': 3249, 'none': 3250, 'nonsense': 3251, 'noon': 3252, 'nope': 3253, 'normal': 3254, 'normally': 3255, 'north': 3256, 'northern': 3257, 'nose': 3258, 'notably': 3259, 'note': 3260, 'nothing': 3261, 'notice': 3262, 'notify': 3263, 'notion': 3264, 'notions': 3265, 'notorious': 3266, 'notwithstanding': 3267, 'now': 3268, 'nowadays': 3269, 'nowhere': 3270, 'nuclear': 3271, 'nuke': 3272, 'numb': 3273, 'number': 3274, 'numerous': 3275, 'nurse': 3276, 'nut': 3277, 'nutcase': 3278, 'nutrition': 3279, 'nutritional': 3280, 'nutty': 3281, 'oath': 3282, 'obesity': 3283, 'obey': 3284, 'object': 3285, 'objection': 3286, 'objections': 3287, 'objective': 3288, 'objectives': 3289, 'obligate': 3290, 'obligation': 3291, 'obligations': 3292, 'oblige': 3293, 'obscure': 3294, 'observance': 3295, 'observation': 3296, 'observations': 3297, 'observe': 3298, 'observer': 3299, 'obsolete': 3300, 'obstacles': 3301, 'obtain': 3302, 'obvious': 3303, 'obviously': 3304, 'occasion': 3305, 'occasional': 3306, 'occasionally': 3307, 'occupancy': 3308, 'occupant': 3309, 'occupants': 3310, 'occupation': 3311, 'occupier': 3312, 'occupy': 3313, 'occur': 3314, 'oclock': 3315, 'odd': 3316, 'oddly': 3317, 'odds': 3318, 'offend': 3319, 'offense': 3320, 'offensive': 3321, 'offer': 3322, 'office': 3323, 'officer': 3324, 'offices': 3325, 'official': 3326, 'officially': 3327, 'officials': 3328, 'often': 3329, 'oh': 3330, 'ohio': 3331, 'ohm': 3332, 'oil': 3333, 'ok': 3334, 'okay': 3335, 'old': 3336, 'older': 3337, 'oldest': 3338, 'olds': 3339, 'omissions': 3340, 'omit': 3341, 'one': 3342, 'ones': 3343, 'ongoing': 3344, 'online': 3345, 'oops': 3346, 'op': 3347, 'open': 3348, 'openly': 3349, 'operate': 3350, 'operation': 3351, 'operational': 3352, 'operations': 3353, 'operator': 3354, 'operators': 3355, 'opinion': 3356, 'opinions': 3357, 'opponent': 3358, 'opponents': 3359, 'opportunities': 3360, 'opportunity': 3361, 'oppose': 3362, 'opposite': 3363, 'opposition': 3364, 'oppress': 3365, 'oppression': 3366, 'oppressive': 3367, 'opt': 3368, 'optical': 3369, 'option': 3370, 'optional': 3371, 'options': 3372, 'oral': 3373, 'orally': 3374, 'order': 3375, 'ordinary': 3376, 'org': 3377, 'organ': 3378, 'organic': 3379, 'organisation': 3380, 'organism': 3381, 'organisms': 3382, 'organization': 3383, 'organizations': 3384, 'organize': 3385, 'organs': 3386, 'orient': 3387, 'orientation': 3388, 'origin': 3389, 'original': 3390, 'originally': 3391, 'originals': 3392, 'originate': 3393, 'oscillator': 3394, 'others': 3395, 'otherwise': 3396, 'ought': 3397, 'outbreak': 3398, 'outcome': 3399, 'outcomes': 3400, 'outer': 3401, 'outlaw': 3402, 'outlet': 3403, 'outlets': 3404, 'outline': 3405, 'outlook': 3406, 'output': 3407, 'outrage': 3408, 'outrageous': 3409, 'outreach': 3410, 'outright': 3411, 'outside': 3412, 'outsiders': 3413, 'outskirts': 3414, 'outweigh': 3415, 'ovens': 3416, 'overall': 3417, 'overcome': 3418, 'overlook': 3419, 'overly': 3420, 'overnight': 3421, 'overreact': 3422, 'overseas': 3423, 'oversee': 3424, 'overthrow': 3425, 'overturn': 3426, 'overwhelm': 3427, 'overwhelmingly': 3428, 'owe': 3429, 'owner': 3430, 'owners': 3431, 'ownership': 3432, 'oz': 3433, 'pack': 3434, 'package': 3435, 'packet': 3436, 'pact': 3437, 'pad': 3438, 'page': 3439, 'pain': 3440, 'painful': 3441, 'painfully': 3442, 'paint': 3443, 'pair': 3444, 'pal': 3445, 'pale': 3446, 'palestine': 3447, 'palestinian': 3448, 'palestinians': 3449, 'pan': 3450, 'panel': 3451, 'panic': 3452, 'pant': 3453, 'paper': 3454, 'paperwork': 3455, 'par': 3456, 'parade': 3457, 'paragraph': 3458, 'parallel': 3459, 'parameters': 3460, 'paranoia': 3461, 'paranoid': 3462, 'paranormal': 3463, 'paraphrase': 3464, 'parent': 3465, 'park': 3466, 'parliamentary': 3467, 'part': 3468, 'partial': 3469, 'partially': 3470, 'participants': 3471, 'participate': 3472, 'participation': 3473, 'particular': 3474, 'particularly': 3475, 'particulars': 3476, 'partisan': 3477, 'partly': 3478, 'partner': 3479, 'partnership': 3480, 'party': 3481, 'pass': 3482, 'passage': 3483, 'passages': 3484, 'passer': 3485, 'passionate': 3486, 'passive': 3487, 'passport': 3488, 'passports': 3489, 'password': 3490, 'past': 3491, 'pat': 3492, 'patch': 3493, 'patent': 3494, 'patently': 3495, 'path': 3496, 'pathetic': 3497, 'pathologist': 3498, 'pathology': 3499, 'patience': 3500, 'patient': 3501, 'patients': 3502, 'patrol': 3503, 'pattern': 3504, 'paw': 3505, 'pay': 3506, 'payment': 3507, 'pc': 3508, 'pcs': 3509, 'peace': 3510, 'peaceful': 3511, 'peacefull': 3512, 'peacefully': 3513, 'peak': 3514, 'peer': 3515, 'pen': 3516, 'penalties': 3517, 'penalty': 3518, 'pending': 3519, 'penetrate': 3520, 'penis': 3521, 'people': 3522, 'per': 3523, 'perceive': 3524, 'percent': 3525, 'percentage': 3526, 'perception': 3527, 'perfect': 3528, 'perfectly': 3529, 'perform': 3530, 'performance': 3531, 'perhaps': 3532, 'period': 3533, 'periodic': 3534, 'periodically': 3535, 'periods': 3536, 'peripheral': 3537, 'perish': 3538, 'permanent': 3539, 'permanently': 3540, 'permission': 3541, 'permit': 3542, 'pernicious': 3543, 'perpetrate': 3544, 'perpetuate': 3545, 'persecute': 3546, 'persecution': 3547, 'persist': 3548, 'persistent': 3549, 'person': 3550, 'personal': 3551, 'personality': 3552, 'personally': 3553, 'personnel': 3554, 'persons': 3555, 'perspective': 3556, 'persuade': 3557, 'pertain': 3558, 'pet': 3559, 'peter': 3560, 'petition': 3561, 'pgp': 3562, 'phase': 3563, 'phenomena': 3564, 'phenomenon': 3565, 'phil': 3566, 'philosopher': 3567, 'philosophical': 3568, 'philosophy': 3569, 'phone': 3570, 'phony': 3571, 'photo': 3572, 'photograph': 3573, 'photography': 3574, 'photos': 3575, 'phrase': 3576, 'physical': 3577, 'physically': 3578, 'physician': 3579, 'physicians': 3580, 'physics': 3581, 'pick': 3582, 'picky': 3583, 'picture': 3584, 'piece': 3585, 'pig': 3586, 'pilchuck': 3587, 'pile': 3588, 'pill': 3589, 'pillage': 3590, 'pills': 3591, 'pilot': 3592, 'pin': 3593, 'pinch': 3594, 'pip': 3595, 'pipe': 3596, 'pirate': 3597, 'piss': 3598, 'pistol': 3599, 'pit': 3600, 'pitch': 3601, 'pity': 3602, 'pl': 3603, 'place': 3604, 'placebo': 3605, 'plague': 3606, 'plain': 3607, 'plainly': 3608, 'plaintext': 3609, 'plan': 3610, 'plane': 3611, 'planet': 3612, 'plant': 3613, 'plastic': 3614, 'plat': 3615, 'plate': 3616, 'plateau': 3617, 'platform': 3618, 'plausible': 3619, 'play': 3620, 'player': 3621, 'players': 3622, 'plead': 3623, 'please': 3624, 'pledge': 3625, 'plenty': 3626, 'plot': 3627, 'plug': 3628, 'plunder': 3629, 'plus': 3630, 'pm': 3631, 'pocket': 3632, 'point': 3633, 'pointers': 3634, 'pointless': 3635, 'poison': 3636, 'poisonous': 3637, 'pole': 3638, 'police': 3639, 'policeman': 3640, 'policemen': 3641, 'policies': 3642, 'policy': 3643, 'polish': 3644, 'polite': 3645, 'political': 3646, 'politically': 3647, 'politician': 3648, 'politicians': 3649, 'politics': 3650, 'poll': 3651, 'pollution': 3652, 'ponder': 3653, 'pool': 3654, 'poor': 3655, 'poorly': 3656, 'pop': 3657, 'populace': 3658, 'popular': 3659, 'populate': 3660, 'population': 3661, 'populations': 3662, 'pork': 3663, 'porn': 3664, 'port': 3665, 'portable': 3666, 'portion': 3667, 'portray': 3668, 'pose': 3669, 'position': 3670, 'positive': 3671, 'possess': 3672, 'possession': 3673, 'possessions': 3674, 'possibilities': 3675, 'possibility': 3676, 'possible': 3677, 'possibly': 3678, 'post': 3679, 'postal': 3680, 'poster': 3681, 'posters': 3682, 'pot': 3683, 'potential': 3684, 'potentially': 3685, 'pound': 3686, 'pour': 3687, 'poverty': 3688, 'powder': 3689, 'power': 3690, 'powerful': 3691, 'powerless': 3692, 'pp': 3693, 'practical': 3694, 'practically': 3695, 'practice': 3696, 'practise': 3697, 'practitioner': 3698, 'practitioners': 3699, 'pragmatic': 3700, 'praise': 3701, 'pray': 3702, 'prayer': 3703, 'pre': 3704, 'preach': 3705, 'precede': 3706, 'precedent': 3707, 'precious': 3708, 'precise': 3709, 'precisely': 3710, 'precision': 3711, 'predict': 3712, 'predictions': 3713, 'predominantly': 3714, 'prefer': 3715, 'preferably': 3716, 'preference': 3717, 'pregnancy': 3718, 'pregnant': 3719, 'prejudice': 3720, 'preliminary': 3721, 'premeditate': 3722, 'premise': 3723, 'premium': 3724, 'premiums': 3725, 'preparation': 3726, 'preparations': 3727, 'prepare': 3728, 'prescribe': 3729, 'prescription': 3730, 'presence': 3731, 'present': 3732, 'presentation': 3733, 'presently': 3734, 'preservation': 3735, 'preserve': 3736, 'presidency': 3737, 'president': 3738, 'presidential': 3739, 'presidents': 3740, 'press': 3741, 'pressure': 3742, 'presumably': 3743, 'presume': 3744, 'pretend': 3745, 'prettier': 3746, 'pretty': 3747, 'prevail': 3748, 'prevalent': 3749, 'prevent': 3750, 'prevention': 3751, 'preventive': 3752, 'previous': 3753, 'previously': 3754, 'prey': 3755, 'price': 3756, 'pride': 3757, 'priests': 3758, 'primarily': 3759, 'primary': 3760, 'prime': 3761, 'primitive': 3762, 'principal': 3763, 'principle': 3764, 'principles': 3765, 'print': 3766, 'printer': 3767, 'printers': 3768, 'prior': 3769, 'priority': 3770, 'prison': 3771, 'prisoners': 3772, 'prisons': 3773, 'privacy': 3774, 'private': 3775, 'privately': 3776, 'privilege': 3777, 'pro': 3778, 'probability': 3779, 'probable': 3780, 'probably': 3781, 'probe': 3782, 'problem': 3783, 'problems': 3784, 'procedure': 3785, 'procedures': 3786, 'proceed': 3787, 'process': 3788, 'processor': 3789, 'proclaim': 3790, 'procure': 3791, 'produce': 3792, 'product': 3793, 'production': 3794, 'productive': 3795, 'products': 3796, 'profess': 3797, 'profession': 3798, 'professional': 3799, 'professionals': 3800, 'professor': 3801, 'profile': 3802, 'profit': 3803, 'program': 3804, 'programmer': 3805, 'progress': 3806, 'progression': 3807, 'progressive': 3808, 'prohibit': 3809, 'prohibition': 3810, 'project': 3811, 'prolong': 3812, 'prominent': 3813, 'promiscuous': 3814, 'promise': 3815, 'promote': 3816, 'promotion': 3817, 'prompt': 3818, 'promptly': 3819, 'prone': 3820, 'pronounce': 3821, 'proof': 3822, 'propaganda': 3823, 'propane': 3824, 'proper': 3825, 'properly': 3826, 'properties': 3827, 'property': 3828, 'propoganda': 3829, 'proponents': 3830, 'proportion': 3831, 'proportional': 3832, 'proposal': 3833, 'proposals': 3834, 'propose': 3835, 'proposition': 3836, 'proprietary': 3837, 'pros': 3838, 'prosecute': 3839, 'prosecution': 3840, 'prospect': 3841, 'prospective': 3842, 'prostitute': 3843, 'prostitution': 3844, 'protect': 3845, 'protection': 3846, 'protections': 3847, 'protein': 3848, 'protest': 3849, 'protocol': 3850, 'protocols': 3851, 'proud': 3852, 'prove': 3853, 'provide': 3854, 'provider': 3855, 'providers': 3856, 'province': 3857, 'provinces': 3858, 'provision': 3859, 'provoke': 3860, 'prudent': 3861, 'ps': 3862, 'pseudo': 3863, 'psychiatric': 3864, 'psychiatrist': 3865, 'psychological': 3866, 'psychology': 3867, 'pub': 3868, 'public': 3869, 'publically': 3870, 'publication': 3871, 'publications': 3872, 'publicize': 3873, 'publicly': 3874, 'publish': 3875, 'pull': 3876, 'pulse': 3877, 'pump': 3878, 'punch': 3879, 'punish': 3880, 'punishment': 3881, 'purchase': 3882, 'pure': 3883, 'purely': 3884, 'purpose': 3885, 'pursuant': 3886, 'pursue': 3887, 'pursuit': 3888, 'push': 3889, 'put': 3890, 'puzzle': 3891, 'quack': 3892, 'quackery': 3893, 'qualifications': 3894, 'qualify': 3895, 'quality': 3896, 'quantities': 3897, 'quantity': 3898, 'quarter': 3899, 'queer': 3900, 'query': 3901, 'question': 3902, 'questionable': 3903, 'quibble': 3904, 'quick': 3905, 'quickly': 3906, 'quiet': 3907, 'quietly': 3908, 'quit': 3909, 'quite': 3910, 'quo': 3911, 'quotations': 3912, 'quote': 3913, 'rabbit': 3914, 'rabid': 3915, 'race': 3916, 'racial': 3917, 'racism': 3918, 'racist': 3919, 'radar': 3920, 'radiation': 3921, 'radical': 3922, 'radicals': 3923, 'radio': 3924, 'radioactive': 3925, 'rag': 3926, 'rage': 3927, 'raid': 3928, 'rail': 3929, 'rain': 3930, 'raise': 3931, 'rally': 3932, 'ram': 3933, 'ranch': 3934, 'random': 3935, 'randomly': 3936, 'range': 3937, 'rank': 3938, 'rant': 3939, 'rap': 3940, 'rape': 3941, 'rapid': 3942, 'rapidly': 3943, 'rare': 3944, 'rarely': 3945, 'rat': 3946, 'rate': 3947, 'rather': 3948, 'ratio': 3949, 'rational': 3950, 'rationale': 3951, 'rationalize': 3952, 'rave': 3953, 'raw': 3954, 'ray': 3955, 'raze': 3956, 'rd': 3957, 'reach': 3958, 'react': 3959, 'reaction': 3960, 'reactions': 3961, 'reactor': 3962, 'read': 3963, 'readable': 3964, 'reader': 3965, 'readers': 3966, 'readily': 3967, 'ready': 3968, 'reaffirm': 3969, 'real': 3970, 'realise': 3971, 'realistic': 3972, 'reality': 3973, 'realize': 3974, 'really': 3975, 'realtime': 3976, 'rear': 3977, 'reason': 3978, 'reasonable': 3979, 'reasonably': 3980, 'reassure': 3981, 'rebel': 3982, 'rebound': 3983, 'rebuild': 3984, 'rec': 3985, 'recall': 3986, 'receive': 3987, 'receiver': 3988, 'receivers': 3989, 'recent': 3990, 'recently': 3991, 'recipe': 3992, 'recipients': 3993, 'reckless': 3994, 'recognise': 3995, 'recognition': 3996, 'recognize': 3997, 'recommend': 3998, 'recommendations': 3999, 'record': 4000, 'recourse': 4001, 'recover': 4002, 'recovery': 4003, 'recreational': 4004, 'recruit': 4005, 'recur': 4006, 'recurrence': 4007, 'red': 4008, 'redirect': 4009, 'redress': 4010, 'reduce': 4011, 'reduction': 4012, 'refer': 4013, 'reference': 4014, 'referral': 4015, 'reflect': 4016, 'reform': 4017, 'refrain': 4018, 'refresh': 4019, 'refuge': 4020, 'refugee': 4021, 'refugees': 4022, 'refusal': 4023, 'refuse': 4024, 'refute': 4025, 'regain': 4026, 'regard': 4027, 'regardless': 4028, 'regime': 4029, 'region': 4030, 'regional': 4031, 'regions': 4032, 'register': 4033, 'registration': 4034, 'regret': 4035, 'regular': 4036, 'regularity': 4037, 'regularly': 4038, 'regulate': 4039, 'regulation': 4040, 'regulations': 4041, 'regulator': 4042, 'reign': 4043, 'reinforce': 4044, 'reiterate': 4045, 'reject': 4046, 'relate': 4047, 'relation': 4048, 'relations': 4049, 'relationship': 4050, 'relationships': 4051, 'relative': 4052, 'relatively': 4053, 'relatives': 4054, 'relativity': 4055, 'relax': 4056, 'relay': 4057, 'release': 4058, 'relevance': 4059, 'relevant': 4060, 'reliable': 4061, 'relief': 4062, 'relieve': 4063, 'religion': 4064, 'religions': 4065, 'religious': 4066, 'reluctant': 4067, 'rely': 4068, 'remain': 4069, 'remainder': 4070, 'remark': 4071, 'remarkable': 4072, 'remarkably': 4073, 'remedy': 4074, 'remember': 4075, 'remind': 4076, 'remote': 4077, 'remotely': 4078, 'removal': 4079, 'remove': 4080, 'remus': 4081, 'render': 4082, 'renew': 4083, 'rent': 4084, 'repair': 4085, 'reparations': 4086, 'repeat': 4087, 'repeatedly': 4088, 'repent': 4089, 'replace': 4090, 'replacement': 4091, 'replacements': 4092, 'replicate': 4093, 'reply': 4094, 'report': 4095, 'reporter': 4096, 'reporters': 4097, 'repost': 4098, 'reprehensible': 4099, 'represent': 4100, 'representation': 4101, 'representative': 4102, 'representatives': 4103, 'repress': 4104, 'repressive': 4105, 'reprint': 4106, 'reproduce': 4107, 'reproduction': 4108, 'republic': 4109, 'republican': 4110, 'republics': 4111, 'reputable': 4112, 'reputation': 4113, 'reputations': 4114, 'request': 4115, 'require': 4116, 'requirement': 4117, 'requirements': 4118, 'rescue': 4119, 'research': 4120, 'researcher': 4121, 'researchers': 4122, 'resemble': 4123, 'reservations': 4124, 'reserve': 4125, 'reside': 4126, 'residence': 4127, 'resident': 4128, 'residents': 4129, 'resign': 4130, 'resist': 4131, 'resistance': 4132, 'resistances': 4133, 'resistant': 4134, 'resistor': 4135, 'resistors': 4136, 'resolution': 4137, 'resolutions': 4138, 'resolve': 4139, 'resort': 4140, 'resource': 4141, 'resources': 4142, 'respect': 4143, 'respectively': 4144, 'respond': 4145, 'response': 4146, 'responses': 4147, 'responsibilities': 4148, 'responsibility': 4149, 'responsible': 4150, 'rest': 4151, 'restaurant': 4152, 'restaurants': 4153, 'restore': 4154, 'restrain': 4155, 'restrict': 4156, 'restriction': 4157, 'restrictions': 4158, 'restrictive': 4159, 'result': 4160, 'resume': 4161, 'retain': 4162, 'retaliation': 4163, 'retard': 4164, 'rethink': 4165, 'retire': 4166, 'retract': 4167, 'retreat': 4168, 'return': 4169, 'reveal': 4170, 'revenge': 4171, 'revenue': 4172, 'reversal': 4173, 'reverse': 4174, 'review': 4175, 'revise': 4176, 'revision': 4177, 'revisionism': 4178, 'revisionist': 4179, 'revoke': 4180, 'revolt': 4181, 'revolution': 4182, 'revolutionaries': 4183, 'revolutionary': 4184, 'reward': 4185, 'rewrite': 4186, 'rhetoric': 4187, 'rich': 4188, 'rid': 4189, 'ride': 4190, 'ridicule': 4191, 'ridiculous': 4192, 'rifle': 4193, 'rig': 4194, 'right': 4195, 'righteous': 4196, 'rightly': 4197, 'rigorous': 4198, 'ring': 4199, 'riot': 4200, 'rip': 4201, 'rise': 4202, 'risk': 4203, 'risky': 4204, 'rival': 4205, 'river': 4206, 'rivers': 4207, 'rm': 4208, 'road': 4209, 'roads': 4210, 'roar': 4211, 'rob': 4212, 'robust': 4213, 'rock': 4214, 'rocket': 4215, 'role': 4216, 'roll': 4217, 'roof': 4218, 'room': 4219, 'root': 4220, 'rot': 4221, 'rough': 4222, 'roughly': 4223, 'round': 4224, 'rout': 4225, 'route': 4226, 'routine': 4227, 'routinely': 4228, 'routines': 4229, 'row': 4230, 'rsa': 4231, 'rtfm': 4232, 'rub': 4233, 'rubber': 4234, 'rubble': 4235, 'rude': 4236, 'ruin': 4237, 'rule': 4238, 'rulers': 4239, 'rumor': 4240, 'run': 4241, 'rural': 4242, 'rush': 4243, 'russia': 4244, 'russian': 4245, 'rutgers': 4246, 'ruthlessly': 4247, 'rwing': 4248, 'ryan': 4249, 'sack': 4250, 'sacred': 4251, 'sacrifice': 4252, 'sad': 4253, 'sadly': 4254, 'safe': 4255, 'safeguard': 4256, 'safely': 4257, 'safer': 4258, 'safety': 4259, 'saga': 4260, 'sake': 4261, 'salary': 4262, 'sale': 4263, 'sales': 4264, 'salt': 4265, 'salvation': 4266, 'sample': 4267, 'sanction': 4268, 'sane': 4269, 'sanity': 4270, 'sarcasm': 4271, 'satellite': 4272, 'satisfaction': 4273, 'satisfactory': 4274, 'satisfy': 4275, 'sauce': 4276, 'savage': 4277, 'save': 4278, 'saw': 4279, 'say': 4280, 'scale': 4281, 'scan': 4282, 'scandal': 4283, 'scanner': 4284, 'scant': 4285, 'scar': 4286, 'scare': 4287, 'scary': 4288, 'scatter': 4289, 'scenario': 4290, 'scenarios': 4291, 'scene': 4292, 'scenes': 4293, 'schedule': 4294, 'schematic': 4295, 'schematics': 4296, 'scheme': 4297, 'scholar': 4298, 'scholarly': 4299, 'scholars': 4300, 'scholarship': 4301, 'school': 4302, 'sci': 4303, 'science': 4304, 'scientific': 4305, 'scientist': 4306, 'scientists': 4307, 'scope': 4308, 'score': 4309, 'scott': 4310, 'scramble': 4311, 'scrap': 4312, 'scratch': 4313, 'scream': 4314, 'screen': 4315, 'screw': 4316, 'script': 4317, 'scrutiny': 4318, 'se': 4319, 'sea': 4320, 'seal': 4321, 'sean': 4322, 'search': 4323, 'seas': 4324, 'season': 4325, 'seat': 4326, 'sec': 4327, 'second': 4328, 'secondary': 4329, 'secondly': 4330, 'secrecy': 4331, 'secret': 4332, 'secretive': 4333, 'secretly': 4334, 'secrets': 4335, 'sect': 4336, 'section': 4337, 'sector': 4338, 'secular': 4339, 'secure': 4340, 'security': 4341, 'see': 4342, 'seed': 4343, 'seek': 4344, 'seem': 4345, 'seemingly': 4346, 'segment': 4347, 'seige': 4348, 'seize': 4349, 'seizure': 4350, 'seizures': 4351, 'select': 4352, 'selection': 4353, 'selective': 4354, 'selectively': 4355, 'self': 4356, 'sell': 4357, 'semi': 4358, 'semite': 4359, 'semitic': 4360, 'semitism': 4361, 'senate': 4362, 'senator': 4363, 'senators': 4364, 'send': 4365, 'senior': 4366, 'sense': 4367, 'senseless': 4368, 'sensible': 4369, 'sensitive': 4370, 'sensitivity': 4371, 'sensor': 4372, 'sentence': 4373, 'separate': 4374, 'separately': 4375, 'separation': 4376, 'seperate': 4377, 'sequence': 4378, 'serbian': 4379, 'serial': 4380, 'series': 4381, 'serious': 4382, 'seriously': 4383, 'serve': 4384, 'server': 4385, 'servers': 4386, 'service': 4387, 'session': 4388, 'sessions': 4389, 'set': 4390, 'settle': 4391, 'settlement': 4392, 'settlements': 4393, 'settlers': 4394, 'setup': 4395, 'seven': 4396, 'seventh': 4397, 'several': 4398, 'severe': 4399, 'severely': 4400, 'severity': 4401, 'sex': 4402, 'sexual': 4403, 'sexuality': 4404, 'sexually': 4405, 'shack': 4406, 'shade': 4407, 'shadow': 4408, 'shaft': 4409, 'shake': 4410, 'shall': 4411, 'shame': 4412, 'shameful': 4413, 'shape': 4414, 'share': 4415, 'shareware': 4416, 'sharp': 4417, 'sharply': 4418, 'sheep': 4419, 'sheer': 4420, 'sheet': 4421, 'shelf': 4422, 'shelter': 4423, 'shield': 4424, 'shift': 4425, 'ship': 4426, 'shirt': 4427, 'shit': 4428, 'shock': 4429, 'shoe': 4430, 'shoot': 4431, 'shop': 4432, 'shore': 4433, 'short': 4434, 'shorter': 4435, 'shortly': 4436, 'shotgun': 4437, 'shotguns': 4438, 'shots': 4439, 'shoulder': 4440, 'shout': 4441, 'shove': 4442, 'show': 4443, 'shred': 4444, 'shrill': 4445, 'shrink': 4446, 'shut': 4447, 'sic': 4448, 'sick': 4449, 'sicken': 4450, 'side': 4451, 'siege': 4452, 'sig': 4453, 'sigh': 4454, 'sight': 4455, 'sign': 4456, 'signal': 4457, 'signature': 4458, 'signatures': 4459, 'significance': 4460, 'significant': 4461, 'significantly': 4462, 'signify': 4463, 'silence': 4464, 'silent': 4465, 'silicon': 4466, 'silly': 4467, 'silver': 4468, 'similar': 4469, 'similarly': 4470, 'simple': 4471, 'simpler': 4472, 'simplest': 4473, 'simply': 4474, 'simulation': 4475, 'simultaneously': 4476, 'sin': 4477, 'since': 4478, 'sincere': 4479, 'sincerely': 4480, 'sing': 4481, 'single': 4482, 'sink': 4483, 'sinus': 4484, 'sinuses': 4485, 'sir': 4486, 'sister': 4487, 'sisters': 4488, 'sit': 4489, 'site': 4490, 'situation': 4491, 'situations': 4492, 'six': 4493, 'size': 4494, 'skeptic': 4495, 'skeptics': 4496, 'skew': 4497, 'ski': 4498, 'skill': 4499, 'skilled': 4500, 'skills': 4501, 'skin': 4502, 'skip': 4503, 'skull': 4504, 'sky': 4505, 'slack': 4506, 'slam': 4507, 'slant': 4508, 'slaughter': 4509, 'slave': 4510, 'slavery': 4511, 'slay': 4512, 'sleep': 4513, 'slide': 4514, 'slight': 4515, 'slightest': 4516, 'slightly': 4517, 'slip': 4518, 'slow': 4519, 'slower': 4520, 'slowly': 4521, 'slug': 4522, 'smack': 4523, 'small': 4524, 'smaller': 4525, 'smart': 4526, 'smash': 4527, 'smear': 4528, 'smell': 4529, 'smile': 4530, 'smoke': 4531, 'smokers': 4532, 'smuggle': 4533, 'smugglers': 4534, 'snail': 4535, 'snake': 4536, 'sneak': 4537, 'snip': 4538, 'snipers': 4539, 'snoop': 4540, 'snow': 4541, 'soak': 4542, 'soar': 4543, 'sob': 4544, 'soc': 4545, 'soccer': 4546, 'social': 4547, 'socialism': 4548, 'socialist': 4549, 'socialists': 4550, 'socialize': 4551, 'societies': 4552, 'society': 4553, 'socket': 4554, 'sockets': 4555, 'soda': 4556, 'soft': 4557, 'software': 4558, 'soil': 4559, 'solar': 4560, 'soldier': 4561, 'sole': 4562, 'solely': 4563, 'solemnly': 4564, 'solicit': 4565, 'solid': 4566, 'solidarity': 4567, 'solution': 4568, 'solutions': 4569, 'solve': 4570, 'somebody': 4571, 'someday': 4572, 'somehow': 4573, 'someone': 4574, 'someones': 4575, 'someplace': 4576, 'something': 4577, 'sometime': 4578, 'sometimes': 4579, 'somewhat': 4580, 'somewhere': 4581, 'somwhere': 4582, 'son': 4583, 'sons': 4584, 'soon': 4585, 'sooner': 4586, 'soot': 4587, 'sophisticate': 4588, 'sore': 4589, 'sorry': 4590, 'sort': 4591, 'soul': 4592, 'sound': 4593, 'soup': 4594, 'source': 4595, 'south': 4596, 'southern': 4597, 'souviens': 4598, 'sovereign': 4599, 'sovereignty': 4600, 'soviet': 4601, 'sp': 4602, 'space': 4603, 'spanish': 4604, 'spar': 4605, 'spare': 4606, 'spark': 4607, 'speach': 4608, 'speak': 4609, 'speaker': 4610, 'speakers': 4611, 'spec': 4612, 'special': 4613, 'specialist': 4614, 'specialists': 4615, 'specialize': 4616, 'specially': 4617, 'species': 4618, 'specific': 4619, 'specifically': 4620, 'specifications': 4621, 'specifics': 4622, 'specify': 4623, 'specs': 4624, 'spectrum': 4625, 'speculate': 4626, 'speculation': 4627, 'speech': 4628, 'speed': 4629, 'spell': 4630, 'spend': 4631, 'sperm': 4632, 'spew': 4633, 'spike': 4634, 'spill': 4635, 'spin': 4636, 'spine': 4637, 'spirit': 4638, 'spit': 4639, 'spite': 4640, 'split': 4641, 'spoil': 4642, 'spokesman': 4643, 'sponsor': 4644, 'spoof': 4645, 'spook': 4646, 'sport': 4647, 'spot': 4648, 'spray': 4649, 'spread': 4650, 'spring': 4651, 'spur': 4652, 'spy': 4653, 'squads': 4654, 'square': 4655, 'squeeze': 4656, 'st': 4657, 'stab': 4658, 'stability': 4659, 'stable': 4660, 'stack': 4661, 'staff': 4662, 'stag': 4663, 'stage': 4664, 'stagger': 4665, 'stairs': 4666, 'stake': 4667, 'stamp': 4668, 'stance': 4669, 'stand': 4670, 'standard': 4671, 'standards': 4672, 'standoff': 4673, 'standpoint': 4674, 'star': 4675, 'start': 4676, 'starvation': 4677, 'starve': 4678, 'state': 4679, 'statement': 4680, 'statements': 4681, 'station': 4682, 'statistic': 4683, 'statistical': 4684, 'statistically': 4685, 'statistics': 4686, 'stats': 4687, 'status': 4688, 'statute': 4689, 'statutes': 4690, 'staunch': 4691, 'stave': 4692, 'stay': 4693, 'steadily': 4694, 'steady': 4695, 'steal': 4696, 'steam': 4697, 'steel': 4698, 'stem': 4699, 'step': 4700, 'stereo': 4701, 'stereotype': 4702, 'steroid': 4703, 'steve': 4704, 'stick': 4705, 'sticker': 4706, 'still': 4707, 'stillness': 4708, 'stimulate': 4709, 'stimulus': 4710, 'sting': 4711, 'stipulate': 4712, 'stir': 4713, 'stock': 4714, 'stockpile': 4715, 'stomach': 4716, 'stone': 4717, 'stonewall': 4718, 'stop': 4719, 'storage': 4720, 'store': 4721, 'stories': 4722, 'storm': 4723, 'story': 4724, 'stoves': 4725, 'straight': 4726, 'straighten': 4727, 'straightforward': 4728, 'strain': 4729, 'strange': 4730, 'strategic': 4731, 'strategy': 4732, 'straw': 4733, 'stream': 4734, 'street': 4735, 'streets': 4736, 'strength': 4737, 'strengthen': 4738, 'stress': 4739, 'stretch': 4740, 'strict': 4741, 'strictly': 4742, 'strife': 4743, 'strike': 4744, 'string': 4745, 'strip': 4746, 'strong': 4747, 'stronger': 4748, 'strongest': 4749, 'strongly': 4750, 'structure': 4751, 'struggle': 4752, 'student': 4753, 'students': 4754, 'study': 4755, 'stuff': 4756, 'stun': 4757, 'stunt': 4758, 'stupid': 4759, 'stupidity': 4760, 'style': 4761, 'sub': 4762, 'subject': 4763, 'submission': 4764, 'submit': 4765, 'subpoena': 4766, 'subscribe': 4767, 'subsequent': 4768, 'subsequently': 4769, 'subsidies': 4770, 'subsidize': 4771, 'substance': 4772, 'substances': 4773, 'substantial': 4774, 'substantially': 4775, 'substantiate': 4776, 'substitute': 4777, 'substitution': 4778, 'subtle': 4779, 'suburbs': 4780, 'subversive': 4781, 'subvert': 4782, 'succeed': 4783, 'success': 4784, 'successful': 4785, 'successfully': 4786, 'succumb': 4787, 'suck': 4788, 'sudden': 4789, 'suddenly': 4790, 'sue': 4791, 'suffer': 4792, 'suffice': 4793, 'sufficient': 4794, 'sufficiently': 4795, 'sugar': 4796, 'suggest': 4797, 'suggestion': 4798, 'suggestions': 4799, 'suicide': 4800, 'suit': 4801, 'suitable': 4802, 'suitably': 4803, 'sum': 4804, 'summarize': 4805, 'summary': 4806, 'summer': 4807, 'summon': 4808, 'sun': 4809, 'super': 4810, 'superior': 4811, 'superstition': 4812, 'supervise': 4813, 'supervision': 4814, 'supplement': 4815, 'supplementation': 4816, 'suppliers': 4817, 'supply': 4818, 'support': 4819, 'supporter': 4820, 'supporters': 4821, 'supportive': 4822, 'suppose': 4823, 'supposedly': 4824, 'suppress': 4825, 'supreme': 4826, 'sure': 4827, 'surely': 4828, 'surface': 4829, 'surgeon': 4830, 'surgery': 4831, 'surgical': 4832, 'surplus': 4833, 'surprise': 4834, 'surprisingly': 4835, 'surrender': 4836, 'surround': 4837, 'surveillance': 4838, 'survey': 4839, 'survival': 4840, 'survive': 4841, 'survivor': 4842, 'survivors': 4843, 'susceptible': 4844, 'suspect': 4845, 'suspend': 4846, 'suspicion': 4847, 'suspicious': 4848, 'sustain': 4849, 'swallow': 4850, 'swap': 4851, 'swear': 4852, 'sweat': 4853, 'sweep': 4854, 'swell': 4855, 'swim': 4856, 'swing': 4857, 'swiss': 4858, 'switch': 4859, 'sword': 4860, 'swords': 4861, 'symbolic': 4862, 'symmetric': 4863, 'sympathetic': 4864, 'sympathy': 4865, 'symptoms': 4866, 'sync': 4867, 'syndrome': 4868, 'synthesize': 4869, 'syrian': 4870, 'sysadmin': 4871, 'system': 4872, 'systematic': 4873, 'systematically': 4874, 'systemic': 4875, 'systems': 4876, 'table': 4877, 'tablets': 4878, 'tabs': 4879, 'tactic': 4880, 'tactical': 4881, 'tactics': 4882, 'tad': 4883, 'tail': 4884, 'take': 4885, 'talent': 4886, 'talk': 4887, 'tall': 4888, 'tamper': 4889, 'tangible': 4890, 'tank': 4891, 'tap': 4892, 'tape': 4893, 'tar': 4894, 'target': 4895, 'task': 4896, 'taste': 4897, 'tax': 4898, 'taxation': 4899, 'taxpayer': 4900, 'taxpayers': 4901, 'tea': 4902, 'teach': 4903, 'teacher': 4904, 'teachers': 4905, 'team': 4906, 'tear': 4907, 'tech': 4908, 'technical': 4909, 'technically': 4910, 'technique': 4911, 'techniques': 4912, 'technological': 4913, 'technologies': 4914, 'technology': 4915, 'ted': 4916, 'teeth': 4917, 'tel': 4918, 'telco': 4919, 'telecommunications': 4920, 'telephone': 4921, 'telephony': 4922, 'television': 4923, 'tell': 4924, 'temperature': 4925, 'temperatures': 4926, 'tempest': 4927, 'temporary': 4928, 'tempt': 4929, 'ten': 4930, 'tenant': 4931, 'tend': 4932, 'tens': 4933, 'tension': 4934, 'tent': 4935, 'tenth': 4936, 'term': 4937, 'terminal': 4938, 'terminology': 4939, 'terrible': 4940, 'terribly': 4941, 'terrify': 4942, 'territorial': 4943, 'territories': 4944, 'territory': 4945, 'terror': 4946, 'terrorism': 4947, 'terrorist': 4948, 'terrorists': 4949, 'test': 4950, 'testify': 4951, 'testimony': 4952, 'text': 4953, 'texts': 4954, 'th': 4955, 'thank': 4956, 'thankful': 4957, 'thats': 4958, 'the': 4959, 'theft': 4960, 'theme': 4961, 'theoretical': 4962, 'theoretically': 4963, 'theories': 4964, 'theory': 4965, 'therapies': 4966, 'therapy': 4967, 'thereafter': 4968, 'thereby': 4969, 'therefore': 4970, 'thereof': 4971, 'theres': 4972, 'thermal': 4973, 'thick': 4974, 'thier': 4975, 'thin': 4976, 'thing': 4977, 'things': 4978, 'think': 4979, 'third': 4980, 'thirteen': 4981, 'thirty': 4982, 'thorough': 4983, 'thoroughly': 4984, 'though': 4985, 'thoughts': 4986, 'thousand': 4987, 'thousands': 4988, 'thread': 4989, 'threat': 4990, 'threaten': 4991, 'threats': 4992, 'three': 4993, 'threshold': 4994, 'throat': 4995, 'throw': 4996, 'thru': 4997, 'thug': 4998, 'thugs': 4999, 'thumb': 5000, 'thus': 5001, 'thwart': 5002, 'tick': 5003, 'ticket': 5004, 'tie': 5005, 'tight': 5006, 'tighten': 5007, 'till': 5008, 'tim': 5009, 'time': 5010, 'timely': 5011, 'timer': 5012, 'tinpot': 5013, 'tiny': 5014, 'tip': 5015, 'tire': 5016, 'tissue': 5017, 'title': 5018, 'tm': 5019, 'to': 5020, 'tobacco': 5021, 'today': 5022, 'todays': 5023, 'together': 5024, 'toilet': 5025, 'tolerance': 5026, 'tolerate': 5027, 'toll': 5028, 'tomorrow': 5029, 'tone': 5030, 'tongue': 5031, 'tonight': 5032, 'tons': 5033, 'tool': 5034, 'top': 5035, 'topic': 5036, 'topics': 5037, 'torch': 5038, 'torture': 5039, 'toss': 5040, 'total': 5041, 'totalitarian': 5042, 'totally': 5043, 'touch': 5044, 'tough': 5045, 'tour': 5046, 'towards': 5047, 'tower': 5048, 'town': 5049, 'towns': 5050, 'toxic': 5051, 'toxicity': 5052, 'toy': 5053, 'tpm': 5054, 'trace': 5055, 'track': 5056, 'tract': 5057, 'trade': 5058, 'tradition': 5059, 'traditional': 5060, 'traditions': 5061, 'traffic': 5062, 'tragedy': 5063, 'tragic': 5064, 'trail': 5065, 'trailers': 5066, 'train': 5067, 'transaction': 5068, 'transactions': 5069, 'transcript': 5070, 'transfer': 5071, 'transform': 5072, 'transformer': 5073, 'transistor': 5074, 'transistors': 5075, 'translate': 5076, 'translation': 5077, 'transmission': 5078, 'transmit': 5079, 'transmitter': 5080, 'transport': 5081, 'transportation': 5082, 'trap': 5083, 'trapdoors': 5084, 'trash': 5085, 'travel': 5086, 'treat': 5087, 'treaties': 5088, 'treatment': 5089, 'treatments': 5090, 'treaty': 5091, 'tree': 5092, 'tremendous': 5093, 'tremendously': 5094, 'trench': 5095, 'trend': 5096, 'trial': 5097, 'trials': 5098, 'tribe': 5099, 'tribes': 5100, 'trick': 5101, 'trickle': 5102, 'tricky': 5103, 'trigger': 5104, 'trillion': 5105, 'trip': 5106, 'triple': 5107, 'trivial': 5108, 'troop': 5109, 'trouble': 5110, 'truck': 5111, 'true': 5112, 'truely': 5113, 'truly': 5114, 'trust': 5115, 'truth': 5116, 'try': 5117, 'tube': 5118, 'tune': 5119, 'tunnel': 5120, 'turkey': 5121, 'turkish': 5122, 'turks': 5123, 'turn': 5124, 'tv': 5125, 'twelve': 5126, 'twenty': 5127, 'twice': 5128, 'twist': 5129, 'two': 5130, 'type': 5131, 'typical': 5132, 'typically': 5133, 'tyranny': 5134, 'ugly': 5135, 'ultimate': 5136, 'ultimately': 5137, 'ultra': 5138, 'ultrasound': 5139, 'un': 5140, 'unable': 5141, 'unacceptable': 5142, 'unapproved': 5143, 'unarm': 5144, 'unauthorized': 5145, 'unaware': 5146, 'unbreakable': 5147, 'unclear': 5148, 'uncomfortable': 5149, 'uncommon': 5150, 'unconstitutional': 5151, 'uncontrolled': 5152, 'uncover': 5153, 'underestimate': 5154, 'undergo': 5155, 'underground': 5156, 'underlie': 5157, 'underline': 5158, 'undermine': 5159, 'understand': 5160, 'understandable': 5161, 'undertake': 5162, 'underway': 5163, 'undoubtedly': 5164, 'unemployed': 5165, 'unemployment': 5166, 'unequal': 5167, 'unethical': 5168, 'unfair': 5169, 'unfamiliar': 5170, 'unfavorable': 5171, 'unfortunate': 5172, 'unfortunately': 5173, 'unheard': 5174, 'uniform': 5175, 'uniformly': 5176, 'unintentional': 5177, 'union': 5178, 'unique': 5179, 'unit': 5180, 'unite': 5181, 'units': 5182, 'universal': 5183, 'universally': 5184, 'universe': 5185, 'universities': 5186, 'university': 5187, 'unix': 5188, 'unjustified': 5189, 'unknown': 5190, 'unlawful': 5191, 'unlikely': 5192, 'unlimited': 5193, 'unlock': 5194, 'unnecessary': 5195, 'unpleasant': 5196, 'unpopular': 5197, 'unprecedented': 5198, 'unprotected': 5199, 'unprovoked': 5200, 'unreasonable': 5201, 'unrecognized': 5202, 'unrelated': 5203, 'unreliable': 5204, 'unsafe': 5205, 'unseal': 5206, 'unsecure': 5207, 'unspeakable': 5208, 'unsubstantiated': 5209, 'untenable': 5210, 'unusual': 5211, 'unwanted': 5212, 'unwilling': 5213, 'unworthy': 5214, 'update': 5215, 'upgrade': 5216, 'uphold': 5217, 'upon': 5218, 'upper': 5219, 'uprise': 5220, 'upset': 5221, 'upstairs': 5222, 'urban': 5223, 'urge': 5224, 'urgent': 5225, 'urine': 5226, 'us': 5227, 'usable': 5228, 'usage': 5229, 'use': 5230, 'useful': 5231, 'useless': 5232, 'usenet': 5233, 'user': 5234, 'users': 5235, 'usual': 5236, 'usually': 5237, 'utilities': 5238, 'utility': 5239, 'utilize': 5240, 'utopian': 5241, 'utter': 5242, 'utterly': 5243, 'uucp': 5244, 'uunet': 5245, 'va': 5246, 'vacation': 5247, 'vacuum': 5248, 'vagina': 5249, 'vaginal': 5250, 'vague': 5251, 'vain': 5252, 'valid': 5253, 'validate': 5254, 'validity': 5255, 'valley': 5256, 'valuable': 5257, 'valuables': 5258, 'value': 5259, 'vanish': 5260, 'variable': 5261, 'variation': 5262, 'variety': 5263, 'various': 5264, 'vary': 5265, 'vast': 5266, 'vault': 5267, 'vdc': 5268, 'vector': 5269, 'vegetables': 5270, 'vehicle': 5271, 'vehicles': 5272, 'veil': 5273, 'velocity': 5274, 'vendor': 5275, 'vendors': 5276, 'vent': 5277, 'venture': 5278, 'verbal': 5279, 'verdict': 5280, 'verification': 5281, 'verify': 5282, 'versa': 5283, 'version': 5284, 'versions': 5285, 'versus': 5286, 'vertical': 5287, 'vest': 5288, 'veteran': 5289, 'veto': 5290, 'viable': 5291, 'vice': 5292, 'vicious': 5293, 'victim': 5294, 'victims': 5295, 'victory': 5296, 'video': 5297, 'videotape': 5298, 'view': 5299, 'viewpoint': 5300, 'village': 5301, 'villagers': 5302, 'villages': 5303, 'violate': 5304, 'violation': 5305, 'violations': 5306, 'violence': 5307, 'violent': 5308, 'viral': 5309, 'virtually': 5310, 'virtue': 5311, 'virus': 5312, 'visa': 5313, 'visible': 5314, 'vision': 5315, 'visit': 5316, 'visitors': 5317, 'visual': 5318, 'vital': 5319, 'vitality': 5320, 'vitamin': 5321, 'vitamins': 5322, 'vocal': 5323, 'voice': 5324, 'vol': 5325, 'vols': 5326, 'volt': 5327, 'voltage': 5328, 'voltages': 5329, 'volts': 5330, 'volume': 5331, 'volumes': 5332, 'voluntary': 5333, 'volunteer': 5334, 'vomit': 5335, 'vote': 5336, 'voter': 5337, 'voters': 5338, 'vs': 5339, 'vulnerabilities': 5340, 'vulnerable': 5341, 'wag': 5342, 'wage': 5343, 'wait': 5344, 'wake': 5345, 'walk': 5346, 'wall': 5347, 'wallet': 5348, 'wanna': 5349, 'want': 5350, 'war': 5351, 'ward': 5352, 'warfare': 5353, 'warm': 5354, 'warn': 5355, 'warrant': 5356, 'warrent': 5357, 'wash': 5358, 'waste': 5359, 'watch': 5360, 'water': 5361, 'watt': 5362, 'watts': 5363, 'wave': 5364, 'waveform': 5365, 'way': 5366, 'ways': 5367, 'we': 5368, 'weak': 5369, 'weaken': 5370, 'weakness': 5371, 'weaknesses': 5372, 'wealth': 5373, 'wealthy': 5374, 'weapon': 5375, 'weaponry': 5376, 'weapons': 5377, 'wear': 5378, 'weather': 5379, 'weed': 5380, 'week': 5381, 'weekend': 5382, 'weekly': 5383, 'weeks': 5384, 'weigh': 5385, 'weight': 5386, 'weird': 5387, 'welcome': 5388, 'welfare': 5389, 'west': 5390, 'western': 5391, 'whatever': 5392, 'whats': 5393, 'whatsoever': 5394, 'wheel': 5395, 'whereas': 5396, 'whichever': 5397, 'whine': 5398, 'white': 5399, 'whoever': 5400, 'whole': 5401, 'wholesale': 5402, 'wholly': 5403, 'whos': 5404, 'wide': 5405, 'widely': 5406, 'wider': 5407, 'widespread': 5408, 'wield': 5409, 'wife': 5410, 'wifes': 5411, 'wild': 5412, 'willingly': 5413, 'willingness': 5414, 'win': 5415, 'wind': 5416, 'window': 5417, 'windows': 5418, 'wing': 5419, 'winter': 5420, 'wipe': 5421, 'wire': 5422, 'wireless': 5423, 'wiretap': 5424, 'wiretapping': 5425, 'wisdom': 5426, 'wise': 5427, 'wish': 5428, 'withdraw': 5429, 'withdrawal': 5430, 'wither': 5431, 'withhold': 5432, 'without': 5433, 'witness': 5434, 'wive': 5435, 'wolves': 5436, 'woman': 5437, 'womans': 5438, 'women': 5439, 'womens': 5440, 'wonder': 5441, 'wonderful': 5442, 'wood': 5443, 'wooden': 5444, 'word': 5445, 'work': 5446, 'worker': 5447, 'workers': 5448, 'workstations': 5449, 'world': 5450, 'worlds': 5451, 'worldwide': 5452, 'worm': 5453, 'worry': 5454, 'worse': 5455, 'worsen': 5456, 'worship': 5457, 'worst': 5458, 'worth': 5459, 'worthless': 5460, 'worthwhile': 5461, 'worthy': 5462, 'would': 5463, 'wound': 5464, 'wrap': 5465, 'wreck': 5466, 'write': 5467, 'writer': 5468, 'writers': 5469, 'wrong': 5470, 'xor': 5471, 'xx': 5472, 'ya': 5473, 'yard': 5474, 'yards': 5475, 'yassin': 5476, 'yeah': 5477, 'year': 5478, 'years': 5479, 'yeast': 5480, 'yell': 5481, 'yellow': 5482, 'yes': 5483, 'yesterday': 5484, 'yesterdays': 5485, 'yet': 5486, 'yield': 5487, 'yogurt': 5488, 'young': 5489, 'younger': 5490, 'yourselfers': 5491, 'youth': 5492, 'yup': 5493, 'zero': 5494, 'zinc': 5495, 'zionism': 5496, 'zionist': 5497, 'zionists': 5498, 'zip': 5499, 'zone': 5500}\n"
     ]
    }
   ],
   "source": [
    "my_dict = count_vectorizer.vocabulary_\n",
    "\n",
    "sorted_dict = dict(sorted(my_dict.items()))\n",
    "\n",
    "print(sorted_dict)"
   ]
  },
  {
   "cell_type": "code",
   "execution_count": null,
   "id": "ba570f0f",
   "metadata": {},
   "outputs": [],
   "source": []
  },
  {
   "cell_type": "code",
   "execution_count": null,
   "id": "6a712ce1",
   "metadata": {},
   "outputs": [],
   "source": []
  },
  {
   "cell_type": "code",
   "execution_count": null,
   "id": "705faf68",
   "metadata": {},
   "outputs": [],
   "source": []
  },
  {
   "cell_type": "markdown",
   "id": "cd8f73bc-ac91-4e0e-9f19-6c4357b3dfab",
   "metadata": {},
   "source": [
    "# Predictive Models"
   ]
  },
  {
   "cell_type": "markdown",
   "id": "9430dc62-95ce-44d2-b77e-6786ce06e7e6",
   "metadata": {},
   "source": [
    "## Create Results DataFrame"
   ]
  },
  {
   "cell_type": "code",
   "execution_count": 250,
   "id": "2cfa9817-55b5-42a3-82f6-41fee3eaea46",
   "metadata": {},
   "outputs": [
    {
     "data": {
      "text/html": [
       "<div>\n",
       "<style scoped>\n",
       "    .dataframe tbody tr th:only-of-type {\n",
       "        vertical-align: middle;\n",
       "    }\n",
       "\n",
       "    .dataframe tbody tr th {\n",
       "        vertical-align: top;\n",
       "    }\n",
       "\n",
       "    .dataframe thead th {\n",
       "        text-align: right;\n",
       "    }\n",
       "</style>\n",
       "<table border=\"1\" class=\"dataframe\">\n",
       "  <thead>\n",
       "    <tr style=\"text-align: right;\">\n",
       "      <th>model</th>\n",
       "    </tr>\n",
       "    <tr>\n",
       "      <th>accuracy</th>\n",
       "    </tr>\n",
       "  </thead>\n",
       "  <tbody>\n",
       "    <tr>\n",
       "      <th>train</th>\n",
       "    </tr>\n",
       "    <tr>\n",
       "      <th>validate</th>\n",
       "    </tr>\n",
       "    <tr>\n",
       "      <th>test</th>\n",
       "    </tr>\n",
       "  </tbody>\n",
       "</table>\n",
       "</div>"
      ],
      "text/plain": [
       "Empty DataFrame\n",
       "Columns: []\n",
       "Index: [train, validate, test]"
      ]
     },
     "execution_count": 250,
     "metadata": {},
     "output_type": "execute_result"
    }
   ],
   "source": [
    "# `results`\n",
    "\n",
    "results_df = pd.DataFrame(index=['train', 'validate', 'test'])\n",
    "results_df.index.name = 'accuracy'\n",
    "results_df.columns.name = 'model'\n",
    "results_df"
   ]
  },
  {
   "cell_type": "code",
   "execution_count": 226,
   "id": "118ab19a-da4b-4bbf-a077-4747ca2a7f71",
   "metadata": {},
   "outputs": [
    {
     "data": {
      "text/html": [
       "<div>\n",
       "<style scoped>\n",
       "    .dataframe tbody tr th:only-of-type {\n",
       "        vertical-align: middle;\n",
       "    }\n",
       "\n",
       "    .dataframe tbody tr th {\n",
       "        vertical-align: top;\n",
       "    }\n",
       "\n",
       "    .dataframe thead th {\n",
       "        text-align: right;\n",
       "    }\n",
       "</style>\n",
       "<table border=\"1\" class=\"dataframe\">\n",
       "  <thead>\n",
       "    <tr style=\"text-align: right;\">\n",
       "      <th></th>\n",
       "      <th>aaron</th>\n",
       "      <th>abandon</th>\n",
       "      <th>abdominal</th>\n",
       "      <th>abide</th>\n",
       "      <th>ability</th>\n",
       "      <th>able</th>\n",
       "      <th>abolish</th>\n",
       "      <th>abortion</th>\n",
       "      <th>abortions</th>\n",
       "      <th>abound</th>\n",
       "      <th>...</th>\n",
       "      <th>yourselfers</th>\n",
       "      <th>youth</th>\n",
       "      <th>yup</th>\n",
       "      <th>zero</th>\n",
       "      <th>zinc</th>\n",
       "      <th>zionism</th>\n",
       "      <th>zionist</th>\n",
       "      <th>zionists</th>\n",
       "      <th>zip</th>\n",
       "      <th>zone</th>\n",
       "    </tr>\n",
       "  </thead>\n",
       "  <tbody>\n",
       "    <tr>\n",
       "      <th>0</th>\n",
       "      <td>0</td>\n",
       "      <td>0</td>\n",
       "      <td>0</td>\n",
       "      <td>0</td>\n",
       "      <td>0</td>\n",
       "      <td>0</td>\n",
       "      <td>0</td>\n",
       "      <td>0</td>\n",
       "      <td>0</td>\n",
       "      <td>0</td>\n",
       "      <td>...</td>\n",
       "      <td>0</td>\n",
       "      <td>0</td>\n",
       "      <td>0</td>\n",
       "      <td>0</td>\n",
       "      <td>0</td>\n",
       "      <td>0</td>\n",
       "      <td>0</td>\n",
       "      <td>0</td>\n",
       "      <td>0</td>\n",
       "      <td>0</td>\n",
       "    </tr>\n",
       "    <tr>\n",
       "      <th>1</th>\n",
       "      <td>0</td>\n",
       "      <td>0</td>\n",
       "      <td>0</td>\n",
       "      <td>0</td>\n",
       "      <td>0</td>\n",
       "      <td>1</td>\n",
       "      <td>0</td>\n",
       "      <td>0</td>\n",
       "      <td>0</td>\n",
       "      <td>0</td>\n",
       "      <td>...</td>\n",
       "      <td>0</td>\n",
       "      <td>0</td>\n",
       "      <td>0</td>\n",
       "      <td>1</td>\n",
       "      <td>0</td>\n",
       "      <td>0</td>\n",
       "      <td>0</td>\n",
       "      <td>0</td>\n",
       "      <td>0</td>\n",
       "      <td>0</td>\n",
       "    </tr>\n",
       "    <tr>\n",
       "      <th>2</th>\n",
       "      <td>0</td>\n",
       "      <td>0</td>\n",
       "      <td>0</td>\n",
       "      <td>0</td>\n",
       "      <td>0</td>\n",
       "      <td>0</td>\n",
       "      <td>0</td>\n",
       "      <td>0</td>\n",
       "      <td>0</td>\n",
       "      <td>0</td>\n",
       "      <td>...</td>\n",
       "      <td>0</td>\n",
       "      <td>0</td>\n",
       "      <td>0</td>\n",
       "      <td>0</td>\n",
       "      <td>0</td>\n",
       "      <td>0</td>\n",
       "      <td>0</td>\n",
       "      <td>0</td>\n",
       "      <td>0</td>\n",
       "      <td>0</td>\n",
       "    </tr>\n",
       "    <tr>\n",
       "      <th>3</th>\n",
       "      <td>0</td>\n",
       "      <td>0</td>\n",
       "      <td>0</td>\n",
       "      <td>0</td>\n",
       "      <td>0</td>\n",
       "      <td>0</td>\n",
       "      <td>0</td>\n",
       "      <td>0</td>\n",
       "      <td>0</td>\n",
       "      <td>0</td>\n",
       "      <td>...</td>\n",
       "      <td>0</td>\n",
       "      <td>0</td>\n",
       "      <td>0</td>\n",
       "      <td>0</td>\n",
       "      <td>0</td>\n",
       "      <td>0</td>\n",
       "      <td>0</td>\n",
       "      <td>0</td>\n",
       "      <td>0</td>\n",
       "      <td>0</td>\n",
       "    </tr>\n",
       "    <tr>\n",
       "      <th>4</th>\n",
       "      <td>0</td>\n",
       "      <td>0</td>\n",
       "      <td>0</td>\n",
       "      <td>0</td>\n",
       "      <td>0</td>\n",
       "      <td>0</td>\n",
       "      <td>0</td>\n",
       "      <td>0</td>\n",
       "      <td>0</td>\n",
       "      <td>0</td>\n",
       "      <td>...</td>\n",
       "      <td>0</td>\n",
       "      <td>0</td>\n",
       "      <td>0</td>\n",
       "      <td>0</td>\n",
       "      <td>0</td>\n",
       "      <td>0</td>\n",
       "      <td>0</td>\n",
       "      <td>0</td>\n",
       "      <td>0</td>\n",
       "      <td>0</td>\n",
       "    </tr>\n",
       "    <tr>\n",
       "      <th>...</th>\n",
       "      <td>...</td>\n",
       "      <td>...</td>\n",
       "      <td>...</td>\n",
       "      <td>...</td>\n",
       "      <td>...</td>\n",
       "      <td>...</td>\n",
       "      <td>...</td>\n",
       "      <td>...</td>\n",
       "      <td>...</td>\n",
       "      <td>...</td>\n",
       "      <td>...</td>\n",
       "      <td>...</td>\n",
       "      <td>...</td>\n",
       "      <td>...</td>\n",
       "      <td>...</td>\n",
       "      <td>...</td>\n",
       "      <td>...</td>\n",
       "      <td>...</td>\n",
       "      <td>...</td>\n",
       "      <td>...</td>\n",
       "      <td>...</td>\n",
       "    </tr>\n",
       "    <tr>\n",
       "      <th>4585</th>\n",
       "      <td>0</td>\n",
       "      <td>0</td>\n",
       "      <td>0</td>\n",
       "      <td>0</td>\n",
       "      <td>0</td>\n",
       "      <td>0</td>\n",
       "      <td>0</td>\n",
       "      <td>0</td>\n",
       "      <td>0</td>\n",
       "      <td>0</td>\n",
       "      <td>...</td>\n",
       "      <td>0</td>\n",
       "      <td>0</td>\n",
       "      <td>0</td>\n",
       "      <td>0</td>\n",
       "      <td>0</td>\n",
       "      <td>0</td>\n",
       "      <td>0</td>\n",
       "      <td>0</td>\n",
       "      <td>0</td>\n",
       "      <td>0</td>\n",
       "    </tr>\n",
       "    <tr>\n",
       "      <th>4586</th>\n",
       "      <td>0</td>\n",
       "      <td>0</td>\n",
       "      <td>0</td>\n",
       "      <td>0</td>\n",
       "      <td>0</td>\n",
       "      <td>0</td>\n",
       "      <td>0</td>\n",
       "      <td>0</td>\n",
       "      <td>0</td>\n",
       "      <td>0</td>\n",
       "      <td>...</td>\n",
       "      <td>0</td>\n",
       "      <td>0</td>\n",
       "      <td>0</td>\n",
       "      <td>0</td>\n",
       "      <td>0</td>\n",
       "      <td>0</td>\n",
       "      <td>0</td>\n",
       "      <td>0</td>\n",
       "      <td>0</td>\n",
       "      <td>1</td>\n",
       "    </tr>\n",
       "    <tr>\n",
       "      <th>4587</th>\n",
       "      <td>0</td>\n",
       "      <td>0</td>\n",
       "      <td>0</td>\n",
       "      <td>0</td>\n",
       "      <td>0</td>\n",
       "      <td>0</td>\n",
       "      <td>0</td>\n",
       "      <td>0</td>\n",
       "      <td>0</td>\n",
       "      <td>0</td>\n",
       "      <td>...</td>\n",
       "      <td>0</td>\n",
       "      <td>0</td>\n",
       "      <td>0</td>\n",
       "      <td>0</td>\n",
       "      <td>0</td>\n",
       "      <td>0</td>\n",
       "      <td>0</td>\n",
       "      <td>0</td>\n",
       "      <td>0</td>\n",
       "      <td>0</td>\n",
       "    </tr>\n",
       "    <tr>\n",
       "      <th>4588</th>\n",
       "      <td>0</td>\n",
       "      <td>0</td>\n",
       "      <td>0</td>\n",
       "      <td>0</td>\n",
       "      <td>0</td>\n",
       "      <td>0</td>\n",
       "      <td>0</td>\n",
       "      <td>0</td>\n",
       "      <td>0</td>\n",
       "      <td>0</td>\n",
       "      <td>...</td>\n",
       "      <td>0</td>\n",
       "      <td>0</td>\n",
       "      <td>0</td>\n",
       "      <td>0</td>\n",
       "      <td>0</td>\n",
       "      <td>0</td>\n",
       "      <td>0</td>\n",
       "      <td>0</td>\n",
       "      <td>0</td>\n",
       "      <td>0</td>\n",
       "    </tr>\n",
       "    <tr>\n",
       "      <th>4589</th>\n",
       "      <td>0</td>\n",
       "      <td>0</td>\n",
       "      <td>0</td>\n",
       "      <td>0</td>\n",
       "      <td>0</td>\n",
       "      <td>0</td>\n",
       "      <td>0</td>\n",
       "      <td>0</td>\n",
       "      <td>0</td>\n",
       "      <td>0</td>\n",
       "      <td>...</td>\n",
       "      <td>0</td>\n",
       "      <td>0</td>\n",
       "      <td>0</td>\n",
       "      <td>0</td>\n",
       "      <td>0</td>\n",
       "      <td>0</td>\n",
       "      <td>0</td>\n",
       "      <td>0</td>\n",
       "      <td>0</td>\n",
       "      <td>0</td>\n",
       "    </tr>\n",
       "  </tbody>\n",
       "</table>\n",
       "<p>4590 rows × 5501 columns</p>\n",
       "</div>"
      ],
      "text/plain": [
       "      aaron  abandon  abdominal  abide  ability  able  abolish  abortion  \\\n",
       "0         0        0          0      0        0     0        0         0   \n",
       "1         0        0          0      0        0     1        0         0   \n",
       "2         0        0          0      0        0     0        0         0   \n",
       "3         0        0          0      0        0     0        0         0   \n",
       "4         0        0          0      0        0     0        0         0   \n",
       "...     ...      ...        ...    ...      ...   ...      ...       ...   \n",
       "4585      0        0          0      0        0     0        0         0   \n",
       "4586      0        0          0      0        0     0        0         0   \n",
       "4587      0        0          0      0        0     0        0         0   \n",
       "4588      0        0          0      0        0     0        0         0   \n",
       "4589      0        0          0      0        0     0        0         0   \n",
       "\n",
       "      abortions  abound  ...  yourselfers  youth  yup  zero  zinc  zionism  \\\n",
       "0             0       0  ...            0      0    0     0     0        0   \n",
       "1             0       0  ...            0      0    0     1     0        0   \n",
       "2             0       0  ...            0      0    0     0     0        0   \n",
       "3             0       0  ...            0      0    0     0     0        0   \n",
       "4             0       0  ...            0      0    0     0     0        0   \n",
       "...         ...     ...  ...          ...    ...  ...   ...   ...      ...   \n",
       "4585          0       0  ...            0      0    0     0     0        0   \n",
       "4586          0       0  ...            0      0    0     0     0        0   \n",
       "4587          0       0  ...            0      0    0     0     0        0   \n",
       "4588          0       0  ...            0      0    0     0     0        0   \n",
       "4589          0       0  ...            0      0    0     0     0        0   \n",
       "\n",
       "      zionist  zionists  zip  zone  \n",
       "0           0         0    0     0  \n",
       "1           0         0    0     0  \n",
       "2           0         0    0     0  \n",
       "3           0         0    0     0  \n",
       "4           0         0    0     0  \n",
       "...       ...       ...  ...   ...  \n",
       "4585        0         0    0     0  \n",
       "4586        0         0    0     1  \n",
       "4587        0         0    0     0  \n",
       "4588        0         0    0     0  \n",
       "4589        0         0    0     0  \n",
       "\n",
       "[4590 rows x 5501 columns]"
      ]
     },
     "execution_count": 226,
     "metadata": {},
     "output_type": "execute_result"
    }
   ],
   "source": [
    "X_train_df_cvec"
   ]
  },
  {
   "cell_type": "code",
   "execution_count": 227,
   "id": "3bd63328",
   "metadata": {},
   "outputs": [
    {
     "data": {
      "text/plain": [
       "679     1\n",
       "2567    1\n",
       "1219    1\n",
       "1323    0\n",
       "78      1\n",
       "       ..\n",
       "1822    1\n",
       "2003    1\n",
       "2242    1\n",
       "87      0\n",
       "2472    0\n",
       "Name: label, Length: 4590, dtype: int64"
      ]
     },
     "execution_count": 227,
     "metadata": {},
     "output_type": "execute_result"
    }
   ],
   "source": [
    "y_train"
   ]
  },
  {
   "cell_type": "code",
   "execution_count": null,
   "id": "32a606e5",
   "metadata": {},
   "outputs": [],
   "source": []
  },
  {
   "cell_type": "code",
   "execution_count": 228,
   "id": "ee7709d9",
   "metadata": {},
   "outputs": [],
   "source": [
    "# This function was written by Heather Robins.  IN most cases we would attempt to produce our own, but it is \n",
    "# beautiful.  So, for this project we chose to use it verbatim, and pass along the credit where it is due.  (Thank you!)\n",
    "def metrics(y_init, y_predict):\n",
    "#     print('_________________________________________________________________')\n",
    "    print('----------------------------------------------------------------')\n",
    "    print('Accuracy score %s ' % round(accuracy_score(y_init, y_predict), 4), '\\n')\n",
    "    print('----------------------------------------------------------------')\n",
    "    print(pd.DataFrame(confusion_matrix(y_init, y_predict), \n",
    "                            index=['Actually_Negative', 'Actually_Positive'], \n",
    "                            columns=['Predicted_Negative', 'Predicted_Positive']), '\\n')\n",
    "    print('-----------------------------------------------------------------')\n",
    "    print(classification_report(y_init, y_predict))\n",
    "    print('-----------------------------------------------------------------')"
   ]
  },
  {
   "cell_type": "code",
   "execution_count": 229,
   "id": "66b0711b",
   "metadata": {},
   "outputs": [],
   "source": [
    "# def metrics_compared(y_train, y_train_preds, y_val, y_val_preds):\n",
    "#     print('_________________________________________________________________')\n",
    "#     print('Train Accuracy score %s ' % round(accuracy_score(y_train, y_train_preds), 4), '\\n')\n",
    "#     print('----------------------------------------------------------------')\n",
    "#     print(pd.DataFrame(confusion_matrix(y_train, y_train_preds), \n",
    "#                             index=['Actually_Negative', 'Actually_Positive'], \n",
    "#                             columns=['Predicted_Negative', 'Predicted_Positive']), '\\n')\n",
    "#     print('-----------------------------------------------------------------')\n",
    "#     print(classification_report(y_train, y_train_preds))\n",
    "#     print('-----------------------------------------------------------------')\n",
    "#     print('_________________________________________________________________')\n",
    "#     print('Validation Accuracy score %s ' % round(accuracy_score(y_val, y_val_preds), 4), '\\n')\n",
    "#     print('----------------------------------------------------------------')\n",
    "#     print(pd.DataFrame(confusion_matrix(y_val, y_val_preds), \n",
    "#                             index=['Actually_Negative', 'Actually_Positive'], \n",
    "#                             columns=['Predicted_Negative', 'Predicted_Positive']), '\\n')\n",
    "#     print('-----------------------------------------------------------------')\n",
    "#     print(classification_report(y_val, y_val_preds))\n",
    "#     print('-----------------------------------------------------------------')"
   ]
  },
  {
   "cell_type": "code",
   "execution_count": null,
   "id": "7216cc91",
   "metadata": {},
   "outputs": [],
   "source": []
  },
  {
   "cell_type": "markdown",
   "id": "5a37d1a4-c90a-47dc-94a4-cfb56a87f1a8",
   "metadata": {},
   "source": [
    "## Naive Bayes"
   ]
  },
  {
   "cell_type": "code",
   "execution_count": 230,
   "id": "8412c3cb-d6bd-48eb-866f-c0e4339b776e",
   "metadata": {},
   "outputs": [],
   "source": [
    "# Import our model!\n",
    "\n",
    "from sklearn.naive_bayes import MultinomialNB"
   ]
  },
  {
   "cell_type": "code",
   "execution_count": 231,
   "id": "4353cfa0-4715-486f-bc9a-6860ec935322",
   "metadata": {},
   "outputs": [
    {
     "name": "stdout",
     "output_type": "stream",
     "text": [
      "Fitting 3 folds for each of 5 candidates, totalling 15 fits\n",
      "0.9483660130718955\n",
      "{'alpha': 0.5}\n",
      "Fitting 3 folds for each of 5 candidates, totalling 15 fits\n",
      "0.9483660130718955\n",
      "{'alpha': 0.5}\n",
      "time: 26.442 seconds\n",
      "time: 0 minutes, 26.442 seconds\n"
     ]
    }
   ],
   "source": [
    "# Instantiate our model!\n",
    "\n",
    "start_time = time.time()\n",
    "\n",
    "# define parameters for a GridSearch\n",
    "nb_params = {\n",
    "    'alpha': [1.0, 0.75, 0.5, 0.25, 0.1]\n",
    "}\n",
    "\n",
    "\n",
    "# Naive Bayes, Count Vectorizer\n",
    "nb_cvect = MultinomialNB()\n",
    "gs_nb_cvec = GridSearchCV(nb_cvect, param_grid=nb_params, verbose=1, cv=3)\n",
    "gs_nb_cvec.fit(X_train_df_cvec, y_train)\n",
    "print(gs_nb_cvec.best_score_)\n",
    "print(gs_nb_cvec.best_params_)\n",
    "\n",
    "\n",
    "# Naive Bayes, tf-idf Vectorizer\n",
    "nb_tfidf = MultinomialNB()\n",
    "gs_nb_tfidf = GridSearchCV(nb_tfidf, param_grid=nb_params, verbose=1, cv=3)\n",
    "gs_nb_tfidf.fit(X_train_df_cvec, y_train)\n",
    "print(gs_nb_tfidf.best_score_)\n",
    "print(gs_nb_tfidf.best_params_)\n",
    "\n",
    "\n",
    "end_time = round(time.time() - start_time, 3)\n",
    "print(f'time: {end_time} seconds')\n",
    "end_time_minutes = int(end_time/ 60)\n",
    "end_time_seconds = round(end_time % 60, 3)\n",
    "\n",
    "print(f'time: {end_time_minutes} minutes, {end_time_seconds} seconds')\n",
    "\n"
   ]
  },
  {
   "cell_type": "code",
   "execution_count": 232,
   "id": "2e41e93f-2a3c-41ba-9b09-4908e85013fa",
   "metadata": {},
   "outputs": [
    {
     "name": "stdout",
     "output_type": "stream",
     "text": [
      "NaiveB Cvect Training Score:\u001b[1m 0.9564\u001b[0m\n",
      "NaiveB Cvect validation Score:\u001b[1m 0.9444\u001b[0m\n",
      "\n",
      "NaiveB Tf-idf Training Score:\u001b[1m 0.958\u001b[0m\n",
      "NaiveB Tf-idf validation Score:\u001b[1m 0.9481\u001b[0m\n"
     ]
    }
   ],
   "source": [
    "nb_train_score_cvec = gs_nb_cvec.score(X_train_df_cvec, y_train)\n",
    "nb_val_score_cvec = gs_nb_cvec.score(X_val_df_cvec, y_val)\n",
    "nb_train_score_tfidf = gs_nb_tfidf.score(X_train_df_tfidf, y_train)\n",
    "nb_val_score_tfidf = gs_nb_tfidf.score(X_val_df_tfidf, y_val)\n",
    "\n",
    "print('NaiveB Cvect Training Score:' + color.BOLD + f' {round(nb_train_score_cvec, 4)}' + color.END)\n",
    "print('NaiveB Cvect validation Score:' + color.BOLD + f' {round(nb_val_score_cvec, 4)}' + color.END)\n",
    "print()\n",
    "print('NaiveB Tf-idf Training Score:' + color.BOLD + f' {round(nb_train_score_tfidf, 4)}' + color.END)\n",
    "print('NaiveB Tf-idf validation Score:' + color.BOLD + f' {round(nb_val_score_tfidf, 4)}' + color.END)\n"
   ]
  },
  {
   "cell_type": "code",
   "execution_count": 233,
   "id": "f6095f87-8ff0-4463-a169-d69eb6d7efe7",
   "metadata": {},
   "outputs": [
    {
     "data": {
      "text/plain": [
       "31"
      ]
     },
     "execution_count": 233,
     "metadata": {},
     "output_type": "execute_result"
    }
   ],
   "source": [
    "(gs_nb_cvec.predict(X_train_df_cvec) != gs_nb_tfidf.predict(X_train_df_tfidf)).sum()"
   ]
  },
  {
   "cell_type": "code",
   "execution_count": 234,
   "id": "3ec7dd6c-e8c0-4bf0-908f-3ec18c58f8da",
   "metadata": {},
   "outputs": [
    {
     "data": {
      "text/plain": [
       "8"
      ]
     },
     "execution_count": 234,
     "metadata": {},
     "output_type": "execute_result"
    }
   ],
   "source": [
    "(gs_nb_cvec.predict(X_val_df_cvec) != gs_nb_tfidf.predict(X_val_df_tfidf)).sum()"
   ]
  },
  {
   "cell_type": "code",
   "execution_count": 251,
   "id": "c5cf2c58-78e8-4835-a4c5-fd13b3c3f09b",
   "metadata": {},
   "outputs": [
    {
     "data": {
      "text/html": [
       "<div>\n",
       "<style scoped>\n",
       "    .dataframe tbody tr th:only-of-type {\n",
       "        vertical-align: middle;\n",
       "    }\n",
       "\n",
       "    .dataframe tbody tr th {\n",
       "        vertical-align: top;\n",
       "    }\n",
       "\n",
       "    .dataframe thead th {\n",
       "        text-align: right;\n",
       "    }\n",
       "</style>\n",
       "<table border=\"1\" class=\"dataframe\">\n",
       "  <thead>\n",
       "    <tr style=\"text-align: right;\">\n",
       "      <th>model</th>\n",
       "      <th>nb_cvec</th>\n",
       "      <th>nb_tfidf</th>\n",
       "    </tr>\n",
       "    <tr>\n",
       "      <th>accuracy</th>\n",
       "      <th></th>\n",
       "      <th></th>\n",
       "    </tr>\n",
       "  </thead>\n",
       "  <tbody>\n",
       "    <tr>\n",
       "      <th>train</th>\n",
       "      <td>0.9564</td>\n",
       "      <td>0.9580</td>\n",
       "    </tr>\n",
       "    <tr>\n",
       "      <th>validate</th>\n",
       "      <td>0.9444</td>\n",
       "      <td>0.9481</td>\n",
       "    </tr>\n",
       "    <tr>\n",
       "      <th>test</th>\n",
       "      <td>0.0000</td>\n",
       "      <td>0.0000</td>\n",
       "    </tr>\n",
       "  </tbody>\n",
       "</table>\n",
       "</div>"
      ],
      "text/plain": [
       "model     nb_cvec  nb_tfidf\n",
       "accuracy                   \n",
       "train      0.9564    0.9580\n",
       "validate   0.9444    0.9481\n",
       "test       0.0000    0.0000"
      ]
     },
     "execution_count": 251,
     "metadata": {},
     "output_type": "execute_result"
    }
   ],
   "source": [
    "results_df['nb_cvec'] = np.array([round(nb_train_score_cvec, 4), \n",
    "                                  round(nb_val_score_cvec, 4), \n",
    "                                  0])\n",
    "results_df['nb_tfidf'] = np.array([round(nb_train_score_tfidf, 4), \n",
    "                                  round(nb_val_score_tfidf, 4), \n",
    "                                  0])\n",
    "results_df"
   ]
  },
  {
   "cell_type": "markdown",
   "id": "53528e97",
   "metadata": {},
   "source": [
    "**The Tf-Idf model has slightly better numbers.  We now consider a error analysis of the model.**"
   ]
  },
  {
   "cell_type": "markdown",
   "id": "aa6aec73",
   "metadata": {},
   "source": [
    "**Confusion Matrix**"
   ]
  },
  {
   "cell_type": "code",
   "execution_count": 264,
   "id": "ac1c4286",
   "metadata": {},
   "outputs": [
    {
     "data": {
      "text/plain": [
       "numpy.ndarray"
      ]
     },
     "execution_count": 264,
     "metadata": {},
     "output_type": "execute_result"
    }
   ],
   "source": [
    "y_preds_val_cvec = gs_nb_cvec.predict(X_val_df_cvec)\n",
    "\n",
    "confusion_matrix(y_val, y_preds_val_cvec)"
   ]
  },
  {
   "cell_type": "code",
   "execution_count": 279,
   "id": "9600aeb0",
   "metadata": {},
   "outputs": [
    {
     "data": {
      "image/png": "[encoded data removed]",
      "text/plain": [
       "<Figure size 720x360 with 4 Axes>"
      ]
     },
     "metadata": {
      "needs_background": "light"
     },
     "output_type": "display_data"
    }
   ],
   "source": [
    "import matplotlib.pyplot as plt\n",
    "import numpy as np\n",
    "from sklearn.metrics import confusion_matrix, ConfusionMatrixDisplay\n",
    "\n",
    "# Example confusion matrices\n",
    "# cm1 = np.array([[80, 20], [30, 70]])\n",
    "y_preds_val_cvec = gs_nb_cvec.predict(X_val_df_cvec)\n",
    "cm1 = confusion_matrix(y_val, y_preds_val_cvec)\n",
    "# cm2 = np.array([[90, 10], [15, 85]])\n",
    "y_preds_val_tfidf = gs_nb_tfidf.predict(X_val_df_tfidf)\n",
    "cm2 = confusion_matrix(y_val, y_preds_val_tfidf)\n",
    "\n",
    "# Create subplots\n",
    "fig, axes = plt.subplots(1, 2, figsize=(10, 5))\n",
    "\n",
    "# Plot the first confusion matrix\n",
    "disp1 = ConfusionMatrixDisplay(confusion_matrix=cm1)\n",
    "disp1.plot(ax=axes[0], cmap=plt.cm.Blues)\n",
    "axes[0].set_title('Confusion Matrix\\nNaive Bayes\\nCount Vectorizer')\n",
    "axes[0].grid(False)\n",
    "\n",
    "# Plot the second confusion matrix\n",
    "disp2 = ConfusionMatrixDisplay(confusion_matrix=cm2)\n",
    "disp2.plot(ax=axes[1], cmap=plt.cm.Greens)\n",
    "axes[1].set_title('Confusion Matrix\\nNaive Bayes\\nTf-Idf')\n",
    "axes[1].grid(False)\n",
    "\n",
    "# Adjust layout and display the plot\n",
    "plt.tight_layout()\n",
    "plt.suptitle('Validation Numbers', fontsize=24) #  .title('Validation Numbers')\n",
    "plt.show()"
   ]
  },
  {
   "cell_type": "code",
   "execution_count": 261,
   "id": "554d6ed7",
   "metadata": {},
   "outputs": [
    {
     "name": "stdout",
     "output_type": "stream",
     "text": [
      "----------------------------------------------------------------\n",
      "Accuracy score 0.9444  \n",
      "\n",
      "----------------------------------------------------------------\n",
      "                   Predicted_Negative  Predicted_Positive\n",
      "Actually_Negative                 249                  21\n",
      "Actually_Positive                   9                 261 \n",
      "\n",
      "-----------------------------------------------------------------\n",
      "              precision    recall  f1-score   support\n",
      "\n",
      "           0       0.97      0.92      0.94       270\n",
      "           1       0.93      0.97      0.95       270\n",
      "\n",
      "    accuracy                           0.94       540\n",
      "   macro avg       0.95      0.94      0.94       540\n",
      "weighted avg       0.95      0.94      0.94       540\n",
      "\n",
      "-----------------------------------------------------------------\n",
      "----------------------------------------------------------------\n",
      "Accuracy score 0.9481  \n",
      "\n",
      "----------------------------------------------------------------\n",
      "                   Predicted_Negative  Predicted_Positive\n",
      "Actually_Negative                 251                  19\n",
      "Actually_Positive                   9                 261 \n",
      "\n",
      "-----------------------------------------------------------------\n",
      "              precision    recall  f1-score   support\n",
      "\n",
      "           0       0.97      0.93      0.95       270\n",
      "           1       0.93      0.97      0.95       270\n",
      "\n",
      "    accuracy                           0.95       540\n",
      "   macro avg       0.95      0.95      0.95       540\n",
      "weighted avg       0.95      0.95      0.95       540\n",
      "\n",
      "-----------------------------------------------------------------\n"
     ]
    },
    {
     "data": {
      "image/png": "[encoded data removed]",
      "text/plain": [
       "<Figure size 720x360 with 2 Axes>"
      ]
     },
     "metadata": {
      "needs_background": "light"
     },
     "output_type": "display_data"
    }
   ],
   "source": [
    "plt.figure(figsize=(10,5))\n",
    "plt.subplot(1, 2, 1)  # 1 row, 2 columns, 1st subplot\n",
    "# plt.plot([1, 2, 3], [4, 5, 6])\n",
    "# generating predictions\n",
    "y_preds_val_cvec = gs_nb_cvec.predict(X_val_df_cvec)\n",
    "\n",
    "# consider the confusion matrix\n",
    "metrics(y_val, y_preds_val_cvec)\n",
    "plt.title('Subplot 1')\n",
    "\n",
    "plt.subplot(1, 2, 2)  # 1 row, 2 columns, 2nd subplot\n",
    "# plt.scatter([1, 2, 3], [7, 8, 9])\n",
    "# validation set, tfidf\n",
    "\n",
    "# generating predictions\n",
    "y_preds_val_tfidf = gs_nb_tfidf.predict(X_val_df_tfidf)\n",
    "\n",
    "# consider the confusion matrix\n",
    "metrics(y_val, y_preds_val_tfidf)\n",
    "plt.title('Subplot 2')\n",
    "\n",
    "plt.tight_layout()\n",
    "plt.show()"
   ]
  },
  {
   "cell_type": "code",
   "execution_count": 254,
   "id": "cb563ffb",
   "metadata": {},
   "outputs": [
    {
     "name": "stdout",
     "output_type": "stream",
     "text": [
      "----------------------------------------------------------------\n",
      "Accuracy score 0.9444  \n",
      "\n",
      "----------------------------------------------------------------\n",
      "                   Predicted_Negative  Predicted_Positive\n",
      "Actually_Negative                 249                  21\n",
      "Actually_Positive                   9                 261 \n",
      "\n",
      "-----------------------------------------------------------------\n",
      "              precision    recall  f1-score   support\n",
      "\n",
      "           0       0.97      0.92      0.94       270\n",
      "           1       0.93      0.97      0.95       270\n",
      "\n",
      "    accuracy                           0.94       540\n",
      "   macro avg       0.95      0.94      0.94       540\n",
      "weighted avg       0.95      0.94      0.94       540\n",
      "\n",
      "-----------------------------------------------------------------\n"
     ]
    }
   ],
   "source": [
    "# validation set, cvec\n",
    "\n",
    "# generating predictions\n",
    "y_preds_val_cvec = gs_nb_cvec.predict(X_val_df_cvec)\n",
    "\n",
    "# consider the confusion matrix\n",
    "metrics(y_val, y_preds_val_cvec)"
   ]
  },
  {
   "cell_type": "code",
   "execution_count": 236,
   "id": "c77870f6",
   "metadata": {},
   "outputs": [
    {
     "name": "stdout",
     "output_type": "stream",
     "text": [
      "----------------------------------------------------------------\n",
      "Accuracy score 0.9481  \n",
      "\n",
      "----------------------------------------------------------------\n",
      "                   Predicted_Negative  Predicted_Positive\n",
      "Actually_Negative                 251                  19\n",
      "Actually_Positive                   9                 261 \n",
      "\n",
      "-----------------------------------------------------------------\n",
      "              precision    recall  f1-score   support\n",
      "\n",
      "           0       0.97      0.93      0.95       270\n",
      "           1       0.93      0.97      0.95       270\n",
      "\n",
      "    accuracy                           0.95       540\n",
      "   macro avg       0.95      0.95      0.95       540\n",
      "weighted avg       0.95      0.95      0.95       540\n",
      "\n",
      "-----------------------------------------------------------------\n"
     ]
    }
   ],
   "source": [
    "# validation set, tfidf\n",
    "\n",
    "# generating predictions\n",
    "y_preds_val_tfidf = gs_nb_tfidf.predict(X_val_df_tfidf)\n",
    "\n",
    "# consider the confusion matrix\n",
    "metrics(y_val, y_preds_val_tfidf)"
   ]
  },
  {
   "cell_type": "markdown",
   "id": "110febe9",
   "metadata": {},
   "source": [
    "## Logistic Regression"
   ]
  },
  {
   "cell_type": "code",
   "execution_count": 237,
   "id": "d74b9401",
   "metadata": {},
   "outputs": [
    {
     "data": {
      "text/html": [
       "<div>\n",
       "<style scoped>\n",
       "    .dataframe tbody tr th:only-of-type {\n",
       "        vertical-align: middle;\n",
       "    }\n",
       "\n",
       "    .dataframe tbody tr th {\n",
       "        vertical-align: top;\n",
       "    }\n",
       "\n",
       "    .dataframe thead th {\n",
       "        text-align: right;\n",
       "    }\n",
       "</style>\n",
       "<table border=\"1\" class=\"dataframe\">\n",
       "  <thead>\n",
       "    <tr style=\"text-align: right;\">\n",
       "      <th></th>\n",
       "      <th>aaron</th>\n",
       "      <th>abandon</th>\n",
       "      <th>abdominal</th>\n",
       "      <th>abide</th>\n",
       "      <th>ability</th>\n",
       "      <th>able</th>\n",
       "      <th>abolish</th>\n",
       "      <th>abortion</th>\n",
       "      <th>abortions</th>\n",
       "      <th>abound</th>\n",
       "      <th>...</th>\n",
       "      <th>yourselfers</th>\n",
       "      <th>youth</th>\n",
       "      <th>yup</th>\n",
       "      <th>zero</th>\n",
       "      <th>zinc</th>\n",
       "      <th>zionism</th>\n",
       "      <th>zionist</th>\n",
       "      <th>zionists</th>\n",
       "      <th>zip</th>\n",
       "      <th>zone</th>\n",
       "    </tr>\n",
       "  </thead>\n",
       "  <tbody>\n",
       "    <tr>\n",
       "      <th>0</th>\n",
       "      <td>0</td>\n",
       "      <td>0</td>\n",
       "      <td>0</td>\n",
       "      <td>0</td>\n",
       "      <td>0</td>\n",
       "      <td>0</td>\n",
       "      <td>0</td>\n",
       "      <td>0</td>\n",
       "      <td>0</td>\n",
       "      <td>0</td>\n",
       "      <td>...</td>\n",
       "      <td>0</td>\n",
       "      <td>0</td>\n",
       "      <td>0</td>\n",
       "      <td>0</td>\n",
       "      <td>0</td>\n",
       "      <td>0</td>\n",
       "      <td>0</td>\n",
       "      <td>0</td>\n",
       "      <td>0</td>\n",
       "      <td>0</td>\n",
       "    </tr>\n",
       "    <tr>\n",
       "      <th>1</th>\n",
       "      <td>0</td>\n",
       "      <td>0</td>\n",
       "      <td>0</td>\n",
       "      <td>0</td>\n",
       "      <td>0</td>\n",
       "      <td>1</td>\n",
       "      <td>0</td>\n",
       "      <td>0</td>\n",
       "      <td>0</td>\n",
       "      <td>0</td>\n",
       "      <td>...</td>\n",
       "      <td>0</td>\n",
       "      <td>0</td>\n",
       "      <td>0</td>\n",
       "      <td>1</td>\n",
       "      <td>0</td>\n",
       "      <td>0</td>\n",
       "      <td>0</td>\n",
       "      <td>0</td>\n",
       "      <td>0</td>\n",
       "      <td>0</td>\n",
       "    </tr>\n",
       "    <tr>\n",
       "      <th>2</th>\n",
       "      <td>0</td>\n",
       "      <td>0</td>\n",
       "      <td>0</td>\n",
       "      <td>0</td>\n",
       "      <td>0</td>\n",
       "      <td>0</td>\n",
       "      <td>0</td>\n",
       "      <td>0</td>\n",
       "      <td>0</td>\n",
       "      <td>0</td>\n",
       "      <td>...</td>\n",
       "      <td>0</td>\n",
       "      <td>0</td>\n",
       "      <td>0</td>\n",
       "      <td>0</td>\n",
       "      <td>0</td>\n",
       "      <td>0</td>\n",
       "      <td>0</td>\n",
       "      <td>0</td>\n",
       "      <td>0</td>\n",
       "      <td>0</td>\n",
       "    </tr>\n",
       "    <tr>\n",
       "      <th>3</th>\n",
       "      <td>0</td>\n",
       "      <td>0</td>\n",
       "      <td>0</td>\n",
       "      <td>0</td>\n",
       "      <td>0</td>\n",
       "      <td>0</td>\n",
       "      <td>0</td>\n",
       "      <td>0</td>\n",
       "      <td>0</td>\n",
       "      <td>0</td>\n",
       "      <td>...</td>\n",
       "      <td>0</td>\n",
       "      <td>0</td>\n",
       "      <td>0</td>\n",
       "      <td>0</td>\n",
       "      <td>0</td>\n",
       "      <td>0</td>\n",
       "      <td>0</td>\n",
       "      <td>0</td>\n",
       "      <td>0</td>\n",
       "      <td>0</td>\n",
       "    </tr>\n",
       "    <tr>\n",
       "      <th>4</th>\n",
       "      <td>0</td>\n",
       "      <td>0</td>\n",
       "      <td>0</td>\n",
       "      <td>0</td>\n",
       "      <td>0</td>\n",
       "      <td>0</td>\n",
       "      <td>0</td>\n",
       "      <td>0</td>\n",
       "      <td>0</td>\n",
       "      <td>0</td>\n",
       "      <td>...</td>\n",
       "      <td>0</td>\n",
       "      <td>0</td>\n",
       "      <td>0</td>\n",
       "      <td>0</td>\n",
       "      <td>0</td>\n",
       "      <td>0</td>\n",
       "      <td>0</td>\n",
       "      <td>0</td>\n",
       "      <td>0</td>\n",
       "      <td>0</td>\n",
       "    </tr>\n",
       "  </tbody>\n",
       "</table>\n",
       "<p>5 rows × 5501 columns</p>\n",
       "</div>"
      ],
      "text/plain": [
       "   aaron  abandon  abdominal  abide  ability  able  abolish  abortion  \\\n",
       "0      0        0          0      0        0     0        0         0   \n",
       "1      0        0          0      0        0     1        0         0   \n",
       "2      0        0          0      0        0     0        0         0   \n",
       "3      0        0          0      0        0     0        0         0   \n",
       "4      0        0          0      0        0     0        0         0   \n",
       "\n",
       "   abortions  abound  ...  yourselfers  youth  yup  zero  zinc  zionism  \\\n",
       "0          0       0  ...            0      0    0     0     0        0   \n",
       "1          0       0  ...            0      0    0     1     0        0   \n",
       "2          0       0  ...            0      0    0     0     0        0   \n",
       "3          0       0  ...            0      0    0     0     0        0   \n",
       "4          0       0  ...            0      0    0     0     0        0   \n",
       "\n",
       "   zionist  zionists  zip  zone  \n",
       "0        0         0    0     0  \n",
       "1        0         0    0     0  \n",
       "2        0         0    0     0  \n",
       "3        0         0    0     0  \n",
       "4        0         0    0     0  \n",
       "\n",
       "[5 rows x 5501 columns]"
      ]
     },
     "execution_count": 237,
     "metadata": {},
     "output_type": "execute_result"
    }
   ],
   "source": [
    "X_train_df_cvec.head()"
   ]
  },
  {
   "cell_type": "code",
   "execution_count": 238,
   "id": "073993ce",
   "metadata": {},
   "outputs": [
    {
     "name": "stdout",
     "output_type": "stream",
     "text": [
      "Fitting 5 folds for each of 1 candidates, totalling 5 fits\n",
      "0.9372549019607843\n",
      "{'penalty': 'l2'}\n",
      "Fitting 5 folds for each of 1 candidates, totalling 5 fits\n",
      "0.945751633986928\n",
      "{'penalty': 'l2'}\n",
      "time: 22.016 seconds\n",
      "time: 0 minutes, 22.016 seconds\n"
     ]
    }
   ],
   "source": [
    "start_time = time.time()\n",
    "\n",
    "# define parameters for a GridSearch\n",
    "lr_params = {\n",
    "    'penalty':['l2']\n",
    "}\n",
    "\n",
    "\n",
    "# logistic Regression, Count Vectorizer\n",
    "lr_cvec = LogisticRegression()\n",
    "gs_lr_cvec = GridSearchCV(lr_cvec, param_grid=lr_params, verbose=1, cv=5)\n",
    "gs_lr_cvec.fit(X_train_df_cvec, y_train)\n",
    "print(gs_lr_cvec.best_score_)\n",
    "print(gs_lr_cvec.best_params_)\n",
    "\n",
    "\n",
    "# logistic Regression, tf-idf Vectorizer\n",
    "lr_tfidf = LogisticRegression()\n",
    "gs_lr_tfidf = GridSearchCV(lr_tfidf, param_grid=lr_params, verbose=1, cv=5)\n",
    "gs_lr_tfidf.fit(X_train_df_tfidf, y_train)\n",
    "print(gs_lr_tfidf.best_score_)\n",
    "print(gs_lr_tfidf.best_params_)\n",
    "\n",
    "end_time = round(time.time() - start_time, 3)\n",
    "print(f'time: {end_time} seconds')\n",
    "end_time_minutes = int(end_time/ 60)\n",
    "end_time_seconds = round(end_time % 60, 3)\n",
    "\n",
    "print(f'time: {end_time_minutes} minutes, {end_time_seconds} seconds')"
   ]
  },
  {
   "cell_type": "code",
   "execution_count": 239,
   "id": "90fad804",
   "metadata": {},
   "outputs": [
    {
     "name": "stdout",
     "output_type": "stream",
     "text": [
      "LogReg Cvect Training Score:\u001b[1m 0.9959\u001b[0m\n",
      "LogReg Cvect validation Score:\u001b[1m 0.9426\u001b[0m\n",
      "\n",
      "LogReg Tf-idf Training Score:\u001b[1m 0.9767\u001b[0m\n",
      "LogReg Tf-idf validation Score:\u001b[1m 0.9556\u001b[0m\n"
     ]
    }
   ],
   "source": [
    "lr_train_score_cvec = gs_lr_cvec.score(X_train_df_cvec, y_train)\n",
    "lr_val_score_cvec = gs_lr_cvec.score(X_val_df_cvec, y_val)\n",
    "lr_train_score_tfidf = gs_lr_tfidf.score(X_train_df_tfidf, y_train)\n",
    "lr_val_score_tfidf = gs_lr_tfidf.score(X_val_df_tfidf, y_val)\n",
    "\n",
    "print('LogReg Cvect Training Score:' + color.BOLD + f' {round(lr_train_score_cvec, 4)}' + color.END)\n",
    "print('LogReg Cvect validation Score:' + color.BOLD + f' {round(lr_val_score_cvec, 4)}' + color.END)\n",
    "print()\n",
    "print('LogReg Tf-idf Training Score:' + color.BOLD + f' {round(lr_train_score_tfidf, 4)}' + color.END)\n",
    "print('LogReg Tf-idf validation Score:' + color.BOLD + f' {round(lr_val_score_tfidf, 4)}' + color.END)\n"
   ]
  },
  {
   "cell_type": "code",
   "execution_count": 252,
   "id": "d0df8a9d",
   "metadata": {},
   "outputs": [
    {
     "data": {
      "text/html": [
       "<div>\n",
       "<style scoped>\n",
       "    .dataframe tbody tr th:only-of-type {\n",
       "        vertical-align: middle;\n",
       "    }\n",
       "\n",
       "    .dataframe tbody tr th {\n",
       "        vertical-align: top;\n",
       "    }\n",
       "\n",
       "    .dataframe thead th {\n",
       "        text-align: right;\n",
       "    }\n",
       "</style>\n",
       "<table border=\"1\" class=\"dataframe\">\n",
       "  <thead>\n",
       "    <tr style=\"text-align: right;\">\n",
       "      <th>model</th>\n",
       "      <th>nb_cvec</th>\n",
       "      <th>nb_tfidf</th>\n",
       "      <th>lr_cvec</th>\n",
       "      <th>lr_tfidf</th>\n",
       "    </tr>\n",
       "    <tr>\n",
       "      <th>accuracy</th>\n",
       "      <th></th>\n",
       "      <th></th>\n",
       "      <th></th>\n",
       "      <th></th>\n",
       "    </tr>\n",
       "  </thead>\n",
       "  <tbody>\n",
       "    <tr>\n",
       "      <th>train</th>\n",
       "      <td>0.9564</td>\n",
       "      <td>0.9580</td>\n",
       "      <td>0.9959</td>\n",
       "      <td>0.9767</td>\n",
       "    </tr>\n",
       "    <tr>\n",
       "      <th>validate</th>\n",
       "      <td>0.9444</td>\n",
       "      <td>0.9481</td>\n",
       "      <td>0.9426</td>\n",
       "      <td>0.9556</td>\n",
       "    </tr>\n",
       "    <tr>\n",
       "      <th>test</th>\n",
       "      <td>0.0000</td>\n",
       "      <td>0.0000</td>\n",
       "      <td>0.0000</td>\n",
       "      <td>0.0000</td>\n",
       "    </tr>\n",
       "  </tbody>\n",
       "</table>\n",
       "</div>"
      ],
      "text/plain": [
       "model     nb_cvec  nb_tfidf  lr_cvec  lr_tfidf\n",
       "accuracy                                      \n",
       "train      0.9564    0.9580   0.9959    0.9767\n",
       "validate   0.9444    0.9481   0.9426    0.9556\n",
       "test       0.0000    0.0000   0.0000    0.0000"
      ]
     },
     "execution_count": 252,
     "metadata": {},
     "output_type": "execute_result"
    }
   ],
   "source": [
    "results_df['lr_cvec'] = np.array([round(lr_train_score_cvec, 4), \n",
    "                                  round(lr_val_score_cvec, 4), \n",
    "                                  0])\n",
    "results_df['lr_tfidf'] = np.array([round(lr_train_score_tfidf, 4), \n",
    "                                  round(lr_val_score_tfidf, 4), \n",
    "                                  0])\n",
    "results_df"
   ]
  },
  {
   "cell_type": "markdown",
   "id": "11f3c4c2",
   "metadata": {},
   "source": [
    "## K-Nearest Neighbors"
   ]
  },
  {
   "cell_type": "code",
   "execution_count": 241,
   "id": "709324b0",
   "metadata": {},
   "outputs": [
    {
     "data": {
      "text/html": [
       "<div>\n",
       "<style scoped>\n",
       "    .dataframe tbody tr th:only-of-type {\n",
       "        vertical-align: middle;\n",
       "    }\n",
       "\n",
       "    .dataframe tbody tr th {\n",
       "        vertical-align: top;\n",
       "    }\n",
       "\n",
       "    .dataframe thead th {\n",
       "        text-align: right;\n",
       "    }\n",
       "</style>\n",
       "<table border=\"1\" class=\"dataframe\">\n",
       "  <thead>\n",
       "    <tr style=\"text-align: right;\">\n",
       "      <th></th>\n",
       "      <th>aaron</th>\n",
       "      <th>abandon</th>\n",
       "      <th>abdominal</th>\n",
       "      <th>abide</th>\n",
       "      <th>ability</th>\n",
       "      <th>able</th>\n",
       "      <th>abolish</th>\n",
       "      <th>abortion</th>\n",
       "      <th>abortions</th>\n",
       "      <th>abound</th>\n",
       "      <th>...</th>\n",
       "      <th>yourselfers</th>\n",
       "      <th>youth</th>\n",
       "      <th>yup</th>\n",
       "      <th>zero</th>\n",
       "      <th>zinc</th>\n",
       "      <th>zionism</th>\n",
       "      <th>zionist</th>\n",
       "      <th>zionists</th>\n",
       "      <th>zip</th>\n",
       "      <th>zone</th>\n",
       "    </tr>\n",
       "  </thead>\n",
       "  <tbody>\n",
       "    <tr>\n",
       "      <th>0</th>\n",
       "      <td>0</td>\n",
       "      <td>0</td>\n",
       "      <td>0</td>\n",
       "      <td>0</td>\n",
       "      <td>0</td>\n",
       "      <td>0</td>\n",
       "      <td>0</td>\n",
       "      <td>0</td>\n",
       "      <td>0</td>\n",
       "      <td>0</td>\n",
       "      <td>...</td>\n",
       "      <td>0</td>\n",
       "      <td>0</td>\n",
       "      <td>0</td>\n",
       "      <td>0</td>\n",
       "      <td>0</td>\n",
       "      <td>0</td>\n",
       "      <td>0</td>\n",
       "      <td>0</td>\n",
       "      <td>0</td>\n",
       "      <td>0</td>\n",
       "    </tr>\n",
       "    <tr>\n",
       "      <th>1</th>\n",
       "      <td>0</td>\n",
       "      <td>0</td>\n",
       "      <td>0</td>\n",
       "      <td>0</td>\n",
       "      <td>0</td>\n",
       "      <td>1</td>\n",
       "      <td>0</td>\n",
       "      <td>0</td>\n",
       "      <td>0</td>\n",
       "      <td>0</td>\n",
       "      <td>...</td>\n",
       "      <td>0</td>\n",
       "      <td>0</td>\n",
       "      <td>0</td>\n",
       "      <td>1</td>\n",
       "      <td>0</td>\n",
       "      <td>0</td>\n",
       "      <td>0</td>\n",
       "      <td>0</td>\n",
       "      <td>0</td>\n",
       "      <td>0</td>\n",
       "    </tr>\n",
       "    <tr>\n",
       "      <th>2</th>\n",
       "      <td>0</td>\n",
       "      <td>0</td>\n",
       "      <td>0</td>\n",
       "      <td>0</td>\n",
       "      <td>0</td>\n",
       "      <td>0</td>\n",
       "      <td>0</td>\n",
       "      <td>0</td>\n",
       "      <td>0</td>\n",
       "      <td>0</td>\n",
       "      <td>...</td>\n",
       "      <td>0</td>\n",
       "      <td>0</td>\n",
       "      <td>0</td>\n",
       "      <td>0</td>\n",
       "      <td>0</td>\n",
       "      <td>0</td>\n",
       "      <td>0</td>\n",
       "      <td>0</td>\n",
       "      <td>0</td>\n",
       "      <td>0</td>\n",
       "    </tr>\n",
       "    <tr>\n",
       "      <th>3</th>\n",
       "      <td>0</td>\n",
       "      <td>0</td>\n",
       "      <td>0</td>\n",
       "      <td>0</td>\n",
       "      <td>0</td>\n",
       "      <td>0</td>\n",
       "      <td>0</td>\n",
       "      <td>0</td>\n",
       "      <td>0</td>\n",
       "      <td>0</td>\n",
       "      <td>...</td>\n",
       "      <td>0</td>\n",
       "      <td>0</td>\n",
       "      <td>0</td>\n",
       "      <td>0</td>\n",
       "      <td>0</td>\n",
       "      <td>0</td>\n",
       "      <td>0</td>\n",
       "      <td>0</td>\n",
       "      <td>0</td>\n",
       "      <td>0</td>\n",
       "    </tr>\n",
       "    <tr>\n",
       "      <th>4</th>\n",
       "      <td>0</td>\n",
       "      <td>0</td>\n",
       "      <td>0</td>\n",
       "      <td>0</td>\n",
       "      <td>0</td>\n",
       "      <td>0</td>\n",
       "      <td>0</td>\n",
       "      <td>0</td>\n",
       "      <td>0</td>\n",
       "      <td>0</td>\n",
       "      <td>...</td>\n",
       "      <td>0</td>\n",
       "      <td>0</td>\n",
       "      <td>0</td>\n",
       "      <td>0</td>\n",
       "      <td>0</td>\n",
       "      <td>0</td>\n",
       "      <td>0</td>\n",
       "      <td>0</td>\n",
       "      <td>0</td>\n",
       "      <td>0</td>\n",
       "    </tr>\n",
       "    <tr>\n",
       "      <th>...</th>\n",
       "      <td>...</td>\n",
       "      <td>...</td>\n",
       "      <td>...</td>\n",
       "      <td>...</td>\n",
       "      <td>...</td>\n",
       "      <td>...</td>\n",
       "      <td>...</td>\n",
       "      <td>...</td>\n",
       "      <td>...</td>\n",
       "      <td>...</td>\n",
       "      <td>...</td>\n",
       "      <td>...</td>\n",
       "      <td>...</td>\n",
       "      <td>...</td>\n",
       "      <td>...</td>\n",
       "      <td>...</td>\n",
       "      <td>...</td>\n",
       "      <td>...</td>\n",
       "      <td>...</td>\n",
       "      <td>...</td>\n",
       "      <td>...</td>\n",
       "    </tr>\n",
       "    <tr>\n",
       "      <th>4585</th>\n",
       "      <td>0</td>\n",
       "      <td>0</td>\n",
       "      <td>0</td>\n",
       "      <td>0</td>\n",
       "      <td>0</td>\n",
       "      <td>0</td>\n",
       "      <td>0</td>\n",
       "      <td>0</td>\n",
       "      <td>0</td>\n",
       "      <td>0</td>\n",
       "      <td>...</td>\n",
       "      <td>0</td>\n",
       "      <td>0</td>\n",
       "      <td>0</td>\n",
       "      <td>0</td>\n",
       "      <td>0</td>\n",
       "      <td>0</td>\n",
       "      <td>0</td>\n",
       "      <td>0</td>\n",
       "      <td>0</td>\n",
       "      <td>0</td>\n",
       "    </tr>\n",
       "    <tr>\n",
       "      <th>4586</th>\n",
       "      <td>0</td>\n",
       "      <td>0</td>\n",
       "      <td>0</td>\n",
       "      <td>0</td>\n",
       "      <td>0</td>\n",
       "      <td>0</td>\n",
       "      <td>0</td>\n",
       "      <td>0</td>\n",
       "      <td>0</td>\n",
       "      <td>0</td>\n",
       "      <td>...</td>\n",
       "      <td>0</td>\n",
       "      <td>0</td>\n",
       "      <td>0</td>\n",
       "      <td>0</td>\n",
       "      <td>0</td>\n",
       "      <td>0</td>\n",
       "      <td>0</td>\n",
       "      <td>0</td>\n",
       "      <td>0</td>\n",
       "      <td>1</td>\n",
       "    </tr>\n",
       "    <tr>\n",
       "      <th>4587</th>\n",
       "      <td>0</td>\n",
       "      <td>0</td>\n",
       "      <td>0</td>\n",
       "      <td>0</td>\n",
       "      <td>0</td>\n",
       "      <td>0</td>\n",
       "      <td>0</td>\n",
       "      <td>0</td>\n",
       "      <td>0</td>\n",
       "      <td>0</td>\n",
       "      <td>...</td>\n",
       "      <td>0</td>\n",
       "      <td>0</td>\n",
       "      <td>0</td>\n",
       "      <td>0</td>\n",
       "      <td>0</td>\n",
       "      <td>0</td>\n",
       "      <td>0</td>\n",
       "      <td>0</td>\n",
       "      <td>0</td>\n",
       "      <td>0</td>\n",
       "    </tr>\n",
       "    <tr>\n",
       "      <th>4588</th>\n",
       "      <td>0</td>\n",
       "      <td>0</td>\n",
       "      <td>0</td>\n",
       "      <td>0</td>\n",
       "      <td>0</td>\n",
       "      <td>0</td>\n",
       "      <td>0</td>\n",
       "      <td>0</td>\n",
       "      <td>0</td>\n",
       "      <td>0</td>\n",
       "      <td>...</td>\n",
       "      <td>0</td>\n",
       "      <td>0</td>\n",
       "      <td>0</td>\n",
       "      <td>0</td>\n",
       "      <td>0</td>\n",
       "      <td>0</td>\n",
       "      <td>0</td>\n",
       "      <td>0</td>\n",
       "      <td>0</td>\n",
       "      <td>0</td>\n",
       "    </tr>\n",
       "    <tr>\n",
       "      <th>4589</th>\n",
       "      <td>0</td>\n",
       "      <td>0</td>\n",
       "      <td>0</td>\n",
       "      <td>0</td>\n",
       "      <td>0</td>\n",
       "      <td>0</td>\n",
       "      <td>0</td>\n",
       "      <td>0</td>\n",
       "      <td>0</td>\n",
       "      <td>0</td>\n",
       "      <td>...</td>\n",
       "      <td>0</td>\n",
       "      <td>0</td>\n",
       "      <td>0</td>\n",
       "      <td>0</td>\n",
       "      <td>0</td>\n",
       "      <td>0</td>\n",
       "      <td>0</td>\n",
       "      <td>0</td>\n",
       "      <td>0</td>\n",
       "      <td>0</td>\n",
       "    </tr>\n",
       "  </tbody>\n",
       "</table>\n",
       "<p>4590 rows × 5501 columns</p>\n",
       "</div>"
      ],
      "text/plain": [
       "      aaron  abandon  abdominal  abide  ability  able  abolish  abortion  \\\n",
       "0         0        0          0      0        0     0        0         0   \n",
       "1         0        0          0      0        0     1        0         0   \n",
       "2         0        0          0      0        0     0        0         0   \n",
       "3         0        0          0      0        0     0        0         0   \n",
       "4         0        0          0      0        0     0        0         0   \n",
       "...     ...      ...        ...    ...      ...   ...      ...       ...   \n",
       "4585      0        0          0      0        0     0        0         0   \n",
       "4586      0        0          0      0        0     0        0         0   \n",
       "4587      0        0          0      0        0     0        0         0   \n",
       "4588      0        0          0      0        0     0        0         0   \n",
       "4589      0        0          0      0        0     0        0         0   \n",
       "\n",
       "      abortions  abound  ...  yourselfers  youth  yup  zero  zinc  zionism  \\\n",
       "0             0       0  ...            0      0    0     0     0        0   \n",
       "1             0       0  ...            0      0    0     1     0        0   \n",
       "2             0       0  ...            0      0    0     0     0        0   \n",
       "3             0       0  ...            0      0    0     0     0        0   \n",
       "4             0       0  ...            0      0    0     0     0        0   \n",
       "...         ...     ...  ...          ...    ...  ...   ...   ...      ...   \n",
       "4585          0       0  ...            0      0    0     0     0        0   \n",
       "4586          0       0  ...            0      0    0     0     0        0   \n",
       "4587          0       0  ...            0      0    0     0     0        0   \n",
       "4588          0       0  ...            0      0    0     0     0        0   \n",
       "4589          0       0  ...            0      0    0     0     0        0   \n",
       "\n",
       "      zionist  zionists  zip  zone  \n",
       "0           0         0    0     0  \n",
       "1           0         0    0     0  \n",
       "2           0         0    0     0  \n",
       "3           0         0    0     0  \n",
       "4           0         0    0     0  \n",
       "...       ...       ...  ...   ...  \n",
       "4585        0         0    0     0  \n",
       "4586        0         0    0     1  \n",
       "4587        0         0    0     0  \n",
       "4588        0         0    0     0  \n",
       "4589        0         0    0     0  \n",
       "\n",
       "[4590 rows x 5501 columns]"
      ]
     },
     "execution_count": 241,
     "metadata": {},
     "output_type": "execute_result"
    }
   ],
   "source": [
    "X_train_df_cvec"
   ]
  },
  {
   "cell_type": "code",
   "execution_count": 242,
   "id": "282345b5",
   "metadata": {},
   "outputs": [
    {
     "data": {
      "text/plain": [
       "679     1\n",
       "2567    1\n",
       "1219    1\n",
       "1323    0\n",
       "78      1\n",
       "       ..\n",
       "1822    1\n",
       "2003    1\n",
       "2242    1\n",
       "87      0\n",
       "2472    0\n",
       "Name: label, Length: 4590, dtype: int64"
      ]
     },
     "execution_count": 242,
     "metadata": {},
     "output_type": "execute_result"
    }
   ],
   "source": [
    "y_train"
   ]
  },
  {
   "cell_type": "code",
   "execution_count": 243,
   "id": "2b3ef26a",
   "metadata": {},
   "outputs": [
    {
     "name": "stdout",
     "output_type": "stream",
     "text": [
      "Fitting 3 folds for each of 8 candidates, totalling 24 fits\n",
      "0.7206971677559914\n",
      "{'n_neighbors': 5}\n",
      "Fitting 3 folds for each of 8 candidates, totalling 24 fits\n",
      "0.7034858387799563\n",
      "{'n_neighbors': 2}\n",
      "time: 106.617 seconds\n",
      "time: 1 minutes, 46.617 seconds\n"
     ]
    }
   ],
   "source": [
    "start_time = time.time()\n",
    "\n",
    "# define parameters for a GridSearch\n",
    "knn_params = {\n",
    "    'n_neighbors': [2,3,4,5,6,7,8,9] #,\n",
    "#     'weights': ['uniform', 'distance'],\n",
    "#     'metric': ['euclidean', 'manhattan']\n",
    "}\n",
    "\n",
    "\n",
    "# k-nearest neighbors, Count Vectorizer\n",
    "knn_cvec = KNeighborsClassifier()\n",
    "gs_knn_cvec = GridSearchCV(\n",
    "    knn_cvec, \n",
    "    knn_params, \n",
    "    #scoring = scorer, \n",
    "    verbose = 1,\n",
    "    cv=3\n",
    ")\n",
    "gs_knn_cvec.fit(X_train_df_cvec, y_train)\n",
    "print(gs_knn_cvec.best_score_)\n",
    "print(gs_knn_cvec.best_params_)\n",
    "\n",
    "\n",
    "# k-nearest neighbors, tf-idf Vectorizer\n",
    "knn_tfidf = KNeighborsClassifier()\n",
    "gs_knn_tfidf = GridSearchCV(\n",
    "    knn_tfidf, \n",
    "    knn_params, \n",
    "    #scoring = scorer, \n",
    "    verbose = 1,\n",
    "    cv=3\n",
    ")\n",
    "gs_knn_tfidf.fit(X_train_df_tfidf, y_train)\n",
    "print(gs_knn_tfidf.best_score_)\n",
    "print(gs_knn_tfidf.best_params_)\n",
    "\n",
    "\n",
    "end_time = round(time.time() - start_time, 3)\n",
    "print(f'time: {end_time} seconds')\n",
    "end_time_minutes = int(end_time/ 60)\n",
    "end_time_seconds = round(end_time % 60, 3)\n",
    "\n",
    "print(f'time: {end_time_minutes} minutes, {end_time_seconds} seconds')\n",
    "\n"
   ]
  },
  {
   "cell_type": "code",
   "execution_count": 244,
   "id": "105cf1fc",
   "metadata": {},
   "outputs": [
    {
     "name": "stdout",
     "output_type": "stream",
     "text": [
      "knn Cvect Training Score:\u001b[1m 0.8658\u001b[0m\n",
      "knn Cvect validation Score:\u001b[1m 0.7852\u001b[0m\n",
      "\n",
      "knn Tf-idf Training Score:\u001b[1m 0.9943\u001b[0m\n",
      "knn Tf-idf validation Score:\u001b[1m 0.7426\u001b[0m\n"
     ]
    }
   ],
   "source": [
    "knn_train_score_cvec = gs_knn_cvec.score(X_train_df_cvec, y_train)\n",
    "knn_val_score_cvec = gs_knn_cvec.score(X_val_df_cvec, y_val)\n",
    "knn_train_score_tfidf = gs_knn_tfidf.score(X_train_df_tfidf, y_train)\n",
    "knn_val_score_tfidf = gs_knn_tfidf.score(X_val_df_tfidf, y_val)\n",
    "\n",
    "print('knn Cvect Training Score:' + color.BOLD + f' {round(knn_train_score_cvec, 4)}' + color.END)\n",
    "print('knn Cvect validation Score:' + color.BOLD + f' {round(knn_val_score_cvec, 4)}' + color.END)\n",
    "print()\n",
    "print('knn Tf-idf Training Score:' + color.BOLD + f' {round(knn_train_score_tfidf, 4)}' + color.END)\n",
    "print('knn Tf-idf validation Score:' + color.BOLD + f' {round(knn_val_score_tfidf, 4)}' + color.END)\n"
   ]
  },
  {
   "cell_type": "code",
   "execution_count": null,
   "id": "d02bb69c",
   "metadata": {},
   "outputs": [],
   "source": []
  },
  {
   "cell_type": "code",
   "execution_count": 253,
   "id": "3bf20e5c",
   "metadata": {},
   "outputs": [
    {
     "data": {
      "text/html": [
       "<div>\n",
       "<style scoped>\n",
       "    .dataframe tbody tr th:only-of-type {\n",
       "        vertical-align: middle;\n",
       "    }\n",
       "\n",
       "    .dataframe tbody tr th {\n",
       "        vertical-align: top;\n",
       "    }\n",
       "\n",
       "    .dataframe thead th {\n",
       "        text-align: right;\n",
       "    }\n",
       "</style>\n",
       "<table border=\"1\" class=\"dataframe\">\n",
       "  <thead>\n",
       "    <tr style=\"text-align: right;\">\n",
       "      <th>model</th>\n",
       "      <th>nb_cvec</th>\n",
       "      <th>nb_tfidf</th>\n",
       "      <th>lr_cvec</th>\n",
       "      <th>lr_tfidf</th>\n",
       "      <th>knn_cvec</th>\n",
       "      <th>knn_tfidf</th>\n",
       "    </tr>\n",
       "    <tr>\n",
       "      <th>accuracy</th>\n",
       "      <th></th>\n",
       "      <th></th>\n",
       "      <th></th>\n",
       "      <th></th>\n",
       "      <th></th>\n",
       "      <th></th>\n",
       "    </tr>\n",
       "  </thead>\n",
       "  <tbody>\n",
       "    <tr>\n",
       "      <th>train</th>\n",
       "      <td>0.9564</td>\n",
       "      <td>0.9580</td>\n",
       "      <td>0.9959</td>\n",
       "      <td>0.9767</td>\n",
       "      <td>0.8658</td>\n",
       "      <td>0.9943</td>\n",
       "    </tr>\n",
       "    <tr>\n",
       "      <th>validate</th>\n",
       "      <td>0.9444</td>\n",
       "      <td>0.9481</td>\n",
       "      <td>0.9426</td>\n",
       "      <td>0.9556</td>\n",
       "      <td>0.7852</td>\n",
       "      <td>0.7426</td>\n",
       "    </tr>\n",
       "    <tr>\n",
       "      <th>test</th>\n",
       "      <td>0.0000</td>\n",
       "      <td>0.0000</td>\n",
       "      <td>0.0000</td>\n",
       "      <td>0.0000</td>\n",
       "      <td>0.0000</td>\n",
       "      <td>0.0000</td>\n",
       "    </tr>\n",
       "  </tbody>\n",
       "</table>\n",
       "</div>"
      ],
      "text/plain": [
       "model     nb_cvec  nb_tfidf  lr_cvec  lr_tfidf  knn_cvec  knn_tfidf\n",
       "accuracy                                                           \n",
       "train      0.9564    0.9580   0.9959    0.9767    0.8658     0.9943\n",
       "validate   0.9444    0.9481   0.9426    0.9556    0.7852     0.7426\n",
       "test       0.0000    0.0000   0.0000    0.0000    0.0000     0.0000"
      ]
     },
     "execution_count": 253,
     "metadata": {},
     "output_type": "execute_result"
    }
   ],
   "source": [
    "results_df['knn_cvec'] = np.array([round(knn_train_score_cvec, 4), \n",
    "                                  round(knn_val_score_cvec, 4), \n",
    "                                  0])\n",
    "results_df['knn_tfidf'] = np.array([round(knn_train_score_tfidf, 4), \n",
    "                                  round(knn_val_score_tfidf, 4), \n",
    "                                  0])\n",
    "results_df"
   ]
  },
  {
   "cell_type": "markdown",
   "id": "f61fe88f",
   "metadata": {},
   "source": [
    "## CART, Decision Trees"
   ]
  },
  {
   "cell_type": "code",
   "execution_count": 363,
   "id": "63277e30",
   "metadata": {},
   "outputs": [
    {
     "data": {
      "text/html": [
       "<div>\n",
       "<style scoped>\n",
       "    .dataframe tbody tr th:only-of-type {\n",
       "        vertical-align: middle;\n",
       "    }\n",
       "\n",
       "    .dataframe tbody tr th {\n",
       "        vertical-align: top;\n",
       "    }\n",
       "\n",
       "    .dataframe thead th {\n",
       "        text-align: right;\n",
       "    }\n",
       "</style>\n",
       "<table border=\"1\" class=\"dataframe\">\n",
       "  <thead>\n",
       "    <tr style=\"text-align: right;\">\n",
       "      <th></th>\n",
       "      <th>aaron</th>\n",
       "      <th>abandon</th>\n",
       "      <th>abdominal</th>\n",
       "      <th>abide</th>\n",
       "      <th>ability</th>\n",
       "      <th>able</th>\n",
       "      <th>abolish</th>\n",
       "      <th>abortion</th>\n",
       "      <th>abortions</th>\n",
       "      <th>abound</th>\n",
       "      <th>...</th>\n",
       "      <th>yourselfers</th>\n",
       "      <th>youth</th>\n",
       "      <th>yup</th>\n",
       "      <th>zero</th>\n",
       "      <th>zinc</th>\n",
       "      <th>zionism</th>\n",
       "      <th>zionist</th>\n",
       "      <th>zionists</th>\n",
       "      <th>zip</th>\n",
       "      <th>zone</th>\n",
       "    </tr>\n",
       "  </thead>\n",
       "  <tbody>\n",
       "    <tr>\n",
       "      <th>0</th>\n",
       "      <td>0</td>\n",
       "      <td>0</td>\n",
       "      <td>0</td>\n",
       "      <td>0</td>\n",
       "      <td>0</td>\n",
       "      <td>0</td>\n",
       "      <td>0</td>\n",
       "      <td>0</td>\n",
       "      <td>0</td>\n",
       "      <td>0</td>\n",
       "      <td>...</td>\n",
       "      <td>0</td>\n",
       "      <td>0</td>\n",
       "      <td>0</td>\n",
       "      <td>0</td>\n",
       "      <td>0</td>\n",
       "      <td>0</td>\n",
       "      <td>0</td>\n",
       "      <td>0</td>\n",
       "      <td>0</td>\n",
       "      <td>0</td>\n",
       "    </tr>\n",
       "    <tr>\n",
       "      <th>1</th>\n",
       "      <td>0</td>\n",
       "      <td>0</td>\n",
       "      <td>0</td>\n",
       "      <td>0</td>\n",
       "      <td>0</td>\n",
       "      <td>1</td>\n",
       "      <td>0</td>\n",
       "      <td>0</td>\n",
       "      <td>0</td>\n",
       "      <td>0</td>\n",
       "      <td>...</td>\n",
       "      <td>0</td>\n",
       "      <td>0</td>\n",
       "      <td>0</td>\n",
       "      <td>1</td>\n",
       "      <td>0</td>\n",
       "      <td>0</td>\n",
       "      <td>0</td>\n",
       "      <td>0</td>\n",
       "      <td>0</td>\n",
       "      <td>0</td>\n",
       "    </tr>\n",
       "    <tr>\n",
       "      <th>2</th>\n",
       "      <td>0</td>\n",
       "      <td>0</td>\n",
       "      <td>0</td>\n",
       "      <td>0</td>\n",
       "      <td>0</td>\n",
       "      <td>0</td>\n",
       "      <td>0</td>\n",
       "      <td>0</td>\n",
       "      <td>0</td>\n",
       "      <td>0</td>\n",
       "      <td>...</td>\n",
       "      <td>0</td>\n",
       "      <td>0</td>\n",
       "      <td>0</td>\n",
       "      <td>0</td>\n",
       "      <td>0</td>\n",
       "      <td>0</td>\n",
       "      <td>0</td>\n",
       "      <td>0</td>\n",
       "      <td>0</td>\n",
       "      <td>0</td>\n",
       "    </tr>\n",
       "    <tr>\n",
       "      <th>3</th>\n",
       "      <td>0</td>\n",
       "      <td>0</td>\n",
       "      <td>0</td>\n",
       "      <td>0</td>\n",
       "      <td>0</td>\n",
       "      <td>0</td>\n",
       "      <td>0</td>\n",
       "      <td>0</td>\n",
       "      <td>0</td>\n",
       "      <td>0</td>\n",
       "      <td>...</td>\n",
       "      <td>0</td>\n",
       "      <td>0</td>\n",
       "      <td>0</td>\n",
       "      <td>0</td>\n",
       "      <td>0</td>\n",
       "      <td>0</td>\n",
       "      <td>0</td>\n",
       "      <td>0</td>\n",
       "      <td>0</td>\n",
       "      <td>0</td>\n",
       "    </tr>\n",
       "    <tr>\n",
       "      <th>4</th>\n",
       "      <td>0</td>\n",
       "      <td>0</td>\n",
       "      <td>0</td>\n",
       "      <td>0</td>\n",
       "      <td>0</td>\n",
       "      <td>0</td>\n",
       "      <td>0</td>\n",
       "      <td>0</td>\n",
       "      <td>0</td>\n",
       "      <td>0</td>\n",
       "      <td>...</td>\n",
       "      <td>0</td>\n",
       "      <td>0</td>\n",
       "      <td>0</td>\n",
       "      <td>0</td>\n",
       "      <td>0</td>\n",
       "      <td>0</td>\n",
       "      <td>0</td>\n",
       "      <td>0</td>\n",
       "      <td>0</td>\n",
       "      <td>0</td>\n",
       "    </tr>\n",
       "    <tr>\n",
       "      <th>...</th>\n",
       "      <td>...</td>\n",
       "      <td>...</td>\n",
       "      <td>...</td>\n",
       "      <td>...</td>\n",
       "      <td>...</td>\n",
       "      <td>...</td>\n",
       "      <td>...</td>\n",
       "      <td>...</td>\n",
       "      <td>...</td>\n",
       "      <td>...</td>\n",
       "      <td>...</td>\n",
       "      <td>...</td>\n",
       "      <td>...</td>\n",
       "      <td>...</td>\n",
       "      <td>...</td>\n",
       "      <td>...</td>\n",
       "      <td>...</td>\n",
       "      <td>...</td>\n",
       "      <td>...</td>\n",
       "      <td>...</td>\n",
       "      <td>...</td>\n",
       "    </tr>\n",
       "    <tr>\n",
       "      <th>4585</th>\n",
       "      <td>0</td>\n",
       "      <td>0</td>\n",
       "      <td>0</td>\n",
       "      <td>0</td>\n",
       "      <td>0</td>\n",
       "      <td>0</td>\n",
       "      <td>0</td>\n",
       "      <td>0</td>\n",
       "      <td>0</td>\n",
       "      <td>0</td>\n",
       "      <td>...</td>\n",
       "      <td>0</td>\n",
       "      <td>0</td>\n",
       "      <td>0</td>\n",
       "      <td>0</td>\n",
       "      <td>0</td>\n",
       "      <td>0</td>\n",
       "      <td>0</td>\n",
       "      <td>0</td>\n",
       "      <td>0</td>\n",
       "      <td>0</td>\n",
       "    </tr>\n",
       "    <tr>\n",
       "      <th>4586</th>\n",
       "      <td>0</td>\n",
       "      <td>0</td>\n",
       "      <td>0</td>\n",
       "      <td>0</td>\n",
       "      <td>0</td>\n",
       "      <td>0</td>\n",
       "      <td>0</td>\n",
       "      <td>0</td>\n",
       "      <td>0</td>\n",
       "      <td>0</td>\n",
       "      <td>...</td>\n",
       "      <td>0</td>\n",
       "      <td>0</td>\n",
       "      <td>0</td>\n",
       "      <td>0</td>\n",
       "      <td>0</td>\n",
       "      <td>0</td>\n",
       "      <td>0</td>\n",
       "      <td>0</td>\n",
       "      <td>0</td>\n",
       "      <td>1</td>\n",
       "    </tr>\n",
       "    <tr>\n",
       "      <th>4587</th>\n",
       "      <td>0</td>\n",
       "      <td>0</td>\n",
       "      <td>0</td>\n",
       "      <td>0</td>\n",
       "      <td>0</td>\n",
       "      <td>0</td>\n",
       "      <td>0</td>\n",
       "      <td>0</td>\n",
       "      <td>0</td>\n",
       "      <td>0</td>\n",
       "      <td>...</td>\n",
       "      <td>0</td>\n",
       "      <td>0</td>\n",
       "      <td>0</td>\n",
       "      <td>0</td>\n",
       "      <td>0</td>\n",
       "      <td>0</td>\n",
       "      <td>0</td>\n",
       "      <td>0</td>\n",
       "      <td>0</td>\n",
       "      <td>0</td>\n",
       "    </tr>\n",
       "    <tr>\n",
       "      <th>4588</th>\n",
       "      <td>0</td>\n",
       "      <td>0</td>\n",
       "      <td>0</td>\n",
       "      <td>0</td>\n",
       "      <td>0</td>\n",
       "      <td>0</td>\n",
       "      <td>0</td>\n",
       "      <td>0</td>\n",
       "      <td>0</td>\n",
       "      <td>0</td>\n",
       "      <td>...</td>\n",
       "      <td>0</td>\n",
       "      <td>0</td>\n",
       "      <td>0</td>\n",
       "      <td>0</td>\n",
       "      <td>0</td>\n",
       "      <td>0</td>\n",
       "      <td>0</td>\n",
       "      <td>0</td>\n",
       "      <td>0</td>\n",
       "      <td>0</td>\n",
       "    </tr>\n",
       "    <tr>\n",
       "      <th>4589</th>\n",
       "      <td>0</td>\n",
       "      <td>0</td>\n",
       "      <td>0</td>\n",
       "      <td>0</td>\n",
       "      <td>0</td>\n",
       "      <td>0</td>\n",
       "      <td>0</td>\n",
       "      <td>0</td>\n",
       "      <td>0</td>\n",
       "      <td>0</td>\n",
       "      <td>...</td>\n",
       "      <td>0</td>\n",
       "      <td>0</td>\n",
       "      <td>0</td>\n",
       "      <td>0</td>\n",
       "      <td>0</td>\n",
       "      <td>0</td>\n",
       "      <td>0</td>\n",
       "      <td>0</td>\n",
       "      <td>0</td>\n",
       "      <td>0</td>\n",
       "    </tr>\n",
       "  </tbody>\n",
       "</table>\n",
       "<p>4590 rows × 5501 columns</p>\n",
       "</div>"
      ],
      "text/plain": [
       "      aaron  abandon  abdominal  abide  ability  able  abolish  abortion  \\\n",
       "0         0        0          0      0        0     0        0         0   \n",
       "1         0        0          0      0        0     1        0         0   \n",
       "2         0        0          0      0        0     0        0         0   \n",
       "3         0        0          0      0        0     0        0         0   \n",
       "4         0        0          0      0        0     0        0         0   \n",
       "...     ...      ...        ...    ...      ...   ...      ...       ...   \n",
       "4585      0        0          0      0        0     0        0         0   \n",
       "4586      0        0          0      0        0     0        0         0   \n",
       "4587      0        0          0      0        0     0        0         0   \n",
       "4588      0        0          0      0        0     0        0         0   \n",
       "4589      0        0          0      0        0     0        0         0   \n",
       "\n",
       "      abortions  abound  ...  yourselfers  youth  yup  zero  zinc  zionism  \\\n",
       "0             0       0  ...            0      0    0     0     0        0   \n",
       "1             0       0  ...            0      0    0     1     0        0   \n",
       "2             0       0  ...            0      0    0     0     0        0   \n",
       "3             0       0  ...            0      0    0     0     0        0   \n",
       "4             0       0  ...            0      0    0     0     0        0   \n",
       "...         ...     ...  ...          ...    ...  ...   ...   ...      ...   \n",
       "4585          0       0  ...            0      0    0     0     0        0   \n",
       "4586          0       0  ...            0      0    0     0     0        0   \n",
       "4587          0       0  ...            0      0    0     0     0        0   \n",
       "4588          0       0  ...            0      0    0     0     0        0   \n",
       "4589          0       0  ...            0      0    0     0     0        0   \n",
       "\n",
       "      zionist  zionists  zip  zone  \n",
       "0           0         0    0     0  \n",
       "1           0         0    0     0  \n",
       "2           0         0    0     0  \n",
       "3           0         0    0     0  \n",
       "4           0         0    0     0  \n",
       "...       ...       ...  ...   ...  \n",
       "4585        0         0    0     0  \n",
       "4586        0         0    0     1  \n",
       "4587        0         0    0     0  \n",
       "4588        0         0    0     0  \n",
       "4589        0         0    0     0  \n",
       "\n",
       "[4590 rows x 5501 columns]"
      ]
     },
     "execution_count": 363,
     "metadata": {},
     "output_type": "execute_result"
    }
   ],
   "source": [
    "X_train_df_cvec"
   ]
  },
  {
   "cell_type": "code",
   "execution_count": 364,
   "id": "9f8587b7",
   "metadata": {},
   "outputs": [
    {
     "data": {
      "text/plain": [
       "679     1\n",
       "2567    1\n",
       "1219    1\n",
       "1323    0\n",
       "78      1\n",
       "       ..\n",
       "1822    1\n",
       "2003    1\n",
       "2242    1\n",
       "87      0\n",
       "2472    0\n",
       "Name: label, Length: 4590, dtype: int64"
      ]
     },
     "execution_count": 364,
     "metadata": {},
     "output_type": "execute_result"
    }
   ],
   "source": [
    "y_train"
   ]
  },
  {
   "cell_type": "code",
   "execution_count": 370,
   "id": "7fb61419",
   "metadata": {},
   "outputs": [
    {
     "name": "stdout",
     "output_type": "stream",
     "text": [
      "Fitting 3 folds for each of 5 candidates, totalling 15 fits\n",
      "0.7572984749455337\n",
      "{'criterion': 'gini', 'max_depth': 12, 'max_features': None, 'splitter': 'best'}\n",
      "Fitting 3 folds for each of 5 candidates, totalling 15 fits\n",
      "0.7544662309368192\n",
      "{'criterion': 'gini', 'max_depth': 11, 'max_features': None, 'splitter': 'best'}\n",
      "time: 88.681 seconds\n",
      "time: 1 minutes, 28.681 seconds\n"
     ]
    }
   ],
   "source": [
    "start_time = time.time()\n",
    "\n",
    "# define parameters for a GridSearch\n",
    "tree_params = {\n",
    "    'max_depth': [8,9,10,11,12],\n",
    "    'criterion': ['gini'],\n",
    "    'splitter': ['best'],\n",
    "    'max_features': [None]\n",
    "}\n",
    "\n",
    "\n",
    "# Decision Tree Classifier (CART), Count Vectorizer\n",
    "tree_cvec = DecisionTreeClassifier()\n",
    "gs_tree_cvec = GridSearchCV(\n",
    "    tree_cvec, \n",
    "    tree_params, \n",
    "    #scoring = scorer, \n",
    "    verbose = 1,\n",
    "    cv=3\n",
    ")\n",
    "gs_tree_cvec.fit(X_train_df_cvec, y_train)\n",
    "print(gs_tree_cvec.best_score_)\n",
    "print(gs_tree_cvec.best_params_)\n",
    "\n",
    "\n",
    "# Decision Tree Classifier (CART), tf-idf Vectorizer\n",
    "tree_tfidf = DecisionTreeClassifier()\n",
    "gs_tree_tfidf = GridSearchCV(\n",
    "    tree_tfidf, \n",
    "    tree_params, \n",
    "    #scoring = scorer, \n",
    "    verbose = 1,\n",
    "    cv=3\n",
    ")\n",
    "gs_tree_tfidf.fit(X_train_df_tfidf, y_train)\n",
    "print(gs_tree_tfidf.best_score_)\n",
    "print(gs_tree_tfidf.best_params_)\n",
    "\n",
    "\n",
    "end_time = round(time.time() - start_time, 3)\n",
    "print(f'time: {end_time} seconds')\n",
    "end_time_minutes = int(end_time/ 60)\n",
    "end_time_seconds = round(end_time % 60, 3)\n",
    "\n",
    "print(f'time: {end_time_minutes} minutes, {end_time_seconds} seconds')\n",
    "\n"
   ]
  },
  {
   "cell_type": "code",
   "execution_count": 362,
   "id": "4108cfce",
   "metadata": {},
   "outputs": [
    {
     "name": "stdout",
     "output_type": "stream",
     "text": [
      "Fitting 3 folds for each of 2 candidates, totalling 6 fits\n",
      "time: 164.4 seconds\n",
      "time: 2 minutes, 44.4 seconds\n",
      "0.8466230936819171\n"
     ]
    },
    {
     "data": {
      "text/plain": [
       "{'base_estimator__max_depth': 1, 'learning_rate': 0.9, 'n_estimators': 50}"
      ]
     },
     "execution_count": 362,
     "metadata": {},
     "output_type": "execute_result"
    }
   ],
   "source": [
    "start_time = time.time()\n",
    "\n",
    "ada = AdaBoostClassifier(base_estimator=DecisionTreeClassifier())\n",
    "ada_params = {\n",
    "    'n_estimators': [50],\n",
    "    'base_estimator__max_depth': [1],\n",
    "    'learning_rate': [.9, 1.]\n",
    "}\n",
    "gs = GridSearchCV(ada, param_grid=ada_params, verbose=1, cv=3)\n",
    "gs.fit(X_train_df_cvec, y_train)\n",
    "\n",
    "end_time = round(time.time() - start_time, 3)\n",
    "print(f'time: {end_time} seconds')\n",
    "end_time_minutes = int(end_time/ 60)\n",
    "end_time_seconds = round(end_time % 60, 3)\n",
    "\n",
    "print(f'time: {end_time_minutes} minutes, {end_time_seconds} seconds')\n",
    "\n",
    "print(gs.best_score_)\n",
    "gs.best_params_"
   ]
  },
  {
   "cell_type": "code",
   "execution_count": null,
   "id": "53582f8a",
   "metadata": {},
   "outputs": [],
   "source": []
  }
 ],
 "metadata": {
  "kernelspec": {
   "display_name": "Python 3",
   "language": "python",
   "name": "python3"
  },
  "language_info": {
   "codemirror_mode": {
    "name": "ipython",
    "version": 3
   },
   "file_extension": ".py",
   "mimetype": "text/x-python",
   "name": "python",
   "nbconvert_exporter": "python",
   "pygments_lexer": "ipython3",
   "version": "3.6.5"
  }
 },
 "nbformat": 4,
 "nbformat_minor": 5
}
